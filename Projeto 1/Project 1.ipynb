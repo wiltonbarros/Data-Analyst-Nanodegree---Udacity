{
  "nbformat": 4,
  "nbformat_minor": 0,
  "metadata": {
    "colab": {
      "name": "Project 1 - Udacity.ipynb",
      "provenance": []
    },
    "kernelspec": {
      "display_name": "Python 3",
      "name": "python3"
    },
    "language_info": {
      "name": "python"
    }
  },
  "cells": [
    {
      "cell_type": "markdown",
      "metadata": {
        "id": "Bb2BEC2Q6TKU"
      },
      "source": [
        "#**Udacity  Project 1 : Global Temperature** "
      ]
    },
    {
      "cell_type": "markdown",
      "metadata": {
        "id": "eoei11P1QNBO"
      },
      "source": [
        "# SQL used to generate dataset\n",
        "\n",
        "select a.year as ano, a.avg_temp as media_mundial,\n",
        "b.avg_temp as media_campinas\n",
        "from global_data a\n",
        "right join city_data b on a.year = b.year\n",
        "where b.city = 'Campinas'"
      ]
    },
    {
      "cell_type": "code",
      "metadata": {
        "id": "b-BlP3DUEHF3"
      },
      "source": [
        ""
      ],
      "execution_count": null,
      "outputs": []
    },
    {
      "cell_type": "markdown",
      "metadata": {
        "id": "N-nadY-uRCZX"
      },
      "source": [
        "### I removed the most values nullables in the table city_data when i used join to concatenate the tables.\n",
        "\n",
        "### The closest big city to where i live is Campinas."
      ]
    },
    {
      "cell_type": "code",
      "metadata": {
        "colab": {
          "base_uri": "https://localhost:8080/",
          "height": 206
        },
        "id": "9ilPwO896yGc",
        "outputId": "4f211d2d-9555-407a-ea0c-d6f0753e7155"
      },
      "source": [
        "import pandas as pd\n",
        "import matplotlib.pyplot as plt\n",
        "city = pd.read_csv('consulta_pronta.csv', sep=',')\n",
        "city = city.dropna()\n",
        "city_calc = city.copy()\n",
        "city['MMA_7_global'] = city.media_mundial.expanding(min_periods=7).mean()\n",
        "city['MMA_7_campinas'] = city.media_campinas.expanding(min_periods=7).mean()\n",
        "city_calc['percent'] = ((city_calc.media_campinas - city_calc.media_mundial)\n",
        "/city_calc.media_mundial) \n",
        "city_calc['MMA_7'] = city_calc.percent.expanding(min_periods=7).mean()\n",
        "city_calc.head()\n",
        "\n"
      ],
      "execution_count": null,
      "outputs": [
        {
          "output_type": "execute_result",
          "data": {
            "text/html": [
              "<div>\n",
              "<style scoped>\n",
              "    .dataframe tbody tr th:only-of-type {\n",
              "        vertical-align: middle;\n",
              "    }\n",
              "\n",
              "    .dataframe tbody tr th {\n",
              "        vertical-align: top;\n",
              "    }\n",
              "\n",
              "    .dataframe thead th {\n",
              "        text-align: right;\n",
              "    }\n",
              "</style>\n",
              "<table border=\"1\" class=\"dataframe\">\n",
              "  <thead>\n",
              "    <tr style=\"text-align: right;\">\n",
              "      <th></th>\n",
              "      <th>ano</th>\n",
              "      <th>media_mundial</th>\n",
              "      <th>media_campinas</th>\n",
              "      <th>percent</th>\n",
              "      <th>MMA_7</th>\n",
              "    </tr>\n",
              "  </thead>\n",
              "  <tbody>\n",
              "    <tr>\n",
              "      <th>0</th>\n",
              "      <td>1832</td>\n",
              "      <td>7.45</td>\n",
              "      <td>18.94</td>\n",
              "      <td>1.542282</td>\n",
              "      <td>NaN</td>\n",
              "    </tr>\n",
              "    <tr>\n",
              "      <th>1</th>\n",
              "      <td>1833</td>\n",
              "      <td>8.01</td>\n",
              "      <td>19.93</td>\n",
              "      <td>1.488140</td>\n",
              "      <td>NaN</td>\n",
              "    </tr>\n",
              "    <tr>\n",
              "      <th>2</th>\n",
              "      <td>1834</td>\n",
              "      <td>8.15</td>\n",
              "      <td>19.21</td>\n",
              "      <td>1.357055</td>\n",
              "      <td>NaN</td>\n",
              "    </tr>\n",
              "    <tr>\n",
              "      <th>3</th>\n",
              "      <td>1835</td>\n",
              "      <td>7.39</td>\n",
              "      <td>18.62</td>\n",
              "      <td>1.519621</td>\n",
              "      <td>NaN</td>\n",
              "    </tr>\n",
              "    <tr>\n",
              "      <th>4</th>\n",
              "      <td>1836</td>\n",
              "      <td>7.70</td>\n",
              "      <td>18.84</td>\n",
              "      <td>1.446753</td>\n",
              "      <td>NaN</td>\n",
              "    </tr>\n",
              "  </tbody>\n",
              "</table>\n",
              "</div>"
            ],
            "text/plain": [
              "    ano  media_mundial  media_campinas   percent  MMA_7\n",
              "0  1832           7.45           18.94  1.542282    NaN\n",
              "1  1833           8.01           19.93  1.488140    NaN\n",
              "2  1834           8.15           19.21  1.357055    NaN\n",
              "3  1835           7.39           18.62  1.519621    NaN\n",
              "4  1836           7.70           18.84  1.446753    NaN"
            ]
          },
          "metadata": {},
          "execution_count": 1
        }
      ]
    },
    {
      "cell_type": "code",
      "metadata": {
        "colab": {
          "base_uri": "https://localhost:8080/",
          "height": 312
        },
        "id": "U4kgN7MF9y6b",
        "outputId": "a06687a4-52af-4a6e-8ea7-826229a87c8d"
      },
      "source": [
        "plt.plot(city['ano'], city['MMA_7_global'], label = 'Global MMA AVG')\n",
        "plt.plot(city['ano'], city['MMA_7_campinas'], label = 'Campinas MMA AVG')\n",
        "plt.xlabel(\"Year\")\n",
        "plt.ylabel(\"Temperature ºC\")\n",
        "plt.legend()\n",
        "plt.title('Temperature Global vs Campinas in ºC per Years')\n",
        "plt.grid()\n",
        "plt.plot()"
      ],
      "execution_count": null,
      "outputs": [
        {
          "output_type": "execute_result",
          "data": {
            "text/plain": [
              "[]"
            ]
          },
          "metadata": {},
          "execution_count": 7
        },
        {
          "output_type": "display_data",
          "data": {
            "image/png": "[encoded data removed]",
            "text/plain": [
              "<Figure size 432x288 with 1 Axes>"
            ]
          },
          "metadata": {
            "needs_background": "light"
          }
        }
      ]
    },
    {
      "cell_type": "code",
      "metadata": {
        "id": "tvzCcYeIUHJW"
      },
      "source": [
        ""
      ],
      "execution_count": null,
      "outputs": []
    },
    {
      "cell_type": "code",
      "metadata": {
        "id": "ZDyIwYy8UG8Y"
      },
      "source": [
        ""
      ],
      "execution_count": null,
      "outputs": []
    },
    {
      "cell_type": "code",
      "metadata": {
        "colab": {
          "base_uri": "https://localhost:8080/",
          "height": 297
        },
        "id": "TFm36a4dYD_Q",
        "outputId": "171a112b-e774-40ef-d35d-bd0a83077cfa"
      },
      "source": [
        "plt.plot(city_calc['ano'], city_calc['MMA_7'])\n",
        "plt.xlabel(\"Year\")\n",
        "plt.ylabel(\"Variation\")"
      ],
      "execution_count": null,
      "outputs": [
        {
          "output_type": "execute_result",
          "data": {
            "text/plain": [
              "Text(0, 0.5, 'Variation')"
            ]
          },
          "metadata": {},
          "execution_count": 3
        },
        {
          "output_type": "display_data",
          "data": {
            "image/png": "[encoded data removed]",
            "text/plain": [
              "<Figure size 432x288 with 1 Axes>"
            ]
          },
          "metadata": {
            "needs_background": "light"
          }
        }
      ]
    },
    {
      "cell_type": "code",
      "metadata": {
        "id": "IHaGIGTYYEBu"
      },
      "source": [
        ""
      ],
      "execution_count": null,
      "outputs": []
    },
    {
      "cell_type": "markdown",
      "metadata": {
        "id": "alsDy5TsSKTO"
      },
      "source": [
        "\n",
        "\n",
        "#Conclusion.\n",
        "\n",
        "\n",
        "1.   As we can see, temperatures are increasing both locally and globally.\n",
        "\n",
        "2.   The temperature has been increasing upwards since the beginning of the measurements.\n",
        "\n",
        "3.   There is a very large temperature difference in relation to the world average, the average temperature in the city of Campinas.\n",
        "\n",
        "4.   The variation between temperatures is decreasing as shown in the second graph, that is, the world average temperature is increasing faster than the temperature in the city of Campinas.\n",
        "\n",
        "\n",
        "\n"
      ]
    },
    {
      "cell_type": "markdown",
      "metadata": {
        "id": "pQr243VWYGfY"
      },
      "source": [
        "# References:\n",
        "\n",
        "https://www.geeksforgeeks.org/plot-multiple-lines-in-matplotlib/\n",
        "\n",
        "https://matplotlib.org/2.0.2/users/pyplot_tutorial.html"
      ]
    }
  ]
}