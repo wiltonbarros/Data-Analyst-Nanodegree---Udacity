{
 "cells": [
  {
   "cell_type": "markdown",
   "metadata": {
    "extensions": {
     "jupyter_dashboards": {
      "version": 1,
      "views": {
       "grid_default": {
        "col": 0,
        "height": 4,
        "hidden": false,
        "row": 0,
        "width": 4
       },
       "report_default": {
        "hidden": false
       }
      }
     }
    }
   },
   "source": [
    "# Project: Wrangling and Analyze Data"
   ]
  },
  {
   "cell_type": "markdown",
   "metadata": {},
   "source": [
    "## Data Gathering\n",
    "In the cell below, gather **all** three pieces of data for this project and load them in the notebook. **Note:** the methods required to gather each data are different.\n",
    "1. Directly download the WeRateDogs Twitter archive data (twitter_archive_enhanced.csv)"
   ]
  },
  {
   "cell_type": "code",
   "execution_count": 581,
   "metadata": {
    "extensions": {
     "jupyter_dashboards": {
      "version": 1,
      "views": {
       "grid_default": {
        "hidden": true
       },
       "report_default": {
        "hidden": true
       }
      }
     }
    }
   },
   "outputs": [
    {
     "data": {
      "text/html": [
       "<div>\n",
       "<style scoped>\n",
       "    .dataframe tbody tr th:only-of-type {\n",
       "        vertical-align: middle;\n",
       "    }\n",
       "\n",
       "    .dataframe tbody tr th {\n",
       "        vertical-align: top;\n",
       "    }\n",
       "\n",
       "    .dataframe thead th {\n",
       "        text-align: right;\n",
       "    }\n",
       "</style>\n",
       "<table border=\"1\" class=\"dataframe\">\n",
       "  <thead>\n",
       "    <tr style=\"text-align: right;\">\n",
       "      <th></th>\n",
       "      <th>tweet_id</th>\n",
       "      <th>in_reply_to_status_id</th>\n",
       "      <th>in_reply_to_user_id</th>\n",
       "      <th>timestamp</th>\n",
       "      <th>source</th>\n",
       "      <th>text</th>\n",
       "      <th>retweeted_status_id</th>\n",
       "      <th>retweeted_status_user_id</th>\n",
       "      <th>retweeted_status_timestamp</th>\n",
       "      <th>expanded_urls</th>\n",
       "      <th>rating_numerator</th>\n",
       "      <th>rating_denominator</th>\n",
       "      <th>name</th>\n",
       "      <th>doggo</th>\n",
       "      <th>floofer</th>\n",
       "      <th>pupper</th>\n",
       "      <th>puppo</th>\n",
       "    </tr>\n",
       "  </thead>\n",
       "  <tbody>\n",
       "    <tr>\n",
       "      <th>0</th>\n",
       "      <td>892420643555336193</td>\n",
       "      <td>NaN</td>\n",
       "      <td>NaN</td>\n",
       "      <td>2017-08-01 16:23:56 +0000</td>\n",
       "      <td>&lt;a href=\"http://twitter.com/download/iphone\" r...</td>\n",
       "      <td>This is Phineas. He's a mystical boy. Only eve...</td>\n",
       "      <td>NaN</td>\n",
       "      <td>NaN</td>\n",
       "      <td>NaN</td>\n",
       "      <td>https://twitter.com/dog_rates/status/892420643...</td>\n",
       "      <td>13</td>\n",
       "      <td>10</td>\n",
       "      <td>Phineas</td>\n",
       "      <td>None</td>\n",
       "      <td>None</td>\n",
       "      <td>None</td>\n",
       "      <td>None</td>\n",
       "    </tr>\n",
       "    <tr>\n",
       "      <th>1</th>\n",
       "      <td>892177421306343426</td>\n",
       "      <td>NaN</td>\n",
       "      <td>NaN</td>\n",
       "      <td>2017-08-01 00:17:27 +0000</td>\n",
       "      <td>&lt;a href=\"http://twitter.com/download/iphone\" r...</td>\n",
       "      <td>This is Tilly. She's just checking pup on you....</td>\n",
       "      <td>NaN</td>\n",
       "      <td>NaN</td>\n",
       "      <td>NaN</td>\n",
       "      <td>https://twitter.com/dog_rates/status/892177421...</td>\n",
       "      <td>13</td>\n",
       "      <td>10</td>\n",
       "      <td>Tilly</td>\n",
       "      <td>None</td>\n",
       "      <td>None</td>\n",
       "      <td>None</td>\n",
       "      <td>None</td>\n",
       "    </tr>\n",
       "    <tr>\n",
       "      <th>2</th>\n",
       "      <td>891815181378084864</td>\n",
       "      <td>NaN</td>\n",
       "      <td>NaN</td>\n",
       "      <td>2017-07-31 00:18:03 +0000</td>\n",
       "      <td>&lt;a href=\"http://twitter.com/download/iphone\" r...</td>\n",
       "      <td>This is Archie. He is a rare Norwegian Pouncin...</td>\n",
       "      <td>NaN</td>\n",
       "      <td>NaN</td>\n",
       "      <td>NaN</td>\n",
       "      <td>https://twitter.com/dog_rates/status/891815181...</td>\n",
       "      <td>12</td>\n",
       "      <td>10</td>\n",
       "      <td>Archie</td>\n",
       "      <td>None</td>\n",
       "      <td>None</td>\n",
       "      <td>None</td>\n",
       "      <td>None</td>\n",
       "    </tr>\n",
       "    <tr>\n",
       "      <th>3</th>\n",
       "      <td>891689557279858688</td>\n",
       "      <td>NaN</td>\n",
       "      <td>NaN</td>\n",
       "      <td>2017-07-30 15:58:51 +0000</td>\n",
       "      <td>&lt;a href=\"http://twitter.com/download/iphone\" r...</td>\n",
       "      <td>This is Darla. She commenced a snooze mid meal...</td>\n",
       "      <td>NaN</td>\n",
       "      <td>NaN</td>\n",
       "      <td>NaN</td>\n",
       "      <td>https://twitter.com/dog_rates/status/891689557...</td>\n",
       "      <td>13</td>\n",
       "      <td>10</td>\n",
       "      <td>Darla</td>\n",
       "      <td>None</td>\n",
       "      <td>None</td>\n",
       "      <td>None</td>\n",
       "      <td>None</td>\n",
       "    </tr>\n",
       "    <tr>\n",
       "      <th>4</th>\n",
       "      <td>891327558926688256</td>\n",
       "      <td>NaN</td>\n",
       "      <td>NaN</td>\n",
       "      <td>2017-07-29 16:00:24 +0000</td>\n",
       "      <td>&lt;a href=\"http://twitter.com/download/iphone\" r...</td>\n",
       "      <td>This is Franklin. He would like you to stop ca...</td>\n",
       "      <td>NaN</td>\n",
       "      <td>NaN</td>\n",
       "      <td>NaN</td>\n",
       "      <td>https://twitter.com/dog_rates/status/891327558...</td>\n",
       "      <td>12</td>\n",
       "      <td>10</td>\n",
       "      <td>Franklin</td>\n",
       "      <td>None</td>\n",
       "      <td>None</td>\n",
       "      <td>None</td>\n",
       "      <td>None</td>\n",
       "    </tr>\n",
       "  </tbody>\n",
       "</table>\n",
       "</div>"
      ],
      "text/plain": [
       "             tweet_id  in_reply_to_status_id  in_reply_to_user_id  \\\n",
       "0  892420643555336193                    NaN                  NaN   \n",
       "1  892177421306343426                    NaN                  NaN   \n",
       "2  891815181378084864                    NaN                  NaN   \n",
       "3  891689557279858688                    NaN                  NaN   \n",
       "4  891327558926688256                    NaN                  NaN   \n",
       "\n",
       "                   timestamp  \\\n",
       "0  2017-08-01 16:23:56 +0000   \n",
       "1  2017-08-01 00:17:27 +0000   \n",
       "2  2017-07-31 00:18:03 +0000   \n",
       "3  2017-07-30 15:58:51 +0000   \n",
       "4  2017-07-29 16:00:24 +0000   \n",
       "\n",
       "                                              source  \\\n",
       "0  <a href=\"http://twitter.com/download/iphone\" r...   \n",
       "1  <a href=\"http://twitter.com/download/iphone\" r...   \n",
       "2  <a href=\"http://twitter.com/download/iphone\" r...   \n",
       "3  <a href=\"http://twitter.com/download/iphone\" r...   \n",
       "4  <a href=\"http://twitter.com/download/iphone\" r...   \n",
       "\n",
       "                                                text  retweeted_status_id  \\\n",
       "0  This is Phineas. He's a mystical boy. Only eve...                  NaN   \n",
       "1  This is Tilly. She's just checking pup on you....                  NaN   \n",
       "2  This is Archie. He is a rare Norwegian Pouncin...                  NaN   \n",
       "3  This is Darla. She commenced a snooze mid meal...                  NaN   \n",
       "4  This is Franklin. He would like you to stop ca...                  NaN   \n",
       "\n",
       "   retweeted_status_user_id retweeted_status_timestamp  \\\n",
       "0                       NaN                        NaN   \n",
       "1                       NaN                        NaN   \n",
       "2                       NaN                        NaN   \n",
       "3                       NaN                        NaN   \n",
       "4                       NaN                        NaN   \n",
       "\n",
       "                                       expanded_urls  rating_numerator  \\\n",
       "0  https://twitter.com/dog_rates/status/892420643...                13   \n",
       "1  https://twitter.com/dog_rates/status/892177421...                13   \n",
       "2  https://twitter.com/dog_rates/status/891815181...                12   \n",
       "3  https://twitter.com/dog_rates/status/891689557...                13   \n",
       "4  https://twitter.com/dog_rates/status/891327558...                12   \n",
       "\n",
       "   rating_denominator      name doggo floofer pupper puppo  \n",
       "0                  10   Phineas  None    None   None  None  \n",
       "1                  10     Tilly  None    None   None  None  \n",
       "2                  10    Archie  None    None   None  None  \n",
       "3                  10     Darla  None    None   None  None  \n",
       "4                  10  Franklin  None    None   None  None  "
      ]
     },
     "execution_count": 581,
     "metadata": {},
     "output_type": "execute_result"
    }
   ],
   "source": [
    "import pandas as pd\n",
    "import requests\n",
    "import os\n",
    "import tweepy\n",
    "import json\n",
    "\n",
    "df_enhanced = pd.read_csv('twitter-archive-enhanced.csv')\n",
    "df_enhanced.head()\n"
   ]
  },
  {
   "cell_type": "code",
   "execution_count": 464,
   "metadata": {},
   "outputs": [
    {
     "data": {
      "text/plain": [
       "array([           nan, 8.86266357e+17, 8.81607037e+17, 8.79553827e+17,\n",
       "       8.70726203e+17, 8.63425646e+17, 6.67152164e+17, 8.57156678e+17,\n",
       "       8.55818117e+17, 8.56286004e+17, 8.55861584e+17, 8.55858536e+17,\n",
       "       8.50328819e+17, 8.48212112e+17, 8.47606176e+17, 7.59099524e+17,\n",
       "       8.40698300e+17, 8.38145499e+17, 8.38085539e+17, 8.35245984e+17,\n",
       "       8.32087548e+17, 8.31903044e+17, 8.26598365e+17, 8.23326389e+17,\n",
       "       8.21152593e+17, 8.13127252e+17, 8.11627233e+17, 7.33109485e+17,\n",
       "       8.01854331e+17, 8.00857954e+17, 7.97123751e+17, 7.72743019e+17,\n",
       "       7.66711819e+17, 7.63865175e+17, 7.50180499e+17, 7.47648654e+17,\n",
       "       7.46885919e+17, 6.91416866e+17, 7.38411920e+17, 7.29113531e+17,\n",
       "       7.07980066e+17, 7.03255936e+17, 7.04485745e+17, 7.03041950e+17,\n",
       "       6.96488711e+17, 6.75349384e+17, 6.70668383e+17, 6.93642232e+17,\n",
       "       6.93572216e+17, 6.92417313e+17, 6.92041935e+17, 6.90341254e+17,\n",
       "       6.86034025e+17, 6.85547936e+17, 6.84959799e+17, 6.84481075e+17,\n",
       "       6.84222868e+17, 6.82788442e+17, 6.81339449e+17, 6.78021116e+17,\n",
       "       6.76588346e+17, 6.75707330e+17, 6.75845657e+17, 6.75497103e+17,\n",
       "       6.74999808e+17, 6.74793399e+17, 6.71729907e+17, 6.74752233e+17,\n",
       "       6.74739953e+17, 6.74468881e+17, 6.65814697e+17, 6.73715862e+17,\n",
       "       6.71561002e+17, 6.71544874e+17, 6.69354383e+17, 6.67806455e+17,\n",
       "       6.68920717e+17, 6.67065536e+17])"
      ]
     },
     "execution_count": 464,
     "metadata": {},
     "output_type": "execute_result"
    }
   ],
   "source": [
    "df_enhanced[df_enhanced.tweet_id.duplicated()]\n",
    "df_enhanced.in_reply_to_status_id.unique()\n"
   ]
  },
  {
   "cell_type": "code",
   "execution_count": 582,
   "metadata": {},
   "outputs": [
    {
     "data": {
      "text/plain": [
       "181"
      ]
     },
     "execution_count": 582,
     "metadata": {},
     "output_type": "execute_result"
    }
   ],
   "source": [
    "#Unique values in retweeted_status_id\n",
    "\n",
    "df_enhanced.retweeted_status_id.nunique()"
   ]
  },
  {
   "cell_type": "code",
   "execution_count": 585,
   "metadata": {},
   "outputs": [
    {
     "data": {
      "text/plain": [
       "array(['None', 'floofer'], dtype=object)"
      ]
     },
     "execution_count": 585,
     "metadata": {},
     "output_type": "execute_result"
    }
   ],
   "source": [
    "# Value counts in retweeted_status_user_id\n",
    "\n",
    "df_enhanced.retweeted_status_user_id.value_counts()\n",
    "df_enhanced.floofer.unique()"
   ]
  },
  {
   "cell_type": "markdown",
   "metadata": {},
   "source": [
    "2. Use the Requests library to download the tweet image prediction (image_predictions.tsv)"
   ]
  },
  {
   "cell_type": "code",
   "execution_count": 586,
   "metadata": {},
   "outputs": [],
   "source": [
    "url = 'https://d17h27t6h515a5.cloudfront.net/topher/2017/August/599fd2ad_image-predictions/image-predictions.tsv'\n",
    "response = requests.get(url)\n",
    "with open(\"image_predictions.tsv\", mode = 'wb') as f:\n",
    "        f.write(response.content)"
   ]
  },
  {
   "cell_type": "code",
   "execution_count": 587,
   "metadata": {},
   "outputs": [
    {
     "data": {
      "text/html": [
       "<div>\n",
       "<style scoped>\n",
       "    .dataframe tbody tr th:only-of-type {\n",
       "        vertical-align: middle;\n",
       "    }\n",
       "\n",
       "    .dataframe tbody tr th {\n",
       "        vertical-align: top;\n",
       "    }\n",
       "\n",
       "    .dataframe thead th {\n",
       "        text-align: right;\n",
       "    }\n",
       "</style>\n",
       "<table border=\"1\" class=\"dataframe\">\n",
       "  <thead>\n",
       "    <tr style=\"text-align: right;\">\n",
       "      <th></th>\n",
       "      <th>tweet_id</th>\n",
       "      <th>jpg_url</th>\n",
       "      <th>img_num</th>\n",
       "      <th>p1</th>\n",
       "      <th>p1_conf</th>\n",
       "      <th>p1_dog</th>\n",
       "      <th>p2</th>\n",
       "      <th>p2_conf</th>\n",
       "      <th>p2_dog</th>\n",
       "      <th>p3</th>\n",
       "      <th>p3_conf</th>\n",
       "      <th>p3_dog</th>\n",
       "    </tr>\n",
       "  </thead>\n",
       "  <tbody>\n",
       "    <tr>\n",
       "      <th>0</th>\n",
       "      <td>666020888022790149</td>\n",
       "      <td>https://pbs.twimg.com/media/CT4udn0WwAA0aMy.jpg</td>\n",
       "      <td>1</td>\n",
       "      <td>Welsh_springer_spaniel</td>\n",
       "      <td>0.465074</td>\n",
       "      <td>True</td>\n",
       "      <td>collie</td>\n",
       "      <td>0.156665</td>\n",
       "      <td>True</td>\n",
       "      <td>Shetland_sheepdog</td>\n",
       "      <td>0.061428</td>\n",
       "      <td>True</td>\n",
       "    </tr>\n",
       "    <tr>\n",
       "      <th>1</th>\n",
       "      <td>666029285002620928</td>\n",
       "      <td>https://pbs.twimg.com/media/CT42GRgUYAA5iDo.jpg</td>\n",
       "      <td>1</td>\n",
       "      <td>redbone</td>\n",
       "      <td>0.506826</td>\n",
       "      <td>True</td>\n",
       "      <td>miniature_pinscher</td>\n",
       "      <td>0.074192</td>\n",
       "      <td>True</td>\n",
       "      <td>Rhodesian_ridgeback</td>\n",
       "      <td>0.072010</td>\n",
       "      <td>True</td>\n",
       "    </tr>\n",
       "    <tr>\n",
       "      <th>2</th>\n",
       "      <td>666033412701032449</td>\n",
       "      <td>https://pbs.twimg.com/media/CT4521TWwAEvMyu.jpg</td>\n",
       "      <td>1</td>\n",
       "      <td>German_shepherd</td>\n",
       "      <td>0.596461</td>\n",
       "      <td>True</td>\n",
       "      <td>malinois</td>\n",
       "      <td>0.138584</td>\n",
       "      <td>True</td>\n",
       "      <td>bloodhound</td>\n",
       "      <td>0.116197</td>\n",
       "      <td>True</td>\n",
       "    </tr>\n",
       "    <tr>\n",
       "      <th>3</th>\n",
       "      <td>666044226329800704</td>\n",
       "      <td>https://pbs.twimg.com/media/CT5Dr8HUEAA-lEu.jpg</td>\n",
       "      <td>1</td>\n",
       "      <td>Rhodesian_ridgeback</td>\n",
       "      <td>0.408143</td>\n",
       "      <td>True</td>\n",
       "      <td>redbone</td>\n",
       "      <td>0.360687</td>\n",
       "      <td>True</td>\n",
       "      <td>miniature_pinscher</td>\n",
       "      <td>0.222752</td>\n",
       "      <td>True</td>\n",
       "    </tr>\n",
       "    <tr>\n",
       "      <th>4</th>\n",
       "      <td>666049248165822465</td>\n",
       "      <td>https://pbs.twimg.com/media/CT5IQmsXIAAKY4A.jpg</td>\n",
       "      <td>1</td>\n",
       "      <td>miniature_pinscher</td>\n",
       "      <td>0.560311</td>\n",
       "      <td>True</td>\n",
       "      <td>Rottweiler</td>\n",
       "      <td>0.243682</td>\n",
       "      <td>True</td>\n",
       "      <td>Doberman</td>\n",
       "      <td>0.154629</td>\n",
       "      <td>True</td>\n",
       "    </tr>\n",
       "  </tbody>\n",
       "</table>\n",
       "</div>"
      ],
      "text/plain": [
       "             tweet_id                                          jpg_url  \\\n",
       "0  666020888022790149  https://pbs.twimg.com/media/CT4udn0WwAA0aMy.jpg   \n",
       "1  666029285002620928  https://pbs.twimg.com/media/CT42GRgUYAA5iDo.jpg   \n",
       "2  666033412701032449  https://pbs.twimg.com/media/CT4521TWwAEvMyu.jpg   \n",
       "3  666044226329800704  https://pbs.twimg.com/media/CT5Dr8HUEAA-lEu.jpg   \n",
       "4  666049248165822465  https://pbs.twimg.com/media/CT5IQmsXIAAKY4A.jpg   \n",
       "\n",
       "   img_num                      p1   p1_conf  p1_dog                  p2  \\\n",
       "0        1  Welsh_springer_spaniel  0.465074    True              collie   \n",
       "1        1                 redbone  0.506826    True  miniature_pinscher   \n",
       "2        1         German_shepherd  0.596461    True            malinois   \n",
       "3        1     Rhodesian_ridgeback  0.408143    True             redbone   \n",
       "4        1      miniature_pinscher  0.560311    True          Rottweiler   \n",
       "\n",
       "    p2_conf  p2_dog                   p3   p3_conf  p3_dog  \n",
       "0  0.156665    True    Shetland_sheepdog  0.061428    True  \n",
       "1  0.074192    True  Rhodesian_ridgeback  0.072010    True  \n",
       "2  0.138584    True           bloodhound  0.116197    True  \n",
       "3  0.360687    True   miniature_pinscher  0.222752    True  \n",
       "4  0.243682    True             Doberman  0.154629    True  "
      ]
     },
     "execution_count": 587,
     "metadata": {},
     "output_type": "execute_result"
    }
   ],
   "source": [
    "df_predictions = pd.read_csv('image_predictions.tsv', sep = \"\\t\")\n",
    "df_predictions.head()\n"
   ]
  },
  {
   "cell_type": "markdown",
   "metadata": {},
   "source": [
    "3. Use the Tweepy library to query additional data via the Twitter API (tweet_json.txt)"
   ]
  },
  {
   "cell_type": "code",
   "execution_count": 182,
   "metadata": {},
   "outputs": [
    {
     "name": "stdout",
     "output_type": "stream",
     "text": [
      "Erro\n",
      "Erro\n",
      "Erro\n",
      "Erro\n",
      "Erro\n",
      "Erro\n",
      "Erro\n",
      "Erro\n",
      "Erro\n",
      "Erro\n",
      "Erro\n",
      "Erro\n",
      "Erro\n",
      "Erro\n",
      "Erro\n",
      "Erro\n"
     ]
    },
    {
     "name": "stderr",
     "output_type": "stream",
     "text": [
      "Rate limit exceeded. Sleeping for 590 seconds.\n"
     ]
    },
    {
     "name": "stdout",
     "output_type": "stream",
     "text": [
      "Erro\n",
      "Erro\n",
      "Erro\n",
      "Erro\n"
     ]
    },
    {
     "name": "stderr",
     "output_type": "stream",
     "text": [
      "Rate limit exceeded. Sleeping for 587 seconds.\n"
     ]
    },
    {
     "name": "stdout",
     "output_type": "stream",
     "text": [
      "Erro\n",
      "Erro\n",
      "Erro\n",
      "Erro\n",
      "Erro\n",
      "Erro\n",
      "Erro\n"
     ]
    },
    {
     "name": "stderr",
     "output_type": "stream",
     "text": [
      "Rate limit exceeded. Sleeping for 590 seconds.\n"
     ]
    },
    {
     "name": "stdout",
     "output_type": "stream",
     "text": [
      "Erro\n"
     ]
    },
    {
     "name": "stderr",
     "output_type": "stream",
     "text": [
      "Rate limit exceeded. Sleeping for 591 seconds.\n",
      "Rate limit exceeded. Sleeping for 591 seconds.\n"
     ]
    },
    {
     "name": "stdout",
     "output_type": "stream",
     "text": [
      "Erro\n"
     ]
    },
    {
     "name": "stderr",
     "output_type": "stream",
     "text": [
      "Rate limit exceeded. Sleeping for 592 seconds.\n",
      "Rate limit exceeded. Sleeping for 593 seconds.\n"
     ]
    },
    {
     "name": "stdout",
     "output_type": "stream",
     "text": [
      "[{'tweet_id': 892420643555336193, 'retweet_count': 7096, 'favorite_count': 34193}, {'tweet_id': 892177421306343426, 'retweet_count': 5345, 'favorite_count': 29653}, {'tweet_id': 891815181378084864, 'retweet_count': 3519, 'favorite_count': 22331}, {'tweet_id': 891689557279858688, 'retweet_count': 7297, 'favorite_count': 37374}, {'tweet_id': 891327558926688256, 'retweet_count': 7836, 'favorite_count': 35715}, {'tweet_id': 891087950875897856, 'retweet_count': 2635, 'favorite_count': 18027}, {'tweet_id': 890971913173991426, 'retweet_count': 1686, 'favorite_count': 10494}, {'tweet_id': 890729181411237888, 'retweet_count': 15952, 'favorite_count': 57500}, {'tweet_id': 890609185150312448, 'retweet_count': 3660, 'favorite_count': 24813}, {'tweet_id': 890240255349198849, 'retweet_count': 6161, 'favorite_count': 28288}, {'tweet_id': 890006608113172480, 'retweet_count': 6220, 'favorite_count': 27325}, {'tweet_id': 889880896479866881, 'retweet_count': 4214, 'favorite_count': 24866}, {'tweet_id': 889665388333682689, 'retweet_count': 8444, 'favorite_count': 42538}, {'tweet_id': 889638837579907072, 'retweet_count': 3758, 'favorite_count': 23937}, {'tweet_id': 889531135344209921, 'retweet_count': 1899, 'favorite_count': 13500}, {'tweet_id': 889278841981685760, 'retweet_count': 4494, 'favorite_count': 22363}, {'tweet_id': 888917238123831296, 'retweet_count': 3802, 'favorite_count': 25933}, {'tweet_id': 888804989199671297, 'retweet_count': 3585, 'favorite_count': 22730}, {'tweet_id': 888554962724278272, 'retweet_count': 2911, 'favorite_count': 17542}, {'tweet_id': 888078434458587136, 'retweet_count': 2932, 'favorite_count': 19380}, {'tweet_id': 887705289381826560, 'retweet_count': 4574, 'favorite_count': 26921}, {'tweet_id': 887517139158093824, 'retweet_count': 9950, 'favorite_count': 41210}, {'tweet_id': 887473957103951883, 'retweet_count': 15187, 'favorite_count': 60873}, {'tweet_id': 887343217045368832, 'retweet_count': 8913, 'favorite_count': 29932}, {'tweet_id': 887101392804085760, 'retweet_count': 5045, 'favorite_count': 27288}, {'tweet_id': 886983233522544640, 'retweet_count': 6404, 'favorite_count': 30745}, {'tweet_id': 886736880519319552, 'retweet_count': 2665, 'favorite_count': 10616}, {'tweet_id': 886680336477933568, 'retweet_count': 3775, 'favorite_count': 19968}, {'tweet_id': 886366144734445568, 'retweet_count': 2663, 'favorite_count': 18762}, {'tweet_id': 886267009285017600, 'retweet_count': 3, 'favorite_count': 104}, {'tweet_id': 886258384151887873, 'retweet_count': 5344, 'favorite_count': 24819}, {'tweet_id': 886054160059072513, 'retweet_count': 93, 'favorite_count': 0}, {'tweet_id': 885984800019947520, 'retweet_count': 5680, 'favorite_count': 28925}, {'tweet_id': 885528943205470208, 'retweet_count': 5392, 'favorite_count': 31950}, {'tweet_id': 885518971528720385, 'retweet_count': 3146, 'favorite_count': 18215}, {'tweet_id': 885311592912609280, 'retweet_count': 15621, 'favorite_count': 0}, {'tweet_id': 885167619883638784, 'retweet_count': 3698, 'favorite_count': 19465}, {'tweet_id': 884925521741709313, 'retweet_count': 15205, 'favorite_count': 68090}, {'tweet_id': 884876753390489601, 'retweet_count': 4716, 'favorite_count': 24688}, {'tweet_id': 884562892145688576, 'retweet_count': 3960, 'favorite_count': 21576}, {'tweet_id': 884441805382717440, 'retweet_count': 4843, 'favorite_count': 24141}, {'tweet_id': 884247878851493888, 'retweet_count': 17094, 'favorite_count': 64010}, {'tweet_id': 884162670584377345, 'retweet_count': 2520, 'favorite_count': 18145}, {'tweet_id': 883838122936631299, 'retweet_count': 2893, 'favorite_count': 19404}, {'tweet_id': 883482846933004288, 'retweet_count': 8364, 'favorite_count': 40698}, {'tweet_id': 883360690899218434, 'retweet_count': 3113, 'favorite_count': 20183}, {'tweet_id': 883117836046086144, 'retweet_count': 5592, 'favorite_count': 32897}, {'tweet_id': 882992080364220416, 'retweet_count': 3272, 'favorite_count': 21224}, {'tweet_id': 882762694511734784, 'retweet_count': 4137, 'favorite_count': 25062}, {'tweet_id': 882627270321602560, 'retweet_count': 5123, 'favorite_count': 24893}, {'tweet_id': 882268110199369728, 'retweet_count': 9767, 'favorite_count': 39617}, {'tweet_id': 882045870035918850, 'retweet_count': 4127, 'favorite_count': 26058}, {'tweet_id': 881906580714921986, 'retweet_count': 2882, 'favorite_count': 21691}, {'tweet_id': 881666595344535552, 'retweet_count': 9056, 'favorite_count': 45050}, {'tweet_id': 881633300179243008, 'retweet_count': 8, 'favorite_count': 113}, {'tweet_id': 881536004380872706, 'retweet_count': 13554, 'favorite_count': 43923}, {'tweet_id': 881268444196462592, 'retweet_count': 4531, 'favorite_count': 20723}, {'tweet_id': 880935762899988482, 'retweet_count': 2363, 'favorite_count': 15228}, {'tweet_id': 880872448815771648, 'retweet_count': 3241, 'favorite_count': 18951}, {'tweet_id': 880465832366813184, 'retweet_count': 5275, 'favorite_count': 25280}, {'tweet_id': 880221127280381952, 'retweet_count': 3514, 'favorite_count': 23939}, {'tweet_id': 880095782870896641, 'retweet_count': 3698, 'favorite_count': 24619}, {'tweet_id': 879862464715927552, 'retweet_count': 2954, 'favorite_count': 19927}, {'tweet_id': 879674319642796034, 'retweet_count': 9, 'favorite_count': 282}, {'tweet_id': 879492040517615616, 'retweet_count': 2662, 'favorite_count': 20950}, {'tweet_id': 879415818425184262, 'retweet_count': 37890, 'favorite_count': 93900}, {'tweet_id': 879376492567855104, 'retweet_count': 2673, 'favorite_count': 15021}, {'tweet_id': 879130579576475649, 'retweet_count': 5797, 'favorite_count': 0}, {'tweet_id': 879050749262655488, 'retweet_count': 3990, 'favorite_count': 20051}, {'tweet_id': 879008229531029506, 'retweet_count': 2272, 'favorite_count': 16975}, {'tweet_id': 878776093423087618, 'retweet_count': 3485, 'favorite_count': 17345}, {'tweet_id': 878604707211726852, 'retweet_count': 5996, 'favorite_count': 26744}, {'tweet_id': 878404777348136964, 'retweet_count': 1085, 'favorite_count': 0}, {'tweet_id': 878316110768087041, 'retweet_count': 5600, 'favorite_count': 0}, {'tweet_id': 878281511006478336, 'retweet_count': 1085, 'favorite_count': 6873}, {'tweet_id': 878057613040115712, 'retweet_count': 5797, 'favorite_count': 37578}, {'tweet_id': 877736472329191424, 'retweet_count': 16006, 'favorite_count': 70138}, {'tweet_id': 877611172832227328, 'retweet_count': 70, 'favorite_count': 0}, {'tweet_id': 877556246731214848, 'retweet_count': 3204, 'favorite_count': 20179}, {'tweet_id': 877316821321428993, 'retweet_count': 4399, 'favorite_count': 24446}, {'tweet_id': 877201837425926144, 'retweet_count': 4689, 'favorite_count': 24131}, {'tweet_id': 876838120628539392, 'retweet_count': 2837, 'favorite_count': 18436}, {'tweet_id': 876537666061221889, 'retweet_count': 4021, 'favorite_count': 21296}, {'tweet_id': 876484053909872640, 'retweet_count': 2023, 'favorite_count': 16747}, {'tweet_id': 876120275196170240, 'retweet_count': 3951, 'favorite_count': 24974}, {'tweet_id': 875747767867523072, 'retweet_count': 3619, 'favorite_count': 22402}, {'tweet_id': 875144289856114688, 'retweet_count': 4194, 'favorite_count': 19620}, {'tweet_id': 875097192612077568, 'retweet_count': 5183, 'favorite_count': 24536}, {'tweet_id': 875021211251597312, 'retweet_count': 4022, 'favorite_count': 22821}, {'tweet_id': 874680097055178752, 'retweet_count': 3971, 'favorite_count': 24890}, {'tweet_id': 874434818259525634, 'retweet_count': 12355, 'favorite_count': 0}, {'tweet_id': 874296783580663808, 'retweet_count': 3522, 'favorite_count': 23264}, {'tweet_id': 874057562936811520, 'retweet_count': 3418, 'favorite_count': 20359}, {'tweet_id': 874012996292530176, 'retweet_count': 8669, 'favorite_count': 30490}, {'tweet_id': 873580283840344065, 'retweet_count': 3375, 'favorite_count': 21672}, {'tweet_id': 873337748698140672, 'retweet_count': 1340, 'favorite_count': 0}, {'tweet_id': 873213775632977920, 'retweet_count': 1340, 'favorite_count': 6390}, {'tweet_id': 872967104147763200, 'retweet_count': 4608, 'favorite_count': 24343}, {'tweet_id': 872820683541237760, 'retweet_count': 3197, 'favorite_count': 13216}, {'tweet_id': 872620804844003328, 'retweet_count': 3103, 'favorite_count': 18571}, {'tweet_id': 872486979161796608, 'retweet_count': 7797, 'favorite_count': 36526}, {'tweet_id': 872122724285648897, 'retweet_count': 6929, 'favorite_count': 30595}, {'tweet_id': 871879754684805121, 'retweet_count': 9346, 'favorite_count': 33518}, {'tweet_id': 871762521631449091, 'retweet_count': 3001, 'favorite_count': 18109}, {'tweet_id': 871515927908634625, 'retweet_count': 2982, 'favorite_count': 18112}, {'tweet_id': 871166179821445120, 'retweet_count': 4946, 'favorite_count': 0}, {'tweet_id': 871102520638267392, 'retweet_count': 4746, 'favorite_count': 18770}, {'tweet_id': 871032628920680449, 'retweet_count': 3267, 'favorite_count': 20400}, {'tweet_id': 870804317367881728, 'retweet_count': 5328, 'favorite_count': 30164}, {'tweet_id': 870726314365509632, 'retweet_count': 3, 'favorite_count': 106}, {'tweet_id': 870656317836468226, 'retweet_count': 2231, 'favorite_count': 11012}, {'tweet_id': 870374049280663552, 'retweet_count': 23029, 'favorite_count': 74848}, {'tweet_id': 870308999962521604, 'retweet_count': 3581, 'favorite_count': 19719}, {'tweet_id': 870063196459192321, 'retweet_count': 7166, 'favorite_count': 32770}, {'tweet_id': 869772420881756160, 'retweet_count': 8789, 'favorite_count': 38430}, {'tweet_id': 869702957897576449, 'retweet_count': 5446, 'favorite_count': 25346}, {'tweet_id': 869596645499047938, 'retweet_count': 2663, 'favorite_count': 14369}, {'tweet_id': 869227993411051520, 'retweet_count': 3239, 'favorite_count': 18346}, {'tweet_id': 868880397819494401, 'retweet_count': 12400, 'favorite_count': 58648}, {'tweet_id': 868639477480148993, 'retweet_count': 1771, 'favorite_count': 0}, {'tweet_id': 868622495443632128, 'retweet_count': 4533, 'favorite_count': 23942}, {'tweet_id': 868552278524837888, 'retweet_count': 1771, 'favorite_count': 9091}, {'tweet_id': 867900495410671616, 'retweet_count': 3612, 'favorite_count': 21848}, {'tweet_id': 867774946302451713, 'retweet_count': 6321, 'favorite_count': 30583}, {'tweet_id': 867421006826221569, 'retweet_count': 2138, 'favorite_count': 14514}, {'tweet_id': 867072653475098625, 'retweet_count': 102, 'favorite_count': 0}, {'tweet_id': 867051520902168576, 'retweet_count': 6857, 'favorite_count': 29045}, {'tweet_id': 866720684873056260, 'retweet_count': 4166, 'favorite_count': 18051}, {'tweet_id': 866686824827068416, 'retweet_count': 2997, 'favorite_count': 17338}, {'tweet_id': 866450705531457537, 'retweet_count': 30613, 'favorite_count': 110102}, {'tweet_id': 866334964761202691, 'retweet_count': 12355, 'favorite_count': 47131}, {'tweet_id': 866094527597207552, 'retweet_count': 7243, 'favorite_count': 0}, {'tweet_id': 865718153858494464, 'retweet_count': 4904, 'favorite_count': 23211}, {'tweet_id': 865359393868664832, 'retweet_count': 4347, 'favorite_count': 23890}, {'tweet_id': 865006731092295680, 'retweet_count': 6741, 'favorite_count': 25352}, {'tweet_id': 864873206498414592, 'retweet_count': 7562, 'favorite_count': 29151}, {'tweet_id': 864279568663928832, 'retweet_count': 2613, 'favorite_count': 13222}, {'tweet_id': 864197398364647424, 'retweet_count': 7662, 'favorite_count': 26950}, {'tweet_id': 863907417377173506, 'retweet_count': 3631, 'favorite_count': 18682}, {'tweet_id': 863553081350529029, 'retweet_count': 3672, 'favorite_count': 13832}, {'tweet_id': 863471782782697472, 'retweet_count': 2108, 'favorite_count': 0}, {'tweet_id': 863432100342583297, 'retweet_count': 4599, 'favorite_count': 21569}, {'tweet_id': 863427515083354112, 'retweet_count': 81, 'favorite_count': 1980}, {'tweet_id': 863079547188785154, 'retweet_count': 968, 'favorite_count': 7987}, {'tweet_id': 863062471531167744, 'retweet_count': 2108, 'favorite_count': 7621}, {'tweet_id': 862831371563274240, 'retweet_count': 4510, 'favorite_count': 17408}, {'tweet_id': 862722525377298433, 'retweet_count': 3119, 'favorite_count': 15517}, {'tweet_id': 862457590147678208, 'retweet_count': 4300, 'favorite_count': 18481}, {'tweet_id': 862096992088072192, 'retweet_count': 20211, 'favorite_count': 67039}, {'tweet_id': 861383897657036800, 'retweet_count': 9382, 'favorite_count': 32665}, {'tweet_id': 861288531465048066, 'retweet_count': 3630, 'favorite_count': 15546}, {'tweet_id': 861005113778896900, 'retweet_count': 3370, 'favorite_count': 15178}, {'tweet_id': 860981674716409858, 'retweet_count': 1871, 'favorite_count': 0}, {'tweet_id': 860924035999428608, 'retweet_count': 683, 'favorite_count': 0}, {'tweet_id': 860563773140209665, 'retweet_count': 1871, 'favorite_count': 6805}, {'tweet_id': 860524505164394496, 'retweet_count': 4658, 'favorite_count': 21521}, {'tweet_id': 860276583193509888, 'retweet_count': 3107, 'favorite_count': 16784}, {'tweet_id': 860184849394610176, 'retweet_count': 5172, 'favorite_count': 15172}, {'tweet_id': 860177593139703809, 'retweet_count': 27097, 'favorite_count': 0}, {'tweet_id': 859924526012018688, 'retweet_count': 3625, 'favorite_count': 17867}, {'tweet_id': 859851578198683649, 'retweet_count': 3108, 'favorite_count': 14130}, {'tweet_id': 859607811541651456, 'retweet_count': 1372, 'favorite_count': 17019}, {'tweet_id': 859196978902773760, 'retweet_count': 26603, 'favorite_count': 81517}, {'tweet_id': 859074603037188101, 'retweet_count': 12100, 'favorite_count': 30761}, {'tweet_id': 858860390427611136, 'retweet_count': 7158, 'favorite_count': 0}, {'tweet_id': 858843525470990336, 'retweet_count': 3057, 'favorite_count': 14292}, {'tweet_id': 858471635011153920, 'retweet_count': 4308, 'favorite_count': 19731}, {'tweet_id': 858107933456039936, 'retweet_count': 2562, 'favorite_count': 14421}, {'tweet_id': 857989990357356544, 'retweet_count': 2288, 'favorite_count': 14677}, {'tweet_id': 857746408056729600, 'retweet_count': 9453, 'favorite_count': 31185}, {'tweet_id': 857393404942143489, 'retweet_count': 1458, 'favorite_count': 5365}, {'tweet_id': 857263160327368704, 'retweet_count': 4021, 'favorite_count': 18438}, {'tweet_id': 857214891891077121, 'retweet_count': 16, 'favorite_count': 207}, {'tweet_id': 857062103051644929, 'retweet_count': 149, 'favorite_count': 0}, {'tweet_id': 857029823797047296, 'retweet_count': 3528, 'favorite_count': 17262}, {'tweet_id': 856543823941562368, 'retweet_count': 2570, 'favorite_count': 15025}, {'tweet_id': 856526610513747968, 'retweet_count': 1672, 'favorite_count': 10956}, {'tweet_id': 856288084350160898, 'retweet_count': 15, 'favorite_count': 493}, {'tweet_id': 856282028240666624, 'retweet_count': 5638, 'favorite_count': 25527}, {'tweet_id': 855862651834028034, 'retweet_count': 22, 'favorite_count': 306}, {'tweet_id': 855860136149123072, 'retweet_count': 864, 'favorite_count': 4471}, {'tweet_id': 855857698524602368, 'retweet_count': 1883, 'favorite_count': 10975}, {'tweet_id': 855851453814013952, 'retweet_count': 16335, 'favorite_count': 42468}, {'tweet_id': 855818117272018944, 'retweet_count': 4866, 'favorite_count': 24556}, {'tweet_id': 855459453768019968, 'retweet_count': 7377, 'favorite_count': 27431}, {'tweet_id': 855245323840757760, 'retweet_count': 5340, 'favorite_count': 0}, {'tweet_id': 855138241867124737, 'retweet_count': 36, 'favorite_count': 0}, {'tweet_id': 854732716440526848, 'retweet_count': 5431, 'favorite_count': 20954}, {'tweet_id': 854482394044301312, 'retweet_count': 6097, 'favorite_count': 26945}, {'tweet_id': 854365224396361728, 'retweet_count': 4216, 'favorite_count': 17406}, {'tweet_id': 854120357044912130, 'retweet_count': 6693, 'favorite_count': 29571}, {'tweet_id': 854010172552949760, 'retweet_count': 2834, 'favorite_count': 15034}, {'tweet_id': 853760880890318849, 'retweet_count': 5168, 'favorite_count': 26394}, {'tweet_id': 853639147608842240, 'retweet_count': 8975, 'favorite_count': 31926}, {'tweet_id': 853299958564483072, 'retweet_count': 3211, 'favorite_count': 14344}, {'tweet_id': 852936405516943360, 'retweet_count': 1807, 'favorite_count': 0}, {'tweet_id': 852912242202992640, 'retweet_count': 1624, 'favorite_count': 8353}, {'tweet_id': 852672615818899456, 'retweet_count': 1953, 'favorite_count': 13836}, {'tweet_id': 852553447878664193, 'retweet_count': 3154, 'favorite_count': 15090}, {'tweet_id': 852311364735569921, 'retweet_count': 8978, 'favorite_count': 30702}, {'tweet_id': 852226086759018497, 'retweet_count': 6164, 'favorite_count': 18564}, {'tweet_id': 852189679701164033, 'retweet_count': 1441, 'favorite_count': 10699}, {'tweet_id': 851591660324737024, 'retweet_count': 3166, 'favorite_count': 15152}, {'tweet_id': 851464819735769094, 'retweet_count': 6388, 'favorite_count': 22563}, {'tweet_id': 851224888060895234, 'retweet_count': 5228, 'favorite_count': 19272}, {'tweet_id': 850753642995093505, 'retweet_count': 8198, 'favorite_count': 28500}, {'tweet_id': 850380195714523136, 'retweet_count': 2363, 'favorite_count': 12218}, {'tweet_id': 850333567704068097, 'retweet_count': 302, 'favorite_count': 3231}, {'tweet_id': 850145622816686080, 'retweet_count': 3441, 'favorite_count': 15217}, {'tweet_id': 850019790995546112, 'retweet_count': 4433, 'favorite_count': 18998}, {'tweet_id': 849776966551130114, 'retweet_count': 6903, 'favorite_count': 28269}, {'tweet_id': 849668094696017920, 'retweet_count': 4509, 'favorite_count': 0}, {'tweet_id': 849412302885593088, 'retweet_count': 2869, 'favorite_count': 14843}, {'tweet_id': 849336543269576704, 'retweet_count': 1717, 'favorite_count': 10708}, {'tweet_id': 849051919805034497, 'retweet_count': 7727, 'favorite_count': 39538}, {'tweet_id': 848690551926992896, 'retweet_count': 3967, 'favorite_count': 23583}, {'tweet_id': 848324959059550208, 'retweet_count': 4210, 'favorite_count': 23138}, {'tweet_id': 848213670039564288, 'retweet_count': 658, 'favorite_count': 7635}, {'tweet_id': 848212111729840128, 'retweet_count': 2749, 'favorite_count': 15227}, {'tweet_id': 847978865427394560, 'retweet_count': 2977, 'favorite_count': 0}, {'tweet_id': 847971574464610304, 'retweet_count': 402, 'favorite_count': 0}, {'tweet_id': 847962785489326080, 'retweet_count': 4646, 'favorite_count': 22010}, {'tweet_id': 847842811428974592, 'retweet_count': 1206, 'favorite_count': 5080}, {'tweet_id': 847617282490613760, 'retweet_count': 379, 'favorite_count': 6563}, {'tweet_id': 847606175596138505, 'retweet_count': 3130, 'favorite_count': 17574}, {'tweet_id': 847251039262605312, 'retweet_count': 3972, 'favorite_count': 19239}, {'tweet_id': 847157206088847362, 'retweet_count': 5319, 'favorite_count': 18623}, {'tweet_id': 847116187444137987, 'retweet_count': 2916, 'favorite_count': 20149}, {'tweet_id': 846874817362120707, 'retweet_count': 3600, 'favorite_count': 18861}, {'tweet_id': 846514051647705089, 'retweet_count': 10529, 'favorite_count': 41710}, {'tweet_id': 846505985330044928, 'retweet_count': 2812, 'favorite_count': 13245}, {'tweet_id': 846153765933735936, 'retweet_count': 8280, 'favorite_count': 29509}, {'tweet_id': 846139713627017216, 'retweet_count': 9283, 'favorite_count': 29158}, {'tweet_id': 846042936437604353, 'retweet_count': 2626, 'favorite_count': 15015}, {'tweet_id': 845812042753855489, 'retweet_count': 7975, 'favorite_count': 27396}, {'tweet_id': 845677943972139009, 'retweet_count': 4431, 'favorite_count': 23751}, {'tweet_id': 845397057150107648, 'retweet_count': 1636, 'favorite_count': 7191}, {'tweet_id': 845306882940190720, 'retweet_count': 4941, 'favorite_count': 21899}, {'tweet_id': 845098359547420673, 'retweet_count': 7038, 'favorite_count': 0}, {'tweet_id': 844979544864018432, 'retweet_count': 2343, 'favorite_count': 12841}, {'tweet_id': 844973813909606400, 'retweet_count': 2896, 'favorite_count': 14118}, {'tweet_id': 844580511645339650, 'retweet_count': 2855, 'favorite_count': 15478}, {'tweet_id': 844223788422217728, 'retweet_count': 2006, 'favorite_count': 12862}, {'tweet_id': 843981021012017153, 'retweet_count': 2729, 'favorite_count': 14320}, {'tweet_id': 843856843873095681, 'retweet_count': 4227, 'favorite_count': 20216}, {'tweet_id': 843604394117681152, 'retweet_count': 2513, 'favorite_count': 15936}, {'tweet_id': 843235543001513987, 'retweet_count': 5494, 'favorite_count': 20239}, {'tweet_id': 842846295480000512, 'retweet_count': 3349, 'favorite_count': 14410}, {'tweet_id': 842765311967449089, 'retweet_count': 1184, 'favorite_count': 6368}, {'tweet_id': 842535590457499648, 'retweet_count': 3226, 'favorite_count': 17138}, {'tweet_id': 842163532590374912, 'retweet_count': 5340, 'favorite_count': 23037}, {'tweet_id': 842115215311396866, 'retweet_count': 2797, 'favorite_count': 13192}, {'tweet_id': 841833993020538882, 'retweet_count': 13762, 'favorite_count': 0}, {'tweet_id': 841680585030541313, 'retweet_count': 7248, 'favorite_count': 24336}, {'tweet_id': 841439858740625411, 'retweet_count': 3366, 'favorite_count': 11902}, {'tweet_id': 841320156043304961, 'retweet_count': 5097, 'favorite_count': 18661}, {'tweet_id': 841314665196081154, 'retweet_count': 4285, 'favorite_count': 14937}, {'tweet_id': 841077006473256960, 'retweet_count': 4946, 'favorite_count': 21634}, {'tweet_id': 840761248237133825, 'retweet_count': 1634, 'favorite_count': 0}, {'tweet_id': 840728873075638272, 'retweet_count': 14823, 'favorite_count': 0}, {'tweet_id': 840698636975636481, 'retweet_count': 2, 'favorite_count': 168}, {'tweet_id': 840696689258311684, 'retweet_count': 898, 'favorite_count': 11619}, {'tweet_id': 840632337062862849, 'retweet_count': 1634, 'favorite_count': 8529}, {'tweet_id': 840370681858686976, 'retweet_count': 4226, 'favorite_count': 15531}, {'tweet_id': 840268004936019968, 'retweet_count': 5296, 'favorite_count': 18155}, {'tweet_id': 839990271299457024, 'retweet_count': 2100, 'favorite_count': 12710}, {'tweet_id': 839549326359670784, 'retweet_count': 7158, 'favorite_count': 25911}, {'tweet_id': 839290600511926273, 'retweet_count': 135, 'favorite_count': 0}, {'tweet_id': 839239871831150596, 'retweet_count': 6014, 'favorite_count': 25552}, {'tweet_id': 838952994649550848, 'retweet_count': 3704, 'favorite_count': 18620}, {'tweet_id': 838921590096166913, 'retweet_count': 1884, 'favorite_count': 10560}, {'tweet_id': 838916489579200512, 'retweet_count': 31, 'favorite_count': 0}, {'tweet_id': 838831947270979586, 'retweet_count': 10181, 'favorite_count': 0}, {'tweet_id': 838561493054533637, 'retweet_count': 1242, 'favorite_count': 10393}, {'tweet_id': 838476387338051585, 'retweet_count': 4392, 'favorite_count': 21233}, {'tweet_id': 838201503651401729, 'retweet_count': 9318, 'favorite_count': 0}, {'tweet_id': 838150277551247360, 'retweet_count': 307, 'favorite_count': 1581}, {'tweet_id': 838085839343206401, 'retweet_count': 1, 'favorite_count': 134}, {'tweet_id': 838083903487373313, 'retweet_count': 2887, 'favorite_count': 16693}, {'tweet_id': 837820167694528512, 'retweet_count': 7243, 'favorite_count': 32253}, {'tweet_id': 837482249356513284, 'retweet_count': 413, 'favorite_count': 3659}, {'tweet_id': 837471256429613056, 'retweet_count': 2091, 'favorite_count': 12140}, {'tweet_id': 837110210464448512, 'retweet_count': 2198, 'favorite_count': 15249}, {'tweet_id': 836989968035819520, 'retweet_count': 2139, 'favorite_count': 12112}, {'tweet_id': 836753516572119041, 'retweet_count': 4312, 'favorite_count': 18363}, {'tweet_id': 836677758902222849, 'retweet_count': 2052, 'favorite_count': 12000}, {'tweet_id': 836648853927522308, 'retweet_count': 512, 'favorite_count': 0}, {'tweet_id': 836397794269200385, 'retweet_count': 25445, 'favorite_count': 0}, {'tweet_id': 836380477523124226, 'retweet_count': 2780, 'favorite_count': 14078}, {'tweet_id': 836260088725786625, 'retweet_count': 4030, 'favorite_count': 20232}, {'tweet_id': 836001077879255040, 'retweet_count': 3950, 'favorite_count': 18121}, {'tweet_id': 835685285446955009, 'retweet_count': 7546, 'favorite_count': 0}, {'tweet_id': 835574547218894849, 'retweet_count': 3354, 'favorite_count': 16896}, {'tweet_id': 835536468978302976, 'retweet_count': 1568, 'favorite_count': 0}, {'tweet_id': 835309094223372289, 'retweet_count': 19427, 'favorite_count': 0}, {'tweet_id': 835297930240217089, 'retweet_count': 2784, 'favorite_count': 15653}, {'tweet_id': 835264098648616962, 'retweet_count': 1568, 'favorite_count': 7340}, {'tweet_id': 835246439529840640, 'retweet_count': 64, 'favorite_count': 2004}, {'tweet_id': 835172783151792128, 'retweet_count': 5357, 'favorite_count': 24881}, {'tweet_id': 835152434251116546, 'retweet_count': 2809, 'favorite_count': 21219}, {'tweet_id': 834931633769889797, 'retweet_count': 1509, 'favorite_count': 10243}, {'tweet_id': 834786237630337024, 'retweet_count': 5166, 'favorite_count': 20471}, {'tweet_id': 834574053763584002, 'retweet_count': 2340, 'favorite_count': 12963}, {'tweet_id': 834477809192075265, 'retweet_count': 9909, 'favorite_count': 0}, {'tweet_id': 834458053273591808, 'retweet_count': 1567, 'favorite_count': 9140}, {'tweet_id': 834209720923721728, 'retweet_count': 4397, 'favorite_count': 19481}, {'tweet_id': 834167344700198914, 'retweet_count': 3416, 'favorite_count': 15048}, {'tweet_id': 834089966724603904, 'retweet_count': 1997, 'favorite_count': 9575}, {'tweet_id': 834086379323871233, 'retweet_count': 2062, 'favorite_count': 12417}, {'tweet_id': 833863086058651648, 'retweet_count': 2234, 'favorite_count': 12792}, {'tweet_id': 833826103416520705, 'retweet_count': 3528, 'favorite_count': 17292}, {'tweet_id': 833732339549220864, 'retweet_count': 209, 'favorite_count': 0}, {'tweet_id': 833722901757046785, 'retweet_count': 3030, 'favorite_count': 19941}, {'tweet_id': 833479644947025920, 'retweet_count': 1910, 'favorite_count': 14192}, {'tweet_id': 833124694597443584, 'retweet_count': 4509, 'favorite_count': 19253}, {'tweet_id': 832998151111966721, 'retweet_count': 2047, 'favorite_count': 12593}, {'tweet_id': 832769181346996225, 'retweet_count': 38, 'favorite_count': 0}, {'tweet_id': 832757312314028032, 'retweet_count': 3374, 'favorite_count': 16066}, {'tweet_id': 832682457690300417, 'retweet_count': 2703, 'favorite_count': 11295}, {'tweet_id': 832645525019123713, 'retweet_count': 490, 'favorite_count': 2785}, {'tweet_id': 832636094638288896, 'retweet_count': 2596, 'favorite_count': 15092}, {'tweet_id': 832397543355072512, 'retweet_count': 2058, 'favorite_count': 11396}, {'tweet_id': 832369877331693569, 'retweet_count': 2977, 'favorite_count': 16330}, {'tweet_id': 832273440279240704, 'retweet_count': 2173, 'favorite_count': 10815}, {'tweet_id': 832215909146226688, 'retweet_count': 5797, 'favorite_count': 0}, {'tweet_id': 832215726631055365, 'retweet_count': 8688, 'favorite_count': 0}, {'tweet_id': 832088576586297345, 'retweet_count': 2, 'favorite_count': 61}, {'tweet_id': 832040443403784192, 'retweet_count': 8939, 'favorite_count': 0}, {'tweet_id': 832032802820481025, 'retweet_count': 4359, 'favorite_count': 16995}, {'tweet_id': 831939777352105988, 'retweet_count': 5731, 'favorite_count': 22776}, {'tweet_id': 831926988323639298, 'retweet_count': 34, 'favorite_count': 323}, {'tweet_id': 831911600680497154, 'retweet_count': 6057, 'favorite_count': 26188}, {'tweet_id': 831670449226514432, 'retweet_count': 1707, 'favorite_count': 9926}, {'tweet_id': 831650051525054464, 'retweet_count': 1807, 'favorite_count': 6778}, {'tweet_id': 831552930092285952, 'retweet_count': 2184, 'favorite_count': 8567}, {'tweet_id': 831322785565769729, 'retweet_count': 1459, 'favorite_count': 8872}, {'tweet_id': 831315979191906304, 'retweet_count': 1047, 'favorite_count': 6252}, {'tweet_id': 831309418084069378, 'retweet_count': 2300, 'favorite_count': 11253}, {'tweet_id': 831262627380748289, 'retweet_count': 1914, 'favorite_count': 11335}, {'tweet_id': 830956169170665475, 'retweet_count': 1394, 'favorite_count': 7617}, {'tweet_id': 830583320585068544, 'retweet_count': 15621, 'favorite_count': 63298}, {'tweet_id': 830173239259324417, 'retweet_count': 5311, 'favorite_count': 0}, {'tweet_id': 830097400375152640, 'retweet_count': 2743, 'favorite_count': 9289}, {'tweet_id': 829878982036299777, 'retweet_count': 4658, 'favorite_count': 0}, {'tweet_id': 829861396166877184, 'retweet_count': 1810, 'favorite_count': 11690}, {'tweet_id': 829501995190984704, 'retweet_count': 9909, 'favorite_count': 30253}, {'tweet_id': 829449946868879360, 'retweet_count': 1882, 'favorite_count': 9996}, {'tweet_id': 829141528400556032, 'retweet_count': 6860, 'favorite_count': 23190}, {'tweet_id': 829011960981237760, 'retweet_count': 15326, 'favorite_count': 50906}, {'tweet_id': 828801551087042563, 'retweet_count': 3204, 'favorite_count': 0}, {'tweet_id': 828770345708580865, 'retweet_count': 5473, 'favorite_count': 24395}, {'tweet_id': 828708714936930305, 'retweet_count': 10472, 'favorite_count': 34718}, {'tweet_id': 828650029636317184, 'retweet_count': 1260, 'favorite_count': 9077}, {'tweet_id': 828409743546925057, 'retweet_count': 1095, 'favorite_count': 6100}, {'tweet_id': 828408677031882754, 'retweet_count': 1202, 'favorite_count': 7347}, {'tweet_id': 828381636999917570, 'retweet_count': 2082, 'favorite_count': 12029}, {'tweet_id': 828376505180889089, 'retweet_count': 1001, 'favorite_count': 7073}, {'tweet_id': 828372645993398273, 'retweet_count': 2756, 'favorite_count': 12027}, {'tweet_id': 828361771580813312, 'retweet_count': 166, 'favorite_count': 2090}, {'tweet_id': 828046555563323392, 'retweet_count': 2692, 'favorite_count': 11189}, {'tweet_id': 828011680017821696, 'retweet_count': 2021, 'favorite_count': 9896}, {'tweet_id': 827933404142436356, 'retweet_count': 4900, 'favorite_count': 19090}, {'tweet_id': 827653905312006145, 'retweet_count': 2827, 'favorite_count': 14781}, {'tweet_id': 827600520311402496, 'retweet_count': 874, 'favorite_count': 7144}, {'tweet_id': 827324948884643840, 'retweet_count': 2836, 'favorite_count': 15145}, {'tweet_id': 827199976799354881, 'retweet_count': 2083, 'favorite_count': 10122}, {'tweet_id': 826958653328592898, 'retweet_count': 4658, 'favorite_count': 20573}, {'tweet_id': 826848821049180160, 'retweet_count': 9468, 'favorite_count': 34465}, {'tweet_id': 826615380357632002, 'retweet_count': 3730, 'favorite_count': 0}, {'tweet_id': 826598799820865537, 'retweet_count': 233, 'favorite_count': 4927}, {'tweet_id': 826598365270007810, 'retweet_count': 2200, 'favorite_count': 9562}, {'tweet_id': 826476773533745153, 'retweet_count': 3949, 'favorite_count': 17557}, {'tweet_id': 826240494070030336, 'retweet_count': 2440, 'favorite_count': 12678}, {'tweet_id': 826204788643753985, 'retweet_count': 863, 'favorite_count': 4660}, {'tweet_id': 826115272272650244, 'retweet_count': 2903, 'favorite_count': 14912}, {'tweet_id': 825876512159186944, 'retweet_count': 1747, 'favorite_count': 10037}, {'tweet_id': 825829644528148480, 'retweet_count': 2361, 'favorite_count': 12188}, {'tweet_id': 825535076884762624, 'retweet_count': 16576, 'favorite_count': 54647}, {'tweet_id': 825147591692263424, 'retweet_count': 4238, 'favorite_count': 17464}, {'tweet_id': 825120256414846976, 'retweet_count': 1177, 'favorite_count': 0}, {'tweet_id': 825026590719483904, 'retweet_count': 1177, 'favorite_count': 5986}, {'tweet_id': 824796380199809024, 'retweet_count': 5161, 'favorite_count': 0}, {'tweet_id': 824775126675836928, 'retweet_count': 3312, 'favorite_count': 14253}, {'tweet_id': 824663926340194305, 'retweet_count': 1663, 'favorite_count': 10044}, {'tweet_id': 824325613288833024, 'retweet_count': 10023, 'favorite_count': 11310}, {'tweet_id': 824297048279236611, 'retweet_count': 3616, 'favorite_count': 14389}, {'tweet_id': 824025158776213504, 'retweet_count': 568, 'favorite_count': 4635}, {'tweet_id': 823939628516474880, 'retweet_count': 2568, 'favorite_count': 10198}, {'tweet_id': 823719002937630720, 'retweet_count': 10481, 'favorite_count': 0}, {'tweet_id': 823699002998870016, 'retweet_count': 2365, 'favorite_count': 13389}, {'tweet_id': 823581115634085888, 'retweet_count': 2469, 'favorite_count': 12424}, {'tweet_id': 823333489516937216, 'retweet_count': 21, 'favorite_count': 669}, {'tweet_id': 823322678127919110, 'retweet_count': 3772, 'favorite_count': 15015}, {'tweet_id': 823269594223824897, 'retweet_count': 9328, 'favorite_count': 0}, {'tweet_id': 822975315408461824, 'retweet_count': 3237, 'favorite_count': 16581}, {'tweet_id': 822872901745569793, 'retweet_count': 40452, 'favorite_count': 125505}, {'tweet_id': 822859134160621569, 'retweet_count': 2135, 'favorite_count': 12612}, {'tweet_id': 822647212903690241, 'retweet_count': 6017, 'favorite_count': 0}, {'tweet_id': 822610361945911296, 'retweet_count': 2764, 'favorite_count': 14138}, {'tweet_id': 822489057087389700, 'retweet_count': 6017, 'favorite_count': 17324}, {'tweet_id': 822462944365645825, 'retweet_count': 13330, 'favorite_count': 26607}, {'tweet_id': 822244816520155136, 'retweet_count': 9328, 'favorite_count': 33471}, {'tweet_id': 822163064745328640, 'retweet_count': 4449, 'favorite_count': 0}, {'tweet_id': 821886076407029760, 'retweet_count': 2168, 'favorite_count': 10807}, {'tweet_id': 821813639212650496, 'retweet_count': 3155, 'favorite_count': 0}, {'tweet_id': 821765923262631936, 'retweet_count': 1573, 'favorite_count': 8013}, {'tweet_id': 821522889702862852, 'retweet_count': 1644, 'favorite_count': 7666}, {'tweet_id': 821421320206483457, 'retweet_count': 5201, 'favorite_count': 0}, {'tweet_id': 821407182352777218, 'retweet_count': 4045, 'favorite_count': 11220}, {'tweet_id': 821153421864615936, 'retweet_count': 9, 'favorite_count': 238}, {'tweet_id': 821149554670182400, 'retweet_count': 1840, 'favorite_count': 8210}, {'tweet_id': 821107785811234820, 'retweet_count': 1992, 'favorite_count': 9186}, {'tweet_id': 821044531881721856, 'retweet_count': 2152, 'favorite_count': 12110}, {'tweet_id': 820837357901512704, 'retweet_count': 6321, 'favorite_count': 0}, {'tweet_id': 820749716845686786, 'retweet_count': 9318, 'favorite_count': 30195}, {'tweet_id': 820690176645140481, 'retweet_count': 3037, 'favorite_count': 11712}, {'tweet_id': 820494788566847489, 'retweet_count': 529, 'favorite_count': 0}, {'tweet_id': 820446719150292993, 'retweet_count': 2419, 'favorite_count': 0}, {'tweet_id': 820314633777061888, 'retweet_count': 529, 'favorite_count': 3208}, {'tweet_id': 820078625395449857, 'retweet_count': 5871, 'favorite_count': 18890}, {'tweet_id': 820013781606658049, 'retweet_count': 1091, 'favorite_count': 0}, {'tweet_id': 819952236453363712, 'retweet_count': 1091, 'favorite_count': 5089}, {'tweet_id': 819924195358416896, 'retweet_count': 4589, 'favorite_count': 12376}, {'tweet_id': 819711362133872643, 'retweet_count': 2908, 'favorite_count': 12783}, {'tweet_id': 819588359383371776, 'retweet_count': 1884, 'favorite_count': 9263}, {'tweet_id': 819347104292290561, 'retweet_count': 1127, 'favorite_count': 6932}, {'tweet_id': 819238181065359361, 'retweet_count': 384, 'favorite_count': 2164}, {'tweet_id': 819227688460238848, 'retweet_count': 6321, 'favorite_count': 22048}, {'tweet_id': 819015337530290176, 'retweet_count': 34952, 'favorite_count': 0}, {'tweet_id': 819015331746349057, 'retweet_count': 17980, 'favorite_count': 0}, {'tweet_id': 819006400881917954, 'retweet_count': 17980, 'favorite_count': 43482}, {'tweet_id': 819004803107983360, 'retweet_count': 34952, 'favorite_count': 83545}, {'tweet_id': 818646164899774465, 'retweet_count': 19699, 'favorite_count': 0}, {'tweet_id': 818627210458333184, 'retweet_count': 7145, 'favorite_count': 21471}, {'tweet_id': 818614493328580609, 'retweet_count': 2374, 'favorite_count': 9423}, {'tweet_id': 818588835076603904, 'retweet_count': 5757, 'favorite_count': 0}, {'tweet_id': 818536468981415936, 'retweet_count': 2303, 'favorite_count': 10386}, {'tweet_id': 818307523543449600, 'retweet_count': 7555, 'favorite_count': 0}, {'tweet_id': 818259473185828864, 'retweet_count': 2117, 'favorite_count': 10533}, {'tweet_id': 818145370475810820, 'retweet_count': 2399, 'favorite_count': 11746}, {'tweet_id': 817908911860748288, 'retweet_count': 751, 'favorite_count': 4656}, {'tweet_id': 817827839487737858, 'retweet_count': 25445, 'favorite_count': 49172}, {'tweet_id': 817777686764523521, 'retweet_count': 2543, 'favorite_count': 10337}, {'tweet_id': 817536400337801217, 'retweet_count': 2760, 'favorite_count': 11253}, {'tweet_id': 817502432452313088, 'retweet_count': 3185, 'favorite_count': 0}, {'tweet_id': 817423860136083457, 'retweet_count': 13762, 'favorite_count': 32216}, {'tweet_id': 817415592588222464, 'retweet_count': 897, 'favorite_count': 5355}, {'tweet_id': 817181837579653120, 'retweet_count': 7965, 'favorite_count': 0}, {'tweet_id': 817171292965273600, 'retweet_count': 1895, 'favorite_count': 8397}, {'tweet_id': 817120970343411712, 'retweet_count': 2445, 'favorite_count': 11691}, {'tweet_id': 817056546584727552, 'retweet_count': 1544, 'favorite_count': 8230}, {'tweet_id': 816829038950027264, 'retweet_count': 4435, 'favorite_count': 0}, {'tweet_id': 816816676327063552, 'retweet_count': 1907, 'favorite_count': 9598}, {'tweet_id': 816697700272001025, 'retweet_count': 2072, 'favorite_count': 9367}, {'tweet_id': 816450570814898180, 'retweet_count': 7555, 'favorite_count': 29040}, {'tweet_id': 816336735214911488, 'retweet_count': 1820, 'favorite_count': 8252}, {'tweet_id': 816091915477250048, 'retweet_count': 2007, 'favorite_count': 8574}, {'tweet_id': 816062466425819140, 'retweet_count': 952, 'favorite_count': 0}, {'tweet_id': 816014286006976512, 'retweet_count': 4935, 'favorite_count': 0}, {'tweet_id': 815990720817401858, 'retweet_count': 952, 'favorite_count': 4745}, {'tweet_id': 815966073409433600, 'retweet_count': 7965, 'favorite_count': 21409}, {'tweet_id': 815745968457060357, 'retweet_count': 3909, 'favorite_count': 0}, {'tweet_id': 815736392542261248, 'retweet_count': 2143, 'favorite_count': 9427}, {'tweet_id': 815639385530101762, 'retweet_count': 1565, 'favorite_count': 7913}, {'tweet_id': 815390420867969024, 'retweet_count': 3611, 'favorite_count': 9932}, {'tweet_id': 814986499976527872, 'retweet_count': 1199, 'favorite_count': 7349}, {'tweet_id': 814638523311648768, 'retweet_count': 2548, 'favorite_count': 10827}, {'tweet_id': 814578408554463233, 'retweet_count': 5524, 'favorite_count': 0}, {'tweet_id': 814530161257443328, 'retweet_count': 1751, 'favorite_count': 8285}, {'tweet_id': 814153002265309185, 'retweet_count': 8197, 'favorite_count': 27587}, {'tweet_id': 813944609378369540, 'retweet_count': 2999, 'favorite_count': 0}, {'tweet_id': 813910438903693312, 'retweet_count': 1757, 'favorite_count': 8954}, {'tweet_id': 813812741911748608, 'retweet_count': 13193, 'favorite_count': 34998}, {'tweet_id': 813800681631023104, 'retweet_count': 1672, 'favorite_count': 7986}, {'tweet_id': 813217897535406080, 'retweet_count': 6919, 'favorite_count': 17868}, {'tweet_id': 813202720496779264, 'retweet_count': 1727, 'favorite_count': 8877}, {'tweet_id': 813187593374461952, 'retweet_count': 4098, 'favorite_count': 19071}, {'tweet_id': 813172488309972993, 'retweet_count': 1828, 'favorite_count': 8912}, {'tweet_id': 813157409116065792, 'retweet_count': 2084, 'favorite_count': 7459}, {'tweet_id': 813142292504645637, 'retweet_count': 2270, 'favorite_count': 8177}, {'tweet_id': 813130366689148928, 'retweet_count': 425, 'favorite_count': 4321}, {'tweet_id': 813127251579564032, 'retweet_count': 2943, 'favorite_count': 11343}, {'tweet_id': 813112105746448384, 'retweet_count': 2593, 'favorite_count': 9905}, {'tweet_id': 813096984823349248, 'retweet_count': 3435, 'favorite_count': 10161}, {'tweet_id': 813081950185472002, 'retweet_count': 2632, 'favorite_count': 9528}, {'tweet_id': 813066809284972545, 'retweet_count': 1860, 'favorite_count': 7634}, {'tweet_id': 813051746834595840, 'retweet_count': 6945, 'favorite_count': 20154}, {'tweet_id': 812781120811126785, 'retweet_count': 1799, 'favorite_count': 7229}, {'tweet_id': 812709060537683968, 'retweet_count': 1367, 'favorite_count': 6363}, {'tweet_id': 812503143955202048, 'retweet_count': 1163, 'favorite_count': 5830}, {'tweet_id': 812466873996607488, 'retweet_count': 1820, 'favorite_count': 7661}, {'tweet_id': 812372279581671427, 'retweet_count': 3470, 'favorite_count': 13100}, {'tweet_id': 811985624773361665, 'retweet_count': 1328, 'favorite_count': 6999}, {'tweet_id': 811744202451197953, 'retweet_count': 1500, 'favorite_count': 7250}, {'tweet_id': 811647686436880384, 'retweet_count': 692, 'favorite_count': 5379}, {'tweet_id': 811627233043480576, 'retweet_count': 2891, 'favorite_count': 12222}, {'tweet_id': 811386762094317568, 'retweet_count': 6051, 'favorite_count': 20082}, {'tweet_id': 810984652412424192, 'retweet_count': 1347, 'favorite_count': 5114}, {'tweet_id': 810896069567610880, 'retweet_count': 1658, 'favorite_count': 8652}, {'tweet_id': 810657578271330305, 'retweet_count': 2497, 'favorite_count': 10546}, {'tweet_id': 810284430598270976, 'retweet_count': 10622, 'favorite_count': 33745}, {'tweet_id': 810254108431155201, 'retweet_count': 3204, 'favorite_count': 14147}, {'tweet_id': 809920764300447744, 'retweet_count': 3730, 'favorite_count': 14973}, {'tweet_id': 809808892968534016, 'retweet_count': 4648, 'favorite_count': 0}, {'tweet_id': 809448704142938112, 'retweet_count': 1393, 'favorite_count': 6694}, {'tweet_id': 809220051211603969, 'retweet_count': 5311, 'favorite_count': 19141}, {'tweet_id': 809084759137812480, 'retweet_count': 3348, 'favorite_count': 12718}, {'tweet_id': 808838249661788160, 'retweet_count': 2889, 'favorite_count': 9762}, {'tweet_id': 808733504066486276, 'retweet_count': 2052, 'favorite_count': 7602}, {'tweet_id': 808501579447930884, 'retweet_count': 2477, 'favorite_count': 10905}, {'tweet_id': 808344865868283904, 'retweet_count': 19699, 'favorite_count': 40670}, {'tweet_id': 808134635716833280, 'retweet_count': 5594, 'favorite_count': 0}, {'tweet_id': 808106460588765185, 'retweet_count': 2087, 'favorite_count': 8506}, {'tweet_id': 808001312164028416, 'retweet_count': 3350, 'favorite_count': 12018}, {'tweet_id': 807621403335917568, 'retweet_count': 3432, 'favorite_count': 14031}, {'tweet_id': 807106840509214720, 'retweet_count': 52344, 'favorite_count': 113012}, {'tweet_id': 807059379405148160, 'retweet_count': 6965, 'favorite_count': 0}, {'tweet_id': 807010152071229440, 'retweet_count': 3688, 'favorite_count': 12657}, {'tweet_id': 806629075125202948, 'retweet_count': 32781, 'favorite_count': 71439}, {'tweet_id': 806620845233815552, 'retweet_count': 5214, 'favorite_count': 0}, {'tweet_id': 806576416489959424, 'retweet_count': 1853, 'favorite_count': 4712}, {'tweet_id': 806542213899489280, 'retweet_count': 2243, 'favorite_count': 9839}, {'tweet_id': 806242860592926720, 'retweet_count': 11007, 'favorite_count': 0}, {'tweet_id': 806219024703037440, 'retweet_count': 1147, 'favorite_count': 6218}, {'tweet_id': 805958939288408065, 'retweet_count': 5080, 'favorite_count': 0}, {'tweet_id': 805932879469572096, 'retweet_count': 1826, 'favorite_count': 7994}, {'tweet_id': 805826884734976000, 'retweet_count': 1735, 'favorite_count': 6328}, {'tweet_id': 805823200554876929, 'retweet_count': 7574, 'favorite_count': 0}, {'tweet_id': 805520635690676224, 'retweet_count': 1572, 'favorite_count': 5547}, {'tweet_id': 805487436403003392, 'retweet_count': 2402, 'favorite_count': 8454}, {'tweet_id': 805207613751304193, 'retweet_count': 1644, 'favorite_count': 7573}, {'tweet_id': 804738756058218496, 'retweet_count': 3639, 'favorite_count': 13153}, {'tweet_id': 804475857670639616, 'retweet_count': 1916, 'favorite_count': 5922}, {'tweet_id': 804413760345620481, 'retweet_count': 3050, 'favorite_count': 0}, {'tweet_id': 804026241225523202, 'retweet_count': 15240, 'favorite_count': 42595}, {'tweet_id': 803773340896923648, 'retweet_count': 2604, 'favorite_count': 9676}, {'tweet_id': 803692223237865472, 'retweet_count': 7028, 'favorite_count': 0}, {'tweet_id': 803638050916102144, 'retweet_count': 3934, 'favorite_count': 10511}, {'tweet_id': 803380650405482500, 'retweet_count': 1786, 'favorite_count': 7485}, {'tweet_id': 803321560782307329, 'retweet_count': 5026, 'favorite_count': 0}, {'tweet_id': 803276597545603072, 'retweet_count': 2320, 'favorite_count': 9666}, {'tweet_id': 802952499103731712, 'retweet_count': 1902, 'favorite_count': 8687}, {'tweet_id': 802624713319034886, 'retweet_count': 2759, 'favorite_count': 0}, {'tweet_id': 802600418706604034, 'retweet_count': 1395, 'favorite_count': 6854}, {'tweet_id': 802572683846291456, 'retweet_count': 2394, 'favorite_count': 8638}, {'tweet_id': 802323869084381190, 'retweet_count': 5554, 'favorite_count': 15546}, {'tweet_id': 802265048156610565, 'retweet_count': 1313, 'favorite_count': 6697}, {'tweet_id': 802239329049477120, 'retweet_count': 2494, 'favorite_count': 8766}, {'tweet_id': 802185808107208704, 'retweet_count': 256, 'favorite_count': 0}, {'tweet_id': 801958328846974976, 'retweet_count': 1616, 'favorite_count': 7456}, {'tweet_id': 801854953262350336, 'retweet_count': 222, 'favorite_count': 1745}, {'tweet_id': 801538201127157760, 'retweet_count': 1982, 'favorite_count': 7918}, {'tweet_id': 801285448605831168, 'retweet_count': 782, 'favorite_count': 5827}, {'tweet_id': 801167903437357056, 'retweet_count': 5594, 'favorite_count': 23472}, {'tweet_id': 801127390143516673, 'retweet_count': 3753, 'favorite_count': 0}, {'tweet_id': 801115127852503040, 'retweet_count': 1999, 'favorite_count': 7772}, {'tweet_id': 800859414831898624, 'retweet_count': 91, 'favorite_count': 656}, {'tweet_id': 800855607700029440, 'retweet_count': 1527, 'favorite_count': 0}, {'tweet_id': 800751577355128832, 'retweet_count': 2660, 'favorite_count': 10209}, {'tweet_id': 800513324630806528, 'retweet_count': 2855, 'favorite_count': 12674}, {'tweet_id': 800459316964663297, 'retweet_count': 2080, 'favorite_count': 9162}, {'tweet_id': 800443802682937345, 'retweet_count': 4085, 'favorite_count': 0}, {'tweet_id': 800388270626521089, 'retweet_count': 2655, 'favorite_count': 10735}, {'tweet_id': 800188575492947969, 'retweet_count': 3749, 'favorite_count': 0}, {'tweet_id': 800141422401830912, 'retweet_count': 2419, 'favorite_count': 14699}, {'tweet_id': 800018252395122689, 'retweet_count': 12463, 'favorite_count': 27212}, {'tweet_id': 799774291445383169, 'retweet_count': 4425, 'favorite_count': 0}, {'tweet_id': 799757965289017345, 'retweet_count': 2033, 'favorite_count': 8085}, {'tweet_id': 799422933579902976, 'retweet_count': 1823, 'favorite_count': 7782}, {'tweet_id': 799308762079035393, 'retweet_count': 5161, 'favorite_count': 0}, {'tweet_id': 799297110730567681, 'retweet_count': 2600, 'favorite_count': 9501}, {'tweet_id': 799063482566066176, 'retweet_count': 2368, 'favorite_count': 7786}, {'tweet_id': 798933969379225600, 'retweet_count': 4214, 'favorite_count': 12572}, {'tweet_id': 798925684722855936, 'retweet_count': 1380, 'favorite_count': 7251}, {'tweet_id': 798705661114773508, 'retweet_count': 6299, 'favorite_count': 0}, {'tweet_id': 798701998996647937, 'retweet_count': 7347, 'favorite_count': 0}, {'tweet_id': 798697898615730177, 'retweet_count': 6172, 'favorite_count': 0}, {'tweet_id': 798694562394996736, 'retweet_count': 4709, 'favorite_count': 0}, {'tweet_id': 798686750113755136, 'retweet_count': 2204, 'favorite_count': 0}, {'tweet_id': 798682547630837760, 'retweet_count': 4494, 'favorite_count': 0}, {'tweet_id': 798673117451325440, 'retweet_count': 5294, 'favorite_count': 0}, {'tweet_id': 798665375516884993, 'retweet_count': 3717, 'favorite_count': 0}, {'tweet_id': 798644042770751489, 'retweet_count': 1760, 'favorite_count': 0}, {'tweet_id': 798628517273620480, 'retweet_count': 1882, 'favorite_count': 0}, {'tweet_id': 798585098161549313, 'retweet_count': 5362, 'favorite_count': 0}, {'tweet_id': 798576900688019456, 'retweet_count': 5566, 'favorite_count': 0}, {'tweet_id': 798340744599797760, 'retweet_count': 3180, 'favorite_count': 0}, {'tweet_id': 798209839306514432, 'retweet_count': 2448, 'favorite_count': 10051}, {'tweet_id': 797971864723324932, 'retweet_count': 2936, 'favorite_count': 11123}, {'tweet_id': 797545162159308800, 'retweet_count': 4668, 'favorite_count': 14046}, {'tweet_id': 797236660651966464, 'retweet_count': 6230, 'favorite_count': 19157}, {'tweet_id': 797165961484890113, 'retweet_count': 25, 'favorite_count': 217}, {'tweet_id': 796904159865868288, 'retweet_count': 8472, 'favorite_count': 0}, {'tweet_id': 796865951799083009, 'retweet_count': 1857, 'favorite_count': 7407}, {'tweet_id': 796759840936919040, 'retweet_count': 2877, 'favorite_count': 11339}, {'tweet_id': 796563435802726400, 'retweet_count': 6841, 'favorite_count': 0}, {'tweet_id': 796484825502875648, 'retweet_count': 1672, 'favorite_count': 7279}, {'tweet_id': 796387464403357696, 'retweet_count': 3942, 'favorite_count': 10588}, {'tweet_id': 796177847564038144, 'retweet_count': 13544, 'favorite_count': 0}, {'tweet_id': 796149749086875649, 'retweet_count': 13544, 'favorite_count': 30910}, {'tweet_id': 796125600683540480, 'retweet_count': 1709, 'favorite_count': 4797}, {'tweet_id': 796116448414461957, 'retweet_count': 2282, 'favorite_count': 8753}, {'tweet_id': 796080075804475393, 'retweet_count': 2191, 'favorite_count': 8112}, {'tweet_id': 796031486298386433, 'retweet_count': 3546, 'favorite_count': 10399}, {'tweet_id': 795464331001561088, 'retweet_count': 22270, 'favorite_count': 47362}, {'tweet_id': 795400264262053889, 'retweet_count': 2715, 'favorite_count': 9640}, {'tweet_id': 795076730285391872, 'retweet_count': 5161, 'favorite_count': 15550}, {'tweet_id': 794983741416415232, 'retweet_count': 3193, 'favorite_count': 0}, {'tweet_id': 794926597468000259, 'retweet_count': 2190, 'favorite_count': 9820}, {'tweet_id': 794355576146903043, 'retweet_count': 9789, 'favorite_count': 0}, {'tweet_id': 794332329137291264, 'retweet_count': 2565, 'favorite_count': 9263}, {'tweet_id': 794205286408003585, 'retweet_count': 3155, 'favorite_count': 8884}, {'tweet_id': 793962221541933056, 'retweet_count': 4648, 'favorite_count': 16114}, {'tweet_id': 793845145112371200, 'retweet_count': 1768, 'favorite_count': 8885}, {'tweet_id': 793614319594401792, 'retweet_count': 2974, 'favorite_count': 0}, {'tweet_id': 793601777308463104, 'retweet_count': 1537, 'favorite_count': 7676}, {'tweet_id': 793500921481273345, 'retweet_count': 2259, 'favorite_count': 10251}, {'tweet_id': 793286476301799424, 'retweet_count': 8688, 'favorite_count': 23632}, {'tweet_id': 793271401113350145, 'retweet_count': 2287, 'favorite_count': 8374}, {'tweet_id': 793256262322548741, 'retweet_count': 7915, 'favorite_count': 19179}, {'tweet_id': 793241302385262592, 'retweet_count': 3122, 'favorite_count': 10105}, {'tweet_id': 793226087023144960, 'retweet_count': 2751, 'favorite_count': 9398}, {'tweet_id': 793210959003287553, 'retweet_count': 2642, 'favorite_count': 8577}, {'tweet_id': 793195938047070209, 'retweet_count': 5336, 'favorite_count': 14619}, {'tweet_id': 793180763617361921, 'retweet_count': 1886, 'favorite_count': 6655}, {'tweet_id': 793165685325201412, 'retweet_count': 2655, 'favorite_count': 9015}, {'tweet_id': 793150605191548928, 'retweet_count': 1612, 'favorite_count': 5931}, {'tweet_id': 793135492858580992, 'retweet_count': 2383, 'favorite_count': 6163}, {'tweet_id': 793120401413079041, 'retweet_count': 3729, 'favorite_count': 12171}, {'tweet_id': 792913359805018113, 'retweet_count': 3756, 'favorite_count': 13762}, {'tweet_id': 792883833364439040, 'retweet_count': 4059, 'favorite_count': 10849}, {'tweet_id': 792773781206999040, 'retweet_count': 1600, 'favorite_count': 7090}, {'tweet_id': 792394556390137856, 'retweet_count': 4059, 'favorite_count': 12894}, {'tweet_id': 792050063153438720, 'retweet_count': 1693, 'favorite_count': 6863}, {'tweet_id': 791821351946420224, 'retweet_count': 19985, 'favorite_count': 0}, {'tweet_id': 791784077045166082, 'retweet_count': 9014, 'favorite_count': 0}, {'tweet_id': 791780927877898241, 'retweet_count': 3606, 'favorite_count': 0}, {'tweet_id': 791774931465953280, 'retweet_count': 21021, 'favorite_count': 43217}, {'tweet_id': 791672322847637504, 'retweet_count': 2974, 'favorite_count': 11294}, {'tweet_id': 791406955684368384, 'retweet_count': 3909, 'favorite_count': 12640}, {'tweet_id': 791312159183634433, 'retweet_count': 2400, 'favorite_count': 8431}, {'tweet_id': 791026214425268224, 'retweet_count': 3867, 'favorite_count': 0}, {'tweet_id': 790987426131050500, 'retweet_count': 2017, 'favorite_count': 9425}, {'tweet_id': 790946055508652032, 'retweet_count': 4435, 'favorite_count': 16057}, {'tweet_id': 790723298204217344, 'retweet_count': 2182, 'favorite_count': 0}, {'tweet_id': 790698755171364864, 'retweet_count': 1830, 'favorite_count': 7906}, {'tweet_id': 790581949425475584, 'retweet_count': 6739, 'favorite_count': 19813}, {'tweet_id': 790337589677002753, 'retweet_count': 1795, 'favorite_count': 7534}, {'tweet_id': 790277117346975746, 'retweet_count': 2999, 'favorite_count': 12061}, {'tweet_id': 790227638568808452, 'retweet_count': 3360, 'favorite_count': 0}, {'tweet_id': 789986466051088384, 'retweet_count': 2182, 'favorite_count': 8926}, {'tweet_id': 789960241177853952, 'retweet_count': 3894, 'favorite_count': 0}, {'tweet_id': 789903600034189313, 'retweet_count': 3921, 'favorite_count': 9901}, {'tweet_id': 789628658055020548, 'retweet_count': 1674, 'favorite_count': 7184}, {'tweet_id': 789599242079838210, 'retweet_count': 1814, 'favorite_count': 6471}, {'tweet_id': 789530877013393408, 'retweet_count': 3193, 'favorite_count': 11244}, {'tweet_id': 789314372632018944, 'retweet_count': 2169, 'favorite_count': 8293}, {'tweet_id': 789280767834746880, 'retweet_count': 4655, 'favorite_count': 0}, {'tweet_id': 789268448748703744, 'retweet_count': 2477, 'favorite_count': 8766}, {'tweet_id': 789137962068021249, 'retweet_count': 2643, 'favorite_count': 9342}, {'tweet_id': 788908386943430656, 'retweet_count': 11853, 'favorite_count': 26364}, {'tweet_id': 788765914992902144, 'retweet_count': 9789, 'favorite_count': 26244}, {'tweet_id': 788552643979468800, 'retweet_count': 6757, 'favorite_count': 0}, {'tweet_id': 788412144018661376, 'retweet_count': 5003, 'favorite_count': 14901}, {'tweet_id': 788178268662984705, 'retweet_count': 1999, 'favorite_count': 6973}, {'tweet_id': 788150585577050112, 'retweet_count': 1212, 'favorite_count': 5877}, {'tweet_id': 788070120937619456, 'retweet_count': 3251, 'favorite_count': 0}, {'tweet_id': 788039637453406209, 'retweet_count': 1246, 'favorite_count': 5868}, {'tweet_id': 787810552592695296, 'retweet_count': 2876, 'favorite_count': 8251}, {'tweet_id': 787717603741622272, 'retweet_count': 2624, 'favorite_count': 9835}, {'tweet_id': 787397959788929025, 'retweet_count': 2707, 'favorite_count': 10466}, {'tweet_id': 787322443945877504, 'retweet_count': 1643, 'favorite_count': 7499}, {'tweet_id': 787111942498508800, 'retweet_count': 6380, 'favorite_count': 0}, {'tweet_id': 786963064373534720, 'retweet_count': 7546, 'favorite_count': 25594}, {'tweet_id': 786729988674449408, 'retweet_count': 2300, 'favorite_count': 0}, {'tweet_id': 786709082849828864, 'retweet_count': 5797, 'favorite_count': 17567}, {'tweet_id': 786664955043049472, 'retweet_count': 2394, 'favorite_count': 10169}, {'tweet_id': 786595970293370880, 'retweet_count': 2971, 'favorite_count': 9101}, {'tweet_id': 786363235746385920, 'retweet_count': 3272, 'favorite_count': 10417}, {'tweet_id': 786286427768250368, 'retweet_count': 2675, 'favorite_count': 7648}, {'tweet_id': 786233965241827333, 'retweet_count': 4449, 'favorite_count': 14605}, {'tweet_id': 786051337297522688, 'retweet_count': 151, 'favorite_count': 1370}, {'tweet_id': 786036967502913536, 'retweet_count': 6582, 'favorite_count': 0}, {'tweet_id': 785927819176054784, 'retweet_count': 3025, 'favorite_count': 10952}, {'tweet_id': 785872687017132033, 'retweet_count': 1692, 'favorite_count': 6424}, {'tweet_id': 785639753186217984, 'retweet_count': 2124, 'favorite_count': 7557}, {'tweet_id': 785533386513321988, 'retweet_count': 1863, 'favorite_count': 8705}, {'tweet_id': 785515384317313025, 'retweet_count': 1183, 'favorite_count': 5875}, {'tweet_id': 785264754247995392, 'retweet_count': 1541, 'favorite_count': 6971}, {'tweet_id': 785170936622350336, 'retweet_count': 4558, 'favorite_count': 11507}, {'tweet_id': 784826020293709826, 'retweet_count': 3050, 'favorite_count': 9688}, {'tweet_id': 784517518371221505, 'retweet_count': 2388, 'favorite_count': 8607}, {'tweet_id': 784431430411685888, 'retweet_count': 1200, 'favorite_count': 5501}, {'tweet_id': 784183165795655680, 'retweet_count': 7574, 'favorite_count': 19195}, {'tweet_id': 784057939640352768, 'retweet_count': 10481, 'favorite_count': 28464}, {'tweet_id': 783839966405230592, 'retweet_count': 10181, 'favorite_count': 28719}, {'tweet_id': 783821107061198850, 'retweet_count': 1850, 'favorite_count': 7065}, {'tweet_id': 783695101801398276, 'retweet_count': 3031, 'favorite_count': 9996}, {'tweet_id': 783466772167098368, 'retweet_count': 2106, 'favorite_count': 8090}, {'tweet_id': 783391753726550016, 'retweet_count': 5158, 'favorite_count': 16180}, {'tweet_id': 783347506784731136, 'retweet_count': 5221, 'favorite_count': 0}, {'tweet_id': 783334639985389568, 'retweet_count': 11007, 'favorite_count': 27829}, {'tweet_id': 783085703974514689, 'retweet_count': 2048, 'favorite_count': 7820}, {'tweet_id': 782969140009107456, 'retweet_count': 6965, 'favorite_count': 23126}, {'tweet_id': 782747134529531904, 'retweet_count': 1333, 'favorite_count': 7168}, {'tweet_id': 782722598790725632, 'retweet_count': 5080, 'favorite_count': 16505}, {'tweet_id': 782598640137187329, 'retweet_count': 1780, 'favorite_count': 7484}, {'tweet_id': 782305867769217024, 'retweet_count': 5201, 'favorite_count': 15902}, {'tweet_id': 782021823840026624, 'retweet_count': 5816, 'favorite_count': 0}, {'tweet_id': 781955203444699136, 'retweet_count': 3175, 'favorite_count': 10695}, {'tweet_id': 781661882474196992, 'retweet_count': 2559, 'favorite_count': 9995}, {'tweet_id': 781655249211752448, 'retweet_count': 1070, 'favorite_count': 3829}, {'tweet_id': 781524693396357120, 'retweet_count': 5214, 'favorite_count': 19844}, {'tweet_id': 781308096455073793, 'retweet_count': 2415, 'favorite_count': 6834}, {'tweet_id': 781251288990355457, 'retweet_count': 1958, 'favorite_count': 8024}, {'tweet_id': 781163403222056960, 'retweet_count': 2609, 'favorite_count': 9391}, {'tweet_id': 780931614150983680, 'retweet_count': 6841, 'favorite_count': 20720}, {'tweet_id': 780858289093574656, 'retweet_count': 1891, 'favorite_count': 6889}, {'tweet_id': 780800785462489090, 'retweet_count': 1216, 'favorite_count': 5254}, {'tweet_id': 780601303617732608, 'retweet_count': 3155, 'favorite_count': 11582}, {'tweet_id': 780543529827336192, 'retweet_count': 1649, 'favorite_count': 6020}, {'tweet_id': 780496263422808064, 'retweet_count': 3471, 'favorite_count': 0}, {'tweet_id': 780476555013349377, 'retweet_count': 105, 'favorite_count': 0}, {'tweet_id': 780459368902959104, 'retweet_count': 1013, 'favorite_count': 5064}, {'tweet_id': 780192070812196864, 'retweet_count': 2112, 'favorite_count': 8322}, {'tweet_id': 780092040432480260, 'retweet_count': 2160, 'favorite_count': 0}, {'tweet_id': 780074436359819264, 'retweet_count': 4642, 'favorite_count': 11558}, {'tweet_id': 779834332596887552, 'retweet_count': 6582, 'favorite_count': 17966}, {'tweet_id': 779377524342161408, 'retweet_count': 2928, 'favorite_count': 8367}, {'tweet_id': 779124354206535695, 'retweet_count': 17170, 'favorite_count': 0}, {'tweet_id': 779056095788752897, 'retweet_count': 4264, 'favorite_count': 14101}, {'tweet_id': 778990705243029504, 'retweet_count': 6729, 'favorite_count': 18965}, {'tweet_id': 778774459159379968, 'retweet_count': 9268, 'favorite_count': 0}, {'tweet_id': 778764940568104960, 'retweet_count': 342, 'favorite_count': 828}, {'tweet_id': 778748913645780993, 'retweet_count': 1221, 'favorite_count': 6551}, {'tweet_id': 778650543019483137, 'retweet_count': 1404, 'favorite_count': 5479}, {'tweet_id': 778624900596654080, 'retweet_count': 951, 'favorite_count': 4393}, {'tweet_id': 778408200802557953, 'retweet_count': 4061, 'favorite_count': 13019}, {'tweet_id': 778396591732486144, 'retweet_count': 11474, 'favorite_count': 0}, {'tweet_id': 778383385161035776, 'retweet_count': 1029, 'favorite_count': 5572}, {'tweet_id': 778286810187399168, 'retweet_count': 3105, 'favorite_count': 9883}, {'tweet_id': 778039087836069888, 'retweet_count': 2498, 'favorite_count': 8085}, {'tweet_id': 778027034220126208, 'retweet_count': 1508, 'favorite_count': 6266}, {'tweet_id': 777953400541634568, 'retweet_count': 3309, 'favorite_count': 0}, {'tweet_id': 777885040357281792, 'retweet_count': 1531, 'favorite_count': 6068}, {'tweet_id': 777684233540206592, 'retweet_count': 2759, 'favorite_count': 10751}, {'tweet_id': 777641927919427584, 'retweet_count': 3969, 'favorite_count': 0}, {'tweet_id': 777621514455814149, 'retweet_count': 2360, 'favorite_count': 8342}, {'tweet_id': 777189768882946048, 'retweet_count': 4042, 'favorite_count': 13514}, {'tweet_id': 776819012571455488, 'retweet_count': 12790, 'favorite_count': 0}, {'tweet_id': 776813020089548800, 'retweet_count': 1132, 'favorite_count': 4659}, {'tweet_id': 776477788987613185, 'retweet_count': 2593, 'favorite_count': 8366}, {'tweet_id': 776249906839351296, 'retweet_count': 8573, 'favorite_count': 0}, {'tweet_id': 776218204058357768, 'retweet_count': 14887, 'favorite_count': 28417}, {'tweet_id': 776201521193218049, 'retweet_count': 2366, 'favorite_count': 9122}, {'tweet_id': 776113305656188928, 'retweet_count': 4085, 'favorite_count': 11252}, {'tweet_id': 776088319444877312, 'retweet_count': 142, 'favorite_count': 1737}, {'tweet_id': 775898661951791106, 'retweet_count': 15722, 'favorite_count': 0}, {'tweet_id': 775842724423557120, 'retweet_count': 2495, 'favorite_count': 11182}, {'tweet_id': 775733305207554048, 'retweet_count': 3753, 'favorite_count': 13245}, {'tweet_id': 775729183532220416, 'retweet_count': 4343, 'favorite_count': 12403}, {'tweet_id': 775364825476165632, 'retweet_count': 2760, 'favorite_count': 7031}, {'tweet_id': 775350846108426240, 'retweet_count': 3665, 'favorite_count': 9682}, {'tweet_id': 775085132600442880, 'retweet_count': 4425, 'favorite_count': 14809}, {'tweet_id': 774757898236878852, 'retweet_count': 1675, 'favorite_count': 8232}, {'tweet_id': 774639387460112384, 'retweet_count': 1631, 'favorite_count': 6431}, {'tweet_id': 774314403806253056, 'retweet_count': 5161, 'favorite_count': 20791}, {'tweet_id': 773985732834758656, 'retweet_count': 3625, 'favorite_count': 10271}, {'tweet_id': 773922284943896577, 'retweet_count': 1640, 'favorite_count': 6117}, {'tweet_id': 773704687002451968, 'retweet_count': 1515, 'favorite_count': 6308}, {'tweet_id': 773670353721753600, 'retweet_count': 1238, 'favorite_count': 5116}, {'tweet_id': 773547596996571136, 'retweet_count': 5757, 'favorite_count': 21063}, {'tweet_id': 773336787167145985, 'retweet_count': 4743, 'favorite_count': 0}, {'tweet_id': 773308824254029826, 'retweet_count': 7038, 'favorite_count': 22256}, {'tweet_id': 773247561583001600, 'retweet_count': 3054, 'favorite_count': 9014}, {'tweet_id': 773191612633579521, 'retweet_count': 3861, 'favorite_count': 9518}, {'tweet_id': 772877495989305348, 'retweet_count': 3625, 'favorite_count': 8146}, {'tweet_id': 772826264096874500, 'retweet_count': 2230, 'favorite_count': 7664}, {'tweet_id': 772615324260794368, 'retweet_count': 3162, 'favorite_count': 0}, {'tweet_id': 772581559778025472, 'retweet_count': 1601, 'favorite_count': 6192}, {'tweet_id': 772193107915964416, 'retweet_count': 1303, 'favorite_count': 5729}, {'tweet_id': 772152991789019136, 'retweet_count': 1064, 'favorite_count': 3630}, {'tweet_id': 772117678702071809, 'retweet_count': 693, 'favorite_count': 3592}, {'tweet_id': 772114945936949249, 'retweet_count': 446, 'favorite_count': 2611}, {'tweet_id': 772102971039580160, 'retweet_count': 880, 'favorite_count': 3815}, {'tweet_id': 771908950375665664, 'retweet_count': 1775, 'favorite_count': 6256}, {'tweet_id': 771770456517009408, 'retweet_count': 3180, 'favorite_count': 11435}, {'tweet_id': 771500966810099713, 'retweet_count': 2447, 'favorite_count': 7877}, {'tweet_id': 771380798096281600, 'retweet_count': 4743, 'favorite_count': 10026}, {'tweet_id': 771171053431250945, 'retweet_count': 6972, 'favorite_count': 0}, {'tweet_id': 771136648247640064, 'retweet_count': 2738, 'favorite_count': 8717}, {'tweet_id': 771102124360998913, 'retweet_count': 1349, 'favorite_count': 5946}, {'tweet_id': 771014301343748096, 'retweet_count': 1553, 'favorite_count': 6571}, {'tweet_id': 770787852854652928, 'retweet_count': 1119, 'favorite_count': 4687}, {'tweet_id': 770772759874076672, 'retweet_count': 1340, 'favorite_count': 4940}, {'tweet_id': 770655142660169732, 'retweet_count': 1680, 'favorite_count': 7008}, {'tweet_id': 770414278348247044, 'retweet_count': 1952, 'favorite_count': 6021}, {'tweet_id': 770293558247038976, 'retweet_count': 1372, 'favorite_count': 5914}, {'tweet_id': 770093767776997377, 'retweet_count': 2857, 'favorite_count': 0}, {'tweet_id': 770069151037685760, 'retweet_count': 2145, 'favorite_count': 7233}, {'tweet_id': 769940425801170949, 'retweet_count': 8939, 'favorite_count': 29681}, {'tweet_id': 769695466921623552, 'retweet_count': 1577, 'favorite_count': 6123}, {'tweet_id': 769335591808995329, 'retweet_count': 7228, 'favorite_count': 0}, {'tweet_id': 769212283578875904, 'retweet_count': 1617, 'favorite_count': 5139}, {'tweet_id': 768970937022709760, 'retweet_count': 6082, 'favorite_count': 13574}, {'tweet_id': 768909767477751808, 'retweet_count': 2487, 'favorite_count': 0}, {'tweet_id': 768855141948723200, 'retweet_count': 836, 'favorite_count': 3992}, {'tweet_id': 768609597686943744, 'retweet_count': 1120, 'favorite_count': 3904}, {'tweet_id': 768596291618299904, 'retweet_count': 1202, 'favorite_count': 4790}, {'tweet_id': 768554158521745409, 'retweet_count': 5447, 'favorite_count': 0}, {'tweet_id': 768473857036525572, 'retweet_count': 3200, 'favorite_count': 12927}, {'tweet_id': 768193404517830656, 'retweet_count': 3309, 'favorite_count': 10323}, {'tweet_id': 767884188863397888, 'retweet_count': 1277, 'favorite_count': 4520}, {'tweet_id': 767754930266464257, 'retweet_count': 5026, 'favorite_count': 15189}, {'tweet_id': 767500508068192258, 'retweet_count': 2176, 'favorite_count': 7134}, {'tweet_id': 767191397493538821, 'retweet_count': 3515, 'favorite_count': 11679}, {'tweet_id': 767122157629476866, 'retweet_count': 2678, 'favorite_count': 9659}, {'tweet_id': 766793450729734144, 'retweet_count': 1272, 'favorite_count': 4807}, {'tweet_id': 766714921925144576, 'retweet_count': 355, 'favorite_count': 2490}, {'tweet_id': 766693177336135680, 'retweet_count': 739, 'favorite_count': 3829}, {'tweet_id': 766423258543644672, 'retweet_count': 1470, 'favorite_count': 5699}, {'tweet_id': 766313316352462849, 'retweet_count': 1757, 'favorite_count': 6427}, {'tweet_id': 766078092750233600, 'retweet_count': 2452, 'favorite_count': 0}, {'tweet_id': 766069199026450432, 'retweet_count': 789, 'favorite_count': 3999}, {'tweet_id': 766008592277377025, 'retweet_count': 467, 'favorite_count': 3587}, {'tweet_id': 765719909049503744, 'retweet_count': 2023, 'favorite_count': 6883}, {'tweet_id': 765669560888528897, 'retweet_count': 1149, 'favorite_count': 4920}, {'tweet_id': 765395769549590528, 'retweet_count': 3155, 'favorite_count': 25434}, {'tweet_id': 765371061932261376, 'retweet_count': 2029, 'favorite_count': 6756}, {'tweet_id': 765222098633691136, 'retweet_count': 3162, 'favorite_count': 11058}, {'tweet_id': 764857477905154048, 'retweet_count': 1664, 'favorite_count': 6149}, {'tweet_id': 764259802650378240, 'retweet_count': 1414, 'favorite_count': 5712}, {'tweet_id': 763956972077010945, 'retweet_count': 50, 'favorite_count': 737}, {'tweet_id': 763837565564780549, 'retweet_count': 3867, 'favorite_count': 11923}, {'tweet_id': 763183847194451968, 'retweet_count': 1385, 'favorite_count': 5113}, {'tweet_id': 763167063695355904, 'retweet_count': 2801, 'favorite_count': 0}, {'tweet_id': 763103485927849985, 'retweet_count': 2150, 'favorite_count': 7012}, {'tweet_id': 762699858130116608, 'retweet_count': 3360, 'favorite_count': 11509}, {'tweet_id': 762471784394268675, 'retweet_count': 5992, 'favorite_count': 10636}, {'tweet_id': 762464539388485633, 'retweet_count': 3894, 'favorite_count': 9766}, {'tweet_id': 762316489655476224, 'retweet_count': 1037, 'favorite_count': 4554}, {'tweet_id': 762035686371364864, 'retweet_count': 14474, 'favorite_count': 30138}, {'tweet_id': 761976711479193600, 'retweet_count': 1854, 'favorite_count': 5118}, {'tweet_id': 761750502866649088, 'retweet_count': 3628, 'favorite_count': 0}, {'tweet_id': 761745352076779520, 'retweet_count': 808, 'favorite_count': 4073}, {'tweet_id': 761672994376806400, 'retweet_count': 27097, 'favorite_count': 46830}, {'tweet_id': 761599872357261312, 'retweet_count': 1111, 'favorite_count': 3932}, {'tweet_id': 761371037149827077, 'retweet_count': 16881, 'favorite_count': 0}, {'tweet_id': 761334018830917632, 'retweet_count': 1359, 'favorite_count': 4903}, {'tweet_id': 761292947749015552, 'retweet_count': 1019, 'favorite_count': 4261}, {'tweet_id': 761227390836215808, 'retweet_count': 1468, 'favorite_count': 5063}, {'tweet_id': 761004547850530816, 'retweet_count': 3251, 'favorite_count': 10777}, {'tweet_id': 760893934457552897, 'retweet_count': 902, 'favorite_count': 3617}, {'tweet_id': 760656994973933572, 'retweet_count': 1770, 'favorite_count': 6245}, {'tweet_id': 760641137271070720, 'retweet_count': 1200, 'favorite_count': 4738}, {'tweet_id': 760539183865880579, 'retweet_count': 3380, 'favorite_count': 7166}, {'tweet_id': 760521673607086080, 'retweet_count': 1301, 'favorite_count': 3974}, {'tweet_id': 760290219849637889, 'retweet_count': 10702, 'favorite_count': 25404}, {'tweet_id': 760252756032651264, 'retweet_count': 808, 'favorite_count': 3754}, {'tweet_id': 760190180481531904, 'retweet_count': 1673, 'favorite_count': 5425}, {'tweet_id': 760153949710192640, 'retweet_count': 30, 'favorite_count': 0}, {'tweet_id': 759943073749200896, 'retweet_count': 1944, 'favorite_count': 5620}, {'tweet_id': 759846353224826880, 'retweet_count': 1829, 'favorite_count': 6361}, {'tweet_id': 759793422261743616, 'retweet_count': 1781, 'favorite_count': 5649}, {'tweet_id': 759557299618865152, 'retweet_count': 1119, 'favorite_count': 4445}, {'tweet_id': 759447681597108224, 'retweet_count': 2300, 'favorite_count': 8047}, {'tweet_id': 759446261539934208, 'retweet_count': 457, 'favorite_count': 1585}, {'tweet_id': 759197388317847553, 'retweet_count': 1819, 'favorite_count': 5771}, {'tweet_id': 759159934323924993, 'retweet_count': 1081, 'favorite_count': 0}, {'tweet_id': 759099523532779520, 'retweet_count': 3874, 'favorite_count': 13784}, {'tweet_id': 759047813560868866, 'retweet_count': 1872, 'favorite_count': 6144}, {'tweet_id': 758854675097526272, 'retweet_count': 854, 'favorite_count': 3373}, {'tweet_id': 758828659922702336, 'retweet_count': 3599, 'favorite_count': 10626}, {'tweet_id': 758740312047005698, 'retweet_count': 1514, 'favorite_count': 5436}, {'tweet_id': 758474966123810816, 'retweet_count': 928, 'favorite_count': 3597}, {'tweet_id': 758467244762497024, 'retweet_count': 2050, 'favorite_count': 4532}, {'tweet_id': 758405701903519748, 'retweet_count': 1778, 'favorite_count': 4928}, {'tweet_id': 758355060040593408, 'retweet_count': 978, 'favorite_count': 3195}, {'tweet_id': 758099635764359168, 'retweet_count': 9268, 'favorite_count': 17951}, {'tweet_id': 758041019896193024, 'retweet_count': 345, 'favorite_count': 2561}, {'tweet_id': 757741869644341248, 'retweet_count': 3062, 'favorite_count': 6496}, {'tweet_id': 757729163776290825, 'retweet_count': 7308, 'favorite_count': 0}, {'tweet_id': 757725642876129280, 'retweet_count': 1120, 'favorite_count': 4293}, {'tweet_id': 757611664640446465, 'retweet_count': 1015, 'favorite_count': 4343}, {'tweet_id': 757597904299253760, 'retweet_count': 283, 'favorite_count': 0}, {'tweet_id': 757596066325864448, 'retweet_count': 973, 'favorite_count': 4118}, {'tweet_id': 757400162377592832, 'retweet_count': 6401, 'favorite_count': 14300}, {'tweet_id': 757393109802180609, 'retweet_count': 1602, 'favorite_count': 5498}, {'tweet_id': 757354760399941633, 'retweet_count': 1314, 'favorite_count': 4260}, {'tweet_id': 756998049151549440, 'retweet_count': 1858, 'favorite_count': 5943}, {'tweet_id': 756939218950160384, 'retweet_count': 1863, 'favorite_count': 6297}, {'tweet_id': 756651752796094464, 'retweet_count': 1207, 'favorite_count': 4769}, {'tweet_id': 756526248105566208, 'retweet_count': 3343, 'favorite_count': 9824}, {'tweet_id': 756303284449767430, 'retweet_count': 1023, 'favorite_count': 3739}, {'tweet_id': 756288534030475264, 'retweet_count': 16502, 'favorite_count': 41710}, {'tweet_id': 756275833623502848, 'retweet_count': 1428, 'favorite_count': 6059}, {'tweet_id': 755955933503782912, 'retweet_count': 2666, 'favorite_count': 6907}, {'tweet_id': 755206590534418437, 'retweet_count': 4967, 'favorite_count': 15522}, {'tweet_id': 755110668769038337, 'retweet_count': 10320, 'favorite_count': 20009}, {'tweet_id': 754874841593970688, 'retweet_count': 7340, 'favorite_count': 0}, {'tweet_id': 754856583969079297, 'retweet_count': 2337, 'favorite_count': 6520}, {'tweet_id': 754747087846248448, 'retweet_count': 481, 'favorite_count': 2441}, {'tweet_id': 754482103782404096, 'retweet_count': 1815, 'favorite_count': 5003}, {'tweet_id': 754449512966619136, 'retweet_count': 682, 'favorite_count': 3546}, {'tweet_id': 754120377874386944, 'retweet_count': 2193, 'favorite_count': 7476}, {'tweet_id': 753655901052166144, 'retweet_count': 2023, 'favorite_count': 5518}, {'tweet_id': 753420520834629632, 'retweet_count': 3291, 'favorite_count': 7440}, {'tweet_id': 753398408988139520, 'retweet_count': 1759, 'favorite_count': 5423}, {'tweet_id': 753375668877008896, 'retweet_count': 2160, 'favorite_count': 7234}, {'tweet_id': 753298634498793472, 'retweet_count': 5285, 'favorite_count': 0}, {'tweet_id': 753294487569522689, 'retweet_count': 970, 'favorite_count': 3163}, {'tweet_id': 753039830821511168, 'retweet_count': 19427, 'favorite_count': 35009}, {'tweet_id': 753026973505581056, 'retweet_count': 887, 'favorite_count': 3707}, {'tweet_id': 752932432744185856, 'retweet_count': 6380, 'favorite_count': 11915}, {'tweet_id': 752917284578922496, 'retweet_count': 1460, 'favorite_count': 6583}, {'tweet_id': 752701944171524096, 'retweet_count': 2656, 'favorite_count': 0}, {'tweet_id': 752682090207055872, 'retweet_count': 1481, 'favorite_count': 5668}, {'tweet_id': 752660715232722944, 'retweet_count': 1445, 'favorite_count': 4120}, {'tweet_id': 752568224206688256, 'retweet_count': 2111, 'favorite_count': 5185}, {'tweet_id': 752519690950500352, 'retweet_count': 3200, 'favorite_count': 6944}, {'tweet_id': 752334515931054080, 'retweet_count': 1024, 'favorite_count': 3627}, {'tweet_id': 752309394570878976, 'retweet_count': 15052, 'favorite_count': 0}, {'tweet_id': 752173152931807232, 'retweet_count': 1691, 'favorite_count': 5614}, {'tweet_id': 751950017322246144, 'retweet_count': 847, 'favorite_count': 2892}, {'tweet_id': 751937170840121344, 'retweet_count': 1215, 'favorite_count': 4881}, {'tweet_id': 751830394383790080, 'retweet_count': 1809, 'favorite_count': 5502}, {'tweet_id': 751793661361422336, 'retweet_count': 2666, 'favorite_count': 5477}, {'tweet_id': 751598357617971201, 'retweet_count': 2867, 'favorite_count': 7514}, {'tweet_id': 751583847268179968, 'retweet_count': 1016, 'favorite_count': 4154}, {'tweet_id': 751538714308972544, 'retweet_count': 1164, 'favorite_count': 4779}, {'tweet_id': 751456908746354688, 'retweet_count': 931, 'favorite_count': 3052}, {'tweet_id': 751251247299190784, 'retweet_count': 5459, 'favorite_count': 11874}, {'tweet_id': 751205363882532864, 'retweet_count': 1690, 'favorite_count': 5975}, {'tweet_id': 751132876104687617, 'retweet_count': 1200, 'favorite_count': 4787}, {'tweet_id': 750868782890057730, 'retweet_count': 1268, 'favorite_count': 4527}, {'tweet_id': 750719632563142656, 'retweet_count': 4655, 'favorite_count': 12422}, {'tweet_id': 750506206503038976, 'retweet_count': 1070, 'favorite_count': 4190}, {'tweet_id': 750429297815552001, 'retweet_count': 3969, 'favorite_count': 12431}, {'tweet_id': 750383411068534784, 'retweet_count': 1051, 'favorite_count': 4307}, {'tweet_id': 750381685133418496, 'retweet_count': 27, 'favorite_count': 675}, {'tweet_id': 750147208377409536, 'retweet_count': 881, 'favorite_count': 2952}, {'tweet_id': 750132105863102464, 'retweet_count': 1199, 'favorite_count': 3418}, {'tweet_id': 750117059602808832, 'retweet_count': 1227, 'favorite_count': 4110}, {'tweet_id': 750101899009982464, 'retweet_count': 785, 'favorite_count': 2885}, {'tweet_id': 750086836815486976, 'retweet_count': 496, 'favorite_count': 2050}, {'tweet_id': 750071704093859840, 'retweet_count': 3073, 'favorite_count': 7351}, {'tweet_id': 750056684286914561, 'retweet_count': 840, 'favorite_count': 2988}, {'tweet_id': 750041628174217216, 'retweet_count': 573, 'favorite_count': 2995}, {'tweet_id': 750026558547456000, 'retweet_count': 729, 'favorite_count': 2563}, {'tweet_id': 750011400160841729, 'retweet_count': 830, 'favorite_count': 3044}, {'tweet_id': 749996283729883136, 'retweet_count': 765, 'favorite_count': 2872}, {'tweet_id': 749981277374128128, 'retweet_count': 2304, 'favorite_count': 4834}, {'tweet_id': 749774190421639168, 'retweet_count': 1233, 'favorite_count': 4410}, {'tweet_id': 749417653287129088, 'retweet_count': 1531, 'favorite_count': 5756}, {'tweet_id': 749403093750648834, 'retweet_count': 499, 'favorite_count': 2473}, {'tweet_id': 749395845976588288, 'retweet_count': 3198, 'favorite_count': 8038}, {'tweet_id': 749317047558017024, 'retweet_count': 2069, 'favorite_count': 5160}, {'tweet_id': 749075273010798592, 'retweet_count': 1913, 'favorite_count': 5429}, {'tweet_id': 749064354620928000, 'retweet_count': 1430, 'favorite_count': 4551}, {'tweet_id': 749036806121881602, 'retweet_count': 737, 'favorite_count': 2916}, {'tweet_id': 748977405889503236, 'retweet_count': 3170, 'favorite_count': 10156}, {'tweet_id': 748932637671223296, 'retweet_count': 2088, 'favorite_count': 5473}, {'tweet_id': 748705597323898880, 'retweet_count': 888, 'favorite_count': 2619}, {'tweet_id': 748699167502000129, 'retweet_count': 1473, 'favorite_count': 4471}, {'tweet_id': 748692773788876800, 'retweet_count': 1241, 'favorite_count': 3987}, {'tweet_id': 748575535303884801, 'retweet_count': 1836, 'favorite_count': 5718}, {'tweet_id': 748568946752774144, 'retweet_count': 621, 'favorite_count': 2080}, {'tweet_id': 748346686624440324, 'retweet_count': 1142, 'favorite_count': 4926}, {'tweet_id': 748337862848962560, 'retweet_count': 3789, 'favorite_count': 7147}, {'tweet_id': 748324050481647620, 'retweet_count': 708, 'favorite_count': 3498}, {'tweet_id': 748307329658011649, 'retweet_count': 665, 'favorite_count': 3485}, {'tweet_id': 748220828303695873, 'retweet_count': 7205, 'favorite_count': 13292}, {'tweet_id': 747963614829678593, 'retweet_count': 1982, 'favorite_count': 5448}, {'tweet_id': 747933425676525569, 'retweet_count': 2383, 'favorite_count': 6246}, {'tweet_id': 747885874273214464, 'retweet_count': 891, 'favorite_count': 2753}, {'tweet_id': 747844099428986880, 'retweet_count': 686, 'favorite_count': 2659}, {'tweet_id': 747816857231626240, 'retweet_count': 1076, 'favorite_count': 4544}, {'tweet_id': 747651430853525504, 'retweet_count': 144, 'favorite_count': 1286}, {'tweet_id': 747648653817413632, 'retweet_count': 5402, 'favorite_count': 12115}, {'tweet_id': 747600769478692864, 'retweet_count': 526, 'favorite_count': 2197}, {'tweet_id': 747594051852075008, 'retweet_count': 962, 'favorite_count': 3464}, {'tweet_id': 747512671126323200, 'retweet_count': 1495, 'favorite_count': 5195}, {'tweet_id': 747461612269887489, 'retweet_count': 963, 'favorite_count': 3643}, {'tweet_id': 747439450712596480, 'retweet_count': 1770, 'favorite_count': 5094}, {'tweet_id': 747242308580548608, 'retweet_count': 2687, 'favorite_count': 0}, {'tweet_id': 747219827526344708, 'retweet_count': 1457, 'favorite_count': 4950}, {'tweet_id': 747204161125646336, 'retweet_count': 846, 'favorite_count': 3164}, {'tweet_id': 747103485104099331, 'retweet_count': 3675, 'favorite_count': 8988}, {'tweet_id': 746906459439529985, 'retweet_count': 275, 'favorite_count': 2749}, {'tweet_id': 746872823977771008, 'retweet_count': 1977, 'favorite_count': 5642}, {'tweet_id': 746818907684614144, 'retweet_count': 1616, 'favorite_count': 5006}, {'tweet_id': 746790600704425984, 'retweet_count': 1487, 'favorite_count': 4573}, {'tweet_id': 746757706116112384, 'retweet_count': 3606, 'favorite_count': 8962}, {'tweet_id': 746726898085036033, 'retweet_count': 1662, 'favorite_count': 5702}, {'tweet_id': 746542875601690625, 'retweet_count': 1760, 'favorite_count': 4743}, {'tweet_id': 746521445350707200, 'retweet_count': 912, 'favorite_count': 0}, {'tweet_id': 746507379341139972, 'retweet_count': 999, 'favorite_count': 4395}, {'tweet_id': 746369468511756288, 'retweet_count': 1510, 'favorite_count': 5845}, {'tweet_id': 746131877086527488, 'retweet_count': 2025, 'favorite_count': 6466}, {'tweet_id': 746056683365994496, 'retweet_count': 754, 'favorite_count': 3369}, {'tweet_id': 745789745784041472, 'retweet_count': 980, 'favorite_count': 3744}, {'tweet_id': 745712589599014916, 'retweet_count': 2157, 'favorite_count': 6591}, {'tweet_id': 745433870967832576, 'retweet_count': 2343, 'favorite_count': 6633}, {'tweet_id': 745422732645535745, 'retweet_count': 2228, 'favorite_count': 8035}, {'tweet_id': 745314880350101504, 'retweet_count': 2523, 'favorite_count': 6693}, {'tweet_id': 745074613265149952, 'retweet_count': 3232, 'favorite_count': 7370}, {'tweet_id': 745057283344719872, 'retweet_count': 2072, 'favorite_count': 6839}, {'tweet_id': 744995568523612160, 'retweet_count': 573, 'favorite_count': 2788}, {'tweet_id': 744971049620602880, 'retweet_count': 2473, 'favorite_count': 7385}, {'tweet_id': 744709971296780288, 'retweet_count': 1460, 'favorite_count': 5288}, {'tweet_id': 744334592493166593, 'retweet_count': 1960, 'favorite_count': 6399}, {'tweet_id': 744234799360020481, 'retweet_count': 71628, 'favorite_count': 146401}, {'tweet_id': 744223424764059648, 'retweet_count': 331, 'favorite_count': 1549}, {'tweet_id': 743980027717509120, 'retweet_count': 1021, 'favorite_count': 3945}, {'tweet_id': 743895849529389061, 'retweet_count': 894, 'favorite_count': 3447}, {'tweet_id': 743835915802583040, 'retweet_count': 1902, 'favorite_count': 0}, {'tweet_id': 743609206067040256, 'retweet_count': 1286, 'favorite_count': 4208}, {'tweet_id': 743595368194129920, 'retweet_count': 6028, 'favorite_count': 17174}, {'tweet_id': 743545585370791937, 'retweet_count': 875, 'favorite_count': 3314}, {'tweet_id': 743510151680958465, 'retweet_count': 3458, 'favorite_count': 7502}, {'tweet_id': 743253157753532416, 'retweet_count': 1137, 'favorite_count': 3980}, {'tweet_id': 743222593470234624, 'retweet_count': 1770, 'favorite_count': 5820}, {'tweet_id': 743210557239623680, 'retweet_count': 1257, 'favorite_count': 3604}, {'tweet_id': 742534281772302336, 'retweet_count': 3317, 'favorite_count': 6631}, {'tweet_id': 742528092657332225, 'retweet_count': 1814, 'favorite_count': 4160}, {'tweet_id': 742465774154047488, 'retweet_count': 3644, 'favorite_count': 6826}, {'tweet_id': 742423170473463808, 'retweet_count': 3471, 'favorite_count': 9230}, {'tweet_id': 742385895052087300, 'retweet_count': 1806, 'favorite_count': 6376}, {'tweet_id': 742161199639494656, 'retweet_count': 1260, 'favorite_count': 4041}, {'tweet_id': 742150209887731712, 'retweet_count': 1426, 'favorite_count': 4781}, {'tweet_id': 741793263812808706, 'retweet_count': 1399, 'favorite_count': 4261}, {'tweet_id': 741743634094141440, 'retweet_count': 2542, 'favorite_count': 7646}, {'tweet_id': 741438259667034112, 'retweet_count': 757, 'favorite_count': 3459}, {'tweet_id': 741303864243200000, 'retweet_count': 2971, 'favorite_count': 8238}, {'tweet_id': 741099773336379392, 'retweet_count': 5100, 'favorite_count': 9344}, {'tweet_id': 741067306818797568, 'retweet_count': 2857, 'favorite_count': 8969}, {'tweet_id': 740995100998766593, 'retweet_count': 2506, 'favorite_count': 5913}, {'tweet_id': 740711788199743490, 'retweet_count': 877, 'favorite_count': 3182}, {'tweet_id': 740699697422163968, 'retweet_count': 718, 'favorite_count': 2687}, {'tweet_id': 740676976021798912, 'retweet_count': 6299, 'favorite_count': 17059}, {'tweet_id': 740373189193256964, 'retweet_count': 12291, 'favorite_count': 32983}, {'tweet_id': 740365076218183684, 'retweet_count': 392, 'favorite_count': 2284}, {'tweet_id': 740359016048689152, 'retweet_count': 807, 'favorite_count': 3078}, {'tweet_id': 740214038584557568, 'retweet_count': 1809, 'favorite_count': 6270}, {'tweet_id': 739979191639244800, 'retweet_count': 5447, 'favorite_count': 18731}, {'tweet_id': 739932936087216128, 'retweet_count': 995, 'favorite_count': 3810}, {'tweet_id': 739844404073074688, 'retweet_count': 801, 'favorite_count': 3571}, {'tweet_id': 739623569819336705, 'retweet_count': 1256, 'favorite_count': 3533}, {'tweet_id': 739606147276148736, 'retweet_count': 1518, 'favorite_count': 5052}, {'tweet_id': 739544079319588864, 'retweet_count': 19498, 'favorite_count': 36884}, {'tweet_id': 739485634323156992, 'retweet_count': 2673, 'favorite_count': 6667}, {'tweet_id': 739238157791694849, 'retweet_count': 53534, 'favorite_count': 108365}, {'tweet_id': 738891149612572673, 'retweet_count': 6, 'favorite_count': 93}, {'tweet_id': 738885046782832640, 'retweet_count': 1058, 'favorite_count': 3541}, {'tweet_id': 738883359779196928, 'retweet_count': 729, 'favorite_count': 3079}, {'tweet_id': 738537504001953792, 'retweet_count': 1418, 'favorite_count': 4759}, {'tweet_id': 738402415918125056, 'retweet_count': 757, 'favorite_count': 3049}, {'tweet_id': 738184450748633089, 'retweet_count': 1123, 'favorite_count': 4028}, {'tweet_id': 738166403467907072, 'retweet_count': 3072, 'favorite_count': 8185}, {'tweet_id': 738156290900254721, 'retweet_count': 593, 'favorite_count': 2322}, {'tweet_id': 737826014890496000, 'retweet_count': 1627, 'favorite_count': 4904}, {'tweet_id': 737800304142471168, 'retweet_count': 3207, 'favorite_count': 9374}, {'tweet_id': 737678689543020544, 'retweet_count': 1221, 'favorite_count': 4694}, {'tweet_id': 737445876994609152, 'retweet_count': 4119, 'favorite_count': 9585}, {'tweet_id': 737322739594330112, 'retweet_count': 745, 'favorite_count': 3364}, {'tweet_id': 737310737551491075, 'retweet_count': 6821, 'favorite_count': 13684}, {'tweet_id': 736736130620620800, 'retweet_count': 1569, 'favorite_count': 3940}, {'tweet_id': 736392552031657984, 'retweet_count': 6757, 'favorite_count': 16550}, {'tweet_id': 736365877722001409, 'retweet_count': 1138, 'favorite_count': 3721}, {'tweet_id': 736225175608430592, 'retweet_count': 2579, 'favorite_count': 7590}, {'tweet_id': 736010884653420544, 'retweet_count': 2737, 'favorite_count': 7341}, {'tweet_id': 735991953473572864, 'retweet_count': 1045, 'favorite_count': 3340}, {'tweet_id': 735648611367784448, 'retweet_count': 1029, 'favorite_count': 3779}, {'tweet_id': 735635087207878657, 'retweet_count': 2172, 'favorite_count': 5749}, {'tweet_id': 735274964362878976, 'retweet_count': 4605, 'favorite_count': 12191}, {'tweet_id': 735256018284875776, 'retweet_count': 816, 'favorite_count': 3115}, {'tweet_id': 735137028879360001, 'retweet_count': 896, 'favorite_count': 2922}, {'tweet_id': 734912297295085568, 'retweet_count': 484, 'favorite_count': 2583}, {'tweet_id': 734787690684657664, 'retweet_count': 5829, 'favorite_count': 11710}, {'tweet_id': 734776360183431168, 'retweet_count': 495, 'favorite_count': 2359}, {'tweet_id': 734559631394082816, 'retweet_count': 361, 'favorite_count': 1392}, {'tweet_id': 733828123016450049, 'retweet_count': 725, 'favorite_count': 3340}, {'tweet_id': 733822306246479872, 'retweet_count': 945, 'favorite_count': 3432}, {'tweet_id': 733482008106668032, 'retweet_count': 862, 'favorite_count': 2915}, {'tweet_id': 733460102733135873, 'retweet_count': 1158, 'favorite_count': 3917}, {'tweet_id': 733109485275860992, 'retweet_count': 15722, 'favorite_count': 49965}, {'tweet_id': 732732193018155009, 'retweet_count': 488, 'favorite_count': 2263}, {'tweet_id': 732726085725589504, 'retweet_count': 811, 'favorite_count': 3336}, {'tweet_id': 732585889486888962, 'retweet_count': 721, 'favorite_count': 3406}, {'tweet_id': 732375214819057664, 'retweet_count': 2313, 'favorite_count': 7529}, {'tweet_id': 732005617171337216, 'retweet_count': 4935, 'favorite_count': 13883}, {'tweet_id': 731285275100512256, 'retweet_count': 918, 'favorite_count': 3267}, {'tweet_id': 731156023742988288, 'retweet_count': 1158, 'favorite_count': 3591}, {'tweet_id': 730924654643314689, 'retweet_count': 1817, 'favorite_count': 5728}, {'tweet_id': 730573383004487680, 'retweet_count': 1950, 'favorite_count': 4536}, {'tweet_id': 730427201120833536, 'retweet_count': 953, 'favorite_count': 3246}, {'tweet_id': 730211855403241472, 'retweet_count': 971, 'favorite_count': 3545}, {'tweet_id': 730196704625098752, 'retweet_count': 1724, 'favorite_count': 4491}, {'tweet_id': 729854734790754305, 'retweet_count': 1033, 'favorite_count': 3772}, {'tweet_id': 729838605770891264, 'retweet_count': 345, 'favorite_count': 1619}, {'tweet_id': 729823566028484608, 'retweet_count': 1147, 'favorite_count': 3694}, {'tweet_id': 729463711119904772, 'retweet_count': 2123, 'favorite_count': 5387}, {'tweet_id': 729113531270991872, 'retweet_count': 291, 'favorite_count': 1758}, {'tweet_id': 728986383096946689, 'retweet_count': 747, 'favorite_count': 2925}, {'tweet_id': 728760639972315136, 'retweet_count': 1565, 'favorite_count': 4345}, {'tweet_id': 728751179681943552, 'retweet_count': 625, 'favorite_count': 2584}, {'tweet_id': 728653952833728512, 'retweet_count': 960, 'favorite_count': 3096}, {'tweet_id': 728409960103686147, 'retweet_count': 1854, 'favorite_count': 4568}, {'tweet_id': 728387165835677696, 'retweet_count': 888, 'favorite_count': 3464}, {'tweet_id': 728046963732717569, 'retweet_count': 1098, 'favorite_count': 3995}, {'tweet_id': 728035342121635841, 'retweet_count': 1532, 'favorite_count': 4229}, {'tweet_id': 728015554473250816, 'retweet_count': 1012, 'favorite_count': 3844}, {'tweet_id': 727685679342333952, 'retweet_count': 584, 'favorite_count': 2777}, {'tweet_id': 727644517743104000, 'retweet_count': 1612, 'favorite_count': 5467}, {'tweet_id': 727524757080539137, 'retweet_count': 1108, 'favorite_count': 4168}, {'tweet_id': 727314416056803329, 'retweet_count': 682, 'favorite_count': 3102}, {'tweet_id': 727286334147182592, 'retweet_count': 757, 'favorite_count': 2861}, {'tweet_id': 727175381690781696, 'retweet_count': 1262, 'favorite_count': 3637}, {'tweet_id': 727155742655025152, 'retweet_count': 1215, 'favorite_count': 3373}, {'tweet_id': 726935089318363137, 'retweet_count': 2240, 'favorite_count': 6393}, {'tweet_id': 726887082820554753, 'retweet_count': 1389, 'favorite_count': 3575}, {'tweet_id': 726828223124897792, 'retweet_count': 933, 'favorite_count': 3343}, {'tweet_id': 726224900189511680, 'retweet_count': 1056, 'favorite_count': 4140}, {'tweet_id': 725842289046749185, 'retweet_count': 2452, 'favorite_count': 6614}, {'tweet_id': 725786712245440512, 'retweet_count': 1261, 'favorite_count': 3904}, {'tweet_id': 725729321944506368, 'retweet_count': 1631, 'favorite_count': 4861}, {'tweet_id': 725458796924002305, 'retweet_count': 567, 'favorite_count': 1322}, {'tweet_id': 724983749226668032, 'retweet_count': 1187, 'favorite_count': 3483}, {'tweet_id': 724771698126512129, 'retweet_count': 575, 'favorite_count': 2182}, {'tweet_id': 724405726123311104, 'retweet_count': 1535, 'favorite_count': 4927}, {'tweet_id': 724049859469295616, 'retweet_count': 1645, 'favorite_count': 4037}, {'tweet_id': 724046343203856385, 'retweet_count': 519, 'favorite_count': 2492}, {'tweet_id': 724004602748780546, 'retweet_count': 1412, 'favorite_count': 3889}, {'tweet_id': 723912936180330496, 'retweet_count': 1147, 'favorite_count': 3646}, {'tweet_id': 723688335806480385, 'retweet_count': 2677, 'favorite_count': 7137}, {'tweet_id': 723673163800948736, 'retweet_count': 826, 'favorite_count': 2827}, {'tweet_id': 723179728551723008, 'retweet_count': 1720, 'favorite_count': 4924}, {'tweet_id': 722974582966214656, 'retweet_count': 1454, 'favorite_count': 3827}, {'tweet_id': 722613351520608256, 'retweet_count': 1507, 'favorite_count': 4639}, {'tweet_id': 721503162398597120, 'retweet_count': 1669, 'favorite_count': 4292}, {'tweet_id': 721001180231503872, 'retweet_count': 563, 'favorite_count': 2374}, {'tweet_id': 720785406564900865, 'retweet_count': 706, 'favorite_count': 2890}, {'tweet_id': 720775346191278080, 'retweet_count': 591, 'favorite_count': 2290}, {'tweet_id': 720415127506415616, 'retweet_count': 1385, 'favorite_count': 3847}, {'tweet_id': 720389942216527872, 'retweet_count': 2291, 'favorite_count': 5942}, {'tweet_id': 720340705894408192, 'retweet_count': 899, 'favorite_count': 2660}, {'tweet_id': 720059472081784833, 'retweet_count': 1037, 'favorite_count': 3596}, {'tweet_id': 720043174954147842, 'retweet_count': 1857, 'favorite_count': 4631}, {'tweet_id': 719991154352222208, 'retweet_count': 1610, 'favorite_count': 4533}, {'tweet_id': 719704490224398336, 'retweet_count': 1312, 'favorite_count': 4238}, {'tweet_id': 719551379208073216, 'retweet_count': 1744, 'favorite_count': 4704}, {'tweet_id': 719367763014393856, 'retweet_count': 696, 'favorite_count': 2622}, {'tweet_id': 719339463458033665, 'retweet_count': 1139, 'favorite_count': 4163}, {'tweet_id': 719332531645071360, 'retweet_count': 875, 'favorite_count': 3217}, {'tweet_id': 718971898235854848, 'retweet_count': 997, 'favorite_count': 3240}, {'tweet_id': 718939241951195136, 'retweet_count': 1614, 'favorite_count': 4874}, {'tweet_id': 718631497683582976, 'retweet_count': 7347, 'favorite_count': 17604}, {'tweet_id': 718613305783398402, 'retweet_count': 435, 'favorite_count': 2283}, {'tweet_id': 718540630683709445, 'retweet_count': 939, 'favorite_count': 2272}, {'tweet_id': 718460005985447936, 'retweet_count': 485, 'favorite_count': 2531}, {'tweet_id': 718454725339934721, 'retweet_count': 1394, 'favorite_count': 4553}, {'tweet_id': 718246886998687744, 'retweet_count': 456, 'favorite_count': 1781}, {'tweet_id': 718234618122661888, 'retweet_count': 923, 'favorite_count': 3613}, {'tweet_id': 717841801130979328, 'retweet_count': 554, 'favorite_count': 2302}, {'tweet_id': 717790033953034240, 'retweet_count': 1004, 'favorite_count': 2665}, {'tweet_id': 717537687239008257, 'retweet_count': 1689, 'favorite_count': 5389}, {'tweet_id': 717428917016076293, 'retweet_count': 413, 'favorite_count': 1503}, {'tweet_id': 717421804990701568, 'retweet_count': 772, 'favorite_count': 2920}, {'tweet_id': 717047459982213120, 'retweet_count': 1762, 'favorite_count': 5869}, {'tweet_id': 717009362452090881, 'retweet_count': 887, 'favorite_count': 3018}, {'tweet_id': 716802964044845056, 'retweet_count': 1066, 'favorite_count': 4012}, {'tweet_id': 716791146589110272, 'retweet_count': 1466, 'favorite_count': 7740}, {'tweet_id': 716730379797970944, 'retweet_count': 399, 'favorite_count': 1147}, {'tweet_id': 716447146686459905, 'retweet_count': 5397, 'favorite_count': 12179}, {'tweet_id': 716439118184652801, 'retweet_count': 195, 'favorite_count': 2229}, {'tweet_id': 716285507865542656, 'retweet_count': 978, 'favorite_count': 2591}, {'tweet_id': 716080869887381504, 'retweet_count': 1739, 'favorite_count': 6331}, {'tweet_id': 715928423106027520, 'retweet_count': 807, 'favorite_count': 2975}, {'tweet_id': 715758151270801409, 'retweet_count': 1312, 'favorite_count': 3463}, {'tweet_id': 715733265223708672, 'retweet_count': 1557, 'favorite_count': 4359}, {'tweet_id': 715704790270025728, 'retweet_count': 522, 'favorite_count': 2594}, {'tweet_id': 715696743237730304, 'retweet_count': 1189, 'favorite_count': 3661}, {'tweet_id': 715680795826982913, 'retweet_count': 1473, 'favorite_count': 4015}, {'tweet_id': 715360349751484417, 'retweet_count': 1430, 'favorite_count': 5097}, {'tweet_id': 715342466308784130, 'retweet_count': 631, 'favorite_count': 2834}, {'tweet_id': 715220193576927233, 'retweet_count': 598, 'favorite_count': 2251}, {'tweet_id': 715200624753819648, 'retweet_count': 1720, 'favorite_count': 4815}, {'tweet_id': 715009755312439296, 'retweet_count': 1128, 'favorite_count': 3871}, {'tweet_id': 714982300363173890, 'retweet_count': 950, 'favorite_count': 3475}, {'tweet_id': 714962719905021952, 'retweet_count': 3907, 'favorite_count': 6850}, {'tweet_id': 714957620017307648, 'retweet_count': 1298, 'favorite_count': 3863}, {'tweet_id': 714631576617938945, 'retweet_count': 912, 'favorite_count': 3057}, {'tweet_id': 714606013974974464, 'retweet_count': 850, 'favorite_count': 3391}, {'tweet_id': 714485234495041536, 'retweet_count': 1031, 'favorite_count': 2492}, {'tweet_id': 714258258790387713, 'retweet_count': 680, 'favorite_count': 2853}, {'tweet_id': 714251586676113411, 'retweet_count': 777, 'favorite_count': 3068}, {'tweet_id': 714214115368108032, 'retweet_count': 809, 'favorite_count': 2140}, {'tweet_id': 714141408463036416, 'retweet_count': 1298, 'favorite_count': 4054}, {'tweet_id': 713919462244790272, 'retweet_count': 736, 'favorite_count': 3082}, {'tweet_id': 713909862279876608, 'retweet_count': 498, 'favorite_count': 1774}, {'tweet_id': 713900603437621249, 'retweet_count': 675, 'favorite_count': 2655}, {'tweet_id': 713761197720473600, 'retweet_count': 1256, 'favorite_count': 4533}, {'tweet_id': 713411074226274305, 'retweet_count': 1202, 'favorite_count': 4146}, {'tweet_id': 713177543487135744, 'retweet_count': 2629, 'favorite_count': 6738}, {'tweet_id': 713175907180089344, 'retweet_count': 1350, 'favorite_count': 4145}, {'tweet_id': 712809025985978368, 'retweet_count': 6172, 'favorite_count': 17788}, {'tweet_id': 712717840512598017, 'retweet_count': 4572, 'favorite_count': 11472}, {'tweet_id': 712668654853337088, 'retweet_count': 1119, 'favorite_count': 3876}, {'tweet_id': 712438159032893441, 'retweet_count': 1441, 'favorite_count': 4975}, {'tweet_id': 712309440758808576, 'retweet_count': 24, 'favorite_count': 222}, {'tweet_id': 712097430750289920, 'retweet_count': 953, 'favorite_count': 3519}, {'tweet_id': 712092745624633345, 'retweet_count': 824, 'favorite_count': 2740}, {'tweet_id': 712085617388212225, 'retweet_count': 447, 'favorite_count': 3059}, {'tweet_id': 712065007010385924, 'retweet_count': 576, 'favorite_count': 2092}, {'tweet_id': 711998809858043904, 'retweet_count': 122, 'favorite_count': 0}, {'tweet_id': 711968124745228288, 'retweet_count': 2126, 'favorite_count': 7511}, {'tweet_id': 711743778164514816, 'retweet_count': 921, 'favorite_count': 2650}, {'tweet_id': 711732680602345472, 'retweet_count': 3754, 'favorite_count': 8205}, {'tweet_id': 711694788429553666, 'retweet_count': 16881, 'favorite_count': 30693}, {'tweet_id': 711652651650457602, 'retweet_count': 835, 'favorite_count': 3599}, {'tweet_id': 711363825979756544, 'retweet_count': 1033, 'favorite_count': 3365}, {'tweet_id': 711306686208872448, 'retweet_count': 686, 'favorite_count': 3087}, {'tweet_id': 711008018775851008, 'retweet_count': 567, 'favorite_count': 2786}, {'tweet_id': 710997087345876993, 'retweet_count': 1277, 'favorite_count': 4273}, {'tweet_id': 710844581445812225, 'retweet_count': 625, 'favorite_count': 2379}, {'tweet_id': 710833117892898816, 'retweet_count': 488, 'favorite_count': 2507}, {'tweet_id': 710658690886586372, 'retweet_count': 526, 'favorite_count': 2170}, {'tweet_id': 710609963652087808, 'retweet_count': 2192, 'favorite_count': 4486}, {'tweet_id': 710588934686908417, 'retweet_count': 1721, 'favorite_count': 4233}, {'tweet_id': 710296729921429505, 'retweet_count': 682, 'favorite_count': 2235}, {'tweet_id': 710283270106132480, 'retweet_count': 487, 'favorite_count': 2024}, {'tweet_id': 710272297844797440, 'retweet_count': 1162, 'favorite_count': 4202}, {'tweet_id': 710269109699739648, 'retweet_count': 1031, 'favorite_count': 2231}, {'tweet_id': 710153181850935296, 'retweet_count': 826, 'favorite_count': 2720}, {'tweet_id': 710140971284037632, 'retweet_count': 817, 'favorite_count': 2557}, {'tweet_id': 710117014656950272, 'retweet_count': 1815, 'favorite_count': 5089}, {'tweet_id': 709918798883774466, 'retweet_count': 1007, 'favorite_count': 3273}, {'tweet_id': 709901256215666688, 'retweet_count': 96, 'favorite_count': 615}, {'tweet_id': 709852847387627521, 'retweet_count': 1110, 'favorite_count': 3275}, {'tweet_id': 709566166965075968, 'retweet_count': 1094, 'favorite_count': 3304}, {'tweet_id': 709556954897764353, 'retweet_count': 989, 'favorite_count': 3065}, {'tweet_id': 709519240576036864, 'retweet_count': 220, 'favorite_count': 1403}, {'tweet_id': 709449600415961088, 'retweet_count': 527, 'favorite_count': 2052}, {'tweet_id': 709409458133323776, 'retweet_count': 633, 'favorite_count': 2467}, {'tweet_id': 709225125749587968, 'retweet_count': 529, 'favorite_count': 2240}, {'tweet_id': 709207347839836162, 'retweet_count': 5278, 'favorite_count': 11586}, {'tweet_id': 709198395643068416, 'retweet_count': 596, 'favorite_count': 2295}, {'tweet_id': 709179584944730112, 'retweet_count': 619, 'favorite_count': 1880}, {'tweet_id': 709158332880297985, 'retweet_count': 374, 'favorite_count': 1901}, {'tweet_id': 709042156699303936, 'retweet_count': 1504, 'favorite_count': 4402}, {'tweet_id': 708853462201716736, 'retweet_count': 600, 'favorite_count': 1684}, {'tweet_id': 708845821941387268, 'retweet_count': 823, 'favorite_count': 2772}, {'tweet_id': 708834316713893888, 'retweet_count': 462, 'favorite_count': 1572}, {'tweet_id': 708810915978854401, 'retweet_count': 6354, 'favorite_count': 15428}, {'tweet_id': 708738143638450176, 'retweet_count': 756, 'favorite_count': 2572}, {'tweet_id': 708711088997666817, 'retweet_count': 656, 'favorite_count': 2370}, {'tweet_id': 708479650088034305, 'retweet_count': 632, 'favorite_count': 2376}, {'tweet_id': 708469915515297792, 'retweet_count': 744, 'favorite_count': 2888}, {'tweet_id': 708400866336894977, 'retweet_count': 9220, 'favorite_count': 14871}, {'tweet_id': 708356463048204288, 'retweet_count': 1222, 'favorite_count': 3347}, {'tweet_id': 708349470027751425, 'retweet_count': 684, 'favorite_count': 2212}, {'tweet_id': 708149363256774660, 'retweet_count': 1435, 'favorite_count': 4034}, {'tweet_id': 708130923141795840, 'retweet_count': 793, 'favorite_count': 3155}, {'tweet_id': 708119489313951744, 'retweet_count': 909, 'favorite_count': 2509}, {'tweet_id': 708109389455101952, 'retweet_count': 513, 'favorite_count': 1825}, {'tweet_id': 708026248782585858, 'retweet_count': 1778, 'favorite_count': 4123}, {'tweet_id': 707995814724026368, 'retweet_count': 1031, 'favorite_count': 2919}, {'tweet_id': 707983188426153984, 'retweet_count': 2, 'favorite_count': 46}, {'tweet_id': 707969809498152960, 'retweet_count': 881, 'favorite_count': 2524}, {'tweet_id': 707776935007539200, 'retweet_count': 883, 'favorite_count': 3052}, {'tweet_id': 707741517457260545, 'retweet_count': 563, 'favorite_count': 2313}, {'tweet_id': 707738799544082433, 'retweet_count': 2242, 'favorite_count': 3784}, {'tweet_id': 707693576495472641, 'retweet_count': 924, 'favorite_count': 3173}, {'tweet_id': 707629649552134146, 'retweet_count': 802, 'favorite_count': 2393}, {'tweet_id': 707610948723478529, 'retweet_count': 5816, 'favorite_count': 15848}, {'tweet_id': 707420581654872064, 'retweet_count': 643, 'favorite_count': 2096}, {'tweet_id': 707411934438625280, 'retweet_count': 553, 'favorite_count': 2147}, {'tweet_id': 707387676719185920, 'retweet_count': 1164, 'favorite_count': 3259}, {'tweet_id': 707377100785885184, 'retweet_count': 994, 'favorite_count': 3053}, {'tweet_id': 707315916783140866, 'retweet_count': 591, 'favorite_count': 2315}, {'tweet_id': 707297311098011648, 'retweet_count': 721, 'favorite_count': 2608}, {'tweet_id': 707059547140169728, 'retweet_count': 624, 'favorite_count': 2429}, {'tweet_id': 707038192327901184, 'retweet_count': 729, 'favorite_count': 2041}, {'tweet_id': 707021089608753152, 'retweet_count': 1247, 'favorite_count': 3798}, {'tweet_id': 707014260413456384, 'retweet_count': 551, 'favorite_count': 2144}, {'tweet_id': 706904523814649856, 'retweet_count': 7228, 'favorite_count': 13629}, {'tweet_id': 706901761596989440, 'retweet_count': 535, 'favorite_count': 1908}, {'tweet_id': 706681918348251136, 'retweet_count': 905, 'favorite_count': 3071}, {'tweet_id': 706644897839910912, 'retweet_count': 1003, 'favorite_count': 2385}, {'tweet_id': 706593038911545345, 'retweet_count': 590, 'favorite_count': 2018}, {'tweet_id': 706538006853918722, 'retweet_count': 1322, 'favorite_count': 3247}, {'tweet_id': 706516534877929472, 'retweet_count': 946, 'favorite_count': 2915}, {'tweet_id': 706346369204748288, 'retweet_count': 857, 'favorite_count': 3223}, {'tweet_id': 706310011488698368, 'retweet_count': 7253, 'favorite_count': 19825}, {'tweet_id': 706291001778950144, 'retweet_count': 443, 'favorite_count': 1592}, {'tweet_id': 706265994973601792, 'retweet_count': 861, 'favorite_count': 2558}, {'tweet_id': 706169069255446529, 'retweet_count': 2030, 'favorite_count': 3642}, {'tweet_id': 706166467411222528, 'retweet_count': 1479, 'favorite_count': 4792}, {'tweet_id': 706153300320784384, 'retweet_count': 350, 'favorite_count': 1382}, {'tweet_id': 705975130514706432, 'retweet_count': 672, 'favorite_count': 2898}, {'tweet_id': 705970349788291072, 'retweet_count': 816, 'favorite_count': 2976}, {'tweet_id': 705898680587526145, 'retweet_count': 508, 'favorite_count': 2219}, {'tweet_id': 705786532653883392, 'retweet_count': 474, 'favorite_count': 1819}, {'tweet_id': 705591895322394625, 'retweet_count': 1049, 'favorite_count': 2958}, {'tweet_id': 705475953783398401, 'retweet_count': 846, 'favorite_count': 2791}, {'tweet_id': 705442520700944385, 'retweet_count': 1484, 'favorite_count': 4119}, {'tweet_id': 705428427625635840, 'retweet_count': 1543, 'favorite_count': 3559}, {'tweet_id': 705239209544720384, 'retweet_count': 687, 'favorite_count': 2806}, {'tweet_id': 705223444686888960, 'retweet_count': 732, 'favorite_count': 2411}, {'tweet_id': 705102439679201280, 'retweet_count': 481, 'favorite_count': 2001}, {'tweet_id': 705066031337840642, 'retweet_count': 561, 'favorite_count': 2044}, {'tweet_id': 704871453724954624, 'retweet_count': 1033, 'favorite_count': 4014}, {'tweet_id': 704859558691414016, 'retweet_count': 486, 'favorite_count': 2105}, {'tweet_id': 704847917308362754, 'retweet_count': 1397, 'favorite_count': 4763}, {'tweet_id': 704819833553219584, 'retweet_count': 905, 'favorite_count': 2471}, {'tweet_id': 704761120771465216, 'retweet_count': 2687, 'favorite_count': 6219}, {'tweet_id': 704499785726889984, 'retweet_count': 921, 'favorite_count': 2701}, {'tweet_id': 704491224099647488, 'retweet_count': 72, 'favorite_count': 697}, {'tweet_id': 704480331685040129, 'retweet_count': 994, 'favorite_count': 3181}, {'tweet_id': 704364645503647744, 'retweet_count': 3278, 'favorite_count': 7439}, {'tweet_id': 704347321748819968, 'retweet_count': 320, 'favorite_count': 1468}, {'tweet_id': 704134088924532736, 'retweet_count': 416, 'favorite_count': 1405}, {'tweet_id': 704113298707505153, 'retweet_count': 527, 'favorite_count': 1737}, {'tweet_id': 704054845121142784, 'retweet_count': 851, 'favorite_count': 2735}, {'tweet_id': 703774238772166656, 'retweet_count': 410, 'favorite_count': 1735}, {'tweet_id': 703769065844768768, 'retweet_count': 1037, 'favorite_count': 3047}, {'tweet_id': 703631701117943808, 'retweet_count': 609, 'favorite_count': 2391}, {'tweet_id': 703611486317502464, 'retweet_count': 1400, 'favorite_count': 3599}, {'tweet_id': 703425003149250560, 'retweet_count': 1248, 'favorite_count': 3549}, {'tweet_id': 703407252292673536, 'retweet_count': 635, 'favorite_count': 2289}, {'tweet_id': 703382836347330562, 'retweet_count': 1048, 'favorite_count': 3269}, {'tweet_id': 703356393781329922, 'retweet_count': 355, 'favorite_count': 1791}, {'tweet_id': 703268521220972544, 'retweet_count': 500, 'favorite_count': 1848}, {'tweet_id': 703079050210877440, 'retweet_count': 2847, 'favorite_count': 6902}, {'tweet_id': 703041949650034688, 'retweet_count': 11474, 'favorite_count': 24662}, {'tweet_id': 702932127499816960, 'retweet_count': 664, 'favorite_count': 2401}, {'tweet_id': 702899151802126337, 'retweet_count': 417, 'favorite_count': 1503}, {'tweet_id': 702684942141153280, 'retweet_count': 977, 'favorite_count': 3024}, {'tweet_id': 702671118226825216, 'retweet_count': 515, 'favorite_count': 2042}, {'tweet_id': 702598099714314240, 'retweet_count': 3178, 'favorite_count': 11471}, {'tweet_id': 702539513671897089, 'retweet_count': 883, 'favorite_count': 2690}, {'tweet_id': 702332542343577600, 'retweet_count': 1410, 'favorite_count': 2971}, {'tweet_id': 702321140488925184, 'retweet_count': 967, 'favorite_count': 3072}, {'tweet_id': 702276748847800320, 'retweet_count': 708, 'favorite_count': 2312}, {'tweet_id': 702217446468493312, 'retweet_count': 1242, 'favorite_count': 4461}, {'tweet_id': 701981390485725185, 'retweet_count': 910, 'favorite_count': 3208}, {'tweet_id': 701952816642965504, 'retweet_count': 942, 'favorite_count': 3593}, {'tweet_id': 701889187134500865, 'retweet_count': 1277, 'favorite_count': 3305}, {'tweet_id': 701805642395348998, 'retweet_count': 1535, 'favorite_count': 3178}, {'tweet_id': 701601587219795968, 'retweet_count': 425, 'favorite_count': 1961}, {'tweet_id': 701570477911896070, 'retweet_count': 863, 'favorite_count': 2621}, {'tweet_id': 701545186879471618, 'retweet_count': 563, 'favorite_count': 2495}, {'tweet_id': 701214700881756160, 'retweet_count': 4709, 'favorite_count': 11427}, {'tweet_id': 700890391244103680, 'retweet_count': 519, 'favorite_count': 2071}, {'tweet_id': 700864154249383937, 'retweet_count': 574, 'favorite_count': 2436}, {'tweet_id': 700847567345688576, 'retweet_count': 456, 'favorite_count': 2312}, {'tweet_id': 700796979434098688, 'retweet_count': 872, 'favorite_count': 2280}, {'tweet_id': 700747788515020802, 'retweet_count': 8573, 'favorite_count': 21302}, {'tweet_id': 700518061187723268, 'retweet_count': 736, 'favorite_count': 2438}, {'tweet_id': 700505138482569216, 'retweet_count': 531, 'favorite_count': 2139}, {'tweet_id': 700462010979500032, 'retweet_count': 1645, 'favorite_count': 3833}, {'tweet_id': 700167517596164096, 'retweet_count': 668, 'favorite_count': 2468}, {'tweet_id': 700151421916807169, 'retweet_count': 620, 'favorite_count': 2086}, {'tweet_id': 700143752053182464, 'retweet_count': 2487, 'favorite_count': 7028}, {'tweet_id': 700062718104104960, 'retweet_count': 628, 'favorite_count': 2477}, {'tweet_id': 700029284593901568, 'retweet_count': 539, 'favorite_count': 1942}, {'tweet_id': 700002074055016451, 'retweet_count': 1227, 'favorite_count': 3072}, {'tweet_id': 699801817392291840, 'retweet_count': 871, 'favorite_count': 2809}, {'tweet_id': 699788877217865730, 'retweet_count': 476, 'favorite_count': 2095}, {'tweet_id': 699779630832685056, 'retweet_count': 1131, 'favorite_count': 2543}, {'tweet_id': 699775878809702401, 'retweet_count': 553, 'favorite_count': 1830}, {'tweet_id': 699691744225525762, 'retweet_count': 4231, 'favorite_count': 9600}, {'tweet_id': 699446877801091073, 'retweet_count': 2432, 'favorite_count': 5585}, {'tweet_id': 699434518667751424, 'retweet_count': 472, 'favorite_count': 2052}, {'tweet_id': 699423671849451520, 'retweet_count': 296, 'favorite_count': 1267}, {'tweet_id': 699413908797464576, 'retweet_count': 581, 'favorite_count': 1954}, {'tweet_id': 699370870310113280, 'retweet_count': 399, 'favorite_count': 1766}, {'tweet_id': 699323444782047232, 'retweet_count': 790, 'favorite_count': 2939}, {'tweet_id': 699088579889332224, 'retweet_count': 574, 'favorite_count': 2109}, {'tweet_id': 699079609774645248, 'retweet_count': 590, 'favorite_count': 2288}, {'tweet_id': 699072405256409088, 'retweet_count': 1094, 'favorite_count': 2764}, {'tweet_id': 699060279947165696, 'retweet_count': 1650, 'favorite_count': 3488}, {'tweet_id': 699036661657767936, 'retweet_count': 1114, 'favorite_count': 2432}, {'tweet_id': 698989035503689728, 'retweet_count': 887, 'favorite_count': 3119}, {'tweet_id': 698953797952008193, 'retweet_count': 843, 'favorite_count': 2518}, {'tweet_id': 698907974262222848, 'retweet_count': 565, 'favorite_count': 2370}, {'tweet_id': 698710712454139905, 'retweet_count': 630, 'favorite_count': 2300}, {'tweet_id': 698703483621523456, 'retweet_count': 344, 'favorite_count': 1343}, {'tweet_id': 698635131305795584, 'retweet_count': 320, 'favorite_count': 1211}, {'tweet_id': 698549713696649216, 'retweet_count': 572, 'favorite_count': 2175}, {'tweet_id': 698355670425473025, 'retweet_count': 407, 'favorite_count': 1722}, {'tweet_id': 698342080612007937, 'retweet_count': 885, 'favorite_count': 2109}, {'tweet_id': 698262614669991936, 'retweet_count': 1820, 'favorite_count': 4460}, {'tweet_id': 698195409219559425, 'retweet_count': 5524, 'favorite_count': 15730}, {'tweet_id': 698178924120031232, 'retweet_count': 687, 'favorite_count': 2629}, {'tweet_id': 697995514407682048, 'retweet_count': 310, 'favorite_count': 1429}, {'tweet_id': 697990423684476929, 'retweet_count': 1190, 'favorite_count': 3062}, {'tweet_id': 697943111201378304, 'retweet_count': 625, 'favorite_count': 2235}, {'tweet_id': 697881462549430272, 'retweet_count': 1071, 'favorite_count': 2821}, {'tweet_id': 697630435728322560, 'retweet_count': 502, 'favorite_count': 1621}, {'tweet_id': 697616773278015490, 'retweet_count': 934, 'favorite_count': 2917}, {'tweet_id': 697596423848730625, 'retweet_count': 1160, 'favorite_count': 2810}, {'tweet_id': 697575480820686848, 'retweet_count': 463, 'favorite_count': 1913}, {'tweet_id': 697516214579523584, 'retweet_count': 1016, 'favorite_count': 1906}, {'tweet_id': 697482927769255936, 'retweet_count': 616, 'favorite_count': 2266}, {'tweet_id': 697463031882764288, 'retweet_count': 1289, 'favorite_count': 3211}, {'tweet_id': 697270446429966336, 'retweet_count': 1736, 'favorite_count': 4405}, {'tweet_id': 697259378236399616, 'retweet_count': 918, 'favorite_count': 3082}, {'tweet_id': 697255105972801536, 'retweet_count': 1072, 'favorite_count': 2872}, {'tweet_id': 697242256848379904, 'retweet_count': 625, 'favorite_count': 2361}, {'tweet_id': 696900204696625153, 'retweet_count': 951, 'favorite_count': 2960}, {'tweet_id': 696894894812565505, 'retweet_count': 627, 'favorite_count': 2201}, {'tweet_id': 696886256886657024, 'retweet_count': 1644, 'favorite_count': 4510}, {'tweet_id': 696877980375769088, 'retweet_count': 653, 'favorite_count': 2289}, {'tweet_id': 696754882863349760, 'retweet_count': 330, 'favorite_count': 1384}, {'tweet_id': 696744641916489729, 'retweet_count': 850, 'favorite_count': 1923}, {'tweet_id': 696713835009417216, 'retweet_count': 594, 'favorite_count': 2207}, {'tweet_id': 696518437233913856, 'retweet_count': 1593, 'favorite_count': 3674}, {'tweet_id': 696490539101908992, 'retweet_count': 128, 'favorite_count': 1144}, {'tweet_id': 696488710901260288, 'retweet_count': 937, 'favorite_count': 2341}, {'tweet_id': 696405997980676096, 'retweet_count': 1066, 'favorite_count': 2978}, {'tweet_id': 696100768806522880, 'retweet_count': 594, 'favorite_count': 1805}, {'tweet_id': 695816827381944320, 'retweet_count': 1067, 'favorite_count': 2798}, {'tweet_id': 695794761660297217, 'retweet_count': 719, 'favorite_count': 2950}, {'tweet_id': 695767669421768709, 'retweet_count': 675, 'favorite_count': 1733}, {'tweet_id': 695629776980148225, 'retweet_count': 1925, 'favorite_count': 4261}, {'tweet_id': 695446424020918272, 'retweet_count': 1681, 'favorite_count': 4149}, {'tweet_id': 695409464418041856, 'retweet_count': 3305, 'favorite_count': 8113}, {'tweet_id': 695314793360662529, 'retweet_count': 1327, 'favorite_count': 3384}, {'tweet_id': 695095422348574720, 'retweet_count': 560, 'favorite_count': 2492}, {'tweet_id': 695074328191332352, 'retweet_count': 1011, 'favorite_count': 2646}, {'tweet_id': 695064344191721472, 'retweet_count': 535, 'favorite_count': 1499}, {'tweet_id': 695051054296211456, 'retweet_count': 731, 'favorite_count': 2469}, {'tweet_id': 694925794720792577, 'retweet_count': 838, 'favorite_count': 2532}, {'tweet_id': 694905863685980160, 'retweet_count': 856, 'favorite_count': 2572}, {'tweet_id': 694669722378485760, 'retweet_count': 13259, 'favorite_count': 33494}, {'tweet_id': 694356675654983680, 'retweet_count': 259, 'favorite_count': 1410}, {'tweet_id': 694352839993344000, 'retweet_count': 555, 'favorite_count': 1903}, {'tweet_id': 694342028726001664, 'retweet_count': 445, 'favorite_count': 1487}, {'tweet_id': 694329668942569472, 'retweet_count': 463, 'favorite_count': 1857}, {'tweet_id': 694206574471057408, 'retweet_count': 1880, 'favorite_count': 3873}, {'tweet_id': 694183373896572928, 'retweet_count': 856, 'favorite_count': 2756}, {'tweet_id': 694001791655137281, 'retweet_count': 939, 'favorite_count': 3187}, {'tweet_id': 693993230313091072, 'retweet_count': 370, 'favorite_count': 1763}, {'tweet_id': 693942351086120961, 'retweet_count': 335, 'favorite_count': 1643}, {'tweet_id': 693647888581312512, 'retweet_count': 530, 'favorite_count': 2516}, {'tweet_id': 693644216740769793, 'retweet_count': 116, 'favorite_count': 1278}, {'tweet_id': 693642232151285760, 'retweet_count': 382, 'favorite_count': 2389}, {'tweet_id': 693629975228977152, 'retweet_count': 735, 'favorite_count': 2294}, {'tweet_id': 693622659251335168, 'retweet_count': 343, 'favorite_count': 1441}, {'tweet_id': 693590843962331137, 'retweet_count': 1807, 'favorite_count': 4717}, {'tweet_id': 693582294167244802, 'retweet_count': 226, 'favorite_count': 1539}, {'tweet_id': 693486665285931008, 'retweet_count': 580, 'favorite_count': 1654}, {'tweet_id': 693280720173801472, 'retweet_count': 1141, 'favorite_count': 3130}, {'tweet_id': 693267061318012928, 'retweet_count': 743, 'favorite_count': 2222}, {'tweet_id': 693262851218264065, 'retweet_count': 460, 'favorite_count': 2068}, {'tweet_id': 693231807727280129, 'retweet_count': 686, 'favorite_count': 2700}, {'tweet_id': 693155686491000832, 'retweet_count': 2950, 'favorite_count': 7362}, {'tweet_id': 693109034023534592, 'retweet_count': 558, 'favorite_count': 1592}, {'tweet_id': 693095443459342336, 'retweet_count': 414, 'favorite_count': 1728}, {'tweet_id': 692919143163629568, 'retweet_count': 707, 'favorite_count': 2541}, {'tweet_id': 692905862751522816, 'retweet_count': 808, 'favorite_count': 2268}, {'tweet_id': 692901601640583168, 'retweet_count': 551, 'favorite_count': 1636}, {'tweet_id': 692894228850999298, 'retweet_count': 727, 'favorite_count': 2114}, {'tweet_id': 692828166163931137, 'retweet_count': 819, 'favorite_count': 2694}, {'tweet_id': 692752401762250755, 'retweet_count': 3359, 'favorite_count': 6376}, {'tweet_id': 692568918515392513, 'retweet_count': 1420, 'favorite_count': 4080}, {'tweet_id': 692535307825213440, 'retweet_count': 1254, 'favorite_count': 2946}, {'tweet_id': 692530551048294401, 'retweet_count': 377, 'favorite_count': 1729}, {'tweet_id': 692423280028966913, 'retweet_count': 201, 'favorite_count': 1390}, {'tweet_id': 692417313023332352, 'retweet_count': 3185, 'favorite_count': 8774}, {'tweet_id': 692187005137076224, 'retweet_count': 758, 'favorite_count': 2367}, {'tweet_id': 692158366030913536, 'retweet_count': 733, 'favorite_count': 2005}, {'tweet_id': 692142790915014657, 'retweet_count': 359, 'favorite_count': 1537}, {'tweet_id': 692041934689402880, 'retweet_count': 1156, 'favorite_count': 3168}, {'tweet_id': 692017291282812928, 'retweet_count': 885, 'favorite_count': 2714}, {'tweet_id': 691820333922455552, 'retweet_count': 1522, 'favorite_count': 3718}, {'tweet_id': 691793053716221953, 'retweet_count': 3897, 'favorite_count': 7586}, {'tweet_id': 691756958957883396, 'retweet_count': 905, 'favorite_count': 2647}, {'tweet_id': 691675652215414786, 'retweet_count': 467, 'favorite_count': 1824}, {'tweet_id': 691483041324204033, 'retweet_count': 513, 'favorite_count': 2233}, {'tweet_id': 691459709405118465, 'retweet_count': 1041, 'favorite_count': 3779}, {'tweet_id': 691444869282295808, 'retweet_count': 767, 'favorite_count': 2468}, {'tweet_id': 691416866452082688, 'retweet_count': 7028, 'favorite_count': 18092}, {'tweet_id': 691321916024623104, 'retweet_count': 610, 'favorite_count': 2418}, {'tweet_id': 691096613310316544, 'retweet_count': 814, 'favorite_count': 2794}, {'tweet_id': 691090071332753408, 'retweet_count': 312, 'favorite_count': 1625}, {'tweet_id': 690989312272396288, 'retweet_count': 2651, 'favorite_count': 5531}, {'tweet_id': 690959652130045952, 'retweet_count': 1131, 'favorite_count': 3354}, {'tweet_id': 690938899477221376, 'retweet_count': 1776, 'favorite_count': 3823}, {'tweet_id': 690932576555528194, 'retweet_count': 923, 'favorite_count': 3072}, {'tweet_id': 690735892932222976, 'retweet_count': 1170, 'favorite_count': 3541}, {'tweet_id': 690728923253055490, 'retweet_count': 475, 'favorite_count': 2030}, {'tweet_id': 690690673629138944, 'retweet_count': 763, 'favorite_count': 2182}, {'tweet_id': 690649993829576704, 'retweet_count': 252, 'favorite_count': 1218}, {'tweet_id': 690607260360429569, 'retweet_count': 15, 'favorite_count': 281}, {'tweet_id': 690597161306841088, 'retweet_count': 559, 'favorite_count': 1815}, {'tweet_id': 690400367696297985, 'retweet_count': 417, 'favorite_count': 1770}, {'tweet_id': 690374419777196032, 'retweet_count': 778, 'favorite_count': 3016}, {'tweet_id': 690360449368465409, 'retweet_count': 813, 'favorite_count': 2483}, {'tweet_id': 690348396616552449, 'retweet_count': 475, 'favorite_count': 1395}, {'tweet_id': 690248561355657216, 'retweet_count': 376, 'favorite_count': 1563}, {'tweet_id': 690021994562220032, 'retweet_count': 940, 'favorite_count': 2622}, {'tweet_id': 690015576308211712, 'retweet_count': 675, 'favorite_count': 2340}, {'tweet_id': 690005060500217858, 'retweet_count': 1559, 'favorite_count': 3426}, {'tweet_id': 689999384604450816, 'retweet_count': 334, 'favorite_count': 1327}, {'tweet_id': 689993469801164801, 'retweet_count': 418, 'favorite_count': 1366}, {'tweet_id': 689977555533848577, 'retweet_count': 416, 'favorite_count': 1283}, {'tweet_id': 689905486972461056, 'retweet_count': 634, 'favorite_count': 2290}, {'tweet_id': 689877686181715968, 'retweet_count': 1064, 'favorite_count': 2843}, {'tweet_id': 689835978131935233, 'retweet_count': 697, 'favorite_count': 2041}, {'tweet_id': 689661964914655233, 'retweet_count': 862, 'favorite_count': 3036}, {'tweet_id': 689659372465688576, 'retweet_count': 3541, 'favorite_count': 9672}, {'tweet_id': 689623661272240129, 'retweet_count': 589, 'favorite_count': 2070}, {'tweet_id': 689599056876867584, 'retweet_count': 5099, 'favorite_count': 10899}, {'tweet_id': 689557536375177216, 'retweet_count': 417, 'favorite_count': 1927}, {'tweet_id': 689517482558820352, 'retweet_count': 1318, 'favorite_count': 3182}, {'tweet_id': 689289219123089408, 'retweet_count': 862, 'favorite_count': 2102}, {'tweet_id': 689283819090870273, 'retweet_count': 1018, 'favorite_count': 3054}, {'tweet_id': 689280876073582592, 'retweet_count': 649, 'favorite_count': 1849}, {'tweet_id': 689275259254616065, 'retweet_count': 231, 'favorite_count': 1071}, {'tweet_id': 689255633275777024, 'retweet_count': 996, 'favorite_count': 2391}, {'tweet_id': 689154315265683456, 'retweet_count': 912, 'favorite_count': 2890}, {'tweet_id': 689143371370250240, 'retweet_count': 465, 'favorite_count': 1887}, {'tweet_id': 688916208532455424, 'retweet_count': 787, 'favorite_count': 2535}, {'tweet_id': 688908934925697024, 'retweet_count': 712, 'favorite_count': 1969}, {'tweet_id': 688898160958271489, 'retweet_count': 721, 'favorite_count': 1954}, {'tweet_id': 688894073864884227, 'retweet_count': 632, 'favorite_count': 2088}, {'tweet_id': 688828561667567616, 'retweet_count': 332, 'favorite_count': 1293}, {'tweet_id': 688804835492233216, 'retweet_count': 173, 'favorite_count': 902}, {'tweet_id': 688789766343622656, 'retweet_count': 611, 'favorite_count': 2085}, {'tweet_id': 688547210804498433, 'retweet_count': 641, 'favorite_count': 2434}, {'tweet_id': 688519176466644993, 'retweet_count': 672, 'favorite_count': 2183}, {'tweet_id': 688385280030670848, 'retweet_count': 4134, 'favorite_count': 8679}, {'tweet_id': 688211956440801280, 'retweet_count': 773, 'favorite_count': 2108}, {'tweet_id': 688179443353796608, 'retweet_count': 539, 'favorite_count': 2001}, {'tweet_id': 688116655151435777, 'retweet_count': 708, 'favorite_count': 2649}, {'tweet_id': 688064179421470721, 'retweet_count': 329, 'favorite_count': 1623}, {'tweet_id': 687841446767013888, 'retweet_count': 2287, 'favorite_count': 5092}, {'tweet_id': 687826841265172480, 'retweet_count': 1031, 'favorite_count': 2555}, {'tweet_id': 687818504314159109, 'retweet_count': 879, 'favorite_count': 2312}, {'tweet_id': 687807801670897665, 'retweet_count': 666, 'favorite_count': 2226}, {'tweet_id': 687732144991551489, 'retweet_count': 610, 'favorite_count': 1646}, {'tweet_id': 687704180304273409, 'retweet_count': 775, 'favorite_count': 2270}, {'tweet_id': 687664829264453632, 'retweet_count': 476, 'favorite_count': 1820}, {'tweet_id': 687494652870668288, 'retweet_count': 533, 'favorite_count': 1778}, {'tweet_id': 687480748861947905, 'retweet_count': 222, 'favorite_count': 1498}, {'tweet_id': 687476254459715584, 'retweet_count': 490, 'favorite_count': 1848}, {'tweet_id': 687460506001633280, 'retweet_count': 498, 'favorite_count': 1927}, {'tweet_id': 687399393394311168, 'retweet_count': 567, 'favorite_count': 1775}, {'tweet_id': 687317306314240000, 'retweet_count': 8472, 'favorite_count': 18894}, {'tweet_id': 687312378585812992, 'retweet_count': 1761, 'favorite_count': 4074}, {'tweet_id': 687127927494963200, 'retweet_count': 2083, 'favorite_count': 5042}, {'tweet_id': 687124485711986689, 'retweet_count': 467, 'favorite_count': 2040}, {'tweet_id': 687109925361856513, 'retweet_count': 2275, 'favorite_count': 5429}, {'tweet_id': 687102708889812993, 'retweet_count': 887, 'favorite_count': 2187}, {'tweet_id': 687096057537363968, 'retweet_count': 558, 'favorite_count': 2101}, {'tweet_id': 686947101016735744, 'retweet_count': 2952, 'favorite_count': 8088}, {'tweet_id': 686760001961103360, 'retweet_count': 1277, 'favorite_count': 3279}, {'tweet_id': 686749460672679938, 'retweet_count': 1334, 'favorite_count': 3241}, {'tweet_id': 686730991906516992, 'retweet_count': 1107, 'favorite_count': 3859}, {'tweet_id': 686683045143953408, 'retweet_count': 743, 'favorite_count': 2638}, {'tweet_id': 686618349602762752, 'retweet_count': 1258, 'favorite_count': 3456}, {'tweet_id': 686606069955735556, 'retweet_count': 501, 'favorite_count': 1773}, {'tweet_id': 686394059078897668, 'retweet_count': 640, 'favorite_count': 1622}, {'tweet_id': 686386521809772549, 'retweet_count': 806, 'favorite_count': 3041}, {'tweet_id': 686377065986265092, 'retweet_count': 520, 'favorite_count': 2073}, {'tweet_id': 686358356425093120, 'retweet_count': 609, 'favorite_count': 2021}, {'tweet_id': 686286779679375361, 'retweet_count': 1550, 'favorite_count': 3768}, {'tweet_id': 686050296934563840, 'retweet_count': 674, 'favorite_count': 2088}, {'tweet_id': 686035780142297088, 'retweet_count': 108, 'favorite_count': 1072}, {'tweet_id': 686034024800862208, 'retweet_count': 1054, 'favorite_count': 2881}, {'tweet_id': 686007916130873345, 'retweet_count': 370, 'favorite_count': 2313}, {'tweet_id': 686003207160610816, 'retweet_count': 568, 'favorite_count': 1699}, {'tweet_id': 685973236358713344, 'retweet_count': 480, 'favorite_count': 1957}, {'tweet_id': 685943807276412928, 'retweet_count': 543, 'favorite_count': 1520}, {'tweet_id': 685906723014619143, 'retweet_count': 2629, 'favorite_count': 6987}, {'tweet_id': 685681090388975616, 'retweet_count': 114, 'favorite_count': 1913}, {'tweet_id': 685667379192414208, 'retweet_count': 513, 'favorite_count': 2206}, {'tweet_id': 685663452032069632, 'retweet_count': 1352, 'favorite_count': 3005}, {'tweet_id': 685641971164143616, 'retweet_count': 705, 'favorite_count': 2721}, {'tweet_id': 685547936038666240, 'retweet_count': 14321, 'favorite_count': 30757}, {'tweet_id': 685532292383666176, 'retweet_count': 1057, 'favorite_count': 2841}, {'tweet_id': 685325112850124800, 'retweet_count': 3628, 'favorite_count': 8788}, {'tweet_id': 685321586178670592, 'retweet_count': 589, 'favorite_count': 2482}, {'tweet_id': 685315239903100929, 'retweet_count': 956, 'favorite_count': 3073}, {'tweet_id': 685307451701334016, 'retweet_count': 403, 'favorite_count': 1949}, {'tweet_id': 685268753634967552, 'retweet_count': 1094, 'favorite_count': 2891}, {'tweet_id': 685198997565345792, 'retweet_count': 601, 'favorite_count': 2170}, {'tweet_id': 685169283572338688, 'retweet_count': 1300, 'favorite_count': 3832}, {'tweet_id': 684969860808454144, 'retweet_count': 333, 'favorite_count': 2236}, {'tweet_id': 684959798585110529, 'retweet_count': 2861, 'favorite_count': 6363}, {'tweet_id': 684940049151070208, 'retweet_count': 954, 'favorite_count': 2988}, {'tweet_id': 684926975086034944, 'retweet_count': 425, 'favorite_count': 3264}, {'tweet_id': 684914660081053696, 'retweet_count': 1343, 'favorite_count': 3268}, {'tweet_id': 684902183876321280, 'retweet_count': 479, 'favorite_count': 1738}, {'tweet_id': 684880619965411328, 'retweet_count': 738, 'favorite_count': 1946}, {'tweet_id': 684830982659280897, 'retweet_count': 19985, 'favorite_count': 32756}, {'tweet_id': 684800227459624960, 'retweet_count': 916, 'favorite_count': 2544}, {'tweet_id': 684594889858887680, 'retweet_count': 3229, 'favorite_count': 8307}, {'tweet_id': 684588130326986752, 'retweet_count': 1299, 'favorite_count': 3851}, {'tweet_id': 684567543613382656, 'retweet_count': 1119, 'favorite_count': 2795}, {'tweet_id': 684538444857667585, 'retweet_count': 871, 'favorite_count': 2465}, {'tweet_id': 684481074559381504, 'retweet_count': 1089, 'favorite_count': 3621}, {'tweet_id': 684460069371654144, 'retweet_count': 510, 'favorite_count': 1846}, {'tweet_id': 684241637099323392, 'retweet_count': 2991, 'favorite_count': 7578}, {'tweet_id': 684225744407494656, 'retweet_count': 187, 'favorite_count': 1165}, {'tweet_id': 684222868335505415, 'retweet_count': 1258, 'favorite_count': 3571}, {'tweet_id': 684200372118904832, 'retweet_count': 959, 'favorite_count': 2009}, {'tweet_id': 684195085588783105, 'retweet_count': 463, 'favorite_count': 1778}, {'tweet_id': 684188786104872960, 'retweet_count': 1070, 'favorite_count': 3274}, {'tweet_id': 684177701129875456, 'retweet_count': 600, 'favorite_count': 1884}, {'tweet_id': 684147889187209216, 'retweet_count': 1395, 'favorite_count': 2793}, {'tweet_id': 684122891630342144, 'retweet_count': 430, 'favorite_count': 1877}, {'tweet_id': 684097758874210310, 'retweet_count': 1319, 'favorite_count': 3837}, {'tweet_id': 683857920510050305, 'retweet_count': 1035, 'favorite_count': 3560}, {'tweet_id': 683852578183077888, 'retweet_count': 322, 'favorite_count': 1809}, {'tweet_id': 683849932751646720, 'retweet_count': 869, 'favorite_count': 2444}, {'tweet_id': 683834909291606017, 'retweet_count': 1037, 'favorite_count': 2452}, {'tweet_id': 683828599284170753, 'retweet_count': 977, 'favorite_count': 2615}, {'tweet_id': 683773439333797890, 'retweet_count': 1236, 'favorite_count': 3110}, {'tweet_id': 683742671509258241, 'retweet_count': 3056, 'favorite_count': 6042}, {'tweet_id': 683515932363329536, 'retweet_count': 2656, 'favorite_count': 6872}, {'tweet_id': 683498322573824003, 'retweet_count': 889, 'favorite_count': 2973}, {'tweet_id': 683481228088049664, 'retweet_count': 916, 'favorite_count': 2488}, {'tweet_id': 683462770029932544, 'retweet_count': 628, 'favorite_count': 2273}, {'tweet_id': 683449695444799489, 'retweet_count': 1475, 'favorite_count': 3624}, {'tweet_id': 683391852557561860, 'retweet_count': 2204, 'favorite_count': 7144}, {'tweet_id': 683357973142474752, 'retweet_count': 835, 'favorite_count': 2709}, {'tweet_id': 683142553609318400, 'retweet_count': 955, 'favorite_count': 2676}, {'tweet_id': 683111407806746624, 'retweet_count': 830, 'favorite_count': 3182}, {'tweet_id': 683098815881154561, 'retweet_count': 597, 'favorite_count': 2027}, {'tweet_id': 683078886620553216, 'retweet_count': 524, 'favorite_count': 1878}, {'tweet_id': 683030066213818368, 'retweet_count': 682, 'favorite_count': 2020}, {'tweet_id': 682962037429899265, 'retweet_count': 15075, 'favorite_count': 34240}, {'tweet_id': 682808988178739200, 'retweet_count': 156, 'favorite_count': 1645}, {'tweet_id': 682788441537560576, 'retweet_count': 1029, 'favorite_count': 2314}, {'tweet_id': 682750546109968385, 'retweet_count': 403, 'favorite_count': 1416}, {'tweet_id': 682697186228989953, 'retweet_count': 338, 'favorite_count': 1232}, {'tweet_id': 682662431982772225, 'retweet_count': 1002, 'favorite_count': 2852}, {'tweet_id': 682638830361513985, 'retweet_count': 540, 'favorite_count': 1926}, {'tweet_id': 682429480204398592, 'retweet_count': 1061, 'favorite_count': 3217}, {'tweet_id': 682406705142087680, 'retweet_count': 1611, 'favorite_count': 7066}, {'tweet_id': 682393905736888321, 'retweet_count': 611, 'favorite_count': 2099}, {'tweet_id': 682389078323662849, 'retweet_count': 435, 'favorite_count': 1567}, {'tweet_id': 682303737705140231, 'retweet_count': 896, 'favorite_count': 2861}, {'tweet_id': 682259524040966145, 'retweet_count': 1098, 'favorite_count': 3860}, {'tweet_id': 682242692827447297, 'retweet_count': 1058, 'favorite_count': 3010}, {'tweet_id': 682088079302213632, 'retweet_count': 9014, 'favorite_count': 16988}, {'tweet_id': 682059653698686977, 'retweet_count': 1556, 'favorite_count': 4597}, {'tweet_id': 682047327939461121, 'retweet_count': 859, 'favorite_count': 2985}, {'tweet_id': 682032003584274432, 'retweet_count': 1832, 'favorite_count': 6138}, {'tweet_id': 682003177596559360, 'retweet_count': 1386, 'favorite_count': 2899}, {'tweet_id': 681981167097122816, 'retweet_count': 939, 'favorite_count': 2625}, {'tweet_id': 681891461017812993, 'retweet_count': 758, 'favorite_count': 2299}, {'tweet_id': 681694085539872773, 'retweet_count': 3749, 'favorite_count': 11977}, {'tweet_id': 681679526984871937, 'retweet_count': 405, 'favorite_count': 1653}, {'tweet_id': 681654059175129088, 'retweet_count': 832, 'favorite_count': 2452}, {'tweet_id': 681610798867845120, 'retweet_count': 429, 'favorite_count': 1757}, {'tweet_id': 681579835668455424, 'retweet_count': 1196, 'favorite_count': 3296}, {'tweet_id': 681523177663676416, 'retweet_count': 5285, 'favorite_count': 13324}, {'tweet_id': 681340665377193984, 'retweet_count': 246, 'favorite_count': 1536}, {'tweet_id': 681339448655802368, 'retweet_count': 3748, 'favorite_count': 8664}, {'tweet_id': 681320187870711809, 'retweet_count': 679, 'favorite_count': 2446}, {'tweet_id': 681302363064414209, 'retweet_count': 1656, 'favorite_count': 3656}, {'tweet_id': 681297372102656000, 'retweet_count': 874, 'favorite_count': 3002}, {'tweet_id': 681281657291280384, 'retweet_count': 1013, 'favorite_count': 3010}, {'tweet_id': 681261549936340994, 'retweet_count': 242, 'favorite_count': 1342}, {'tweet_id': 681242418453299201, 'retweet_count': 481, 'favorite_count': 1382}, {'tweet_id': 681231109724700672, 'retweet_count': 452, 'favorite_count': 2255}, {'tweet_id': 681193455364796417, 'retweet_count': 1362, 'favorite_count': 3458}, {'tweet_id': 680970795137544192, 'retweet_count': 596, 'favorite_count': 2235}, {'tweet_id': 680959110691590145, 'retweet_count': 1841, 'favorite_count': 4271}, {'tweet_id': 680940246314430465, 'retweet_count': 950, 'favorite_count': 2964}, {'tweet_id': 680934982542561280, 'retweet_count': 403, 'favorite_count': 1946}, {'tweet_id': 680913438424612864, 'retweet_count': 571, 'favorite_count': 2245}, {'tweet_id': 680889648562991104, 'retweet_count': 332, 'favorite_count': 1637}, {'tweet_id': 680836378243002368, 'retweet_count': 1207, 'favorite_count': 3221}, {'tweet_id': 680805554198020098, 'retweet_count': 617, 'favorite_count': 2011}, {'tweet_id': 680801747103793152, 'retweet_count': 755, 'favorite_count': 2219}, {'tweet_id': 680798457301471234, 'retweet_count': 949, 'favorite_count': 2639}, {'tweet_id': 680609293079592961, 'retweet_count': 643, 'favorite_count': 2447}, {'tweet_id': 680583894916304897, 'retweet_count': 1210, 'favorite_count': 3359}, {'tweet_id': 680497766108381184, 'retweet_count': 1763, 'favorite_count': 3944}, {'tweet_id': 680494726643068929, 'retweet_count': 448, 'favorite_count': 1593}, {'tweet_id': 680473011644985345, 'retweet_count': 691, 'favorite_count': 2371}, {'tweet_id': 680440374763077632, 'retweet_count': 454, 'favorite_count': 1347}, {'tweet_id': 680221482581123072, 'retweet_count': 271, 'favorite_count': 1380}, {'tweet_id': 680206703334408192, 'retweet_count': 1070, 'favorite_count': 2629}, {'tweet_id': 680191257256136705, 'retweet_count': 455, 'favorite_count': 2003}, {'tweet_id': 680176173301628928, 'retweet_count': 1418, 'favorite_count': 3599}, {'tweet_id': 680161097740095489, 'retweet_count': 680, 'favorite_count': 2171}, {'tweet_id': 680145970311643136, 'retweet_count': 1589, 'favorite_count': 3372}, {'tweet_id': 680130881361686529, 'retweet_count': 868, 'favorite_count': 2131}, {'tweet_id': 680115823365742593, 'retweet_count': 841, 'favorite_count': 2529}, {'tweet_id': 680100725817409536, 'retweet_count': 1269, 'favorite_count': 3348}, {'tweet_id': 680085611152338944, 'retweet_count': 8267, 'favorite_count': 11897}, {'tweet_id': 680070545539371008, 'retweet_count': 790, 'favorite_count': 2417}, {'tweet_id': 679877062409191424, 'retweet_count': 593, 'favorite_count': 1829}, {'tweet_id': 679872969355714560, 'retweet_count': 605, 'favorite_count': 2042}, {'tweet_id': 679862121895714818, 'retweet_count': 565, 'favorite_count': 2290}, {'tweet_id': 679854723806179328, 'retweet_count': 1123, 'favorite_count': 2645}, {'tweet_id': 679844490799091713, 'retweet_count': 697, 'favorite_count': 2212}, {'tweet_id': 679828447187857408, 'retweet_count': 12790, 'favorite_count': 33592}, {'tweet_id': 679777920601223168, 'retweet_count': 1009, 'favorite_count': 2886}, {'tweet_id': 679736210798047232, 'retweet_count': 729, 'favorite_count': 1944}, {'tweet_id': 679729593985699840, 'retweet_count': 763, 'favorite_count': 2015}, {'tweet_id': 679722016581222400, 'retweet_count': 431, 'favorite_count': 1553}, {'tweet_id': 679530280114372609, 'retweet_count': 1912, 'favorite_count': 4431}, {'tweet_id': 679527802031484928, 'retweet_count': 660, 'favorite_count': 2455}, {'tweet_id': 679511351870550016, 'retweet_count': 1160, 'favorite_count': 3114}, {'tweet_id': 679503373272485890, 'retweet_count': 1352, 'favorite_count': 2948}, {'tweet_id': 679475951516934144, 'retweet_count': 592, 'favorite_count': 1943}, {'tweet_id': 679462823135686656, 'retweet_count': 17170, 'favorite_count': 29222}, {'tweet_id': 679405845277462528, 'retweet_count': 1086, 'favorite_count': 2202}, {'tweet_id': 679158373988876288, 'retweet_count': 7340, 'favorite_count': 19650}, {'tweet_id': 679148763231985668, 'retweet_count': 949, 'favorite_count': 2584}, {'tweet_id': 679132435750195208, 'retweet_count': 1050, 'favorite_count': 2745}, {'tweet_id': 679111216690831360, 'retweet_count': 2352, 'favorite_count': 5496}, {'tweet_id': 679062614270468097, 'retweet_count': 7308, 'favorite_count': 15670}, {'tweet_id': 679047485189439488, 'retweet_count': 597, 'favorite_count': 2075}, {'tweet_id': 679001094530465792, 'retweet_count': 1112, 'favorite_count': 2634}, {'tweet_id': 678991772295516161, 'retweet_count': 1037, 'favorite_count': 2101}, {'tweet_id': 678969228704284672, 'retweet_count': 417, 'favorite_count': 1520}, {'tweet_id': 678800283649069056, 'retweet_count': 829, 'favorite_count': 2379}, {'tweet_id': 678798276842360832, 'retweet_count': 1048, 'favorite_count': 3190}, {'tweet_id': 678774928607469569, 'retweet_count': 831, 'favorite_count': 2601}, {'tweet_id': 678767140346941444, 'retweet_count': 1248, 'favorite_count': 3262}, {'tweet_id': 678764513869611008, 'retweet_count': 427, 'favorite_count': 1500}, {'tweet_id': 678755239630127104, 'retweet_count': 2968, 'favorite_count': 6568}, {'tweet_id': 678740035362037760, 'retweet_count': 1510, 'favorite_count': 3442}, {'tweet_id': 678708137298427904, 'retweet_count': 2223, 'favorite_count': 5204}, {'tweet_id': 678675843183484930, 'retweet_count': 1331, 'favorite_count': 2636}, {'tweet_id': 678643457146150913, 'retweet_count': 364, 'favorite_count': 1898}, {'tweet_id': 678446151570427904, 'retweet_count': 1387, 'favorite_count': 3700}, {'tweet_id': 678424312106393600, 'retweet_count': 2317, 'favorite_count': 5047}, {'tweet_id': 678410210315247616, 'retweet_count': 1633, 'favorite_count': 3879}, {'tweet_id': 678399652199309312, 'retweet_count': 28979, 'favorite_count': 74408}, {'tweet_id': 678396796259975168, 'retweet_count': 381, 'favorite_count': 1474}, {'tweet_id': 678389028614488064, 'retweet_count': 385, 'favorite_count': 1725}, {'tweet_id': 678380236862578688, 'retweet_count': 832, 'favorite_count': 2270}, {'tweet_id': 678341075375947776, 'retweet_count': 480, 'favorite_count': 1594}, {'tweet_id': 678334497360859136, 'retweet_count': 228, 'favorite_count': 1191}, {'tweet_id': 678278586130948096, 'retweet_count': 5567, 'favorite_count': 10544}, {'tweet_id': 678255464182861824, 'retweet_count': 337, 'favorite_count': 1471}, {'tweet_id': 678023323247357953, 'retweet_count': 346, 'favorite_count': 1767}, {'tweet_id': 678021115718029313, 'retweet_count': 5717, 'favorite_count': 12532}, {'tweet_id': 677961670166224897, 'retweet_count': 1546, 'favorite_count': 3165}, {'tweet_id': 677918531514703872, 'retweet_count': 373, 'favorite_count': 1235}, {'tweet_id': 677895101218201600, 'retweet_count': 1873, 'favorite_count': 4439}, {'tweet_id': 677716515794329600, 'retweet_count': 894, 'favorite_count': 2812}, {'tweet_id': 677700003327029250, 'retweet_count': 1310, 'favorite_count': 3143}, {'tweet_id': 677698403548192770, 'retweet_count': 293, 'favorite_count': 1131}, {'tweet_id': 677687604918272002, 'retweet_count': 766, 'favorite_count': 2294}, {'tweet_id': 677673981332312066, 'retweet_count': 1369, 'favorite_count': 3069}, {'tweet_id': 677662372920729601, 'retweet_count': 859, 'favorite_count': 1796}, {'tweet_id': 677644091929329666, 'retweet_count': 738, 'favorite_count': 1724}, {'tweet_id': 677573743309385728, 'retweet_count': 619, 'favorite_count': 1957}, {'tweet_id': 677565715327688705, 'retweet_count': 418, 'favorite_count': 1208}, {'tweet_id': 677557565589463040, 'retweet_count': 1036, 'favorite_count': 2261}, {'tweet_id': 677547928504967168, 'retweet_count': 3346, 'favorite_count': 6393}, {'tweet_id': 677530072887205888, 'retweet_count': 206, 'favorite_count': 981}, {'tweet_id': 677335745548390400, 'retweet_count': 1572, 'favorite_count': 2792}, {'tweet_id': 677334615166730240, 'retweet_count': 255, 'favorite_count': 1244}, {'tweet_id': 677331501395156992, 'retweet_count': 212, 'favorite_count': 998}, {'tweet_id': 677328882937298944, 'retweet_count': 1367, 'favorite_count': 3380}, {'tweet_id': 677314812125323265, 'retweet_count': 476, 'favorite_count': 1520}, {'tweet_id': 677301033169788928, 'retweet_count': 358, 'favorite_count': 1127}, {'tweet_id': 677269281705472000, 'retweet_count': 643, 'favorite_count': 1819}, {'tweet_id': 677228873407442944, 'retweet_count': 1485, 'favorite_count': 3252}, {'tweet_id': 677187300187611136, 'retweet_count': 825, 'favorite_count': 2516}, {'tweet_id': 676975532580409345, 'retweet_count': 965, 'favorite_count': 2560}, {'tweet_id': 676957860086095872, 'retweet_count': 731, 'favorite_count': 2061}, {'tweet_id': 676949632774234114, 'retweet_count': 356, 'favorite_count': 1200}, {'tweet_id': 676948236477857792, 'retweet_count': 785, 'favorite_count': 1985}, {'tweet_id': 676946864479084545, 'retweet_count': 332, 'favorite_count': 1595}, {'tweet_id': 676942428000112642, 'retweet_count': 677, 'favorite_count': 1901}, {'tweet_id': 676936541936185344, 'retweet_count': 4494, 'favorite_count': 11771}, {'tweet_id': 676916996760600576, 'retweet_count': 1643, 'favorite_count': 2726}, {'tweet_id': 676897532954456065, 'retweet_count': 656, 'favorite_count': 2072}, {'tweet_id': 676864501615042560, 'retweet_count': 640, 'favorite_count': 1921}, {'tweet_id': 676821958043033607, 'retweet_count': 14005, 'favorite_count': 20984}, {'tweet_id': 676819651066732545, 'retweet_count': 604, 'favorite_count': 1675}, {'tweet_id': 676811746707918848, 'retweet_count': 389, 'favorite_count': 1323}, {'tweet_id': 676776431406465024, 'retweet_count': 1823, 'favorite_count': 4579}, {'tweet_id': 676617503762681856, 'retweet_count': 867, 'favorite_count': 2649}, {'tweet_id': 676613908052996102, 'retweet_count': 182, 'favorite_count': 1002}, {'tweet_id': 676606785097199616, 'retweet_count': 393, 'favorite_count': 1744}, {'tweet_id': 676603393314578432, 'retweet_count': 346, 'favorite_count': 1061}, {'tweet_id': 676593408224403456, 'retweet_count': 1933, 'favorite_count': 4194}, {'tweet_id': 676590572941893632, 'retweet_count': 112, 'favorite_count': 849}, {'tweet_id': 676588346097852417, 'retweet_count': 709, 'favorite_count': 2105}, {'tweet_id': 676582956622721024, 'retweet_count': 252, 'favorite_count': 1091}, {'tweet_id': 676575501977128964, 'retweet_count': 1007, 'favorite_count': 2361}, {'tweet_id': 676533798876651520, 'retweet_count': 498, 'favorite_count': 1719}, {'tweet_id': 676496375194980353, 'retweet_count': 474, 'favorite_count': 1394}, {'tweet_id': 676470639084101634, 'retweet_count': 4236, 'favorite_count': 10722}, {'tweet_id': 676440007570247681, 'retweet_count': 602, 'favorite_count': 1588}, {'tweet_id': 676430933382295552, 'retweet_count': 307, 'favorite_count': 1282}, {'tweet_id': 676263575653122048, 'retweet_count': 489, 'favorite_count': 1912}, {'tweet_id': 676237365392908289, 'retweet_count': 254, 'favorite_count': 1104}, {'tweet_id': 676219687039057920, 'retweet_count': 28012, 'favorite_count': 70372}, {'tweet_id': 676215927814406144, 'retweet_count': 521, 'favorite_count': 1593}, {'tweet_id': 676191832485810177, 'retweet_count': 933, 'favorite_count': 2080}, {'tweet_id': 676146341966438401, 'retweet_count': 602, 'favorite_count': 1774}, {'tweet_id': 676121918416756736, 'retweet_count': 1044, 'favorite_count': 1980}, {'tweet_id': 676101918813499392, 'retweet_count': 1061, 'favorite_count': 2609}, {'tweet_id': 676098748976615425, 'retweet_count': 1264, 'favorite_count': 2714}, {'tweet_id': 676089483918516224, 'retweet_count': 397, 'favorite_count': 1201}, {'tweet_id': 675898130735476737, 'retweet_count': 514, 'favorite_count': 1471}, {'tweet_id': 675891555769696257, 'retweet_count': 773, 'favorite_count': 1949}, {'tweet_id': 675888385639251968, 'retweet_count': 852, 'favorite_count': 2153}, {'tweet_id': 675878199931371520, 'retweet_count': 1262, 'favorite_count': 3817}, {'tweet_id': 675870721063669760, 'retweet_count': 510, 'favorite_count': 1489}, {'tweet_id': 675853064436391936, 'retweet_count': 1156, 'favorite_count': 2461}, {'tweet_id': 675849018447167488, 'retweet_count': 125, 'favorite_count': 872}, {'tweet_id': 675845657354215424, 'retweet_count': 789, 'favorite_count': 2078}, {'tweet_id': 675822767435051008, 'retweet_count': 483, 'favorite_count': 1398}, {'tweet_id': 675820929667219457, 'retweet_count': 214, 'favorite_count': 969}, {'tweet_id': 675798442703122432, 'retweet_count': 3101, 'favorite_count': 9443}, {'tweet_id': 675781562965868544, 'retweet_count': 424, 'favorite_count': 1477}, {'tweet_id': 675740360753160193, 'retweet_count': 301, 'favorite_count': 1079}, {'tweet_id': 675710890956750848, 'retweet_count': 731, 'favorite_count': 1712}, {'tweet_id': 675707330206547968, 'retweet_count': 615, 'favorite_count': 1803}, {'tweet_id': 675706639471788032, 'retweet_count': 86, 'favorite_count': 593}, {'tweet_id': 675534494439489536, 'retweet_count': 369, 'favorite_count': 1679}, {'tweet_id': 675531475945709568, 'retweet_count': 340, 'favorite_count': 1084}, {'tweet_id': 675522403582218240, 'retweet_count': 253, 'favorite_count': 952}, {'tweet_id': 675517828909424640, 'retweet_count': 414, 'favorite_count': 1169}, {'tweet_id': 675501075957489664, 'retweet_count': 5294, 'favorite_count': 15741}, {'tweet_id': 675497103322386432, 'retweet_count': 1162, 'favorite_count': 2858}, {'tweet_id': 675489971617296384, 'retweet_count': 534, 'favorite_count': 1167}, {'tweet_id': 675483430902214656, 'retweet_count': 870, 'favorite_count': 1681}, {'tweet_id': 675432746517426176, 'retweet_count': 512, 'favorite_count': 1380}, {'tweet_id': 675372240448454658, 'retweet_count': 464, 'favorite_count': 1544}, {'tweet_id': 675362609739206656, 'retweet_count': 199, 'favorite_count': 959}, {'tweet_id': 675354435921575936, 'retweet_count': 15052, 'favorite_count': 29762}, {'tweet_id': 675349384339542016, 'retweet_count': 2034, 'favorite_count': 3581}, {'tweet_id': 675334060156301312, 'retweet_count': 1148, 'favorite_count': 2513}, {'tweet_id': 675166823650848770, 'retweet_count': 1398, 'favorite_count': 3215}, {'tweet_id': 675153376133427200, 'retweet_count': 2293, 'favorite_count': 5672}, {'tweet_id': 675149409102012420, 'retweet_count': 1525, 'favorite_count': 3401}, {'tweet_id': 675147105808306176, 'retweet_count': 203, 'favorite_count': 850}, {'tweet_id': 675146535592706048, 'retweet_count': 259, 'favorite_count': 1072}, {'tweet_id': 675145476954566656, 'retweet_count': 796, 'favorite_count': 1932}, {'tweet_id': 675135153782571009, 'retweet_count': 419, 'favorite_count': 1178}, {'tweet_id': 675113801096802304, 'retweet_count': 697, 'favorite_count': 1756}, {'tweet_id': 675111688094527488, 'retweet_count': 218, 'favorite_count': 873}, {'tweet_id': 675109292475830276, 'retweet_count': 1010, 'favorite_count': 2547}, {'tweet_id': 675047298674663426, 'retweet_count': 279, 'favorite_count': 943}, {'tweet_id': 675015141583413248, 'retweet_count': 1057, 'favorite_count': 2456}, {'tweet_id': 675006312288268288, 'retweet_count': 204, 'favorite_count': 886}, {'tweet_id': 675003128568291329, 'retweet_count': 414, 'favorite_count': 1408}, {'tweet_id': 674999807681908736, 'retweet_count': 971, 'favorite_count': 2020}, {'tweet_id': 674805413498527744, 'retweet_count': 321, 'favorite_count': 777}, {'tweet_id': 674800520222154752, 'retweet_count': 764, 'favorite_count': 2735}, {'tweet_id': 674793399141146624, 'retweet_count': 970, 'favorite_count': 2258}, {'tweet_id': 674790488185167872, 'retweet_count': 220, 'favorite_count': 1003}, {'tweet_id': 674788554665512960, 'retweet_count': 184, 'favorite_count': 730}, {'tweet_id': 674781762103414784, 'retweet_count': 1066, 'favorite_count': 1824}, {'tweet_id': 674774481756377088, 'retweet_count': 418, 'favorite_count': 1001}, {'tweet_id': 674767892831932416, 'retweet_count': 700, 'favorite_count': 1650}, {'tweet_id': 674764817387900928, 'retweet_count': 204, 'favorite_count': 708}, {'tweet_id': 674754018082705410, 'retweet_count': 391, 'favorite_count': 1236}, {'tweet_id': 674752233200820224, 'retweet_count': 409, 'favorite_count': 1321}, {'tweet_id': 674743008475090944, 'retweet_count': 477, 'favorite_count': 1269}, {'tweet_id': 674742531037511680, 'retweet_count': 46, 'favorite_count': 434}, {'tweet_id': 674739953134403584, 'retweet_count': 333, 'favorite_count': 983}, {'tweet_id': 674737130913071104, 'retweet_count': 81, 'favorite_count': 588}, {'tweet_id': 674690135443775488, 'retweet_count': 416, 'favorite_count': 1039}, {'tweet_id': 674670581682434048, 'retweet_count': 581, 'favorite_count': 1466}, {'tweet_id': 674664755118911488, 'retweet_count': 209, 'favorite_count': 823}, {'tweet_id': 674646392044941312, 'retweet_count': 433, 'favorite_count': 1299}, {'tweet_id': 674644256330530816, 'retweet_count': 248, 'favorite_count': 945}, {'tweet_id': 674638615994089473, 'retweet_count': 522, 'favorite_count': 1532}, {'tweet_id': 674632714662858753, 'retweet_count': 511, 'favorite_count': 1357}, {'tweet_id': 674606911342424069, 'retweet_count': 87, 'favorite_count': 844}, {'tweet_id': 674468880899788800, 'retweet_count': 1805, 'favorite_count': 5641}, {'tweet_id': 674447403907457024, 'retweet_count': 316, 'favorite_count': 967}, {'tweet_id': 674436901579923456, 'retweet_count': 348, 'favorite_count': 1002}, {'tweet_id': 674422304705744896, 'retweet_count': 476, 'favorite_count': 1299}, {'tweet_id': 674416750885273600, 'retweet_count': 119, 'favorite_count': 618}, {'tweet_id': 674410619106390016, 'retweet_count': 410, 'favorite_count': 1083}, {'tweet_id': 674394782723014656, 'retweet_count': 501, 'favorite_count': 1356}, {'tweet_id': 674372068062928900, 'retweet_count': 282, 'favorite_count': 775}, {'tweet_id': 674330906434379776, 'retweet_count': 67, 'favorite_count': 514}, {'tweet_id': 674318007229923329, 'retweet_count': 459, 'favorite_count': 1270}, {'tweet_id': 674307341513269249, 'retweet_count': 6141, 'favorite_count': 10265}, {'tweet_id': 674291837063053312, 'retweet_count': 5221, 'favorite_count': 13346}, {'tweet_id': 674271431610523648, 'retweet_count': 655, 'favorite_count': 1410}, {'tweet_id': 674269164442398721, 'retweet_count': 208, 'favorite_count': 832}, {'tweet_id': 674265582246694913, 'retweet_count': 744, 'favorite_count': 1474}, {'tweet_id': 674262580978937856, 'retweet_count': 395, 'favorite_count': 1197}, {'tweet_id': 674255168825880576, 'retweet_count': 478, 'favorite_count': 1323}, {'tweet_id': 674082852460433408, 'retweet_count': 147, 'favorite_count': 691}, {'tweet_id': 674075285688614912, 'retweet_count': 249, 'favorite_count': 901}, {'tweet_id': 674063288070742018, 'retweet_count': 1938, 'favorite_count': 5802}, {'tweet_id': 674053186244734976, 'retweet_count': 1149, 'favorite_count': 2991}, {'tweet_id': 674051556661161984, 'retweet_count': 439, 'favorite_count': 1310}, {'tweet_id': 674045139690631169, 'retweet_count': 572, 'favorite_count': 1280}, {'tweet_id': 674042553264685056, 'retweet_count': 113, 'favorite_count': 645}, {'tweet_id': 674038233588723717, 'retweet_count': 374, 'favorite_count': 996}, {'tweet_id': 674036086168010753, 'retweet_count': 183, 'favorite_count': 770}, {'tweet_id': 674024893172875264, 'retweet_count': 1100, 'favorite_count': 1602}, {'tweet_id': 674019345211760640, 'retweet_count': 269, 'favorite_count': 1027}, {'tweet_id': 674014384960745472, 'retweet_count': 569, 'favorite_count': 1415}, {'tweet_id': 674008982932058114, 'retweet_count': 308, 'favorite_count': 1097}, {'tweet_id': 673956914389192708, 'retweet_count': 853, 'favorite_count': 1777}, {'tweet_id': 673919437611909120, 'retweet_count': 331, 'favorite_count': 1065}, {'tweet_id': 673906403526995968, 'retweet_count': 1466, 'favorite_count': 2881}, {'tweet_id': 673887867907739649, 'retweet_count': 224, 'favorite_count': 853}, {'tweet_id': 673716320723169284, 'retweet_count': 678, 'favorite_count': 2810}, {'tweet_id': 673715861853720576, 'retweet_count': 1837, 'favorite_count': 3198}, {'tweet_id': 673711475735838725, 'retweet_count': 269, 'favorite_count': 948}, {'tweet_id': 673709992831262724, 'retweet_count': 240, 'favorite_count': 763}, {'tweet_id': 673708611235921920, 'retweet_count': 259, 'favorite_count': 963}, {'tweet_id': 673707060090052608, 'retweet_count': 350, 'favorite_count': 999}, {'tweet_id': 673705679337693185, 'retweet_count': 364, 'favorite_count': 1136}, {'tweet_id': 673700254269775872, 'retweet_count': 509, 'favorite_count': 1298}, {'tweet_id': 673697980713705472, 'retweet_count': 1720, 'favorite_count': 3562}, {'tweet_id': 673689733134946305, 'retweet_count': 583, 'favorite_count': 1571}, {'tweet_id': 673688752737402881, 'retweet_count': 443, 'favorite_count': 1141}, {'tweet_id': 673686845050527744, 'retweet_count': 385, 'favorite_count': 1290}, {'tweet_id': 673680198160809984, 'retweet_count': 421, 'favorite_count': 1243}, {'tweet_id': 673662677122719744, 'retweet_count': 334, 'favorite_count': 1142}, {'tweet_id': 673656262056419329, 'retweet_count': 205, 'favorite_count': 657}, {'tweet_id': 673636718965334016, 'retweet_count': 319, 'favorite_count': 1001}, {'tweet_id': 673612854080196609, 'retweet_count': 642, 'favorite_count': 1443}, {'tweet_id': 673583129559498752, 'retweet_count': 320, 'favorite_count': 1078}, {'tweet_id': 673580926094458881, 'retweet_count': 242, 'favorite_count': 749}, {'tweet_id': 673576835670777856, 'retweet_count': 498, 'favorite_count': 1249}, {'tweet_id': 673363615379013632, 'retweet_count': 268, 'favorite_count': 937}, {'tweet_id': 673359818736984064, 'retweet_count': 603, 'favorite_count': 1310}, {'tweet_id': 673355879178194945, 'retweet_count': 504, 'favorite_count': 1362}, {'tweet_id': 673352124999274496, 'retweet_count': 479, 'favorite_count': 1512}, {'tweet_id': 673350198937153538, 'retweet_count': 186, 'favorite_count': 694}, {'tweet_id': 673345638550134785, 'retweet_count': 1122, 'favorite_count': 2260}, {'tweet_id': 673343217010679808, 'retweet_count': 240, 'favorite_count': 874}, {'tweet_id': 673342308415348736, 'retweet_count': 502, 'favorite_count': 1157}, {'tweet_id': 673320132811366400, 'retweet_count': 6972, 'favorite_count': 12139}, {'tweet_id': 673317986296586240, 'retweet_count': 221, 'favorite_count': 798}, {'tweet_id': 673295268553605120, 'retweet_count': 2801, 'favorite_count': 6817}, {'tweet_id': 673270968295534593, 'retweet_count': 320, 'favorite_count': 967}, {'tweet_id': 673240798075449344, 'retweet_count': 625, 'favorite_count': 1291}, {'tweet_id': 673213039743795200, 'retweet_count': 736, 'favorite_count': 2003}, {'tweet_id': 673148804208660480, 'retweet_count': 556, 'favorite_count': 1513}, {'tweet_id': 672997845381865473, 'retweet_count': 636, 'favorite_count': 1773}, {'tweet_id': 672995267319328768, 'retweet_count': 261, 'favorite_count': 853}, {'tweet_id': 672988786805112832, 'retweet_count': 256, 'favorite_count': 886}, {'tweet_id': 672984142909456390, 'retweet_count': 479, 'favorite_count': 1130}, {'tweet_id': 672980819271634944, 'retweet_count': 896, 'favorite_count': 1646}, {'tweet_id': 672975131468300288, 'retweet_count': 794, 'favorite_count': 1518}, {'tweet_id': 672970152493887488, 'retweet_count': 312, 'favorite_count': 851}, {'tweet_id': 672968025906282496, 'retweet_count': 480, 'favorite_count': 1197}, {'tweet_id': 672964561327235073, 'retweet_count': 568, 'favorite_count': 1278}, {'tweet_id': 672902681409806336, 'retweet_count': 433, 'favorite_count': 1243}, {'tweet_id': 672898206762672129, 'retweet_count': 372, 'favorite_count': 808}, {'tweet_id': 672884426393653248, 'retweet_count': 747, 'favorite_count': 1387}, {'tweet_id': 672877615439593473, 'retweet_count': 314, 'favorite_count': 919}, {'tweet_id': 672834301050937345, 'retweet_count': 512, 'favorite_count': 1170}, {'tweet_id': 672828477930868736, 'retweet_count': 427, 'favorite_count': 1123}, {'tweet_id': 672640509974827008, 'retweet_count': 282, 'favorite_count': 883}, {'tweet_id': 672622327801233409, 'retweet_count': 428, 'favorite_count': 1168}, {'tweet_id': 672614745925664768, 'retweet_count': 519, 'favorite_count': 1104}, {'tweet_id': 672609152938721280, 'retweet_count': 340, 'favorite_count': 986}, {'tweet_id': 672604026190569472, 'retweet_count': 346, 'favorite_count': 987}, {'tweet_id': 672594978741354496, 'retweet_count': 538, 'favorite_count': 1191}, {'tweet_id': 672591762242805761, 'retweet_count': 292, 'favorite_count': 855}, {'tweet_id': 672591271085670400, 'retweet_count': 163, 'favorite_count': 648}, {'tweet_id': 672538107540070400, 'retweet_count': 323, 'favorite_count': 920}, {'tweet_id': 672523490734551040, 'retweet_count': 148, 'favorite_count': 559}, {'tweet_id': 672488522314567680, 'retweet_count': 382, 'favorite_count': 1009}, {'tweet_id': 672482722825261057, 'retweet_count': 528, 'favorite_count': 1006}, {'tweet_id': 672481316919734272, 'retweet_count': 114, 'favorite_count': 649}, {'tweet_id': 672475084225949696, 'retweet_count': 621, 'favorite_count': 1309}, {'tweet_id': 672466075045466113, 'retweet_count': 459, 'favorite_count': 1209}, {'tweet_id': 672272411274932228, 'retweet_count': 2981, 'favorite_count': 5785}, {'tweet_id': 672267570918129665, 'retweet_count': 546, 'favorite_count': 1333}, {'tweet_id': 672264251789176834, 'retweet_count': 294, 'favorite_count': 1022}, {'tweet_id': 672256522047614977, 'retweet_count': 1342, 'favorite_count': 2549}, {'tweet_id': 672254177670729728, 'retweet_count': 661, 'favorite_count': 1295}, {'tweet_id': 672248013293752320, 'retweet_count': 530, 'favorite_count': 1557}, {'tweet_id': 672245253877968896, 'retweet_count': 136, 'favorite_count': 616}, {'tweet_id': 672239279297454080, 'retweet_count': 281, 'favorite_count': 813}, {'tweet_id': 672231046314901505, 'retweet_count': 895, 'favorite_count': 1636}, {'tweet_id': 672222792075620352, 'retweet_count': 179, 'favorite_count': 712}, {'tweet_id': 672205392827572224, 'retweet_count': 1024, 'favorite_count': 2014}, {'tweet_id': 672169685991993344, 'retweet_count': 324, 'favorite_count': 918}, {'tweet_id': 672160042234327040, 'retweet_count': 307, 'favorite_count': 781}, {'tweet_id': 672139350159835138, 'retweet_count': 605, 'favorite_count': 1568}, {'tweet_id': 672125275208069120, 'retweet_count': 1007, 'favorite_count': 2141}, {'tweet_id': 672095186491711488, 'retweet_count': 330, 'favorite_count': 890}, {'tweet_id': 672082170312290304, 'retweet_count': 324, 'favorite_count': 849}, {'tweet_id': 672068090318987265, 'retweet_count': 448, 'favorite_count': 1155}, {'tweet_id': 671896809300709376, 'retweet_count': 3717, 'favorite_count': 7707}, {'tweet_id': 671891728106971137, 'retweet_count': 494, 'favorite_count': 1186}, {'tweet_id': 671882082306625538, 'retweet_count': 1234, 'favorite_count': 3146}, {'tweet_id': 671879137494245376, 'retweet_count': 586, 'favorite_count': 1270}, {'tweet_id': 671874878652489728, 'retweet_count': 486, 'favorite_count': 1122}, {'tweet_id': 671866342182637568, 'retweet_count': 427, 'favorite_count': 1012}, {'tweet_id': 671855973984772097, 'retweet_count': 380, 'favorite_count': 803}, {'tweet_id': 671789708968640512, 'retweet_count': 3042, 'favorite_count': 6394}, {'tweet_id': 671768281401958400, 'retweet_count': 438, 'favorite_count': 1067}, {'tweet_id': 671763349865160704, 'retweet_count': 795, 'favorite_count': 1506}, {'tweet_id': 671744970634719232, 'retweet_count': 672, 'favorite_count': 1221}, {'tweet_id': 671743150407421952, 'retweet_count': 206, 'favorite_count': 681}, {'tweet_id': 671735591348891648, 'retweet_count': 666, 'favorite_count': 1308}, {'tweet_id': 671729906628341761, 'retweet_count': 3861, 'favorite_count': 7606}, {'tweet_id': 671561002136281088, 'retweet_count': 6409, 'favorite_count': 11532}, {'tweet_id': 671550332464455680, 'retweet_count': 188, 'favorite_count': 819}, {'tweet_id': 671547767500775424, 'retweet_count': 507, 'favorite_count': 1219}, {'tweet_id': 671544874165002241, 'retweet_count': 906, 'favorite_count': 1751}, {'tweet_id': 671542985629241344, 'retweet_count': 494, 'favorite_count': 975}, {'tweet_id': 671538301157904385, 'retweet_count': 340, 'favorite_count': 844}, {'tweet_id': 671536543010570240, 'retweet_count': 352, 'favorite_count': 1055}, {'tweet_id': 671533943490011136, 'retweet_count': 507, 'favorite_count': 909}, {'tweet_id': 671528761649688577, 'retweet_count': 223, 'favorite_count': 755}, {'tweet_id': 671520732782923777, 'retweet_count': 463, 'favorite_count': 1238}, {'tweet_id': 671518598289059840, 'retweet_count': 256, 'favorite_count': 845}, {'tweet_id': 671511350426865664, 'retweet_count': 614, 'favorite_count': 1439}, {'tweet_id': 671504605491109889, 'retweet_count': 3179, 'favorite_count': 6307}, {'tweet_id': 671497587707535361, 'retweet_count': 401, 'favorite_count': 835}, {'tweet_id': 671488513339211776, 'retweet_count': 423, 'favorite_count': 892}, {'tweet_id': 671486386088865792, 'retweet_count': 177, 'favorite_count': 517}, {'tweet_id': 671485057807351808, 'retweet_count': 201, 'favorite_count': 686}, {'tweet_id': 671390180817915904, 'retweet_count': 665, 'favorite_count': 1294}, {'tweet_id': 671362598324076544, 'retweet_count': 262, 'favorite_count': 992}, {'tweet_id': 671357843010908160, 'retweet_count': 135, 'favorite_count': 354}, {'tweet_id': 671355857343524864, 'retweet_count': 107, 'favorite_count': 428}, {'tweet_id': 671347597085433856, 'retweet_count': 377, 'favorite_count': 850}, {'tweet_id': 671186162933985280, 'retweet_count': 183, 'favorite_count': 651}, {'tweet_id': 671182547775299584, 'retweet_count': 293, 'favorite_count': 991}, {'tweet_id': 671166507850801152, 'retweet_count': 308, 'favorite_count': 788}, {'tweet_id': 671163268581498880, 'retweet_count': 980, 'favorite_count': 1475}, {'tweet_id': 671159727754231808, 'retweet_count': 70, 'favorite_count': 318}, {'tweet_id': 671154572044468225, 'retweet_count': 191, 'favorite_count': 633}, {'tweet_id': 671151324042559489, 'retweet_count': 133, 'favorite_count': 595}, {'tweet_id': 671147085991960577, 'retweet_count': 197, 'favorite_count': 592}, {'tweet_id': 671141549288370177, 'retweet_count': 577, 'favorite_count': 1036}, {'tweet_id': 671138694582165504, 'retweet_count': 352, 'favorite_count': 830}, {'tweet_id': 671134062904504320, 'retweet_count': 168, 'favorite_count': 659}, {'tweet_id': 671122204919246848, 'retweet_count': 2217, 'favorite_count': 3119}, {'tweet_id': 671115716440031232, 'retweet_count': 687, 'favorite_count': 1231}, {'tweet_id': 671109016219725825, 'retweet_count': 385, 'favorite_count': 1024}, {'tweet_id': 670995969505435648, 'retweet_count': 250, 'favorite_count': 982}, {'tweet_id': 670842764863651840, 'retweet_count': 7683, 'favorite_count': 22347}, {'tweet_id': 670840546554966016, 'retweet_count': 168, 'favorite_count': 524}, {'tweet_id': 670838202509447168, 'retweet_count': 608, 'favorite_count': 996}, {'tweet_id': 670833812859932673, 'retweet_count': 110, 'favorite_count': 382}, {'tweet_id': 670832455012716544, 'retweet_count': 188, 'favorite_count': 655}, {'tweet_id': 670826280409919488, 'retweet_count': 3565, 'favorite_count': 4926}, {'tweet_id': 670823764196741120, 'retweet_count': 163, 'favorite_count': 681}, {'tweet_id': 670822709593571328, 'retweet_count': 84, 'favorite_count': 548}, {'tweet_id': 670815497391357952, 'retweet_count': 1343, 'favorite_count': 2814}, {'tweet_id': 670811965569282048, 'retweet_count': 235, 'favorite_count': 1000}, {'tweet_id': 670807719151067136, 'retweet_count': 437, 'favorite_count': 1057}, {'tweet_id': 670804601705242624, 'retweet_count': 836, 'favorite_count': 1764}, {'tweet_id': 670803562457407488, 'retweet_count': 81, 'favorite_count': 310}, {'tweet_id': 670797304698376195, 'retweet_count': 207, 'favorite_count': 666}, {'tweet_id': 670792680469889025, 'retweet_count': 239, 'favorite_count': 740}, {'tweet_id': 670789397210615808, 'retweet_count': 211, 'favorite_count': 593}, {'tweet_id': 670786190031921152, 'retweet_count': 174, 'favorite_count': 540}, {'tweet_id': 670783437142401025, 'retweet_count': 338, 'favorite_count': 747}, {'tweet_id': 670782429121134593, 'retweet_count': 671, 'favorite_count': 1376}, {'tweet_id': 670780561024270336, 'retweet_count': 254, 'favorite_count': 714}, {'tweet_id': 670778058496974848, 'retweet_count': 63, 'favorite_count': 302}, {'tweet_id': 670764103623966721, 'retweet_count': 379, 'favorite_count': 972}, {'tweet_id': 670755717859713024, 'retweet_count': 91, 'favorite_count': 396}, {'tweet_id': 670733412878163972, 'retweet_count': 454, 'favorite_count': 862}, {'tweet_id': 670727704916926465, 'retweet_count': 318, 'favorite_count': 746}, {'tweet_id': 670717338665226240, 'retweet_count': 425, 'favorite_count': 1070}, {'tweet_id': 670704688707301377, 'retweet_count': 324, 'favorite_count': 697}, {'tweet_id': 670691627984359425, 'retweet_count': 215, 'favorite_count': 526}, {'tweet_id': 670679630144274432, 'retweet_count': 248, 'favorite_count': 675}, {'tweet_id': 670676092097810432, 'retweet_count': 36, 'favorite_count': 218}, {'tweet_id': 670668383499735048, 'retweet_count': 4397, 'favorite_count': 9567}, {'tweet_id': 670474236058800128, 'retweet_count': 643, 'favorite_count': 1357}, {'tweet_id': 670468609693655041, 'retweet_count': 77, 'favorite_count': 321}, {'tweet_id': 670465786746662913, 'retweet_count': 480, 'favorite_count': 872}, {'tweet_id': 670452855871037440, 'retweet_count': 178, 'favorite_count': 497}, {'tweet_id': 670449342516494336, 'retweet_count': 576, 'favorite_count': 1088}, {'tweet_id': 670444955656130560, 'retweet_count': 1760, 'favorite_count': 6134}, {'tweet_id': 670442337873600512, 'retweet_count': 176, 'favorite_count': 584}, {'tweet_id': 670435821946826752, 'retweet_count': 448, 'favorite_count': 953}, {'tweet_id': 670434127938719744, 'retweet_count': 570, 'favorite_count': 1273}, {'tweet_id': 670433248821026816, 'retweet_count': 100, 'favorite_count': 298}, {'tweet_id': 670428280563085312, 'retweet_count': 533, 'favorite_count': 1256}, {'tweet_id': 670427002554466305, 'retweet_count': 143, 'favorite_count': 470}, {'tweet_id': 670421925039075328, 'retweet_count': 559, 'favorite_count': 1162}, {'tweet_id': 670420569653809152, 'retweet_count': 272, 'favorite_count': 550}, {'tweet_id': 670417414769758208, 'retweet_count': 290, 'favorite_count': 510}, {'tweet_id': 670411370698022913, 'retweet_count': 785, 'favorite_count': 1815}, {'tweet_id': 670408998013820928, 'retweet_count': 193, 'favorite_count': 494}, {'tweet_id': 670403879788544000, 'retweet_count': 132, 'favorite_count': 384}, {'tweet_id': 670385711116361728, 'retweet_count': 179, 'favorite_count': 501}, {'tweet_id': 670374371102445568, 'retweet_count': 239, 'favorite_count': 682}, {'tweet_id': 670361874861563904, 'retweet_count': 57, 'favorite_count': 292}, {'tweet_id': 670338931251150849, 'retweet_count': 96, 'favorite_count': 383}, {'tweet_id': 670319130621435904, 'retweet_count': 1081, 'favorite_count': 3520}, {'tweet_id': 670303360680108032, 'retweet_count': 111, 'favorite_count': 394}, {'tweet_id': 670290420111441920, 'retweet_count': 253, 'favorite_count': 630}, {'tweet_id': 670093938074779648, 'retweet_count': 284, 'favorite_count': 924}, {'tweet_id': 670086499208155136, 'retweet_count': 222, 'favorite_count': 630}, {'tweet_id': 670079681849372674, 'retweet_count': 1074, 'favorite_count': 1986}, {'tweet_id': 670073503555706880, 'retweet_count': 687, 'favorite_count': 1397}, {'tweet_id': 670069087419133954, 'retweet_count': 208, 'favorite_count': 563}, {'tweet_id': 670061506722140161, 'retweet_count': 294, 'favorite_count': 678}, {'tweet_id': 670055038660800512, 'retweet_count': 285, 'favorite_count': 601}, {'tweet_id': 670046952931721218, 'retweet_count': 155, 'favorite_count': 580}, {'tweet_id': 670040295598354432, 'retweet_count': 99, 'favorite_count': 675}, {'tweet_id': 670037189829525505, 'retweet_count': 243, 'favorite_count': 529}, {'tweet_id': 670003130994700288, 'retweet_count': 81, 'favorite_count': 297}, {'tweet_id': 669993076832759809, 'retweet_count': 71, 'favorite_count': 293}, {'tweet_id': 669972011175813120, 'retweet_count': 137, 'favorite_count': 400}, {'tweet_id': 669970042633789440, 'retweet_count': 47, 'favorite_count': 273}, {'tweet_id': 669942763794931712, 'retweet_count': 138, 'favorite_count': 448}, {'tweet_id': 669926384437997569, 'retweet_count': 82, 'favorite_count': 343}, {'tweet_id': 669923323644657664, 'retweet_count': 52, 'favorite_count': 205}, {'tweet_id': 669753178989142016, 'retweet_count': 346, 'favorite_count': 717}, {'tweet_id': 669749430875258880, 'retweet_count': 57, 'favorite_count': 231}, {'tweet_id': 669684865554620416, 'retweet_count': 75, 'favorite_count': 456}, {'tweet_id': 669683899023405056, 'retweet_count': 96, 'favorite_count': 344}, {'tweet_id': 669682095984410625, 'retweet_count': 117, 'favorite_count': 316}, {'tweet_id': 669680153564442624, 'retweet_count': 247, 'favorite_count': 597}, {'tweet_id': 669661792646373376, 'retweet_count': 373, 'favorite_count': 725}, {'tweet_id': 669625907762618368, 'retweet_count': 1591, 'favorite_count': 3165}, {'tweet_id': 669603084620980224, 'retweet_count': 320, 'favorite_count': 862}, {'tweet_id': 669597912108789760, 'retweet_count': 135, 'favorite_count': 454}, {'tweet_id': 669583744538451968, 'retweet_count': 820, 'favorite_count': 1336}, {'tweet_id': 669573570759163904, 'retweet_count': 121, 'favorite_count': 394}, {'tweet_id': 669571471778410496, 'retweet_count': 897, 'favorite_count': 1429}, {'tweet_id': 669567591774625800, 'retweet_count': 46, 'favorite_count': 207}, {'tweet_id': 669564461267722241, 'retweet_count': 105, 'favorite_count': 344}, {'tweet_id': 669393256313184256, 'retweet_count': 62, 'favorite_count': 320}, {'tweet_id': 669375718304980992, 'retweet_count': 641, 'favorite_count': 1195}, {'tweet_id': 669371483794317312, 'retweet_count': 150, 'favorite_count': 442}, {'tweet_id': 669367896104181761, 'retweet_count': 135, 'favorite_count': 411}, {'tweet_id': 669363888236994561, 'retweet_count': 203, 'favorite_count': 563}, {'tweet_id': 669359674819481600, 'retweet_count': 104, 'favorite_count': 335}, {'tweet_id': 669354382627049472, 'retweet_count': 1108, 'favorite_count': 2417}, {'tweet_id': 669353438988365824, 'retweet_count': 232, 'favorite_count': 571}, {'tweet_id': 669351434509529089, 'retweet_count': 160, 'favorite_count': 385}, {'tweet_id': 669328503091937280, 'retweet_count': 372, 'favorite_count': 918}, {'tweet_id': 669327207240699904, 'retweet_count': 106, 'favorite_count': 507}, {'tweet_id': 669324657376567296, 'retweet_count': 184, 'favorite_count': 445}, {'tweet_id': 669216679721873412, 'retweet_count': 354, 'favorite_count': 1072}, {'tweet_id': 669214165781868544, 'retweet_count': 138, 'favorite_count': 392}, {'tweet_id': 669203728096960512, 'retweet_count': 414, 'favorite_count': 903}, {'tweet_id': 669037058363662336, 'retweet_count': 271, 'favorite_count': 585}, {'tweet_id': 669015743032369152, 'retweet_count': 327, 'favorite_count': 661}, {'tweet_id': 669006782128353280, 'retweet_count': 211, 'favorite_count': 519}, {'tweet_id': 669000397445533696, 'retweet_count': 5600, 'favorite_count': 18921}, {'tweet_id': 668994913074286592, 'retweet_count': 195, 'favorite_count': 393}, {'tweet_id': 668992363537309700, 'retweet_count': 296, 'favorite_count': 664}, {'tweet_id': 668989615043424256, 'retweet_count': 293, 'favorite_count': 604}, {'tweet_id': 668988183816871936, 'retweet_count': 395, 'favorite_count': 811}, {'tweet_id': 668986018524233728, 'retweet_count': 142, 'favorite_count': 488}, {'tweet_id': 668981893510119424, 'retweet_count': 263, 'favorite_count': 493}, {'tweet_id': 668979806671884288, 'retweet_count': 299, 'favorite_count': 714}, {'tweet_id': 668975677807423489, 'retweet_count': 507, 'favorite_count': 1166}, {'tweet_id': 668967877119254528, 'retweet_count': 18, 'favorite_count': 129}, {'tweet_id': 668960084974809088, 'retweet_count': 213, 'favorite_count': 626}, {'tweet_id': 668955713004314625, 'retweet_count': 64, 'favorite_count': 244}, {'tweet_id': 668932921458302977, 'retweet_count': 51, 'favorite_count': 230}, {'tweet_id': 668902994700836864, 'retweet_count': 88, 'favorite_count': 280}, {'tweet_id': 668892474547511297, 'retweet_count': 128, 'favorite_count': 361}, {'tweet_id': 668872652652679168, 'retweet_count': 269, 'favorite_count': 479}, {'tweet_id': 668852170888998912, 'retweet_count': 140, 'favorite_count': 415}, {'tweet_id': 668826086256599040, 'retweet_count': 116, 'favorite_count': 388}, {'tweet_id': 668815180734689280, 'retweet_count': 229, 'favorite_count': 504}, {'tweet_id': 668779399630725120, 'retweet_count': 327, 'favorite_count': 641}, {'tweet_id': 668655139528511488, 'retweet_count': 192, 'favorite_count': 482}, {'tweet_id': 668645506898350081, 'retweet_count': 464, 'favorite_count': 788}, {'tweet_id': 668643542311546881, 'retweet_count': 454, 'favorite_count': 795}, {'tweet_id': 668641109086707712, 'retweet_count': 474, 'favorite_count': 956}, {'tweet_id': 668636665813057536, 'retweet_count': 437, 'favorite_count': 930}, {'tweet_id': 668633411083464705, 'retweet_count': 1400, 'favorite_count': 2499}, {'tweet_id': 668631377374486528, 'retweet_count': 284, 'favorite_count': 631}, {'tweet_id': 668627278264475648, 'retweet_count': 98, 'favorite_count': 284}, {'tweet_id': 668625577880875008, 'retweet_count': 112, 'favorite_count': 336}, {'tweet_id': 668623201287675904, 'retweet_count': 656, 'favorite_count': 1267}, {'tweet_id': 668620235289837568, 'retweet_count': 35, 'favorite_count': 184}, {'tweet_id': 668614819948453888, 'retweet_count': 276, 'favorite_count': 549}, {'tweet_id': 668587383441514497, 'retweet_count': 935, 'favorite_count': 1494}, {'tweet_id': 668567822092664832, 'retweet_count': 48, 'favorite_count': 209}, {'tweet_id': 668544745690562560, 'retweet_count': 201, 'favorite_count': 459}, {'tweet_id': 668542336805281792, 'retweet_count': 183, 'favorite_count': 407}, {'tweet_id': 668537837512433665, 'retweet_count': 62, 'favorite_count': 229}, {'tweet_id': 668528771708952576, 'retweet_count': 194, 'favorite_count': 413}, {'tweet_id': 668507509523615744, 'retweet_count': 89, 'favorite_count': 285}, {'tweet_id': 668496999348633600, 'retweet_count': 116, 'favorite_count': 365}, {'tweet_id': 668484198282485761, 'retweet_count': 209, 'favorite_count': 377}, {'tweet_id': 668480044826800133, 'retweet_count': 128, 'favorite_count': 407}, {'tweet_id': 668466899341221888, 'retweet_count': 447, 'favorite_count': 784}, {'tweet_id': 668297328638447616, 'retweet_count': 258, 'favorite_count': 564}, {'tweet_id': 668291999406125056, 'retweet_count': 28, 'favorite_count': 216}, {'tweet_id': 668286279830867968, 'retweet_count': 120, 'favorite_count': 446}, {'tweet_id': 668274247790391296, 'retweet_count': 202, 'favorite_count': 735}, {'tweet_id': 668268907921326080, 'retweet_count': 208, 'favorite_count': 494}, {'tweet_id': 668256321989451776, 'retweet_count': 525, 'favorite_count': 1164}, {'tweet_id': 668248472370458624, 'retweet_count': 412, 'favorite_count': 855}, {'tweet_id': 668237644992782336, 'retweet_count': 2474, 'favorite_count': 5527}, {'tweet_id': 668226093875376128, 'retweet_count': 86, 'favorite_count': 256}, {'tweet_id': 668221241640230912, 'retweet_count': 174, 'favorite_count': 459}, {'tweet_id': 668204964695683073, 'retweet_count': 176, 'favorite_count': 497}, {'tweet_id': 668190681446379520, 'retweet_count': 173, 'favorite_count': 582}, {'tweet_id': 668171859951755264, 'retweet_count': 162, 'favorite_count': 434}, {'tweet_id': 668154635664932864, 'retweet_count': 278, 'favorite_count': 447}, {'tweet_id': 668142349051129856, 'retweet_count': 243, 'favorite_count': 515}, {'tweet_id': 668113020489474048, 'retweet_count': 209, 'favorite_count': 596}, {'tweet_id': 667937095915278337, 'retweet_count': 703, 'favorite_count': 1120}, {'tweet_id': 667924896115245057, 'retweet_count': 97, 'favorite_count': 268}, {'tweet_id': 667915453470232577, 'retweet_count': 48, 'favorite_count': 188}, {'tweet_id': 667911425562669056, 'retweet_count': 253, 'favorite_count': 436}, {'tweet_id': 667902449697558528, 'retweet_count': 343, 'favorite_count': 771}, {'tweet_id': 667886921285246976, 'retweet_count': 927, 'favorite_count': 1668}, {'tweet_id': 667885044254572545, 'retweet_count': 410, 'favorite_count': 740}, {'tweet_id': 667878741721415682, 'retweet_count': 103, 'favorite_count': 351}, {'tweet_id': 667873844930215936, 'retweet_count': 350, 'favorite_count': 560}, {'tweet_id': 667866724293877760, 'retweet_count': 912, 'favorite_count': 2748}, {'tweet_id': 667861340749471744, 'retweet_count': 71, 'favorite_count': 222}, {'tweet_id': 667832474953625600, 'retweet_count': 55, 'favorite_count': 261}, {'tweet_id': 667806454573760512, 'retweet_count': 427, 'favorite_count': 941}, {'tweet_id': 667801013445750784, 'retweet_count': 83, 'favorite_count': 289}, {'tweet_id': 667793409583771648, 'retweet_count': 289, 'favorite_count': 618}, {'tweet_id': 667782464991965184, 'retweet_count': 212, 'favorite_count': 366}, {'tweet_id': 667773195014021121, 'retweet_count': 45, 'favorite_count': 210}, {'tweet_id': 667766675769573376, 'retweet_count': 190, 'favorite_count': 383}, {'tweet_id': 667728196545200128, 'retweet_count': 128, 'favorite_count': 329}, {'tweet_id': 667724302356258817, 'retweet_count': 275, 'favorite_count': 433}, {'tweet_id': 667550904950915073, 'retweet_count': 29, 'favorite_count': 0}, {'tweet_id': 667550882905632768, 'retweet_count': 26, 'favorite_count': 0}, {'tweet_id': 667549055577362432, 'retweet_count': 1986, 'favorite_count': 5175}, {'tweet_id': 667546741521195010, 'retweet_count': 110, 'favorite_count': 305}, {'tweet_id': 667544320556335104, 'retweet_count': 467, 'favorite_count': 771}, {'tweet_id': 667538891197542400, 'retweet_count': 58, 'favorite_count': 177}, {'tweet_id': 667534815156183040, 'retweet_count': 456, 'favorite_count': 729}, {'tweet_id': 667530908589760512, 'retweet_count': 208, 'favorite_count': 418}, {'tweet_id': 667524857454854144, 'retweet_count': 986, 'favorite_count': 1523}, {'tweet_id': 667517642048163840, 'retweet_count': 167, 'favorite_count': 334}, {'tweet_id': 667509364010450944, 'retweet_count': 1882, 'favorite_count': 6150}, {'tweet_id': 667502640335572993, 'retweet_count': 195, 'favorite_count': 489}, {'tweet_id': 667495797102141441, 'retweet_count': 233, 'favorite_count': 463}, {'tweet_id': 667491009379606528, 'retweet_count': 194, 'favorite_count': 465}, {'tweet_id': 667470559035432960, 'retweet_count': 85, 'favorite_count': 225}, {'tweet_id': 667455448082227200, 'retweet_count': 53, 'favorite_count': 172}, {'tweet_id': 667453023279554560, 'retweet_count': 75, 'favorite_count': 284}, {'tweet_id': 667443425659232256, 'retweet_count': 502, 'favorite_count': 688}, {'tweet_id': 667437278097252352, 'retweet_count': 208, 'favorite_count': 402}, {'tweet_id': 667435689202614272, 'retweet_count': 78, 'favorite_count': 273}, {'tweet_id': 667405339315146752, 'retweet_count': 199, 'favorite_count': 419}, {'tweet_id': 667393430834667520, 'retweet_count': 50, 'favorite_count': 172}, {'tweet_id': 667369227918143488, 'retweet_count': 146, 'favorite_count': 332}, {'tweet_id': 667211855547486208, 'retweet_count': 213, 'favorite_count': 433}, {'tweet_id': 667200525029539841, 'retweet_count': 230, 'favorite_count': 554}, {'tweet_id': 667192066997374976, 'retweet_count': 87, 'favorite_count': 338}, {'tweet_id': 667188689915760640, 'retweet_count': 342, 'favorite_count': 653}, {'tweet_id': 667182792070062081, 'retweet_count': 5362, 'favorite_count': 12716}, {'tweet_id': 667177989038297088, 'retweet_count': 49, 'favorite_count': 169}, {'tweet_id': 667176164155375616, 'retweet_count': 394, 'favorite_count': 533}, {'tweet_id': 667174963120574464, 'retweet_count': 70, 'favorite_count': 221}, {'tweet_id': 667171260800061440, 'retweet_count': 72, 'favorite_count': 188}, {'tweet_id': 667165590075940865, 'retweet_count': 989, 'favorite_count': 2403}, {'tweet_id': 667160273090932737, 'retweet_count': 53, 'favorite_count': 225}, {'tweet_id': 667152164079423490, 'retweet_count': 14823, 'favorite_count': 42793}, {'tweet_id': 667138269671505920, 'retweet_count': 1902, 'favorite_count': 4066}, {'tweet_id': 667119796878725120, 'retweet_count': 110, 'favorite_count': 292}, {'tweet_id': 667090893657276420, 'retweet_count': 107, 'favorite_count': 294}, {'tweet_id': 667073648344346624, 'retweet_count': 105, 'favorite_count': 358}, {'tweet_id': 667070482143944705, 'retweet_count': 13, 'favorite_count': 73}, {'tweet_id': 667065535570550784, 'retweet_count': 40, 'favorite_count': 145}, {'tweet_id': 667062181243039745, 'retweet_count': 45, 'favorite_count': 195}, {'tweet_id': 667044094246576128, 'retweet_count': 43, 'favorite_count': 165}, {'tweet_id': 667012601033924608, 'retweet_count': 191, 'favorite_count': 401}, {'tweet_id': 666996132027977728, 'retweet_count': 80, 'favorite_count': 216}, {'tweet_id': 666983947667116034, 'retweet_count': 857, 'favorite_count': 2281}, {'tweet_id': 666837028449972224, 'retweet_count': 478, 'favorite_count': 713}, {'tweet_id': 666835007768551424, 'retweet_count': 68, 'favorite_count': 186}, {'tweet_id': 666826780179869698, 'retweet_count': 81, 'favorite_count': 224}, {'tweet_id': 666817836334096384, 'retweet_count': 216, 'favorite_count': 450}, {'tweet_id': 666804364988780544, 'retweet_count': 79, 'favorite_count': 207}, {'tweet_id': 666786068205871104, 'retweet_count': 418, 'favorite_count': 667}, {'tweet_id': 666781792255496192, 'retweet_count': 170, 'favorite_count': 333}, {'tweet_id': 666776908487630848, 'retweet_count': 150, 'favorite_count': 308}, {'tweet_id': 666739327293083650, 'retweet_count': 60, 'favorite_count': 211}, {'tweet_id': 666701168228331520, 'retweet_count': 185, 'favorite_count': 375}, {'tweet_id': 666691418707132416, 'retweet_count': 42, 'favorite_count': 161}, {'tweet_id': 666649482315059201, 'retweet_count': 538, 'favorite_count': 1003}, {'tweet_id': 666644823164719104, 'retweet_count': 71, 'favorite_count': 212}, {'tweet_id': 666454714377183233, 'retweet_count': 184, 'favorite_count': 450}, {'tweet_id': 666447344410484738, 'retweet_count': 19, 'favorite_count': 92}, {'tweet_id': 666437273139982337, 'retweet_count': 41, 'favorite_count': 106}, {'tweet_id': 666435652385423360, 'retweet_count': 42, 'favorite_count': 140}, {'tweet_id': 666430724426358785, 'retweet_count': 166, 'favorite_count': 280}, {'tweet_id': 666428276349472768, 'retweet_count': 67, 'favorite_count': 140}, {'tweet_id': 666421158376562688, 'retweet_count': 94, 'favorite_count': 279}, {'tweet_id': 666418789513326592, 'retweet_count': 39, 'favorite_count': 109}, {'tweet_id': 666411507551481857, 'retweet_count': 269, 'favorite_count': 378}, {'tweet_id': 666407126856765440, 'retweet_count': 30, 'favorite_count': 93}, {'tweet_id': 666396247373291520, 'retweet_count': 69, 'favorite_count': 149}, {'tweet_id': 666373753744588802, 'retweet_count': 74, 'favorite_count': 164}, {'tweet_id': 666362758909284353, 'retweet_count': 477, 'favorite_count': 660}, {'tweet_id': 666353288456101888, 'retweet_count': 58, 'favorite_count': 181}, {'tweet_id': 666345417576210432, 'retweet_count': 126, 'favorite_count': 252}, {'tweet_id': 666337882303524864, 'retweet_count': 80, 'favorite_count': 168}, {'tweet_id': 666293911632134144, 'retweet_count': 298, 'favorite_count': 435}, {'tweet_id': 666287406224695296, 'retweet_count': 57, 'favorite_count': 125}, {'tweet_id': 666273097616637952, 'retweet_count': 68, 'favorite_count': 153}, {'tweet_id': 666268910803644416, 'retweet_count': 37, 'favorite_count': 99}, {'tweet_id': 666104133288665088, 'retweet_count': 5566, 'favorite_count': 13069}, {'tweet_id': 666102155909144576, 'retweet_count': 11, 'favorite_count': 67}, {'tweet_id': 666099513787052032, 'retweet_count': 54, 'favorite_count': 136}, {'tweet_id': 666094000022159362, 'retweet_count': 64, 'favorite_count': 145}, {'tweet_id': 666082916733198337, 'retweet_count': 38, 'favorite_count': 96}, {'tweet_id': 666073100786774016, 'retweet_count': 134, 'favorite_count': 275}, {'tweet_id': 666071193221509120, 'retweet_count': 51, 'favorite_count': 129}, {'tweet_id': 666063827256086533, 'retweet_count': 181, 'favorite_count': 408}, {'tweet_id': 666058600524156928, 'retweet_count': 47, 'favorite_count': 101}, {'tweet_id': 666057090499244032, 'retweet_count': 113, 'favorite_count': 253}, {'tweet_id': 666055525042405380, 'retweet_count': 200, 'favorite_count': 375}, {'tweet_id': 666051853826850816, 'retweet_count': 720, 'favorite_count': 1044}, {'tweet_id': 666050758794694657, 'retweet_count': 50, 'favorite_count': 118}, {'tweet_id': 666049248165822465, 'retweet_count': 37, 'favorite_count': 91}, {'tweet_id': 666044226329800704, 'retweet_count': 117, 'favorite_count': 250}, {'tweet_id': 666033412701032449, 'retweet_count': 36, 'favorite_count': 101}, {'tweet_id': 666029285002620928, 'retweet_count': 39, 'favorite_count': 115}, {'tweet_id': 666020888022790149, 'retweet_count': 427, 'favorite_count': 2315}]\n"
     ]
    }
   ],
   "source": [
    "bearer_token = 'xxxx'\n",
    "consumer_key = 'xxxx'\n",
    "consumer_secret = 'xxxx'\n",
    "access_token = 'xxxx'\n",
    "access_secret = 'xxxx'\n",
    "\n",
    "client = tweepy.Client( bearer_token=bearer_token, \n",
    "                        consumer_key=consumer_key, \n",
    "                        consumer_secret=consumer_secret, \n",
    "                        access_token=access_token, \n",
    "                        access_token_secret=access_secret,                        \n",
    "                        wait_on_rate_limit=True)\n",
    "\n",
    "tweets_list = []\n",
    "for tweet_id in df_enhanced['tweet_id']:\n",
    "\n",
    "    fields = [\"created_at\",\"id\",\"public_metrics\",\"source\",\"text\"]\n",
    "    cl = client.get_tweet(id=tweet_id, tweet_fields=fields)\n",
    "    try:\n",
    "        tweets_list.append({'tweet_id':cl.data['id'],\n",
    "                        'retweet_count':cl.data['public_metrics']['retweet_count'],\n",
    "                        'favorite_count': cl.data['public_metrics']['like_count']})\n",
    "    except:\n",
    "        \n",
    "\n"
   ]
  },
  {
   "cell_type": "code",
   "execution_count": 184,
   "metadata": {},
   "outputs": [],
   "source": [
    "# Writing json in a file\n",
    "\n",
    "with open('tweet_json.txt','w') as f:\n",
    "    f.write(json.dumps(tweets_list))"
   ]
  },
  {
   "cell_type": "code",
   "execution_count": 588,
   "metadata": {},
   "outputs": [
    {
     "data": {
      "text/html": [
       "<div>\n",
       "<style scoped>\n",
       "    .dataframe tbody tr th:only-of-type {\n",
       "        vertical-align: middle;\n",
       "    }\n",
       "\n",
       "    .dataframe tbody tr th {\n",
       "        vertical-align: top;\n",
       "    }\n",
       "\n",
       "    .dataframe thead th {\n",
       "        text-align: right;\n",
       "    }\n",
       "</style>\n",
       "<table border=\"1\" class=\"dataframe\">\n",
       "  <thead>\n",
       "    <tr style=\"text-align: right;\">\n",
       "      <th></th>\n",
       "      <th>tweet_id</th>\n",
       "      <th>retweet_count</th>\n",
       "      <th>favorite_count</th>\n",
       "    </tr>\n",
       "  </thead>\n",
       "  <tbody>\n",
       "    <tr>\n",
       "      <th>0</th>\n",
       "      <td>892420643555336193</td>\n",
       "      <td>7096</td>\n",
       "      <td>34193</td>\n",
       "    </tr>\n",
       "    <tr>\n",
       "      <th>1</th>\n",
       "      <td>892177421306343426</td>\n",
       "      <td>5345</td>\n",
       "      <td>29653</td>\n",
       "    </tr>\n",
       "    <tr>\n",
       "      <th>2</th>\n",
       "      <td>891815181378084864</td>\n",
       "      <td>3519</td>\n",
       "      <td>22331</td>\n",
       "    </tr>\n",
       "    <tr>\n",
       "      <th>3</th>\n",
       "      <td>891689557279858688</td>\n",
       "      <td>7297</td>\n",
       "      <td>37374</td>\n",
       "    </tr>\n",
       "    <tr>\n",
       "      <th>4</th>\n",
       "      <td>891327558926688256</td>\n",
       "      <td>7836</td>\n",
       "      <td>35715</td>\n",
       "    </tr>\n",
       "  </tbody>\n",
       "</table>\n",
       "</div>"
      ],
      "text/plain": [
       "             tweet_id  retweet_count  favorite_count\n",
       "0  892420643555336193           7096           34193\n",
       "1  892177421306343426           5345           29653\n",
       "2  891815181378084864           3519           22331\n",
       "3  891689557279858688           7297           37374\n",
       "4  891327558926688256           7836           35715"
      ]
     },
     "execution_count": 588,
     "metadata": {},
     "output_type": "execute_result"
    }
   ],
   "source": [
    "# Reading a json file and convert in a dataframe\n",
    "\n",
    "with open('tweet_json.txt','r') as f:\n",
    "    dados = json.load(f)\n",
    "\n",
    "df_tweet = pd.DataFrame(dados, columns = ['tweet_id', 'retweet_count', 'favorite_count'])\n",
    "df_tweet.head()"
   ]
  },
  {
   "cell_type": "markdown",
   "metadata": {
    "extensions": {
     "jupyter_dashboards": {
      "version": 1,
      "views": {
       "grid_default": {
        "col": 4,
        "height": 4,
        "hidden": false,
        "row": 28,
        "width": 4
       },
       "report_default": {
        "hidden": false
       }
      }
     }
    }
   },
   "source": [
    "## Assessing Data\n",
    "In this section, detect and document at least **eight (8) quality issues and two (2) tidiness issue**. You must use **both** visual assessment\n",
    "programmatic assessement to assess the data.\n",
    "\n",
    "**Note:** pay attention to the following key points when you access the data.\n",
    "\n",
    "* You only want original ratings (no retweets) that have images. Though there are 5000+ tweets in the dataset, not all are dog ratings and some are retweets.\n",
    "* Assessing and cleaning the entire dataset completely would require a lot of time, and is not necessary to practice and demonstrate your skills in data wrangling. Therefore, the requirements of this project are only to assess and clean at least 8 quality issues and at least 2 tidiness issues in this dataset.\n",
    "* The fact that the rating numerators are greater than the denominators does not need to be cleaned. This [unique rating system](http://knowyourmeme.com/memes/theyre-good-dogs-brent) is a big part of the popularity of WeRateDogs.\n",
    "* You do not need to gather the tweets beyond August 1st, 2017. You can, but note that you won't be able to gather the image predictions for these tweets since you don't have access to the algorithm used.\n",
    "\n"
   ]
  },
  {
   "cell_type": "code",
   "execution_count": 589,
   "metadata": {},
   "outputs": [
    {
     "data": {
      "text/plain": [
       "10     2333\n",
       "11        3\n",
       "50        3\n",
       "20        2\n",
       "80        2\n",
       "70        1\n",
       "7         1\n",
       "15        1\n",
       "150       1\n",
       "170       1\n",
       "0         1\n",
       "90        1\n",
       "40        1\n",
       "130       1\n",
       "110       1\n",
       "16        1\n",
       "120       1\n",
       "2         1\n",
       "Name: rating_denominator, dtype: int64"
      ]
     },
     "execution_count": 589,
     "metadata": {},
     "output_type": "execute_result"
    }
   ],
   "source": [
    "df_enhanced.rating_denominator.value_counts()"
   ]
  },
  {
   "cell_type": "code",
   "execution_count": 590,
   "metadata": {},
   "outputs": [
    {
     "data": {
      "text/plain": [
       "array(['Phineas', 'Tilly', 'Archie', 'Darla', 'Franklin', 'None', 'Jax',\n",
       "       'Zoey', 'Cassie', 'Koda', 'Bruno', 'Ted', 'Stuart', 'Oliver',\n",
       "       'Jim', 'Zeke', 'Ralphus', 'Canela', 'Gerald', 'Jeffrey', 'such',\n",
       "       'Maya', 'Mingus', 'Derek', 'Roscoe', 'Waffles', 'Jimbo', 'Maisey',\n",
       "       'Lilly', 'Earl', 'Lola', 'Kevin', 'Yogi', 'Noah', 'Bella',\n",
       "       'Grizzwald', 'Rusty', 'Gus', 'Stanley', 'Alfy', 'Koko', 'Rey',\n",
       "       'Gary', 'a', 'Elliot', 'Louis', 'Jesse', 'Romeo', 'Bailey',\n",
       "       'Duddles', 'Jack', 'Emmy', 'Steven', 'Beau', 'Snoopy', 'Shadow',\n",
       "       'Terrance', 'Aja', 'Penny', 'Dante', 'Nelly', 'Ginger', 'Benedict',\n",
       "       'Venti', 'Goose', 'Nugget', 'Cash', 'Coco', 'Jed', 'Sebastian',\n",
       "       'Walter', 'Sierra', 'Monkey', 'Harry', 'Kody', 'Lassie', 'Rover',\n",
       "       'Napolean', 'Dawn', 'Boomer', 'Cody', 'Rumble', 'Clifford',\n",
       "       'quite', 'Dewey', 'Scout', 'Gizmo', 'Cooper', 'Harold', 'Shikha',\n",
       "       'Jamesy', 'Lili', 'Sammy', 'Meatball', 'Paisley', 'Albus',\n",
       "       'Neptune', 'Quinn', 'Belle', 'Zooey', 'Dave', 'Jersey', 'Hobbes',\n",
       "       'Burt', 'Lorenzo', 'Carl', 'Jordy', 'Milky', 'Trooper', 'Winston',\n",
       "       'Sophie', 'Wyatt', 'Rosie', 'Thor', 'Oscar', 'Luna', 'Callie',\n",
       "       'Cermet', 'George', 'Marlee', 'Arya', 'Einstein', 'Alice',\n",
       "       'Rumpole', 'Benny', 'Aspen', 'Jarod', 'Wiggles', 'General',\n",
       "       'Sailor', 'Astrid', 'Iggy', 'Snoop', 'Kyle', 'Leo', 'Riley',\n",
       "       'Gidget', 'Noosh', 'Odin', 'Jerry', 'Charlie', 'Georgie', 'Rontu',\n",
       "       'Cannon', 'Furzey', 'Daisy', 'Tuck', 'Barney', 'Vixen', 'Jarvis',\n",
       "       'Mimosa', 'Pickles', 'Bungalo', 'Brady', 'Margo', 'Sadie', 'Hank',\n",
       "       'Tycho', 'Stephan', 'Indie', 'Winnie', 'Bentley', 'Ken', 'Max',\n",
       "       'Maddie', 'Pipsy', 'Monty', 'Sojourner', 'Odie', 'Arlo', 'Sunny',\n",
       "       'Vincent', 'Lucy', 'Clark', 'Mookie', 'Meera', 'Buddy', 'Ava',\n",
       "       'Rory', 'Eli', 'Ash', 'Tucker', 'Tobi', 'Chester', 'Wilson',\n",
       "       'Sunshine', 'Lipton', 'Gabby', 'Bronte', 'Poppy', 'Rhino',\n",
       "       'Willow', 'not', 'Orion', 'Eevee', 'Smiley', 'Logan', 'Moreton',\n",
       "       'Klein', 'Miguel', 'Emanuel', 'Kuyu', 'Dutch', 'Pete', 'Scooter',\n",
       "       'Reggie', 'Kyro', 'Samson', 'Loki', 'Mia', 'Malcolm', 'Dexter',\n",
       "       'Alfie', 'Fiona', 'one', 'Mutt', 'Bear', 'Doobert', 'Beebop',\n",
       "       'Alexander', 'Sailer', 'Brutus', 'Kona', 'Boots', 'Ralphie',\n",
       "       'Phil', 'Cupid', 'Pawnd', 'Pilot', 'Ike', 'Mo', 'Toby', 'Sweet',\n",
       "       'Pablo', 'Nala', 'Balto', 'Crawford', 'Gabe', 'Mattie', 'Jimison',\n",
       "       'Hercules', 'Duchess', 'Harlso', 'Sampson', 'Sundance', 'Luca',\n",
       "       'Flash', 'Finn', 'Peaches', 'Howie', 'Jazzy', 'Anna', 'Bo',\n",
       "       'Seamus', 'Wafer', 'Chelsea', 'Tom', 'Moose', 'Florence', 'Autumn',\n",
       "       'Dido', 'Eugene', 'Herschel', 'Strudel', 'Tebow', 'Chloe', 'Betty',\n",
       "       'Timber', 'Binky', 'Dudley', 'Comet', 'Larry', 'Levi', 'Akumi',\n",
       "       'Titan', 'Olivia', 'Alf', 'Oshie', 'Bruce', 'Chubbs', 'Sky',\n",
       "       'Atlas', 'Eleanor', 'Layla', 'Rocky', 'Baron', 'Tyr', 'Bauer',\n",
       "       'Swagger', 'Brandi', 'Mary', 'Moe', 'Halo', 'Augie', 'Craig',\n",
       "       'Sam', 'Hunter', 'Pavlov', 'Maximus', 'Wallace', 'Ito', 'Milo',\n",
       "       'Ollie', 'Cali', 'Lennon', 'incredibly', 'Major', 'Duke',\n",
       "       'Reginald', 'Sansa', 'Shooter', 'Django', 'Diogi', 'Sonny',\n",
       "       'Philbert', 'Marley', 'Severus', 'Ronnie', 'Anakin', 'Bones',\n",
       "       'Mauve', 'Chef', 'Doc', 'Sobe', 'Longfellow', 'Mister', 'Iroh',\n",
       "       'Baloo', 'Stubert', 'Paull', 'Timison', 'Davey', 'Pancake',\n",
       "       'Tyrone', 'Snicku', 'Ruby', 'Brody', 'Rizzy', 'Mack', 'Butter',\n",
       "       'Nimbus', 'Laika', 'Dobby', 'Juno', 'Maude', 'Lily', 'Newt',\n",
       "       'Benji', 'Nida', 'Robin', 'Monster', 'BeBe', 'Remus', 'Mabel',\n",
       "       'Misty', 'Happy', 'Mosby', 'Maggie', 'Leela', 'Ralphy', 'Brownie',\n",
       "       'Meyer', 'Stella', 'mad', 'Frank', 'Tonks', 'Lincoln', 'Oakley',\n",
       "       'Dale', 'Rizzo', 'Arnie', 'Pinot', 'Dallas', 'Hero', 'Frankie',\n",
       "       'Stormy', 'Mairi', 'Loomis', 'Godi', 'Kenny', 'Deacon', 'Timmy',\n",
       "       'Harper', 'Chipson', 'Combo', 'Dash', 'Bell', 'Hurley', 'Jay',\n",
       "       'Mya', 'Strider', 'an', 'Wesley', 'Solomon', 'Huck', 'very', 'O',\n",
       "       'Blue', 'Finley', 'Sprinkles', 'Heinrich', 'Shakespeare', 'Fizz',\n",
       "       'Chip', 'Grey', 'Roosevelt', 'Gromit', 'Willem', 'Dakota', 'Dixie',\n",
       "       'Al', 'Jackson', 'just', 'Carbon', 'DonDon', 'Kirby', 'Lou',\n",
       "       'Nollie', 'Chevy', 'Tito', 'Louie', 'Rupert', 'Rufus', 'Brudge',\n",
       "       'Shadoe', 'Colby', 'Angel', 'Brat', 'Tove', 'my', 'Aubie', 'Kota',\n",
       "       'Eve', 'Glenn', 'Shelby', 'Sephie', 'Bonaparte', 'Albert',\n",
       "       'Wishes', 'Rose', 'Theo', 'Rocco', 'Fido', 'Emma', 'Spencer',\n",
       "       'Lilli', 'Boston', 'Brandonald', 'Corey', 'Leonard', 'Chompsky',\n",
       "       'Beckham', 'Devón', 'Gert', 'Watson', 'Rubio', 'Keith', 'Dex',\n",
       "       'Carly', 'Ace', 'Tayzie', 'Grizzie', 'Fred', 'Gilbert', 'Zoe',\n",
       "       'Stewie', 'Calvin', 'Lilah', 'Spanky', 'Jameson', 'Piper',\n",
       "       'Atticus', 'Blu', 'Dietrich', 'Divine', 'Tripp', 'his', 'Cora',\n",
       "       'Huxley', 'Keurig', 'Bookstore', 'Linus', 'Abby', 'Shaggy',\n",
       "       'Shiloh', 'Gustav', 'Arlen', 'Percy', 'Lenox', 'Sugar', 'Harvey',\n",
       "       'Blanket', 'actually', 'Geno', 'Stark', 'Beya', 'Kilo', 'Kayla',\n",
       "       'Maxaroni', 'Doug', 'Edmund', 'Aqua', 'Theodore', 'Chase',\n",
       "       'getting', 'Rorie', 'Simba', 'Charles', 'Bayley', 'Axel',\n",
       "       'Storkson', 'Remy', 'Chadrick', 'Kellogg', 'Buckley', 'Livvie',\n",
       "       'Terry', 'Hermione', 'Ralpher', 'Aldrick', 'this', 'unacceptable',\n",
       "       'Rooney', 'Crystal', 'Ziva', 'Stefan', 'Pupcasso', 'Puff',\n",
       "       'Flurpson', 'Coleman', 'Enchilada', 'Raymond', 'all', 'Rueben',\n",
       "       'Cilantro', 'Karll', 'Sprout', 'Blitz', 'Bloop', 'Lillie',\n",
       "       'Ashleigh', 'Kreggory', 'Sarge', 'Luther', 'Ivar', 'Jangle',\n",
       "       'Schnitzel', 'Panda', 'Berkeley', 'Ralphé', 'Charleson', 'Clyde',\n",
       "       'Harnold', 'Sid', 'Pippa', 'Otis', 'Carper', 'Bowie',\n",
       "       'Alexanderson', 'Suki', 'Barclay', 'Skittle', 'Ebby', 'Flávio',\n",
       "       'Smokey', 'Link', 'Jennifur', 'Ozzy', 'Bluebert', 'Stephanus',\n",
       "       'Bubbles', 'old', 'Zeus', 'Bertson', 'Nico', 'Michelangelope',\n",
       "       'Siba', 'Calbert', 'Curtis', 'Travis', 'Thumas', 'Kanu', 'Lance',\n",
       "       'Opie', 'Kane', 'Olive', 'Chuckles', 'Staniel', 'Sora', 'Beemo',\n",
       "       'Gunner', 'infuriating', 'Lacy', 'Tater', 'Olaf', 'Cecil', 'Vince',\n",
       "       'Karma', 'Billy', 'Walker', 'Rodney', 'Klevin', 'Malikai',\n",
       "       'Bobble', 'River', 'Jebberson', 'Remington', 'Farfle', 'Jiminus',\n",
       "       'Clarkus', 'Finnegus', 'Cupcake', 'Kathmandu', 'Ellie', 'Katie',\n",
       "       'Kara', 'Adele', 'Zara', 'Ambrose', 'Jimothy', 'Bode', 'Terrenth',\n",
       "       'Reese', 'Chesterson', 'Lucia', 'Bisquick', 'Ralphson', 'Socks',\n",
       "       'Rambo', 'Rudy', 'Fiji', 'Rilo', 'Bilbo', 'Coopson', 'Yoda',\n",
       "       'Millie', 'Chet', 'Crouton', 'Daniel', 'Kaia', 'Murphy', 'Dotsy',\n",
       "       'Eazy', 'Coops', 'Fillup', 'Miley', 'Charl', 'Reagan', 'Yukon',\n",
       "       'CeCe', 'Cuddles', 'Claude', 'Jessiga', 'Carter', 'Ole', 'Pherb',\n",
       "       'Blipson', 'Reptar', 'Trevith', 'Berb', 'Bob', 'Colin', 'Brian',\n",
       "       'Oliviér', 'Grady', 'Kobe', 'Freddery', 'Bodie', 'Dunkin', 'Wally',\n",
       "       'Tupawc', 'Amber', 'Edgar', 'Teddy', 'Kingsley', 'Brockly',\n",
       "       'Richie', 'Molly', 'Vinscent', 'Cedrick', 'Hazel', 'Lolo', 'Eriq',\n",
       "       'Phred', 'the', 'Oddie', 'Maxwell', 'Geoff', 'Covach', 'Durg',\n",
       "       'Fynn', 'Ricky', 'Herald', 'Lucky', 'Ferg', 'Trip', 'Clarence',\n",
       "       'Hamrick', 'Brad', 'Pubert', 'Frönq', 'Derby', 'Lizzie', 'Ember',\n",
       "       'Blakely', 'Opal', 'Marq', 'Kramer', 'Barry', 'Gordon', 'Baxter',\n",
       "       'Mona', 'Horace', 'Crimson', 'Birf', 'Hammond', 'Lorelei', 'Marty',\n",
       "       'Brooks', 'Petrick', 'Hubertson', 'Gerbald', 'Oreo', 'Bruiser',\n",
       "       'Perry', 'Bobby', 'Jeph', 'Obi', 'Tino', 'Kulet', 'Sweets', 'Lupe',\n",
       "       'Tiger', 'Jiminy', 'Griffin', 'Banjo', 'Brandy', 'Lulu', 'Darrel',\n",
       "       'Taco', 'Joey', 'Patrick', 'Kreg', 'Todo', 'Tess', 'Ulysses',\n",
       "       'Toffee', 'Apollo', 'Asher', 'Glacier', 'Chuck', 'Champ', 'Ozzie',\n",
       "       'Griswold', 'Cheesy', 'Moofasa', 'Hector', 'Goliath', 'Kawhi',\n",
       "       'by', 'Emmie', 'Penelope', 'Willie', 'Rinna', 'Mike', 'William',\n",
       "       'Dwight', 'Evy', 'officially', 'Rascal', 'Linda', 'Tug', 'Tango',\n",
       "       'Grizz', 'Jerome', 'Crumpet', 'Jessifer', 'Izzy', 'Ralph', 'Sandy',\n",
       "       'Humphrey', 'Tassy', 'Juckson', 'Chuq', 'Tyrus', 'Karl',\n",
       "       'Godzilla', 'Vinnie', 'Kenneth', 'Herm', 'Bert', 'Striker',\n",
       "       'Donny', 'Pepper', 'Bernie', 'Buddah', 'Lenny', 'Arnold', 'Zuzu',\n",
       "       'Mollie', 'Laela', 'Tedders', 'Superpup', 'Rufio', 'Jeb', 'Rodman',\n",
       "       'Jonah', 'Chesney', 'life', 'Henry', 'Bobbay', 'Mitch', 'Kaiya',\n",
       "       'Acro', 'Aiden', 'Obie', 'Dot', 'Shnuggles', 'Kendall', 'Jeffri',\n",
       "       'Steve', 'Mac', 'Fletcher', 'Kenzie', 'Pumpkin', 'Schnozz',\n",
       "       'Gustaf', 'Cheryl', 'Ed', 'Leonidas', 'Norman', 'Caryl', 'Scott',\n",
       "       'Taz', 'Darby', 'Jackie', 'light', 'Jazz', 'Franq', 'Pippin',\n",
       "       'Rolf', 'Snickers', 'Ridley', 'Cal', 'Bradley', 'Bubba', 'Tuco',\n",
       "       'Patch', 'Mojo', 'Batdog', 'Dylan', 'space', 'Mark', 'JD',\n",
       "       'Alejandro', 'Scruffers', 'Pip', 'Julius', 'Tanner', 'Sparky',\n",
       "       'Anthony', 'Holly', 'Jett', 'Amy', 'Sage', 'Andy', 'Mason',\n",
       "       'Trigger', 'Antony', 'Creg', 'Traviss', 'Gin', 'Jeffrie', 'Danny',\n",
       "       'Ester', 'Pluto', 'Bloo', 'Edd', 'Willy', 'Herb', 'Damon',\n",
       "       'Peanut', 'Nigel', 'Butters', 'Sandra', 'Fabio', 'Randall', 'Liam',\n",
       "       'Tommy', 'Ben', 'Raphael', 'Julio', 'Andru', 'Kloey', 'Shawwn',\n",
       "       'Skye', 'Kollin', 'Ronduh', 'Billl', 'Saydee', 'Dug', 'Tessa',\n",
       "       'Sully', 'Kirk', 'Ralf', 'Clarq', 'Jaspers', 'Samsom', 'Harrison',\n",
       "       'Chaz', 'Jeremy', 'Jaycob', 'Lambeau', 'Ruffles', 'Amélie', 'Bobb',\n",
       "       'Banditt', 'Kevon', 'Winifred', 'Hanz', 'Churlie', 'Zeek',\n",
       "       'Timofy', 'Maks', 'Jomathan', 'Kallie', 'Marvin', 'Spark',\n",
       "       'Gòrdón', 'Jo', 'DayZ', 'Jareld', 'Torque', 'Ron', 'Skittles',\n",
       "       'Cleopatricia', 'Erik', 'Stu', 'Tedrick', 'Filup', 'Kial',\n",
       "       'Naphaniel', 'Dook', 'Hall', 'Philippe', 'Biden', 'Fwed',\n",
       "       'Genevieve', 'Joshwa', 'Bradlay', 'Clybe', 'Keet', 'Carll',\n",
       "       'Jockson', 'Josep', 'Lugan', 'Christoper'], dtype=object)"
      ]
     },
     "execution_count": 590,
     "metadata": {},
     "output_type": "execute_result"
    }
   ],
   "source": [
    "df_enhanced.name.unique()"
   ]
  },
  {
   "cell_type": "code",
   "execution_count": 591,
   "metadata": {},
   "outputs": [
    {
     "data": {
      "text/plain": [
       "array(['Phineas', 'Tilly', 'Archie', 'Darla', 'Franklin', 'None', 'Jax',\n",
       "       'Zoey', 'Cassie', 'Koda', 'Bruno', 'Ted', 'Stuart', 'Oliver',\n",
       "       'Jim', 'Zeke', 'Ralphus', 'Canela', 'Gerald', 'Jeffrey', 'such',\n",
       "       'Maya', 'Mingus', 'Derek', 'Roscoe', 'Waffles', 'Jimbo', 'Maisey',\n",
       "       'Lilly', 'Earl', 'Lola', 'Kevin', 'Yogi', 'Noah', 'Bella',\n",
       "       'Grizzwald', 'Rusty', 'Gus', 'Stanley', 'Alfy', 'Koko', 'Rey',\n",
       "       'Gary', 'a', 'Elliot', 'Louis', 'Jesse', 'Romeo', 'Bailey',\n",
       "       'Duddles', 'Jack', 'Emmy', 'Steven', 'Beau', 'Snoopy', 'Shadow',\n",
       "       'Terrance', 'Aja', 'Penny', 'Dante', 'Nelly', 'Ginger', 'Benedict',\n",
       "       'Venti', 'Goose', 'Nugget', 'Cash', 'Coco', 'Jed', 'Sebastian',\n",
       "       'Walter', 'Sierra', 'Monkey', 'Harry', 'Kody', 'Lassie', 'Rover',\n",
       "       'Napolean', 'Dawn', 'Boomer', 'Cody', 'Rumble', 'Clifford',\n",
       "       'quite', 'Dewey', 'Scout', 'Gizmo', 'Cooper', 'Harold', 'Shikha',\n",
       "       'Jamesy', 'Lili', 'Sammy', 'Meatball', 'Paisley', 'Albus',\n",
       "       'Neptune', 'Quinn', 'Belle', 'Zooey', 'Dave', 'Jersey', 'Hobbes',\n",
       "       'Burt', 'Lorenzo', 'Carl', 'Jordy', 'Milky', 'Trooper', 'Winston',\n",
       "       'Sophie', 'Wyatt', 'Rosie', 'Thor', 'Oscar', 'Luna', 'Callie',\n",
       "       'Cermet', 'George', 'Marlee', 'Arya', 'Einstein', 'Alice',\n",
       "       'Rumpole', 'Benny', 'Aspen', 'Jarod', 'Wiggles', 'General',\n",
       "       'Sailor', 'Astrid', 'Iggy', 'Snoop', 'Kyle', 'Leo', 'Riley',\n",
       "       'Gidget', 'Noosh', 'Odin', 'Jerry', 'Charlie', 'Georgie', 'Rontu',\n",
       "       'Cannon', 'Furzey', 'Daisy', 'Tuck', 'Barney', 'Vixen', 'Jarvis',\n",
       "       'Mimosa', 'Pickles', 'Bungalo', 'Brady', 'Margo', 'Sadie', 'Hank',\n",
       "       'Tycho', 'Stephan', 'Indie', 'Winnie', 'Bentley', 'Ken', 'Max',\n",
       "       'Maddie', 'Pipsy', 'Monty', 'Sojourner', 'Odie', 'Arlo', 'Sunny',\n",
       "       'Vincent', 'Lucy', 'Clark', 'Mookie', 'Meera', 'Buddy', 'Ava',\n",
       "       'Rory', 'Eli', 'Ash', 'Tucker', 'Tobi', 'Chester', 'Wilson',\n",
       "       'Sunshine', 'Lipton', 'Gabby', 'Bronte', 'Poppy', 'Rhino',\n",
       "       'Willow', 'not', 'Orion', 'Eevee', 'Smiley', 'Logan', 'Moreton',\n",
       "       'Klein', 'Miguel', 'Emanuel', 'Kuyu', 'Dutch', 'Pete', 'Scooter',\n",
       "       'Reggie', 'Kyro', 'Samson', 'Loki', 'Mia', 'Malcolm', 'Dexter',\n",
       "       'Alfie', 'Fiona', 'one', 'Mutt', 'Bear', 'Doobert', 'Beebop',\n",
       "       'Alexander', 'Sailer', 'Brutus', 'Kona', 'Boots', 'Ralphie',\n",
       "       'Phil', 'Cupid', 'Pawnd', 'Pilot', 'Ike', 'Mo', 'Toby', 'Sweet',\n",
       "       'Pablo', 'Nala', 'Balto', 'Crawford', 'Gabe', 'Mattie', 'Jimison',\n",
       "       'Hercules', 'Duchess', 'Harlso', 'Sampson', 'Sundance', 'Luca',\n",
       "       'Flash', 'Finn', 'Peaches', 'Howie', 'Jazzy', 'Anna', 'Bo',\n",
       "       'Seamus', 'Wafer', 'Chelsea', 'Tom', 'Moose', 'Florence', 'Autumn',\n",
       "       'Dido', 'Eugene', 'Herschel', 'Strudel', 'Tebow', 'Chloe', 'Betty',\n",
       "       'Timber', 'Binky', 'Dudley', 'Comet', 'Larry', 'Levi', 'Akumi',\n",
       "       'Titan', 'Olivia', 'Alf', 'Oshie', 'Bruce', 'Chubbs', 'Sky',\n",
       "       'Atlas', 'Eleanor', 'Layla', 'Rocky', 'Baron', 'Tyr', 'Bauer',\n",
       "       'Swagger', 'Brandi', 'Mary', 'Moe', 'Halo', 'Augie', 'Craig',\n",
       "       'Sam', 'Hunter', 'Pavlov', 'Maximus', 'Wallace', 'Ito', 'Milo',\n",
       "       'Ollie', 'Cali', 'Lennon', 'incredibly', 'Major', 'Duke',\n",
       "       'Reginald', 'Sansa', 'Shooter', 'Django', 'Diogi', 'Sonny',\n",
       "       'Philbert', 'Marley', 'Severus', 'Ronnie', 'Anakin', 'Bones',\n",
       "       'Mauve', 'Chef', 'Doc', 'Sobe', 'Longfellow', 'Mister', 'Iroh',\n",
       "       'Baloo', 'Stubert', 'Paull', 'Timison', 'Davey', 'Pancake',\n",
       "       'Tyrone', 'Snicku', 'Ruby', 'Brody', 'Rizzy', 'Mack', 'Butter',\n",
       "       'Nimbus', 'Laika', 'Dobby', 'Juno', 'Maude', 'Lily', 'Newt',\n",
       "       'Benji', 'Nida', 'Robin', 'Monster', 'BeBe', 'Remus', 'Mabel',\n",
       "       'Misty', 'Happy', 'Mosby', 'Maggie', 'Leela', 'Ralphy', 'Brownie',\n",
       "       'Meyer', 'Stella', 'mad', 'Frank', 'Tonks', 'Lincoln', 'Oakley',\n",
       "       'Dale', 'Rizzo', 'Arnie', 'Pinot', 'Dallas', 'Hero', 'Frankie',\n",
       "       'Stormy', 'Mairi', 'Loomis', 'Godi', 'Kenny', 'Deacon', 'Timmy',\n",
       "       'Harper', 'Chipson', 'Combo', 'Dash', 'Bell', 'Hurley', 'Jay',\n",
       "       'Mya', 'Strider', 'an', 'Wesley', 'Solomon', 'Huck', 'very', 'O',\n",
       "       'Blue', 'Finley', 'Sprinkles', 'Heinrich', 'Shakespeare', 'Fizz',\n",
       "       'Chip', 'Grey', 'Roosevelt', 'Gromit', 'Willem', 'Dakota', 'Dixie',\n",
       "       'Al', 'Jackson', 'just', 'Carbon', 'DonDon', 'Kirby', 'Lou',\n",
       "       'Nollie', 'Chevy', 'Tito', 'Louie', 'Rupert', 'Rufus', 'Brudge',\n",
       "       'Shadoe', 'Colby', 'Angel', 'Brat', 'Tove', 'my', 'Aubie', 'Kota',\n",
       "       'Eve', 'Glenn', 'Shelby', 'Sephie', 'Bonaparte', 'Albert',\n",
       "       'Wishes', 'Rose', 'Theo', 'Rocco', 'Fido', 'Emma', 'Spencer',\n",
       "       'Lilli', 'Boston', 'Brandonald', 'Corey', 'Leonard', 'Chompsky',\n",
       "       'Beckham', 'Devón', 'Gert', 'Watson', 'Rubio', 'Keith', 'Dex',\n",
       "       'Carly', 'Ace', 'Tayzie', 'Grizzie', 'Fred', 'Gilbert', 'Zoe',\n",
       "       'Stewie', 'Calvin', 'Lilah', 'Spanky', 'Jameson', 'Piper',\n",
       "       'Atticus', 'Blu', 'Dietrich', 'Divine', 'Tripp', 'his', 'Cora',\n",
       "       'Huxley', 'Keurig', 'Bookstore', 'Linus', 'Abby', 'Shaggy',\n",
       "       'Shiloh', 'Gustav', 'Arlen', 'Percy', 'Lenox', 'Sugar', 'Harvey',\n",
       "       'Blanket', 'actually', 'Geno', 'Stark', 'Beya', 'Kilo', 'Kayla',\n",
       "       'Maxaroni', 'Doug', 'Edmund', 'Aqua', 'Theodore', 'Chase',\n",
       "       'getting', 'Rorie', 'Simba', 'Charles', 'Bayley', 'Axel',\n",
       "       'Storkson', 'Remy', 'Chadrick', 'Kellogg', 'Buckley', 'Livvie',\n",
       "       'Terry', 'Hermione', 'Ralpher', 'Aldrick', 'this', 'unacceptable',\n",
       "       'Rooney', 'Crystal', 'Ziva', 'Stefan', 'Pupcasso', 'Puff',\n",
       "       'Flurpson', 'Coleman', 'Enchilada', 'Raymond', 'all', 'Rueben',\n",
       "       'Cilantro', 'Karll', 'Sprout', 'Blitz', 'Bloop', 'Lillie',\n",
       "       'Ashleigh', 'Kreggory', 'Sarge', 'Luther', 'Ivar', 'Jangle',\n",
       "       'Schnitzel', 'Panda', 'Berkeley', 'Ralphé', 'Charleson', 'Clyde',\n",
       "       'Harnold', 'Sid', 'Pippa', 'Otis', 'Carper', 'Bowie',\n",
       "       'Alexanderson', 'Suki', 'Barclay', 'Skittle', 'Ebby', 'Flávio',\n",
       "       'Smokey', 'Link', 'Jennifur', 'Ozzy', 'Bluebert', 'Stephanus',\n",
       "       'Bubbles', 'old', 'Zeus', 'Bertson', 'Nico', 'Michelangelope',\n",
       "       'Siba', 'Calbert', 'Curtis', 'Travis', 'Thumas', 'Kanu', 'Lance',\n",
       "       'Opie', 'Kane', 'Olive', 'Chuckles', 'Staniel', 'Sora', 'Beemo',\n",
       "       'Gunner', 'infuriating', 'Lacy', 'Tater', 'Olaf', 'Cecil', 'Vince',\n",
       "       'Karma', 'Billy', 'Walker', 'Rodney', 'Klevin', 'Malikai',\n",
       "       'Bobble', 'River', 'Jebberson', 'Remington', 'Farfle', 'Jiminus',\n",
       "       'Clarkus', 'Finnegus', 'Cupcake', 'Kathmandu', 'Ellie', 'Katie',\n",
       "       'Kara', 'Adele', 'Zara', 'Ambrose', 'Jimothy', 'Bode', 'Terrenth',\n",
       "       'Reese', 'Chesterson', 'Lucia', 'Bisquick', 'Ralphson', 'Socks',\n",
       "       'Rambo', 'Rudy', 'Fiji', 'Rilo', 'Bilbo', 'Coopson', 'Yoda',\n",
       "       'Millie', 'Chet', 'Crouton', 'Daniel', 'Kaia', 'Murphy', 'Dotsy',\n",
       "       'Eazy', 'Coops', 'Fillup', 'Miley', 'Charl', 'Reagan', 'Yukon',\n",
       "       'CeCe', 'Cuddles', 'Claude', 'Jessiga', 'Carter', 'Ole', 'Pherb',\n",
       "       'Blipson', 'Reptar', 'Trevith', 'Berb', 'Bob', 'Colin', 'Brian',\n",
       "       'Oliviér', 'Grady', 'Kobe', 'Freddery', 'Bodie', 'Dunkin', 'Wally',\n",
       "       'Tupawc', 'Amber', 'Edgar', 'Teddy', 'Kingsley', 'Brockly',\n",
       "       'Richie', 'Molly', 'Vinscent', 'Cedrick', 'Hazel', 'Lolo', 'Eriq',\n",
       "       'Phred', 'the', 'Oddie', 'Maxwell', 'Geoff', 'Covach', 'Durg',\n",
       "       'Fynn', 'Ricky', 'Herald', 'Lucky', 'Ferg', 'Trip', 'Clarence',\n",
       "       'Hamrick', 'Brad', 'Pubert', 'Frönq', 'Derby', 'Lizzie', 'Ember',\n",
       "       'Blakely', 'Opal', 'Marq', 'Kramer', 'Barry', 'Gordon', 'Baxter',\n",
       "       'Mona', 'Horace', 'Crimson', 'Birf', 'Hammond', 'Lorelei', 'Marty',\n",
       "       'Brooks', 'Petrick', 'Hubertson', 'Gerbald', 'Oreo', 'Bruiser',\n",
       "       'Perry', 'Bobby', 'Jeph', 'Obi', 'Tino', 'Kulet', 'Sweets', 'Lupe',\n",
       "       'Tiger', 'Jiminy', 'Griffin', 'Banjo', 'Brandy', 'Lulu', 'Darrel',\n",
       "       'Taco', 'Joey', 'Patrick', 'Kreg', 'Todo', 'Tess', 'Ulysses',\n",
       "       'Toffee', 'Apollo', 'Asher', 'Glacier', 'Chuck', 'Champ', 'Ozzie',\n",
       "       'Griswold', 'Cheesy', 'Moofasa', 'Hector', 'Goliath', 'Kawhi',\n",
       "       'by', 'Emmie', 'Penelope', 'Willie', 'Rinna', 'Mike', 'William',\n",
       "       'Dwight', 'Evy', 'officially', 'Rascal', 'Linda', 'Tug', 'Tango',\n",
       "       'Grizz', 'Jerome', 'Crumpet', 'Jessifer', 'Izzy', 'Ralph', 'Sandy',\n",
       "       'Humphrey', 'Tassy', 'Juckson', 'Chuq', 'Tyrus', 'Karl',\n",
       "       'Godzilla', 'Vinnie', 'Kenneth', 'Herm', 'Bert', 'Striker',\n",
       "       'Donny', 'Pepper', 'Bernie', 'Buddah', 'Lenny', 'Arnold', 'Zuzu',\n",
       "       'Mollie', 'Laela', 'Tedders', 'Superpup', 'Rufio', 'Jeb', 'Rodman',\n",
       "       'Jonah', 'Chesney', 'life', 'Henry', 'Bobbay', 'Mitch', 'Kaiya',\n",
       "       'Acro', 'Aiden', 'Obie', 'Dot', 'Shnuggles', 'Kendall', 'Jeffri',\n",
       "       'Steve', 'Mac', 'Fletcher', 'Kenzie', 'Pumpkin', 'Schnozz',\n",
       "       'Gustaf', 'Cheryl', 'Ed', 'Leonidas', 'Norman', 'Caryl', 'Scott',\n",
       "       'Taz', 'Darby', 'Jackie', 'light', 'Jazz', 'Franq', 'Pippin',\n",
       "       'Rolf', 'Snickers', 'Ridley', 'Cal', 'Bradley', 'Bubba', 'Tuco',\n",
       "       'Patch', 'Mojo', 'Batdog', 'Dylan', 'space', 'Mark', 'JD',\n",
       "       'Alejandro', 'Scruffers', 'Pip', 'Julius', 'Tanner', 'Sparky',\n",
       "       'Anthony', 'Holly', 'Jett', 'Amy', 'Sage', 'Andy', 'Mason',\n",
       "       'Trigger', 'Antony', 'Creg', 'Traviss', 'Gin', 'Jeffrie', 'Danny',\n",
       "       'Ester', 'Pluto', 'Bloo', 'Edd', 'Willy', 'Herb', 'Damon',\n",
       "       'Peanut', 'Nigel', 'Butters', 'Sandra', 'Fabio', 'Randall', 'Liam',\n",
       "       'Tommy', 'Ben', 'Raphael', 'Julio', 'Andru', 'Kloey', 'Shawwn',\n",
       "       'Skye', 'Kollin', 'Ronduh', 'Billl', 'Saydee', 'Dug', 'Tessa',\n",
       "       'Sully', 'Kirk', 'Ralf', 'Clarq', 'Jaspers', 'Samsom', 'Harrison',\n",
       "       'Chaz', 'Jeremy', 'Jaycob', 'Lambeau', 'Ruffles', 'Amélie', 'Bobb',\n",
       "       'Banditt', 'Kevon', 'Winifred', 'Hanz', 'Churlie', 'Zeek',\n",
       "       'Timofy', 'Maks', 'Jomathan', 'Kallie', 'Marvin', 'Spark',\n",
       "       'Gòrdón', 'Jo', 'DayZ', 'Jareld', 'Torque', 'Ron', 'Skittles',\n",
       "       'Cleopatricia', 'Erik', 'Stu', 'Tedrick', 'Filup', 'Kial',\n",
       "       'Naphaniel', 'Dook', 'Hall', 'Philippe', 'Biden', 'Fwed',\n",
       "       'Genevieve', 'Joshwa', 'Bradlay', 'Clybe', 'Keet', 'Carll',\n",
       "       'Jockson', 'Josep', 'Lugan', 'Christoper'], dtype=object)"
      ]
     },
     "execution_count": 591,
     "metadata": {},
     "output_type": "execute_result"
    }
   ],
   "source": [
    "df_enhanced.name.unique()"
   ]
  },
  {
   "cell_type": "code",
   "execution_count": 592,
   "metadata": {},
   "outputs": [
    {
     "data": {
      "text/html": [
       "<div>\n",
       "<style scoped>\n",
       "    .dataframe tbody tr th:only-of-type {\n",
       "        vertical-align: middle;\n",
       "    }\n",
       "\n",
       "    .dataframe tbody tr th {\n",
       "        vertical-align: top;\n",
       "    }\n",
       "\n",
       "    .dataframe thead th {\n",
       "        text-align: right;\n",
       "    }\n",
       "</style>\n",
       "<table border=\"1\" class=\"dataframe\">\n",
       "  <thead>\n",
       "    <tr style=\"text-align: right;\">\n",
       "      <th></th>\n",
       "      <th>tweet_id</th>\n",
       "      <th>in_reply_to_status_id</th>\n",
       "      <th>in_reply_to_user_id</th>\n",
       "      <th>timestamp</th>\n",
       "      <th>source</th>\n",
       "      <th>text</th>\n",
       "      <th>retweeted_status_id</th>\n",
       "      <th>retweeted_status_user_id</th>\n",
       "      <th>retweeted_status_timestamp</th>\n",
       "      <th>expanded_urls</th>\n",
       "      <th>rating_numerator</th>\n",
       "      <th>rating_denominator</th>\n",
       "      <th>name</th>\n",
       "      <th>doggo</th>\n",
       "      <th>floofer</th>\n",
       "      <th>pupper</th>\n",
       "      <th>puppo</th>\n",
       "    </tr>\n",
       "  </thead>\n",
       "  <tbody>\n",
       "    <tr>\n",
       "      <th>30</th>\n",
       "      <td>886267009285017600</td>\n",
       "      <td>8.862664e+17</td>\n",
       "      <td>2.281182e+09</td>\n",
       "      <td>2017-07-15 16:51:35 +0000</td>\n",
       "      <td>&lt;a href=\"http://twitter.com/download/iphone\" r...</td>\n",
       "      <td>@NonWhiteHat @MayhewMayhem omg hello tanner yo...</td>\n",
       "      <td>NaN</td>\n",
       "      <td>NaN</td>\n",
       "      <td>NaN</td>\n",
       "      <td>NaN</td>\n",
       "      <td>12</td>\n",
       "      <td>10</td>\n",
       "      <td>None</td>\n",
       "      <td>None</td>\n",
       "      <td>None</td>\n",
       "      <td>None</td>\n",
       "      <td>None</td>\n",
       "    </tr>\n",
       "    <tr>\n",
       "      <th>35</th>\n",
       "      <td>885518971528720385</td>\n",
       "      <td>NaN</td>\n",
       "      <td>NaN</td>\n",
       "      <td>2017-07-13 15:19:09 +0000</td>\n",
       "      <td>&lt;a href=\"http://twitter.com/download/iphone\" r...</td>\n",
       "      <td>I have a new hero and his name is Howard. 14/1...</td>\n",
       "      <td>NaN</td>\n",
       "      <td>NaN</td>\n",
       "      <td>NaN</td>\n",
       "      <td>https://twitter.com/4bonds2carbon/status/88551...</td>\n",
       "      <td>14</td>\n",
       "      <td>10</td>\n",
       "      <td>None</td>\n",
       "      <td>None</td>\n",
       "      <td>None</td>\n",
       "      <td>None</td>\n",
       "      <td>None</td>\n",
       "    </tr>\n",
       "    <tr>\n",
       "      <th>42</th>\n",
       "      <td>884247878851493888</td>\n",
       "      <td>NaN</td>\n",
       "      <td>NaN</td>\n",
       "      <td>2017-07-10 03:08:17 +0000</td>\n",
       "      <td>&lt;a href=\"http://twitter.com/download/iphone\" r...</td>\n",
       "      <td>OMG HE DIDN'T MEAN TO HE WAS JUST TRYING A LIT...</td>\n",
       "      <td>NaN</td>\n",
       "      <td>NaN</td>\n",
       "      <td>NaN</td>\n",
       "      <td>https://twitter.com/kaijohnson_19/status/88396...</td>\n",
       "      <td>13</td>\n",
       "      <td>10</td>\n",
       "      <td>None</td>\n",
       "      <td>None</td>\n",
       "      <td>None</td>\n",
       "      <td>None</td>\n",
       "      <td>None</td>\n",
       "    </tr>\n",
       "    <tr>\n",
       "      <th>55</th>\n",
       "      <td>881633300179243008</td>\n",
       "      <td>8.816070e+17</td>\n",
       "      <td>4.738443e+07</td>\n",
       "      <td>2017-07-02 21:58:53 +0000</td>\n",
       "      <td>&lt;a href=\"http://twitter.com/download/iphone\" r...</td>\n",
       "      <td>@roushfenway These are good dogs but 17/10 is ...</td>\n",
       "      <td>NaN</td>\n",
       "      <td>NaN</td>\n",
       "      <td>NaN</td>\n",
       "      <td>NaN</td>\n",
       "      <td>17</td>\n",
       "      <td>10</td>\n",
       "      <td>None</td>\n",
       "      <td>None</td>\n",
       "      <td>None</td>\n",
       "      <td>None</td>\n",
       "      <td>None</td>\n",
       "    </tr>\n",
       "    <tr>\n",
       "      <th>64</th>\n",
       "      <td>879674319642796034</td>\n",
       "      <td>8.795538e+17</td>\n",
       "      <td>3.105441e+09</td>\n",
       "      <td>2017-06-27 12:14:36 +0000</td>\n",
       "      <td>&lt;a href=\"http://twitter.com/download/iphone\" r...</td>\n",
       "      <td>@RealKentMurphy 14/10 confirmed</td>\n",
       "      <td>NaN</td>\n",
       "      <td>NaN</td>\n",
       "      <td>NaN</td>\n",
       "      <td>NaN</td>\n",
       "      <td>14</td>\n",
       "      <td>10</td>\n",
       "      <td>None</td>\n",
       "      <td>None</td>\n",
       "      <td>None</td>\n",
       "      <td>None</td>\n",
       "      <td>None</td>\n",
       "    </tr>\n",
       "    <tr>\n",
       "      <th>...</th>\n",
       "      <td>...</td>\n",
       "      <td>...</td>\n",
       "      <td>...</td>\n",
       "      <td>...</td>\n",
       "      <td>...</td>\n",
       "      <td>...</td>\n",
       "      <td>...</td>\n",
       "      <td>...</td>\n",
       "      <td>...</td>\n",
       "      <td>...</td>\n",
       "      <td>...</td>\n",
       "      <td>...</td>\n",
       "      <td>...</td>\n",
       "      <td>...</td>\n",
       "      <td>...</td>\n",
       "      <td>...</td>\n",
       "      <td>...</td>\n",
       "    </tr>\n",
       "    <tr>\n",
       "      <th>2189</th>\n",
       "      <td>668967877119254528</td>\n",
       "      <td>6.689207e+17</td>\n",
       "      <td>2.143566e+07</td>\n",
       "      <td>2015-11-24 01:42:25 +0000</td>\n",
       "      <td>&lt;a href=\"http://twitter.com/download/iphone\" r...</td>\n",
       "      <td>12/10 good shit Bubka\\n@wane15</td>\n",
       "      <td>NaN</td>\n",
       "      <td>NaN</td>\n",
       "      <td>NaN</td>\n",
       "      <td>NaN</td>\n",
       "      <td>12</td>\n",
       "      <td>10</td>\n",
       "      <td>None</td>\n",
       "      <td>None</td>\n",
       "      <td>None</td>\n",
       "      <td>None</td>\n",
       "      <td>None</td>\n",
       "    </tr>\n",
       "    <tr>\n",
       "      <th>2212</th>\n",
       "      <td>668587383441514497</td>\n",
       "      <td>NaN</td>\n",
       "      <td>NaN</td>\n",
       "      <td>2015-11-23 00:30:28 +0000</td>\n",
       "      <td>&lt;a href=\"http://vine.co\" rel=\"nofollow\"&gt;Vine -...</td>\n",
       "      <td>Never forget this vine. You will not stop watc...</td>\n",
       "      <td>NaN</td>\n",
       "      <td>NaN</td>\n",
       "      <td>NaN</td>\n",
       "      <td>https://vine.co/v/ea0OwvPTx9l</td>\n",
       "      <td>13</td>\n",
       "      <td>10</td>\n",
       "      <td>the</td>\n",
       "      <td>None</td>\n",
       "      <td>None</td>\n",
       "      <td>None</td>\n",
       "      <td>None</td>\n",
       "    </tr>\n",
       "    <tr>\n",
       "      <th>2259</th>\n",
       "      <td>667550904950915073</td>\n",
       "      <td>NaN</td>\n",
       "      <td>NaN</td>\n",
       "      <td>2015-11-20 03:51:52 +0000</td>\n",
       "      <td>&lt;a href=\"http://twitter.com\" rel=\"nofollow\"&gt;Tw...</td>\n",
       "      <td>RT @dogratingrating: Exceptional talent. Origi...</td>\n",
       "      <td>6.675487e+17</td>\n",
       "      <td>4.296832e+09</td>\n",
       "      <td>2015-11-20 03:43:06 +0000</td>\n",
       "      <td>https://twitter.com/dogratingrating/status/667...</td>\n",
       "      <td>12</td>\n",
       "      <td>10</td>\n",
       "      <td>None</td>\n",
       "      <td>None</td>\n",
       "      <td>None</td>\n",
       "      <td>None</td>\n",
       "      <td>None</td>\n",
       "    </tr>\n",
       "    <tr>\n",
       "      <th>2260</th>\n",
       "      <td>667550882905632768</td>\n",
       "      <td>NaN</td>\n",
       "      <td>NaN</td>\n",
       "      <td>2015-11-20 03:51:47 +0000</td>\n",
       "      <td>&lt;a href=\"http://twitter.com\" rel=\"nofollow\"&gt;Tw...</td>\n",
       "      <td>RT @dogratingrating: Unoriginal idea. Blatant ...</td>\n",
       "      <td>6.675484e+17</td>\n",
       "      <td>4.296832e+09</td>\n",
       "      <td>2015-11-20 03:41:59 +0000</td>\n",
       "      <td>https://twitter.com/dogratingrating/status/667...</td>\n",
       "      <td>5</td>\n",
       "      <td>10</td>\n",
       "      <td>None</td>\n",
       "      <td>None</td>\n",
       "      <td>None</td>\n",
       "      <td>None</td>\n",
       "      <td>None</td>\n",
       "    </tr>\n",
       "    <tr>\n",
       "      <th>2298</th>\n",
       "      <td>667070482143944705</td>\n",
       "      <td>6.670655e+17</td>\n",
       "      <td>4.196984e+09</td>\n",
       "      <td>2015-11-18 20:02:51 +0000</td>\n",
       "      <td>&lt;a href=\"http://twitter.com/download/iphone\" r...</td>\n",
       "      <td>After much debate this dog is being upgraded t...</td>\n",
       "      <td>NaN</td>\n",
       "      <td>NaN</td>\n",
       "      <td>NaN</td>\n",
       "      <td>NaN</td>\n",
       "      <td>10</td>\n",
       "      <td>10</td>\n",
       "      <td>None</td>\n",
       "      <td>None</td>\n",
       "      <td>None</td>\n",
       "      <td>None</td>\n",
       "      <td>None</td>\n",
       "    </tr>\n",
       "  </tbody>\n",
       "</table>\n",
       "<p>217 rows × 17 columns</p>\n",
       "</div>"
      ],
      "text/plain": [
       "                tweet_id  in_reply_to_status_id  in_reply_to_user_id  \\\n",
       "30    886267009285017600           8.862664e+17         2.281182e+09   \n",
       "35    885518971528720385                    NaN                  NaN   \n",
       "42    884247878851493888                    NaN                  NaN   \n",
       "55    881633300179243008           8.816070e+17         4.738443e+07   \n",
       "64    879674319642796034           8.795538e+17         3.105441e+09   \n",
       "...                  ...                    ...                  ...   \n",
       "2189  668967877119254528           6.689207e+17         2.143566e+07   \n",
       "2212  668587383441514497                    NaN                  NaN   \n",
       "2259  667550904950915073                    NaN                  NaN   \n",
       "2260  667550882905632768                    NaN                  NaN   \n",
       "2298  667070482143944705           6.670655e+17         4.196984e+09   \n",
       "\n",
       "                      timestamp  \\\n",
       "30    2017-07-15 16:51:35 +0000   \n",
       "35    2017-07-13 15:19:09 +0000   \n",
       "42    2017-07-10 03:08:17 +0000   \n",
       "55    2017-07-02 21:58:53 +0000   \n",
       "64    2017-06-27 12:14:36 +0000   \n",
       "...                         ...   \n",
       "2189  2015-11-24 01:42:25 +0000   \n",
       "2212  2015-11-23 00:30:28 +0000   \n",
       "2259  2015-11-20 03:51:52 +0000   \n",
       "2260  2015-11-20 03:51:47 +0000   \n",
       "2298  2015-11-18 20:02:51 +0000   \n",
       "\n",
       "                                                 source  \\\n",
       "30    <a href=\"http://twitter.com/download/iphone\" r...   \n",
       "35    <a href=\"http://twitter.com/download/iphone\" r...   \n",
       "42    <a href=\"http://twitter.com/download/iphone\" r...   \n",
       "55    <a href=\"http://twitter.com/download/iphone\" r...   \n",
       "64    <a href=\"http://twitter.com/download/iphone\" r...   \n",
       "...                                                 ...   \n",
       "2189  <a href=\"http://twitter.com/download/iphone\" r...   \n",
       "2212  <a href=\"http://vine.co\" rel=\"nofollow\">Vine -...   \n",
       "2259  <a href=\"http://twitter.com\" rel=\"nofollow\">Tw...   \n",
       "2260  <a href=\"http://twitter.com\" rel=\"nofollow\">Tw...   \n",
       "2298  <a href=\"http://twitter.com/download/iphone\" r...   \n",
       "\n",
       "                                                   text  retweeted_status_id  \\\n",
       "30    @NonWhiteHat @MayhewMayhem omg hello tanner yo...                  NaN   \n",
       "35    I have a new hero and his name is Howard. 14/1...                  NaN   \n",
       "42    OMG HE DIDN'T MEAN TO HE WAS JUST TRYING A LIT...                  NaN   \n",
       "55    @roushfenway These are good dogs but 17/10 is ...                  NaN   \n",
       "64                      @RealKentMurphy 14/10 confirmed                  NaN   \n",
       "...                                                 ...                  ...   \n",
       "2189                     12/10 good shit Bubka\\n@wane15                  NaN   \n",
       "2212  Never forget this vine. You will not stop watc...                  NaN   \n",
       "2259  RT @dogratingrating: Exceptional talent. Origi...         6.675487e+17   \n",
       "2260  RT @dogratingrating: Unoriginal idea. Blatant ...         6.675484e+17   \n",
       "2298  After much debate this dog is being upgraded t...                  NaN   \n",
       "\n",
       "      retweeted_status_user_id retweeted_status_timestamp  \\\n",
       "30                         NaN                        NaN   \n",
       "35                         NaN                        NaN   \n",
       "42                         NaN                        NaN   \n",
       "55                         NaN                        NaN   \n",
       "64                         NaN                        NaN   \n",
       "...                        ...                        ...   \n",
       "2189                       NaN                        NaN   \n",
       "2212                       NaN                        NaN   \n",
       "2259              4.296832e+09  2015-11-20 03:43:06 +0000   \n",
       "2260              4.296832e+09  2015-11-20 03:41:59 +0000   \n",
       "2298                       NaN                        NaN   \n",
       "\n",
       "                                          expanded_urls  rating_numerator  \\\n",
       "30                                                  NaN                12   \n",
       "35    https://twitter.com/4bonds2carbon/status/88551...                14   \n",
       "42    https://twitter.com/kaijohnson_19/status/88396...                13   \n",
       "55                                                  NaN                17   \n",
       "64                                                  NaN                14   \n",
       "...                                                 ...               ...   \n",
       "2189                                                NaN                12   \n",
       "2212                      https://vine.co/v/ea0OwvPTx9l                13   \n",
       "2259  https://twitter.com/dogratingrating/status/667...                12   \n",
       "2260  https://twitter.com/dogratingrating/status/667...                 5   \n",
       "2298                                                NaN                10   \n",
       "\n",
       "      rating_denominator  name doggo floofer pupper puppo  \n",
       "30                    10  None  None    None   None  None  \n",
       "35                    10  None  None    None   None  None  \n",
       "42                    10  None  None    None   None  None  \n",
       "55                    10  None  None    None   None  None  \n",
       "64                    10  None  None    None   None  None  \n",
       "...                  ...   ...   ...     ...    ...   ...  \n",
       "2189                  10  None  None    None   None  None  \n",
       "2212                  10   the  None    None   None  None  \n",
       "2259                  10  None  None    None   None  None  \n",
       "2260                  10  None  None    None   None  None  \n",
       "2298                  10  None  None    None   None  None  \n",
       "\n",
       "[217 rows x 17 columns]"
      ]
     },
     "execution_count": 592,
     "metadata": {},
     "output_type": "execute_result"
    }
   ],
   "source": [
    "#https://pt.stackoverflow.com/questions/491310/em-python-pesquisar-uma-string-a-partir-da-informa%C3%A7%C3%A3o-de-uma-coluna\n",
    "df_enhanced[df_enhanced['expanded_urls'].str.contains('dog_rates', na = False)==False]"
   ]
  },
  {
   "cell_type": "code",
   "execution_count": 593,
   "metadata": {},
   "outputs": [
    {
     "data": {
      "text/plain": [
       "((2356, 17), (2075, 12))"
      ]
     },
     "execution_count": 593,
     "metadata": {},
     "output_type": "execute_result"
    }
   ],
   "source": [
    "df_enhanced.shape,df_predictions.shape"
   ]
  },
  {
   "cell_type": "markdown",
   "metadata": {},
   "source": [
    "### Quality issues\n",
    "1. rating_denominator has values other than 10\n",
    "\n",
    "2. timestamp as object, convert to datetime\n",
    "\n",
    "3. Some urls do not belong to dog_rates\n",
    "\n",
    "4. Default capitalization of df_predictions\n",
    "\n",
    "5. Some records are retweets\n",
    "\n",
    "6. name has values like: a, an, O, my, his, unacceptable, by\n",
    "\n",
    "7. Clean up the field source (html)\n",
    "\n",
    "8. Change tweet_id to Str"
   ]
  },
  {
   "cell_type": "code",
   "execution_count": null,
   "metadata": {},
   "outputs": [],
   "source": []
  },
  {
   "cell_type": "markdown",
   "metadata": {
    "extensions": {
     "jupyter_dashboards": {
      "version": 1,
      "views": {
       "grid_default": {
        "col": 0,
        "height": 7,
        "hidden": false,
        "row": 40,
        "width": 12
       },
       "report_default": {
        "hidden": false
       }
      }
     }
    }
   },
   "source": [
    "### Tidiness issues\n",
    "1. Join df_enhanced to df_tweet (get from tweeter api)\n",
    "\n",
    "2. Convert doggo, floofer, pupper and puppo columns to one column."
   ]
  },
  {
   "cell_type": "markdown",
   "metadata": {
    "extensions": {
     "jupyter_dashboards": {
      "version": 1,
      "views": {
       "grid_default": {
        "col": 4,
        "height": 4,
        "hidden": false,
        "row": 32,
        "width": 4
       },
       "report_default": {
        "hidden": false
       }
      }
     }
    }
   },
   "source": [
    "## Cleaning Data\n",
    "In this section, clean **all** of the issues you documented while assessing. \n",
    "\n",
    "**Note:** Make a copy of the original data before cleaning. Cleaning includes merging individual pieces of data according to the rules of [tidy data](https://cran.r-project.org/web/packages/tidyr/vignettes/tidy-data.html). The result should be a high-quality and tidy master pandas DataFrame (or DataFrames, if appropriate)."
   ]
  },
  {
   "cell_type": "code",
   "execution_count": 594,
   "metadata": {},
   "outputs": [],
   "source": [
    "# Make copies of original pieces of data\n",
    "df_enhanced_new = df_enhanced.copy()\n",
    "df_predictions_new = df_predictions.copy()\n",
    "df_tweet_new = df_tweet.copy()\n",
    "\n"
   ]
  },
  {
   "cell_type": "code",
   "execution_count": 595,
   "metadata": {},
   "outputs": [
    {
     "name": "stdout",
     "output_type": "stream",
     "text": [
      "<class 'pandas.core.frame.DataFrame'>\n",
      "RangeIndex: 2356 entries, 0 to 2355\n",
      "Data columns (total 17 columns):\n",
      " #   Column                      Non-Null Count  Dtype  \n",
      "---  ------                      --------------  -----  \n",
      " 0   tweet_id                    2356 non-null   int64  \n",
      " 1   in_reply_to_status_id       78 non-null     float64\n",
      " 2   in_reply_to_user_id         78 non-null     float64\n",
      " 3   timestamp                   2356 non-null   object \n",
      " 4   source                      2356 non-null   object \n",
      " 5   text                        2356 non-null   object \n",
      " 6   retweeted_status_id         181 non-null    float64\n",
      " 7   retweeted_status_user_id    181 non-null    float64\n",
      " 8   retweeted_status_timestamp  181 non-null    object \n",
      " 9   expanded_urls               2297 non-null   object \n",
      " 10  rating_numerator            2356 non-null   int64  \n",
      " 11  rating_denominator          2356 non-null   int64  \n",
      " 12  name                        2356 non-null   object \n",
      " 13  doggo                       2356 non-null   object \n",
      " 14  floofer                     2356 non-null   object \n",
      " 15  pupper                      2356 non-null   object \n",
      " 16  puppo                       2356 non-null   object \n",
      "dtypes: float64(4), int64(3), object(10)\n",
      "memory usage: 313.0+ KB\n"
     ]
    }
   ],
   "source": [
    "df_enhanced_new.info()"
   ]
  },
  {
   "cell_type": "markdown",
   "metadata": {},
   "source": [
    "### Issue #1: Some rating_denominator has values other than 10"
   ]
  },
  {
   "cell_type": "markdown",
   "metadata": {
    "collapsed": true,
    "extensions": {
     "jupyter_dashboards": {
      "version": 1,
      "views": {
       "grid_default": {
        "hidden": true
       },
       "report_default": {
        "hidden": true
       }
      }
     }
    }
   },
   "source": [
    "#### Define: Update rating_denominator to 10"
   ]
  },
  {
   "cell_type": "markdown",
   "metadata": {},
   "source": [
    "#### Code"
   ]
  },
  {
   "cell_type": "code",
   "execution_count": 596,
   "metadata": {
    "scrolled": true
   },
   "outputs": [],
   "source": [
    "df_enhanced_new.loc[df_enhanced_new['rating_denominator'] !=10] = 10"
   ]
  },
  {
   "cell_type": "markdown",
   "metadata": {},
   "source": [
    "#### Test"
   ]
  },
  {
   "cell_type": "code",
   "execution_count": 597,
   "metadata": {
    "scrolled": true
   },
   "outputs": [
    {
     "data": {
      "text/plain": [
       "10    2356\n",
       "Name: rating_denominator, dtype: int64"
      ]
     },
     "execution_count": 597,
     "metadata": {},
     "output_type": "execute_result"
    }
   ],
   "source": [
    "df_enhanced_new.rating_denominator.value_counts()"
   ]
  },
  {
   "cell_type": "markdown",
   "metadata": {},
   "source": [
    "### Issue #2: timestamp as object"
   ]
  },
  {
   "cell_type": "markdown",
   "metadata": {},
   "source": [
    "#### Define: Convert timestamp object to datetime"
   ]
  },
  {
   "cell_type": "markdown",
   "metadata": {},
   "source": [
    "#### Code"
   ]
  },
  {
   "cell_type": "code",
   "execution_count": 598,
   "metadata": {},
   "outputs": [],
   "source": [
    "df_enhanced_new['timestamp'] = pd.to_datetime(df_enhanced_new['timestamp'])"
   ]
  },
  {
   "cell_type": "markdown",
   "metadata": {},
   "source": [
    "#### Test"
   ]
  },
  {
   "cell_type": "code",
   "execution_count": 599,
   "metadata": {},
   "outputs": [
    {
     "name": "stdout",
     "output_type": "stream",
     "text": [
      "<class 'pandas.core.frame.DataFrame'>\n",
      "RangeIndex: 2356 entries, 0 to 2355\n",
      "Data columns (total 17 columns):\n",
      " #   Column                      Non-Null Count  Dtype              \n",
      "---  ------                      --------------  -----              \n",
      " 0   tweet_id                    2356 non-null   int64              \n",
      " 1   in_reply_to_status_id       96 non-null     float64            \n",
      " 2   in_reply_to_user_id         96 non-null     float64            \n",
      " 3   timestamp                   2356 non-null   datetime64[ns, UTC]\n",
      " 4   source                      2356 non-null   object             \n",
      " 5   text                        2356 non-null   object             \n",
      " 6   retweeted_status_id         203 non-null    float64            \n",
      " 7   retweeted_status_user_id    203 non-null    float64            \n",
      " 8   retweeted_status_timestamp  203 non-null    object             \n",
      " 9   expanded_urls               2301 non-null   object             \n",
      " 10  rating_numerator            2356 non-null   int64              \n",
      " 11  rating_denominator          2356 non-null   int64              \n",
      " 12  name                        2356 non-null   object             \n",
      " 13  doggo                       2356 non-null   object             \n",
      " 14  floofer                     2356 non-null   object             \n",
      " 15  pupper                      2356 non-null   object             \n",
      " 16  puppo                       2356 non-null   object             \n",
      "dtypes: datetime64[ns, UTC](1), float64(4), int64(3), object(9)\n",
      "memory usage: 313.0+ KB\n"
     ]
    }
   ],
   "source": [
    "df_enhanced_new.info()"
   ]
  },
  {
   "cell_type": "markdown",
   "metadata": {},
   "source": [
    "### Issue #3: Some urls do not belong to dog_rates"
   ]
  },
  {
   "cell_type": "markdown",
   "metadata": {
    "collapsed": true,
    "extensions": {
     "jupyter_dashboards": {
      "version": 1,
      "views": {
       "grid_default": {
        "hidden": true
       },
       "report_default": {
        "hidden": true
       }
      }
     }
    }
   },
   "source": [
    "#### Define: Remove rows with urls do not belong to dog_rates"
   ]
  },
  {
   "cell_type": "markdown",
   "metadata": {},
   "source": [
    "#### Code"
   ]
  },
  {
   "cell_type": "code",
   "execution_count": 600,
   "metadata": {},
   "outputs": [],
   "source": [
    "df_enhanced_new = df_enhanced_new[df_enhanced_new['expanded_urls'].str.contains('dog_rates', na = False)==True]"
   ]
  },
  {
   "cell_type": "markdown",
   "metadata": {},
   "source": [
    "#### Test"
   ]
  },
  {
   "cell_type": "code",
   "execution_count": 601,
   "metadata": {
    "scrolled": true
   },
   "outputs": [
    {
     "data": {
      "text/html": [
       "<div>\n",
       "<style scoped>\n",
       "    .dataframe tbody tr th:only-of-type {\n",
       "        vertical-align: middle;\n",
       "    }\n",
       "\n",
       "    .dataframe tbody tr th {\n",
       "        vertical-align: top;\n",
       "    }\n",
       "\n",
       "    .dataframe thead th {\n",
       "        text-align: right;\n",
       "    }\n",
       "</style>\n",
       "<table border=\"1\" class=\"dataframe\">\n",
       "  <thead>\n",
       "    <tr style=\"text-align: right;\">\n",
       "      <th></th>\n",
       "      <th>tweet_id</th>\n",
       "      <th>in_reply_to_status_id</th>\n",
       "      <th>in_reply_to_user_id</th>\n",
       "      <th>timestamp</th>\n",
       "      <th>source</th>\n",
       "      <th>text</th>\n",
       "      <th>retweeted_status_id</th>\n",
       "      <th>retweeted_status_user_id</th>\n",
       "      <th>retweeted_status_timestamp</th>\n",
       "      <th>expanded_urls</th>\n",
       "      <th>rating_numerator</th>\n",
       "      <th>rating_denominator</th>\n",
       "      <th>name</th>\n",
       "      <th>doggo</th>\n",
       "      <th>floofer</th>\n",
       "      <th>pupper</th>\n",
       "      <th>puppo</th>\n",
       "    </tr>\n",
       "  </thead>\n",
       "  <tbody>\n",
       "  </tbody>\n",
       "</table>\n",
       "</div>"
      ],
      "text/plain": [
       "Empty DataFrame\n",
       "Columns: [tweet_id, in_reply_to_status_id, in_reply_to_user_id, timestamp, source, text, retweeted_status_id, retweeted_status_user_id, retweeted_status_timestamp, expanded_urls, rating_numerator, rating_denominator, name, doggo, floofer, pupper, puppo]\n",
       "Index: []"
      ]
     },
     "execution_count": 601,
     "metadata": {},
     "output_type": "execute_result"
    }
   ],
   "source": [
    "df_enhanced_new[df_enhanced_new['expanded_urls'].str.contains('dog_rates', na = False)==False]"
   ]
  },
  {
   "cell_type": "markdown",
   "metadata": {},
   "source": [
    "### Issue #4: Default capitalization of df_predictions"
   ]
  },
  {
   "cell_type": "markdown",
   "metadata": {
    "collapsed": true,
    "extensions": {
     "jupyter_dashboards": {
      "version": 1,
      "views": {
       "grid_default": {
        "hidden": true
       },
       "report_default": {
        "hidden": true
       }
      }
     }
    }
   },
   "source": [
    "#### Define: Default capitalization of df_predictions"
   ]
  },
  {
   "cell_type": "markdown",
   "metadata": {},
   "source": [
    "#### Code"
   ]
  },
  {
   "cell_type": "code",
   "execution_count": 602,
   "metadata": {},
   "outputs": [],
   "source": [
    "df_predictions_new.p1 = df_predictions_new.p1.str.capitalize()\n",
    "df_predictions_new.p2 = df_predictions_new.p2.str.capitalize()\n",
    "df_predictions_new.p3 = df_predictions_new.p3.str.capitalize()"
   ]
  },
  {
   "cell_type": "markdown",
   "metadata": {},
   "source": [
    "#### Test"
   ]
  },
  {
   "cell_type": "code",
   "execution_count": 603,
   "metadata": {
    "scrolled": true
   },
   "outputs": [
    {
     "data": {
      "text/html": [
       "<div>\n",
       "<style scoped>\n",
       "    .dataframe tbody tr th:only-of-type {\n",
       "        vertical-align: middle;\n",
       "    }\n",
       "\n",
       "    .dataframe tbody tr th {\n",
       "        vertical-align: top;\n",
       "    }\n",
       "\n",
       "    .dataframe thead th {\n",
       "        text-align: right;\n",
       "    }\n",
       "</style>\n",
       "<table border=\"1\" class=\"dataframe\">\n",
       "  <thead>\n",
       "    <tr style=\"text-align: right;\">\n",
       "      <th></th>\n",
       "      <th>tweet_id</th>\n",
       "      <th>jpg_url</th>\n",
       "      <th>img_num</th>\n",
       "      <th>p1</th>\n",
       "      <th>p1_conf</th>\n",
       "      <th>p1_dog</th>\n",
       "      <th>p2</th>\n",
       "      <th>p2_conf</th>\n",
       "      <th>p2_dog</th>\n",
       "      <th>p3</th>\n",
       "      <th>p3_conf</th>\n",
       "      <th>p3_dog</th>\n",
       "    </tr>\n",
       "  </thead>\n",
       "  <tbody>\n",
       "    <tr>\n",
       "      <th>0</th>\n",
       "      <td>666020888022790149</td>\n",
       "      <td>https://pbs.twimg.com/media/CT4udn0WwAA0aMy.jpg</td>\n",
       "      <td>1</td>\n",
       "      <td>Welsh_springer_spaniel</td>\n",
       "      <td>0.465074</td>\n",
       "      <td>True</td>\n",
       "      <td>Collie</td>\n",
       "      <td>0.156665</td>\n",
       "      <td>True</td>\n",
       "      <td>Shetland_sheepdog</td>\n",
       "      <td>0.061428</td>\n",
       "      <td>True</td>\n",
       "    </tr>\n",
       "    <tr>\n",
       "      <th>1</th>\n",
       "      <td>666029285002620928</td>\n",
       "      <td>https://pbs.twimg.com/media/CT42GRgUYAA5iDo.jpg</td>\n",
       "      <td>1</td>\n",
       "      <td>Redbone</td>\n",
       "      <td>0.506826</td>\n",
       "      <td>True</td>\n",
       "      <td>Miniature_pinscher</td>\n",
       "      <td>0.074192</td>\n",
       "      <td>True</td>\n",
       "      <td>Rhodesian_ridgeback</td>\n",
       "      <td>0.072010</td>\n",
       "      <td>True</td>\n",
       "    </tr>\n",
       "    <tr>\n",
       "      <th>2</th>\n",
       "      <td>666033412701032449</td>\n",
       "      <td>https://pbs.twimg.com/media/CT4521TWwAEvMyu.jpg</td>\n",
       "      <td>1</td>\n",
       "      <td>German_shepherd</td>\n",
       "      <td>0.596461</td>\n",
       "      <td>True</td>\n",
       "      <td>Malinois</td>\n",
       "      <td>0.138584</td>\n",
       "      <td>True</td>\n",
       "      <td>Bloodhound</td>\n",
       "      <td>0.116197</td>\n",
       "      <td>True</td>\n",
       "    </tr>\n",
       "    <tr>\n",
       "      <th>3</th>\n",
       "      <td>666044226329800704</td>\n",
       "      <td>https://pbs.twimg.com/media/CT5Dr8HUEAA-lEu.jpg</td>\n",
       "      <td>1</td>\n",
       "      <td>Rhodesian_ridgeback</td>\n",
       "      <td>0.408143</td>\n",
       "      <td>True</td>\n",
       "      <td>Redbone</td>\n",
       "      <td>0.360687</td>\n",
       "      <td>True</td>\n",
       "      <td>Miniature_pinscher</td>\n",
       "      <td>0.222752</td>\n",
       "      <td>True</td>\n",
       "    </tr>\n",
       "    <tr>\n",
       "      <th>4</th>\n",
       "      <td>666049248165822465</td>\n",
       "      <td>https://pbs.twimg.com/media/CT5IQmsXIAAKY4A.jpg</td>\n",
       "      <td>1</td>\n",
       "      <td>Miniature_pinscher</td>\n",
       "      <td>0.560311</td>\n",
       "      <td>True</td>\n",
       "      <td>Rottweiler</td>\n",
       "      <td>0.243682</td>\n",
       "      <td>True</td>\n",
       "      <td>Doberman</td>\n",
       "      <td>0.154629</td>\n",
       "      <td>True</td>\n",
       "    </tr>\n",
       "    <tr>\n",
       "      <th>...</th>\n",
       "      <td>...</td>\n",
       "      <td>...</td>\n",
       "      <td>...</td>\n",
       "      <td>...</td>\n",
       "      <td>...</td>\n",
       "      <td>...</td>\n",
       "      <td>...</td>\n",
       "      <td>...</td>\n",
       "      <td>...</td>\n",
       "      <td>...</td>\n",
       "      <td>...</td>\n",
       "      <td>...</td>\n",
       "    </tr>\n",
       "    <tr>\n",
       "      <th>2070</th>\n",
       "      <td>891327558926688256</td>\n",
       "      <td>https://pbs.twimg.com/media/DF6hr6BUMAAzZgT.jpg</td>\n",
       "      <td>2</td>\n",
       "      <td>Basset</td>\n",
       "      <td>0.555712</td>\n",
       "      <td>True</td>\n",
       "      <td>English_springer</td>\n",
       "      <td>0.225770</td>\n",
       "      <td>True</td>\n",
       "      <td>German_short-haired_pointer</td>\n",
       "      <td>0.175219</td>\n",
       "      <td>True</td>\n",
       "    </tr>\n",
       "    <tr>\n",
       "      <th>2071</th>\n",
       "      <td>891689557279858688</td>\n",
       "      <td>https://pbs.twimg.com/media/DF_q7IAWsAEuuN8.jpg</td>\n",
       "      <td>1</td>\n",
       "      <td>Paper_towel</td>\n",
       "      <td>0.170278</td>\n",
       "      <td>False</td>\n",
       "      <td>Labrador_retriever</td>\n",
       "      <td>0.168086</td>\n",
       "      <td>True</td>\n",
       "      <td>Spatula</td>\n",
       "      <td>0.040836</td>\n",
       "      <td>False</td>\n",
       "    </tr>\n",
       "    <tr>\n",
       "      <th>2072</th>\n",
       "      <td>891815181378084864</td>\n",
       "      <td>https://pbs.twimg.com/media/DGBdLU1WsAANxJ9.jpg</td>\n",
       "      <td>1</td>\n",
       "      <td>Chihuahua</td>\n",
       "      <td>0.716012</td>\n",
       "      <td>True</td>\n",
       "      <td>Malamute</td>\n",
       "      <td>0.078253</td>\n",
       "      <td>True</td>\n",
       "      <td>Kelpie</td>\n",
       "      <td>0.031379</td>\n",
       "      <td>True</td>\n",
       "    </tr>\n",
       "    <tr>\n",
       "      <th>2073</th>\n",
       "      <td>892177421306343426</td>\n",
       "      <td>https://pbs.twimg.com/media/DGGmoV4XsAAUL6n.jpg</td>\n",
       "      <td>1</td>\n",
       "      <td>Chihuahua</td>\n",
       "      <td>0.323581</td>\n",
       "      <td>True</td>\n",
       "      <td>Pekinese</td>\n",
       "      <td>0.090647</td>\n",
       "      <td>True</td>\n",
       "      <td>Papillon</td>\n",
       "      <td>0.068957</td>\n",
       "      <td>True</td>\n",
       "    </tr>\n",
       "    <tr>\n",
       "      <th>2074</th>\n",
       "      <td>892420643555336193</td>\n",
       "      <td>https://pbs.twimg.com/media/DGKD1-bXoAAIAUK.jpg</td>\n",
       "      <td>1</td>\n",
       "      <td>Orange</td>\n",
       "      <td>0.097049</td>\n",
       "      <td>False</td>\n",
       "      <td>Bagel</td>\n",
       "      <td>0.085851</td>\n",
       "      <td>False</td>\n",
       "      <td>Banana</td>\n",
       "      <td>0.076110</td>\n",
       "      <td>False</td>\n",
       "    </tr>\n",
       "  </tbody>\n",
       "</table>\n",
       "<p>2075 rows × 12 columns</p>\n",
       "</div>"
      ],
      "text/plain": [
       "                tweet_id                                          jpg_url  \\\n",
       "0     666020888022790149  https://pbs.twimg.com/media/CT4udn0WwAA0aMy.jpg   \n",
       "1     666029285002620928  https://pbs.twimg.com/media/CT42GRgUYAA5iDo.jpg   \n",
       "2     666033412701032449  https://pbs.twimg.com/media/CT4521TWwAEvMyu.jpg   \n",
       "3     666044226329800704  https://pbs.twimg.com/media/CT5Dr8HUEAA-lEu.jpg   \n",
       "4     666049248165822465  https://pbs.twimg.com/media/CT5IQmsXIAAKY4A.jpg   \n",
       "...                  ...                                              ...   \n",
       "2070  891327558926688256  https://pbs.twimg.com/media/DF6hr6BUMAAzZgT.jpg   \n",
       "2071  891689557279858688  https://pbs.twimg.com/media/DF_q7IAWsAEuuN8.jpg   \n",
       "2072  891815181378084864  https://pbs.twimg.com/media/DGBdLU1WsAANxJ9.jpg   \n",
       "2073  892177421306343426  https://pbs.twimg.com/media/DGGmoV4XsAAUL6n.jpg   \n",
       "2074  892420643555336193  https://pbs.twimg.com/media/DGKD1-bXoAAIAUK.jpg   \n",
       "\n",
       "      img_num                      p1   p1_conf  p1_dog                  p2  \\\n",
       "0           1  Welsh_springer_spaniel  0.465074    True              Collie   \n",
       "1           1                 Redbone  0.506826    True  Miniature_pinscher   \n",
       "2           1         German_shepherd  0.596461    True            Malinois   \n",
       "3           1     Rhodesian_ridgeback  0.408143    True             Redbone   \n",
       "4           1      Miniature_pinscher  0.560311    True          Rottweiler   \n",
       "...       ...                     ...       ...     ...                 ...   \n",
       "2070        2                  Basset  0.555712    True    English_springer   \n",
       "2071        1             Paper_towel  0.170278   False  Labrador_retriever   \n",
       "2072        1               Chihuahua  0.716012    True            Malamute   \n",
       "2073        1               Chihuahua  0.323581    True            Pekinese   \n",
       "2074        1                  Orange  0.097049   False               Bagel   \n",
       "\n",
       "       p2_conf  p2_dog                           p3   p3_conf  p3_dog  \n",
       "0     0.156665    True            Shetland_sheepdog  0.061428    True  \n",
       "1     0.074192    True          Rhodesian_ridgeback  0.072010    True  \n",
       "2     0.138584    True                   Bloodhound  0.116197    True  \n",
       "3     0.360687    True           Miniature_pinscher  0.222752    True  \n",
       "4     0.243682    True                     Doberman  0.154629    True  \n",
       "...        ...     ...                          ...       ...     ...  \n",
       "2070  0.225770    True  German_short-haired_pointer  0.175219    True  \n",
       "2071  0.168086    True                      Spatula  0.040836   False  \n",
       "2072  0.078253    True                       Kelpie  0.031379    True  \n",
       "2073  0.090647    True                     Papillon  0.068957    True  \n",
       "2074  0.085851   False                       Banana  0.076110   False  \n",
       "\n",
       "[2075 rows x 12 columns]"
      ]
     },
     "execution_count": 603,
     "metadata": {},
     "output_type": "execute_result"
    }
   ],
   "source": [
    "df_predictions_new"
   ]
  },
  {
   "cell_type": "markdown",
   "metadata": {},
   "source": [
    "### Issue #5: Some records are retweets"
   ]
  },
  {
   "cell_type": "markdown",
   "metadata": {
    "collapsed": true,
    "extensions": {
     "jupyter_dashboards": {
      "version": 1,
      "views": {
       "grid_default": {
        "hidden": true
       },
       "report_default": {
        "hidden": true
       }
      }
     }
    }
   },
   "source": [
    "#### Define: Remove rows with retweets"
   ]
  },
  {
   "cell_type": "markdown",
   "metadata": {},
   "source": [
    "#### Code"
   ]
  },
  {
   "cell_type": "code",
   "execution_count": 604,
   "metadata": {},
   "outputs": [],
   "source": [
    "df_enhanced_new = df_enhanced_new[df_enhanced_new['retweeted_status_user_id'].isna()]\n",
    "\n"
   ]
  },
  {
   "cell_type": "markdown",
   "metadata": {},
   "source": [
    "#### Test"
   ]
  },
  {
   "cell_type": "code",
   "execution_count": 605,
   "metadata": {
    "scrolled": false
   },
   "outputs": [
    {
     "data": {
      "text/html": [
       "<div>\n",
       "<style scoped>\n",
       "    .dataframe tbody tr th:only-of-type {\n",
       "        vertical-align: middle;\n",
       "    }\n",
       "\n",
       "    .dataframe tbody tr th {\n",
       "        vertical-align: top;\n",
       "    }\n",
       "\n",
       "    .dataframe thead th {\n",
       "        text-align: right;\n",
       "    }\n",
       "</style>\n",
       "<table border=\"1\" class=\"dataframe\">\n",
       "  <thead>\n",
       "    <tr style=\"text-align: right;\">\n",
       "      <th></th>\n",
       "      <th>tweet_id</th>\n",
       "      <th>in_reply_to_status_id</th>\n",
       "      <th>in_reply_to_user_id</th>\n",
       "      <th>timestamp</th>\n",
       "      <th>source</th>\n",
       "      <th>text</th>\n",
       "      <th>retweeted_status_id</th>\n",
       "      <th>retweeted_status_user_id</th>\n",
       "      <th>retweeted_status_timestamp</th>\n",
       "      <th>expanded_urls</th>\n",
       "      <th>rating_numerator</th>\n",
       "      <th>rating_denominator</th>\n",
       "      <th>name</th>\n",
       "      <th>doggo</th>\n",
       "      <th>floofer</th>\n",
       "      <th>pupper</th>\n",
       "      <th>puppo</th>\n",
       "    </tr>\n",
       "  </thead>\n",
       "  <tbody>\n",
       "    <tr>\n",
       "      <th>0</th>\n",
       "      <td>892420643555336193</td>\n",
       "      <td>NaN</td>\n",
       "      <td>NaN</td>\n",
       "      <td>2017-08-01 16:23:56+00:00</td>\n",
       "      <td>&lt;a href=\"http://twitter.com/download/iphone\" r...</td>\n",
       "      <td>This is Phineas. He's a mystical boy. Only eve...</td>\n",
       "      <td>NaN</td>\n",
       "      <td>NaN</td>\n",
       "      <td>NaN</td>\n",
       "      <td>https://twitter.com/dog_rates/status/892420643...</td>\n",
       "      <td>13</td>\n",
       "      <td>10</td>\n",
       "      <td>Phineas</td>\n",
       "      <td>None</td>\n",
       "      <td>None</td>\n",
       "      <td>None</td>\n",
       "      <td>None</td>\n",
       "    </tr>\n",
       "    <tr>\n",
       "      <th>1</th>\n",
       "      <td>892177421306343426</td>\n",
       "      <td>NaN</td>\n",
       "      <td>NaN</td>\n",
       "      <td>2017-08-01 00:17:27+00:00</td>\n",
       "      <td>&lt;a href=\"http://twitter.com/download/iphone\" r...</td>\n",
       "      <td>This is Tilly. She's just checking pup on you....</td>\n",
       "      <td>NaN</td>\n",
       "      <td>NaN</td>\n",
       "      <td>NaN</td>\n",
       "      <td>https://twitter.com/dog_rates/status/892177421...</td>\n",
       "      <td>13</td>\n",
       "      <td>10</td>\n",
       "      <td>Tilly</td>\n",
       "      <td>None</td>\n",
       "      <td>None</td>\n",
       "      <td>None</td>\n",
       "      <td>None</td>\n",
       "    </tr>\n",
       "    <tr>\n",
       "      <th>2</th>\n",
       "      <td>891815181378084864</td>\n",
       "      <td>NaN</td>\n",
       "      <td>NaN</td>\n",
       "      <td>2017-07-31 00:18:03+00:00</td>\n",
       "      <td>&lt;a href=\"http://twitter.com/download/iphone\" r...</td>\n",
       "      <td>This is Archie. He is a rare Norwegian Pouncin...</td>\n",
       "      <td>NaN</td>\n",
       "      <td>NaN</td>\n",
       "      <td>NaN</td>\n",
       "      <td>https://twitter.com/dog_rates/status/891815181...</td>\n",
       "      <td>12</td>\n",
       "      <td>10</td>\n",
       "      <td>Archie</td>\n",
       "      <td>None</td>\n",
       "      <td>None</td>\n",
       "      <td>None</td>\n",
       "      <td>None</td>\n",
       "    </tr>\n",
       "    <tr>\n",
       "      <th>3</th>\n",
       "      <td>891689557279858688</td>\n",
       "      <td>NaN</td>\n",
       "      <td>NaN</td>\n",
       "      <td>2017-07-30 15:58:51+00:00</td>\n",
       "      <td>&lt;a href=\"http://twitter.com/download/iphone\" r...</td>\n",
       "      <td>This is Darla. She commenced a snooze mid meal...</td>\n",
       "      <td>NaN</td>\n",
       "      <td>NaN</td>\n",
       "      <td>NaN</td>\n",
       "      <td>https://twitter.com/dog_rates/status/891689557...</td>\n",
       "      <td>13</td>\n",
       "      <td>10</td>\n",
       "      <td>Darla</td>\n",
       "      <td>None</td>\n",
       "      <td>None</td>\n",
       "      <td>None</td>\n",
       "      <td>None</td>\n",
       "    </tr>\n",
       "    <tr>\n",
       "      <th>4</th>\n",
       "      <td>891327558926688256</td>\n",
       "      <td>NaN</td>\n",
       "      <td>NaN</td>\n",
       "      <td>2017-07-29 16:00:24+00:00</td>\n",
       "      <td>&lt;a href=\"http://twitter.com/download/iphone\" r...</td>\n",
       "      <td>This is Franklin. He would like you to stop ca...</td>\n",
       "      <td>NaN</td>\n",
       "      <td>NaN</td>\n",
       "      <td>NaN</td>\n",
       "      <td>https://twitter.com/dog_rates/status/891327558...</td>\n",
       "      <td>12</td>\n",
       "      <td>10</td>\n",
       "      <td>Franklin</td>\n",
       "      <td>None</td>\n",
       "      <td>None</td>\n",
       "      <td>None</td>\n",
       "      <td>None</td>\n",
       "    </tr>\n",
       "    <tr>\n",
       "      <th>...</th>\n",
       "      <td>...</td>\n",
       "      <td>...</td>\n",
       "      <td>...</td>\n",
       "      <td>...</td>\n",
       "      <td>...</td>\n",
       "      <td>...</td>\n",
       "      <td>...</td>\n",
       "      <td>...</td>\n",
       "      <td>...</td>\n",
       "      <td>...</td>\n",
       "      <td>...</td>\n",
       "      <td>...</td>\n",
       "      <td>...</td>\n",
       "      <td>...</td>\n",
       "      <td>...</td>\n",
       "      <td>...</td>\n",
       "      <td>...</td>\n",
       "    </tr>\n",
       "    <tr>\n",
       "      <th>2351</th>\n",
       "      <td>666049248165822465</td>\n",
       "      <td>NaN</td>\n",
       "      <td>NaN</td>\n",
       "      <td>2015-11-16 00:24:50+00:00</td>\n",
       "      <td>&lt;a href=\"http://twitter.com/download/iphone\" r...</td>\n",
       "      <td>Here we have a 1949 1st generation vulpix. Enj...</td>\n",
       "      <td>NaN</td>\n",
       "      <td>NaN</td>\n",
       "      <td>NaN</td>\n",
       "      <td>https://twitter.com/dog_rates/status/666049248...</td>\n",
       "      <td>5</td>\n",
       "      <td>10</td>\n",
       "      <td>None</td>\n",
       "      <td>None</td>\n",
       "      <td>None</td>\n",
       "      <td>None</td>\n",
       "      <td>None</td>\n",
       "    </tr>\n",
       "    <tr>\n",
       "      <th>2352</th>\n",
       "      <td>666044226329800704</td>\n",
       "      <td>NaN</td>\n",
       "      <td>NaN</td>\n",
       "      <td>2015-11-16 00:04:52+00:00</td>\n",
       "      <td>&lt;a href=\"http://twitter.com/download/iphone\" r...</td>\n",
       "      <td>This is a purebred Piers Morgan. Loves to Netf...</td>\n",
       "      <td>NaN</td>\n",
       "      <td>NaN</td>\n",
       "      <td>NaN</td>\n",
       "      <td>https://twitter.com/dog_rates/status/666044226...</td>\n",
       "      <td>6</td>\n",
       "      <td>10</td>\n",
       "      <td>a</td>\n",
       "      <td>None</td>\n",
       "      <td>None</td>\n",
       "      <td>None</td>\n",
       "      <td>None</td>\n",
       "    </tr>\n",
       "    <tr>\n",
       "      <th>2353</th>\n",
       "      <td>666033412701032449</td>\n",
       "      <td>NaN</td>\n",
       "      <td>NaN</td>\n",
       "      <td>2015-11-15 23:21:54+00:00</td>\n",
       "      <td>&lt;a href=\"http://twitter.com/download/iphone\" r...</td>\n",
       "      <td>Here is a very happy pup. Big fan of well-main...</td>\n",
       "      <td>NaN</td>\n",
       "      <td>NaN</td>\n",
       "      <td>NaN</td>\n",
       "      <td>https://twitter.com/dog_rates/status/666033412...</td>\n",
       "      <td>9</td>\n",
       "      <td>10</td>\n",
       "      <td>a</td>\n",
       "      <td>None</td>\n",
       "      <td>None</td>\n",
       "      <td>None</td>\n",
       "      <td>None</td>\n",
       "    </tr>\n",
       "    <tr>\n",
       "      <th>2354</th>\n",
       "      <td>666029285002620928</td>\n",
       "      <td>NaN</td>\n",
       "      <td>NaN</td>\n",
       "      <td>2015-11-15 23:05:30+00:00</td>\n",
       "      <td>&lt;a href=\"http://twitter.com/download/iphone\" r...</td>\n",
       "      <td>This is a western brown Mitsubishi terrier. Up...</td>\n",
       "      <td>NaN</td>\n",
       "      <td>NaN</td>\n",
       "      <td>NaN</td>\n",
       "      <td>https://twitter.com/dog_rates/status/666029285...</td>\n",
       "      <td>7</td>\n",
       "      <td>10</td>\n",
       "      <td>a</td>\n",
       "      <td>None</td>\n",
       "      <td>None</td>\n",
       "      <td>None</td>\n",
       "      <td>None</td>\n",
       "    </tr>\n",
       "    <tr>\n",
       "      <th>2355</th>\n",
       "      <td>666020888022790149</td>\n",
       "      <td>NaN</td>\n",
       "      <td>NaN</td>\n",
       "      <td>2015-11-15 22:32:08+00:00</td>\n",
       "      <td>&lt;a href=\"http://twitter.com/download/iphone\" r...</td>\n",
       "      <td>Here we have a Japanese Irish Setter. Lost eye...</td>\n",
       "      <td>NaN</td>\n",
       "      <td>NaN</td>\n",
       "      <td>NaN</td>\n",
       "      <td>https://twitter.com/dog_rates/status/666020888...</td>\n",
       "      <td>8</td>\n",
       "      <td>10</td>\n",
       "      <td>None</td>\n",
       "      <td>None</td>\n",
       "      <td>None</td>\n",
       "      <td>None</td>\n",
       "      <td>None</td>\n",
       "    </tr>\n",
       "  </tbody>\n",
       "</table>\n",
       "<p>1976 rows × 17 columns</p>\n",
       "</div>"
      ],
      "text/plain": [
       "                tweet_id  in_reply_to_status_id  in_reply_to_user_id  \\\n",
       "0     892420643555336193                    NaN                  NaN   \n",
       "1     892177421306343426                    NaN                  NaN   \n",
       "2     891815181378084864                    NaN                  NaN   \n",
       "3     891689557279858688                    NaN                  NaN   \n",
       "4     891327558926688256                    NaN                  NaN   \n",
       "...                  ...                    ...                  ...   \n",
       "2351  666049248165822465                    NaN                  NaN   \n",
       "2352  666044226329800704                    NaN                  NaN   \n",
       "2353  666033412701032449                    NaN                  NaN   \n",
       "2354  666029285002620928                    NaN                  NaN   \n",
       "2355  666020888022790149                    NaN                  NaN   \n",
       "\n",
       "                     timestamp  \\\n",
       "0    2017-08-01 16:23:56+00:00   \n",
       "1    2017-08-01 00:17:27+00:00   \n",
       "2    2017-07-31 00:18:03+00:00   \n",
       "3    2017-07-30 15:58:51+00:00   \n",
       "4    2017-07-29 16:00:24+00:00   \n",
       "...                        ...   \n",
       "2351 2015-11-16 00:24:50+00:00   \n",
       "2352 2015-11-16 00:04:52+00:00   \n",
       "2353 2015-11-15 23:21:54+00:00   \n",
       "2354 2015-11-15 23:05:30+00:00   \n",
       "2355 2015-11-15 22:32:08+00:00   \n",
       "\n",
       "                                                 source  \\\n",
       "0     <a href=\"http://twitter.com/download/iphone\" r...   \n",
       "1     <a href=\"http://twitter.com/download/iphone\" r...   \n",
       "2     <a href=\"http://twitter.com/download/iphone\" r...   \n",
       "3     <a href=\"http://twitter.com/download/iphone\" r...   \n",
       "4     <a href=\"http://twitter.com/download/iphone\" r...   \n",
       "...                                                 ...   \n",
       "2351  <a href=\"http://twitter.com/download/iphone\" r...   \n",
       "2352  <a href=\"http://twitter.com/download/iphone\" r...   \n",
       "2353  <a href=\"http://twitter.com/download/iphone\" r...   \n",
       "2354  <a href=\"http://twitter.com/download/iphone\" r...   \n",
       "2355  <a href=\"http://twitter.com/download/iphone\" r...   \n",
       "\n",
       "                                                   text  retweeted_status_id  \\\n",
       "0     This is Phineas. He's a mystical boy. Only eve...                  NaN   \n",
       "1     This is Tilly. She's just checking pup on you....                  NaN   \n",
       "2     This is Archie. He is a rare Norwegian Pouncin...                  NaN   \n",
       "3     This is Darla. She commenced a snooze mid meal...                  NaN   \n",
       "4     This is Franklin. He would like you to stop ca...                  NaN   \n",
       "...                                                 ...                  ...   \n",
       "2351  Here we have a 1949 1st generation vulpix. Enj...                  NaN   \n",
       "2352  This is a purebred Piers Morgan. Loves to Netf...                  NaN   \n",
       "2353  Here is a very happy pup. Big fan of well-main...                  NaN   \n",
       "2354  This is a western brown Mitsubishi terrier. Up...                  NaN   \n",
       "2355  Here we have a Japanese Irish Setter. Lost eye...                  NaN   \n",
       "\n",
       "      retweeted_status_user_id retweeted_status_timestamp  \\\n",
       "0                          NaN                        NaN   \n",
       "1                          NaN                        NaN   \n",
       "2                          NaN                        NaN   \n",
       "3                          NaN                        NaN   \n",
       "4                          NaN                        NaN   \n",
       "...                        ...                        ...   \n",
       "2351                       NaN                        NaN   \n",
       "2352                       NaN                        NaN   \n",
       "2353                       NaN                        NaN   \n",
       "2354                       NaN                        NaN   \n",
       "2355                       NaN                        NaN   \n",
       "\n",
       "                                          expanded_urls  rating_numerator  \\\n",
       "0     https://twitter.com/dog_rates/status/892420643...                13   \n",
       "1     https://twitter.com/dog_rates/status/892177421...                13   \n",
       "2     https://twitter.com/dog_rates/status/891815181...                12   \n",
       "3     https://twitter.com/dog_rates/status/891689557...                13   \n",
       "4     https://twitter.com/dog_rates/status/891327558...                12   \n",
       "...                                                 ...               ...   \n",
       "2351  https://twitter.com/dog_rates/status/666049248...                 5   \n",
       "2352  https://twitter.com/dog_rates/status/666044226...                 6   \n",
       "2353  https://twitter.com/dog_rates/status/666033412...                 9   \n",
       "2354  https://twitter.com/dog_rates/status/666029285...                 7   \n",
       "2355  https://twitter.com/dog_rates/status/666020888...                 8   \n",
       "\n",
       "      rating_denominator      name doggo floofer pupper puppo  \n",
       "0                     10   Phineas  None    None   None  None  \n",
       "1                     10     Tilly  None    None   None  None  \n",
       "2                     10    Archie  None    None   None  None  \n",
       "3                     10     Darla  None    None   None  None  \n",
       "4                     10  Franklin  None    None   None  None  \n",
       "...                  ...       ...   ...     ...    ...   ...  \n",
       "2351                  10      None  None    None   None  None  \n",
       "2352                  10         a  None    None   None  None  \n",
       "2353                  10         a  None    None   None  None  \n",
       "2354                  10         a  None    None   None  None  \n",
       "2355                  10      None  None    None   None  None  \n",
       "\n",
       "[1976 rows x 17 columns]"
      ]
     },
     "execution_count": 605,
     "metadata": {},
     "output_type": "execute_result"
    }
   ],
   "source": [
    "df_enhanced_new"
   ]
  },
  {
   "cell_type": "markdown",
   "metadata": {},
   "source": [
    "### Issue #6: Name has values like: a, an, O, my, his, unacceptable, by"
   ]
  },
  {
   "cell_type": "markdown",
   "metadata": {
    "collapsed": true,
    "extensions": {
     "jupyter_dashboards": {
      "version": 1,
      "views": {
       "grid_default": {
        "hidden": true
       },
       "report_default": {
        "hidden": true
       }
      }
     }
    }
   },
   "source": [
    "#### Define: Update name to unavailable"
   ]
  },
  {
   "cell_type": "markdown",
   "metadata": {},
   "source": [
    "#### Code"
   ]
  },
  {
   "cell_type": "code",
   "execution_count": 606,
   "metadata": {
    "scrolled": true
   },
   "outputs": [],
   "source": [
    "filtro = df_enhanced_new.name.str.contains('^[a-z]', regex= True)\n",
    "df_enhanced_new.loc[filtro,'name'] = 'None'\n"
   ]
  },
  {
   "cell_type": "markdown",
   "metadata": {},
   "source": [
    "#### Test"
   ]
  },
  {
   "cell_type": "code",
   "execution_count": 607,
   "metadata": {
    "scrolled": false
   },
   "outputs": [
    {
     "data": {
      "text/html": [
       "<div>\n",
       "<style scoped>\n",
       "    .dataframe tbody tr th:only-of-type {\n",
       "        vertical-align: middle;\n",
       "    }\n",
       "\n",
       "    .dataframe tbody tr th {\n",
       "        vertical-align: top;\n",
       "    }\n",
       "\n",
       "    .dataframe thead th {\n",
       "        text-align: right;\n",
       "    }\n",
       "</style>\n",
       "<table border=\"1\" class=\"dataframe\">\n",
       "  <thead>\n",
       "    <tr style=\"text-align: right;\">\n",
       "      <th></th>\n",
       "      <th>tweet_id</th>\n",
       "      <th>in_reply_to_status_id</th>\n",
       "      <th>in_reply_to_user_id</th>\n",
       "      <th>timestamp</th>\n",
       "      <th>source</th>\n",
       "      <th>text</th>\n",
       "      <th>retweeted_status_id</th>\n",
       "      <th>retweeted_status_user_id</th>\n",
       "      <th>retweeted_status_timestamp</th>\n",
       "      <th>expanded_urls</th>\n",
       "      <th>rating_numerator</th>\n",
       "      <th>rating_denominator</th>\n",
       "      <th>name</th>\n",
       "      <th>doggo</th>\n",
       "      <th>floofer</th>\n",
       "      <th>pupper</th>\n",
       "      <th>puppo</th>\n",
       "    </tr>\n",
       "  </thead>\n",
       "  <tbody>\n",
       "    <tr>\n",
       "      <th>0</th>\n",
       "      <td>892420643555336193</td>\n",
       "      <td>NaN</td>\n",
       "      <td>NaN</td>\n",
       "      <td>2017-08-01 16:23:56+00:00</td>\n",
       "      <td>&lt;a href=\"http://twitter.com/download/iphone\" r...</td>\n",
       "      <td>This is Phineas. He's a mystical boy. Only eve...</td>\n",
       "      <td>NaN</td>\n",
       "      <td>NaN</td>\n",
       "      <td>NaN</td>\n",
       "      <td>https://twitter.com/dog_rates/status/892420643...</td>\n",
       "      <td>13</td>\n",
       "      <td>10</td>\n",
       "      <td>Phineas</td>\n",
       "      <td>None</td>\n",
       "      <td>None</td>\n",
       "      <td>None</td>\n",
       "      <td>None</td>\n",
       "    </tr>\n",
       "    <tr>\n",
       "      <th>1</th>\n",
       "      <td>892177421306343426</td>\n",
       "      <td>NaN</td>\n",
       "      <td>NaN</td>\n",
       "      <td>2017-08-01 00:17:27+00:00</td>\n",
       "      <td>&lt;a href=\"http://twitter.com/download/iphone\" r...</td>\n",
       "      <td>This is Tilly. She's just checking pup on you....</td>\n",
       "      <td>NaN</td>\n",
       "      <td>NaN</td>\n",
       "      <td>NaN</td>\n",
       "      <td>https://twitter.com/dog_rates/status/892177421...</td>\n",
       "      <td>13</td>\n",
       "      <td>10</td>\n",
       "      <td>Tilly</td>\n",
       "      <td>None</td>\n",
       "      <td>None</td>\n",
       "      <td>None</td>\n",
       "      <td>None</td>\n",
       "    </tr>\n",
       "    <tr>\n",
       "      <th>2</th>\n",
       "      <td>891815181378084864</td>\n",
       "      <td>NaN</td>\n",
       "      <td>NaN</td>\n",
       "      <td>2017-07-31 00:18:03+00:00</td>\n",
       "      <td>&lt;a href=\"http://twitter.com/download/iphone\" r...</td>\n",
       "      <td>This is Archie. He is a rare Norwegian Pouncin...</td>\n",
       "      <td>NaN</td>\n",
       "      <td>NaN</td>\n",
       "      <td>NaN</td>\n",
       "      <td>https://twitter.com/dog_rates/status/891815181...</td>\n",
       "      <td>12</td>\n",
       "      <td>10</td>\n",
       "      <td>Archie</td>\n",
       "      <td>None</td>\n",
       "      <td>None</td>\n",
       "      <td>None</td>\n",
       "      <td>None</td>\n",
       "    </tr>\n",
       "    <tr>\n",
       "      <th>3</th>\n",
       "      <td>891689557279858688</td>\n",
       "      <td>NaN</td>\n",
       "      <td>NaN</td>\n",
       "      <td>2017-07-30 15:58:51+00:00</td>\n",
       "      <td>&lt;a href=\"http://twitter.com/download/iphone\" r...</td>\n",
       "      <td>This is Darla. She commenced a snooze mid meal...</td>\n",
       "      <td>NaN</td>\n",
       "      <td>NaN</td>\n",
       "      <td>NaN</td>\n",
       "      <td>https://twitter.com/dog_rates/status/891689557...</td>\n",
       "      <td>13</td>\n",
       "      <td>10</td>\n",
       "      <td>Darla</td>\n",
       "      <td>None</td>\n",
       "      <td>None</td>\n",
       "      <td>None</td>\n",
       "      <td>None</td>\n",
       "    </tr>\n",
       "    <tr>\n",
       "      <th>4</th>\n",
       "      <td>891327558926688256</td>\n",
       "      <td>NaN</td>\n",
       "      <td>NaN</td>\n",
       "      <td>2017-07-29 16:00:24+00:00</td>\n",
       "      <td>&lt;a href=\"http://twitter.com/download/iphone\" r...</td>\n",
       "      <td>This is Franklin. He would like you to stop ca...</td>\n",
       "      <td>NaN</td>\n",
       "      <td>NaN</td>\n",
       "      <td>NaN</td>\n",
       "      <td>https://twitter.com/dog_rates/status/891327558...</td>\n",
       "      <td>12</td>\n",
       "      <td>10</td>\n",
       "      <td>Franklin</td>\n",
       "      <td>None</td>\n",
       "      <td>None</td>\n",
       "      <td>None</td>\n",
       "      <td>None</td>\n",
       "    </tr>\n",
       "  </tbody>\n",
       "</table>\n",
       "</div>"
      ],
      "text/plain": [
       "             tweet_id  in_reply_to_status_id  in_reply_to_user_id  \\\n",
       "0  892420643555336193                    NaN                  NaN   \n",
       "1  892177421306343426                    NaN                  NaN   \n",
       "2  891815181378084864                    NaN                  NaN   \n",
       "3  891689557279858688                    NaN                  NaN   \n",
       "4  891327558926688256                    NaN                  NaN   \n",
       "\n",
       "                  timestamp  \\\n",
       "0 2017-08-01 16:23:56+00:00   \n",
       "1 2017-08-01 00:17:27+00:00   \n",
       "2 2017-07-31 00:18:03+00:00   \n",
       "3 2017-07-30 15:58:51+00:00   \n",
       "4 2017-07-29 16:00:24+00:00   \n",
       "\n",
       "                                              source  \\\n",
       "0  <a href=\"http://twitter.com/download/iphone\" r...   \n",
       "1  <a href=\"http://twitter.com/download/iphone\" r...   \n",
       "2  <a href=\"http://twitter.com/download/iphone\" r...   \n",
       "3  <a href=\"http://twitter.com/download/iphone\" r...   \n",
       "4  <a href=\"http://twitter.com/download/iphone\" r...   \n",
       "\n",
       "                                                text  retweeted_status_id  \\\n",
       "0  This is Phineas. He's a mystical boy. Only eve...                  NaN   \n",
       "1  This is Tilly. She's just checking pup on you....                  NaN   \n",
       "2  This is Archie. He is a rare Norwegian Pouncin...                  NaN   \n",
       "3  This is Darla. She commenced a snooze mid meal...                  NaN   \n",
       "4  This is Franklin. He would like you to stop ca...                  NaN   \n",
       "\n",
       "   retweeted_status_user_id retweeted_status_timestamp  \\\n",
       "0                       NaN                        NaN   \n",
       "1                       NaN                        NaN   \n",
       "2                       NaN                        NaN   \n",
       "3                       NaN                        NaN   \n",
       "4                       NaN                        NaN   \n",
       "\n",
       "                                       expanded_urls  rating_numerator  \\\n",
       "0  https://twitter.com/dog_rates/status/892420643...                13   \n",
       "1  https://twitter.com/dog_rates/status/892177421...                13   \n",
       "2  https://twitter.com/dog_rates/status/891815181...                12   \n",
       "3  https://twitter.com/dog_rates/status/891689557...                13   \n",
       "4  https://twitter.com/dog_rates/status/891327558...                12   \n",
       "\n",
       "   rating_denominator      name doggo floofer pupper puppo  \n",
       "0                  10   Phineas  None    None   None  None  \n",
       "1                  10     Tilly  None    None   None  None  \n",
       "2                  10    Archie  None    None   None  None  \n",
       "3                  10     Darla  None    None   None  None  \n",
       "4                  10  Franklin  None    None   None  None  "
      ]
     },
     "execution_count": 607,
     "metadata": {},
     "output_type": "execute_result"
    }
   ],
   "source": [
    "df_enhanced_new.head()"
   ]
  },
  {
   "cell_type": "markdown",
   "metadata": {},
   "source": [
    "### Issue #7: Clean up the field source (html)"
   ]
  },
  {
   "cell_type": "markdown",
   "metadata": {
    "collapsed": true,
    "extensions": {
     "jupyter_dashboards": {
      "version": 1,
      "views": {
       "grid_default": {
        "hidden": true
       },
       "report_default": {
        "hidden": true
       }
      }
     }
    }
   },
   "source": [
    "#### Define: Clean up source"
   ]
  },
  {
   "cell_type": "markdown",
   "metadata": {},
   "source": [
    "#### Code"
   ]
  },
  {
   "cell_type": "code",
   "execution_count": 608,
   "metadata": {
    "scrolled": true
   },
   "outputs": [],
   "source": [
    "df_enhanced_new.source = df_enhanced_new.source.str.extract('\\>(.*?)\\<')\n"
   ]
  },
  {
   "cell_type": "markdown",
   "metadata": {},
   "source": [
    "#### Test"
   ]
  },
  {
   "cell_type": "code",
   "execution_count": 609,
   "metadata": {
    "scrolled": true
   },
   "outputs": [
    {
     "data": {
      "text/html": [
       "<div>\n",
       "<style scoped>\n",
       "    .dataframe tbody tr th:only-of-type {\n",
       "        vertical-align: middle;\n",
       "    }\n",
       "\n",
       "    .dataframe tbody tr th {\n",
       "        vertical-align: top;\n",
       "    }\n",
       "\n",
       "    .dataframe thead th {\n",
       "        text-align: right;\n",
       "    }\n",
       "</style>\n",
       "<table border=\"1\" class=\"dataframe\">\n",
       "  <thead>\n",
       "    <tr style=\"text-align: right;\">\n",
       "      <th></th>\n",
       "      <th>tweet_id</th>\n",
       "      <th>in_reply_to_status_id</th>\n",
       "      <th>in_reply_to_user_id</th>\n",
       "      <th>timestamp</th>\n",
       "      <th>source</th>\n",
       "      <th>text</th>\n",
       "      <th>retweeted_status_id</th>\n",
       "      <th>retweeted_status_user_id</th>\n",
       "      <th>retweeted_status_timestamp</th>\n",
       "      <th>expanded_urls</th>\n",
       "      <th>rating_numerator</th>\n",
       "      <th>rating_denominator</th>\n",
       "      <th>name</th>\n",
       "      <th>doggo</th>\n",
       "      <th>floofer</th>\n",
       "      <th>pupper</th>\n",
       "      <th>puppo</th>\n",
       "    </tr>\n",
       "  </thead>\n",
       "  <tbody>\n",
       "    <tr>\n",
       "      <th>0</th>\n",
       "      <td>892420643555336193</td>\n",
       "      <td>NaN</td>\n",
       "      <td>NaN</td>\n",
       "      <td>2017-08-01 16:23:56+00:00</td>\n",
       "      <td>Twitter for iPhone</td>\n",
       "      <td>This is Phineas. He's a mystical boy. Only eve...</td>\n",
       "      <td>NaN</td>\n",
       "      <td>NaN</td>\n",
       "      <td>NaN</td>\n",
       "      <td>https://twitter.com/dog_rates/status/892420643...</td>\n",
       "      <td>13</td>\n",
       "      <td>10</td>\n",
       "      <td>Phineas</td>\n",
       "      <td>None</td>\n",
       "      <td>None</td>\n",
       "      <td>None</td>\n",
       "      <td>None</td>\n",
       "    </tr>\n",
       "    <tr>\n",
       "      <th>1</th>\n",
       "      <td>892177421306343426</td>\n",
       "      <td>NaN</td>\n",
       "      <td>NaN</td>\n",
       "      <td>2017-08-01 00:17:27+00:00</td>\n",
       "      <td>Twitter for iPhone</td>\n",
       "      <td>This is Tilly. She's just checking pup on you....</td>\n",
       "      <td>NaN</td>\n",
       "      <td>NaN</td>\n",
       "      <td>NaN</td>\n",
       "      <td>https://twitter.com/dog_rates/status/892177421...</td>\n",
       "      <td>13</td>\n",
       "      <td>10</td>\n",
       "      <td>Tilly</td>\n",
       "      <td>None</td>\n",
       "      <td>None</td>\n",
       "      <td>None</td>\n",
       "      <td>None</td>\n",
       "    </tr>\n",
       "    <tr>\n",
       "      <th>2</th>\n",
       "      <td>891815181378084864</td>\n",
       "      <td>NaN</td>\n",
       "      <td>NaN</td>\n",
       "      <td>2017-07-31 00:18:03+00:00</td>\n",
       "      <td>Twitter for iPhone</td>\n",
       "      <td>This is Archie. He is a rare Norwegian Pouncin...</td>\n",
       "      <td>NaN</td>\n",
       "      <td>NaN</td>\n",
       "      <td>NaN</td>\n",
       "      <td>https://twitter.com/dog_rates/status/891815181...</td>\n",
       "      <td>12</td>\n",
       "      <td>10</td>\n",
       "      <td>Archie</td>\n",
       "      <td>None</td>\n",
       "      <td>None</td>\n",
       "      <td>None</td>\n",
       "      <td>None</td>\n",
       "    </tr>\n",
       "    <tr>\n",
       "      <th>3</th>\n",
       "      <td>891689557279858688</td>\n",
       "      <td>NaN</td>\n",
       "      <td>NaN</td>\n",
       "      <td>2017-07-30 15:58:51+00:00</td>\n",
       "      <td>Twitter for iPhone</td>\n",
       "      <td>This is Darla. She commenced a snooze mid meal...</td>\n",
       "      <td>NaN</td>\n",
       "      <td>NaN</td>\n",
       "      <td>NaN</td>\n",
       "      <td>https://twitter.com/dog_rates/status/891689557...</td>\n",
       "      <td>13</td>\n",
       "      <td>10</td>\n",
       "      <td>Darla</td>\n",
       "      <td>None</td>\n",
       "      <td>None</td>\n",
       "      <td>None</td>\n",
       "      <td>None</td>\n",
       "    </tr>\n",
       "    <tr>\n",
       "      <th>4</th>\n",
       "      <td>891327558926688256</td>\n",
       "      <td>NaN</td>\n",
       "      <td>NaN</td>\n",
       "      <td>2017-07-29 16:00:24+00:00</td>\n",
       "      <td>Twitter for iPhone</td>\n",
       "      <td>This is Franklin. He would like you to stop ca...</td>\n",
       "      <td>NaN</td>\n",
       "      <td>NaN</td>\n",
       "      <td>NaN</td>\n",
       "      <td>https://twitter.com/dog_rates/status/891327558...</td>\n",
       "      <td>12</td>\n",
       "      <td>10</td>\n",
       "      <td>Franklin</td>\n",
       "      <td>None</td>\n",
       "      <td>None</td>\n",
       "      <td>None</td>\n",
       "      <td>None</td>\n",
       "    </tr>\n",
       "  </tbody>\n",
       "</table>\n",
       "</div>"
      ],
      "text/plain": [
       "             tweet_id  in_reply_to_status_id  in_reply_to_user_id  \\\n",
       "0  892420643555336193                    NaN                  NaN   \n",
       "1  892177421306343426                    NaN                  NaN   \n",
       "2  891815181378084864                    NaN                  NaN   \n",
       "3  891689557279858688                    NaN                  NaN   \n",
       "4  891327558926688256                    NaN                  NaN   \n",
       "\n",
       "                  timestamp              source  \\\n",
       "0 2017-08-01 16:23:56+00:00  Twitter for iPhone   \n",
       "1 2017-08-01 00:17:27+00:00  Twitter for iPhone   \n",
       "2 2017-07-31 00:18:03+00:00  Twitter for iPhone   \n",
       "3 2017-07-30 15:58:51+00:00  Twitter for iPhone   \n",
       "4 2017-07-29 16:00:24+00:00  Twitter for iPhone   \n",
       "\n",
       "                                                text  retweeted_status_id  \\\n",
       "0  This is Phineas. He's a mystical boy. Only eve...                  NaN   \n",
       "1  This is Tilly. She's just checking pup on you....                  NaN   \n",
       "2  This is Archie. He is a rare Norwegian Pouncin...                  NaN   \n",
       "3  This is Darla. She commenced a snooze mid meal...                  NaN   \n",
       "4  This is Franklin. He would like you to stop ca...                  NaN   \n",
       "\n",
       "   retweeted_status_user_id retweeted_status_timestamp  \\\n",
       "0                       NaN                        NaN   \n",
       "1                       NaN                        NaN   \n",
       "2                       NaN                        NaN   \n",
       "3                       NaN                        NaN   \n",
       "4                       NaN                        NaN   \n",
       "\n",
       "                                       expanded_urls  rating_numerator  \\\n",
       "0  https://twitter.com/dog_rates/status/892420643...                13   \n",
       "1  https://twitter.com/dog_rates/status/892177421...                13   \n",
       "2  https://twitter.com/dog_rates/status/891815181...                12   \n",
       "3  https://twitter.com/dog_rates/status/891689557...                13   \n",
       "4  https://twitter.com/dog_rates/status/891327558...                12   \n",
       "\n",
       "   rating_denominator      name doggo floofer pupper puppo  \n",
       "0                  10   Phineas  None    None   None  None  \n",
       "1                  10     Tilly  None    None   None  None  \n",
       "2                  10    Archie  None    None   None  None  \n",
       "3                  10     Darla  None    None   None  None  \n",
       "4                  10  Franklin  None    None   None  None  "
      ]
     },
     "execution_count": 609,
     "metadata": {},
     "output_type": "execute_result"
    }
   ],
   "source": [
    "df_enhanced_new.head()"
   ]
  },
  {
   "cell_type": "markdown",
   "metadata": {},
   "source": [
    "### Issue #8: Change tweet_id to str"
   ]
  },
  {
   "cell_type": "markdown",
   "metadata": {
    "collapsed": true,
    "extensions": {
     "jupyter_dashboards": {
      "version": 1,
      "views": {
       "grid_default": {
        "hidden": true
       },
       "report_default": {
        "hidden": true
       }
      }
     }
    }
   },
   "source": [
    "#### Define: Clean up source"
   ]
  },
  {
   "cell_type": "markdown",
   "metadata": {},
   "source": [
    "#### Code"
   ]
  },
  {
   "cell_type": "code",
   "execution_count": 610,
   "metadata": {
    "scrolled": true
   },
   "outputs": [],
   "source": [
    "df_enhanced_new.tweet_id = str(df_enhanced_new.tweet_id)\n",
    "df_tweet_new.tweet_id = str(df_tweet_new.tweet_id)\n",
    "df_predictions_new.tweet_id = str(df_predictions_new.tweet_id)"
   ]
  },
  {
   "cell_type": "markdown",
   "metadata": {},
   "source": [
    "#### Test"
   ]
  },
  {
   "cell_type": "code",
   "execution_count": 611,
   "metadata": {
    "scrolled": true
   },
   "outputs": [
    {
     "name": "stdout",
     "output_type": "stream",
     "text": [
      "<class 'pandas.core.frame.DataFrame'>\n",
      "Int64Index: 1976 entries, 0 to 2355\n",
      "Data columns (total 17 columns):\n",
      " #   Column                      Non-Null Count  Dtype              \n",
      "---  ------                      --------------  -----              \n",
      " 0   tweet_id                    1976 non-null   object             \n",
      " 1   in_reply_to_status_id       22 non-null     float64            \n",
      " 2   in_reply_to_user_id         22 non-null     float64            \n",
      " 3   timestamp                   1976 non-null   datetime64[ns, UTC]\n",
      " 4   source                      1976 non-null   object             \n",
      " 5   text                        1976 non-null   object             \n",
      " 6   retweeted_status_id         0 non-null      float64            \n",
      " 7   retweeted_status_user_id    0 non-null      float64            \n",
      " 8   retweeted_status_timestamp  0 non-null      object             \n",
      " 9   expanded_urls               1976 non-null   object             \n",
      " 10  rating_numerator            1976 non-null   int64              \n",
      " 11  rating_denominator          1976 non-null   int64              \n",
      " 12  name                        1976 non-null   object             \n",
      " 13  doggo                       1976 non-null   object             \n",
      " 14  floofer                     1976 non-null   object             \n",
      " 15  pupper                      1976 non-null   object             \n",
      " 16  puppo                       1976 non-null   object             \n",
      "dtypes: datetime64[ns, UTC](1), float64(4), int64(2), object(10)\n",
      "memory usage: 277.9+ KB\n"
     ]
    }
   ],
   "source": [
    "df_enhanced_new.info()"
   ]
  },
  {
   "cell_type": "markdown",
   "metadata": {},
   "source": [
    "### Issue #9: Join df_enhanced_new, df_tweet_new and df_predictions_new"
   ]
  },
  {
   "cell_type": "markdown",
   "metadata": {
    "collapsed": true,
    "extensions": {
     "jupyter_dashboards": {
      "version": 1,
      "views": {
       "grid_default": {
        "hidden": true
       },
       "report_default": {
        "hidden": true
       }
      }
     }
    }
   },
   "source": [
    "#### Define: Join dataframes"
   ]
  },
  {
   "cell_type": "markdown",
   "metadata": {},
   "source": [
    "#### Code"
   ]
  },
  {
   "cell_type": "code",
   "execution_count": 612,
   "metadata": {},
   "outputs": [],
   "source": [
    "#https://stackoverflow.com/questions/28642177/python-pandas-dataframe-join-two-dataframes?noredirect=1&lq=1\n",
    "\n",
    "df_predictions_new.shape[0]\n",
    "df_full = pd.merge(df_enhanced_new, df_tweet_new, on ='tweet_id', how='left')\n",
    "df_full = pd.merge(df_full, df_predictions_new, on ='tweet_id', how='left')"
   ]
  },
  {
   "cell_type": "markdown",
   "metadata": {},
   "source": [
    "#### Test"
   ]
  },
  {
   "cell_type": "code",
   "execution_count": 613,
   "metadata": {
    "scrolled": false
   },
   "outputs": [
    {
     "data": {
      "text/html": [
       "<div>\n",
       "<style scoped>\n",
       "    .dataframe tbody tr th:only-of-type {\n",
       "        vertical-align: middle;\n",
       "    }\n",
       "\n",
       "    .dataframe tbody tr th {\n",
       "        vertical-align: top;\n",
       "    }\n",
       "\n",
       "    .dataframe thead th {\n",
       "        text-align: right;\n",
       "    }\n",
       "</style>\n",
       "<table border=\"1\" class=\"dataframe\">\n",
       "  <thead>\n",
       "    <tr style=\"text-align: right;\">\n",
       "      <th></th>\n",
       "      <th>tweet_id</th>\n",
       "      <th>in_reply_to_status_id</th>\n",
       "      <th>in_reply_to_user_id</th>\n",
       "      <th>timestamp</th>\n",
       "      <th>source</th>\n",
       "      <th>text</th>\n",
       "      <th>retweeted_status_id</th>\n",
       "      <th>retweeted_status_user_id</th>\n",
       "      <th>retweeted_status_timestamp</th>\n",
       "      <th>expanded_urls</th>\n",
       "      <th>...</th>\n",
       "      <th>img_num</th>\n",
       "      <th>p1</th>\n",
       "      <th>p1_conf</th>\n",
       "      <th>p1_dog</th>\n",
       "      <th>p2</th>\n",
       "      <th>p2_conf</th>\n",
       "      <th>p2_dog</th>\n",
       "      <th>p3</th>\n",
       "      <th>p3_conf</th>\n",
       "      <th>p3_dog</th>\n",
       "    </tr>\n",
       "  </thead>\n",
       "  <tbody>\n",
       "    <tr>\n",
       "      <th>0</th>\n",
       "      <td>0       892420643555336193\\n1       8921774213...</td>\n",
       "      <td>NaN</td>\n",
       "      <td>NaN</td>\n",
       "      <td>2017-08-01 16:23:56+00:00</td>\n",
       "      <td>Twitter for iPhone</td>\n",
       "      <td>This is Phineas. He's a mystical boy. Only eve...</td>\n",
       "      <td>NaN</td>\n",
       "      <td>NaN</td>\n",
       "      <td>NaN</td>\n",
       "      <td>https://twitter.com/dog_rates/status/892420643...</td>\n",
       "      <td>...</td>\n",
       "      <td>NaN</td>\n",
       "      <td>NaN</td>\n",
       "      <td>NaN</td>\n",
       "      <td>NaN</td>\n",
       "      <td>NaN</td>\n",
       "      <td>NaN</td>\n",
       "      <td>NaN</td>\n",
       "      <td>NaN</td>\n",
       "      <td>NaN</td>\n",
       "      <td>NaN</td>\n",
       "    </tr>\n",
       "    <tr>\n",
       "      <th>1</th>\n",
       "      <td>0       892420643555336193\\n1       8921774213...</td>\n",
       "      <td>NaN</td>\n",
       "      <td>NaN</td>\n",
       "      <td>2017-08-01 00:17:27+00:00</td>\n",
       "      <td>Twitter for iPhone</td>\n",
       "      <td>This is Tilly. She's just checking pup on you....</td>\n",
       "      <td>NaN</td>\n",
       "      <td>NaN</td>\n",
       "      <td>NaN</td>\n",
       "      <td>https://twitter.com/dog_rates/status/892177421...</td>\n",
       "      <td>...</td>\n",
       "      <td>NaN</td>\n",
       "      <td>NaN</td>\n",
       "      <td>NaN</td>\n",
       "      <td>NaN</td>\n",
       "      <td>NaN</td>\n",
       "      <td>NaN</td>\n",
       "      <td>NaN</td>\n",
       "      <td>NaN</td>\n",
       "      <td>NaN</td>\n",
       "      <td>NaN</td>\n",
       "    </tr>\n",
       "    <tr>\n",
       "      <th>2</th>\n",
       "      <td>0       892420643555336193\\n1       8921774213...</td>\n",
       "      <td>NaN</td>\n",
       "      <td>NaN</td>\n",
       "      <td>2017-07-31 00:18:03+00:00</td>\n",
       "      <td>Twitter for iPhone</td>\n",
       "      <td>This is Archie. He is a rare Norwegian Pouncin...</td>\n",
       "      <td>NaN</td>\n",
       "      <td>NaN</td>\n",
       "      <td>NaN</td>\n",
       "      <td>https://twitter.com/dog_rates/status/891815181...</td>\n",
       "      <td>...</td>\n",
       "      <td>NaN</td>\n",
       "      <td>NaN</td>\n",
       "      <td>NaN</td>\n",
       "      <td>NaN</td>\n",
       "      <td>NaN</td>\n",
       "      <td>NaN</td>\n",
       "      <td>NaN</td>\n",
       "      <td>NaN</td>\n",
       "      <td>NaN</td>\n",
       "      <td>NaN</td>\n",
       "    </tr>\n",
       "    <tr>\n",
       "      <th>3</th>\n",
       "      <td>0       892420643555336193\\n1       8921774213...</td>\n",
       "      <td>NaN</td>\n",
       "      <td>NaN</td>\n",
       "      <td>2017-07-30 15:58:51+00:00</td>\n",
       "      <td>Twitter for iPhone</td>\n",
       "      <td>This is Darla. She commenced a snooze mid meal...</td>\n",
       "      <td>NaN</td>\n",
       "      <td>NaN</td>\n",
       "      <td>NaN</td>\n",
       "      <td>https://twitter.com/dog_rates/status/891689557...</td>\n",
       "      <td>...</td>\n",
       "      <td>NaN</td>\n",
       "      <td>NaN</td>\n",
       "      <td>NaN</td>\n",
       "      <td>NaN</td>\n",
       "      <td>NaN</td>\n",
       "      <td>NaN</td>\n",
       "      <td>NaN</td>\n",
       "      <td>NaN</td>\n",
       "      <td>NaN</td>\n",
       "      <td>NaN</td>\n",
       "    </tr>\n",
       "    <tr>\n",
       "      <th>4</th>\n",
       "      <td>0       892420643555336193\\n1       8921774213...</td>\n",
       "      <td>NaN</td>\n",
       "      <td>NaN</td>\n",
       "      <td>2017-07-29 16:00:24+00:00</td>\n",
       "      <td>Twitter for iPhone</td>\n",
       "      <td>This is Franklin. He would like you to stop ca...</td>\n",
       "      <td>NaN</td>\n",
       "      <td>NaN</td>\n",
       "      <td>NaN</td>\n",
       "      <td>https://twitter.com/dog_rates/status/891327558...</td>\n",
       "      <td>...</td>\n",
       "      <td>NaN</td>\n",
       "      <td>NaN</td>\n",
       "      <td>NaN</td>\n",
       "      <td>NaN</td>\n",
       "      <td>NaN</td>\n",
       "      <td>NaN</td>\n",
       "      <td>NaN</td>\n",
       "      <td>NaN</td>\n",
       "      <td>NaN</td>\n",
       "      <td>NaN</td>\n",
       "    </tr>\n",
       "  </tbody>\n",
       "</table>\n",
       "<p>5 rows × 30 columns</p>\n",
       "</div>"
      ],
      "text/plain": [
       "                                            tweet_id  in_reply_to_status_id  \\\n",
       "0  0       892420643555336193\\n1       8921774213...                    NaN   \n",
       "1  0       892420643555336193\\n1       8921774213...                    NaN   \n",
       "2  0       892420643555336193\\n1       8921774213...                    NaN   \n",
       "3  0       892420643555336193\\n1       8921774213...                    NaN   \n",
       "4  0       892420643555336193\\n1       8921774213...                    NaN   \n",
       "\n",
       "   in_reply_to_user_id                 timestamp              source  \\\n",
       "0                  NaN 2017-08-01 16:23:56+00:00  Twitter for iPhone   \n",
       "1                  NaN 2017-08-01 00:17:27+00:00  Twitter for iPhone   \n",
       "2                  NaN 2017-07-31 00:18:03+00:00  Twitter for iPhone   \n",
       "3                  NaN 2017-07-30 15:58:51+00:00  Twitter for iPhone   \n",
       "4                  NaN 2017-07-29 16:00:24+00:00  Twitter for iPhone   \n",
       "\n",
       "                                                text  retweeted_status_id  \\\n",
       "0  This is Phineas. He's a mystical boy. Only eve...                  NaN   \n",
       "1  This is Tilly. She's just checking pup on you....                  NaN   \n",
       "2  This is Archie. He is a rare Norwegian Pouncin...                  NaN   \n",
       "3  This is Darla. She commenced a snooze mid meal...                  NaN   \n",
       "4  This is Franklin. He would like you to stop ca...                  NaN   \n",
       "\n",
       "   retweeted_status_user_id retweeted_status_timestamp  \\\n",
       "0                       NaN                        NaN   \n",
       "1                       NaN                        NaN   \n",
       "2                       NaN                        NaN   \n",
       "3                       NaN                        NaN   \n",
       "4                       NaN                        NaN   \n",
       "\n",
       "                                       expanded_urls  ...  img_num   p1  \\\n",
       "0  https://twitter.com/dog_rates/status/892420643...  ...      NaN  NaN   \n",
       "1  https://twitter.com/dog_rates/status/892177421...  ...      NaN  NaN   \n",
       "2  https://twitter.com/dog_rates/status/891815181...  ...      NaN  NaN   \n",
       "3  https://twitter.com/dog_rates/status/891689557...  ...      NaN  NaN   \n",
       "4  https://twitter.com/dog_rates/status/891327558...  ...      NaN  NaN   \n",
       "\n",
       "  p1_conf p1_dog   p2 p2_conf p2_dog   p3  p3_conf p3_dog  \n",
       "0     NaN    NaN  NaN     NaN    NaN  NaN      NaN    NaN  \n",
       "1     NaN    NaN  NaN     NaN    NaN  NaN      NaN    NaN  \n",
       "2     NaN    NaN  NaN     NaN    NaN  NaN      NaN    NaN  \n",
       "3     NaN    NaN  NaN     NaN    NaN  NaN      NaN    NaN  \n",
       "4     NaN    NaN  NaN     NaN    NaN  NaN      NaN    NaN  \n",
       "\n",
       "[5 rows x 30 columns]"
      ]
     },
     "execution_count": 613,
     "metadata": {},
     "output_type": "execute_result"
    }
   ],
   "source": [
    "df_full.head()"
   ]
  },
  {
   "cell_type": "markdown",
   "metadata": {},
   "source": [
    "### Issue #10: Convert doggo, floofer, pupper and puppo columns to one column."
   ]
  },
  {
   "cell_type": "markdown",
   "metadata": {
    "collapsed": true,
    "extensions": {
     "jupyter_dashboards": {
      "version": 1,
      "views": {
       "grid_default": {
        "hidden": true
       },
       "report_default": {
        "hidden": true
       }
      }
     }
    }
   },
   "source": [
    "#### Define: Convert doggo, floofer, pupper and puppo columns to one column."
   ]
  },
  {
   "cell_type": "markdown",
   "metadata": {},
   "source": [
    "#### Code"
   ]
  },
  {
   "cell_type": "code",
   "execution_count": 614,
   "metadata": {},
   "outputs": [],
   "source": [
    "def dog(r):\n",
    "    \n",
    "    if r['doggo'] == 'doggo':\n",
    "        stage='doggo'\n",
    "    elif r['floofer']== 'floofer':\n",
    "        stage='floofer'\n",
    "    elif r['pupper'] =='pupper':\n",
    "        stage='pupper'\n",
    "    elif r['puppo'] =='puppo':\n",
    "        stage='puppo'\n",
    "    else:\n",
    "        stage='None'\n",
    "    return stage\n",
    "\n",
    "df_full['stage'] = df_full.apply(dog, axis=1)\n",
    "drop_coluns = ['doggo','floofer','pupper','puppo']"
   ]
  },
  {
   "cell_type": "code",
   "execution_count": 615,
   "metadata": {},
   "outputs": [],
   "source": [
    "drop_columns = ['doggo','floofer','pupper','puppo']\n",
    "df_full = df_full.drop(drop_columns, axis=1)"
   ]
  },
  {
   "cell_type": "markdown",
   "metadata": {},
   "source": [
    "#### Test"
   ]
  },
  {
   "cell_type": "code",
   "execution_count": 616,
   "metadata": {
    "scrolled": false
   },
   "outputs": [
    {
     "data": {
      "text/html": [
       "<div>\n",
       "<style scoped>\n",
       "    .dataframe tbody tr th:only-of-type {\n",
       "        vertical-align: middle;\n",
       "    }\n",
       "\n",
       "    .dataframe tbody tr th {\n",
       "        vertical-align: top;\n",
       "    }\n",
       "\n",
       "    .dataframe thead th {\n",
       "        text-align: right;\n",
       "    }\n",
       "</style>\n",
       "<table border=\"1\" class=\"dataframe\">\n",
       "  <thead>\n",
       "    <tr style=\"text-align: right;\">\n",
       "      <th></th>\n",
       "      <th>tweet_id</th>\n",
       "      <th>in_reply_to_status_id</th>\n",
       "      <th>in_reply_to_user_id</th>\n",
       "      <th>timestamp</th>\n",
       "      <th>source</th>\n",
       "      <th>text</th>\n",
       "      <th>retweeted_status_id</th>\n",
       "      <th>retweeted_status_user_id</th>\n",
       "      <th>retweeted_status_timestamp</th>\n",
       "      <th>expanded_urls</th>\n",
       "      <th>...</th>\n",
       "      <th>p1</th>\n",
       "      <th>p1_conf</th>\n",
       "      <th>p1_dog</th>\n",
       "      <th>p2</th>\n",
       "      <th>p2_conf</th>\n",
       "      <th>p2_dog</th>\n",
       "      <th>p3</th>\n",
       "      <th>p3_conf</th>\n",
       "      <th>p3_dog</th>\n",
       "      <th>stage</th>\n",
       "    </tr>\n",
       "  </thead>\n",
       "  <tbody>\n",
       "    <tr>\n",
       "      <th>0</th>\n",
       "      <td>0       892420643555336193\\n1       8921774213...</td>\n",
       "      <td>NaN</td>\n",
       "      <td>NaN</td>\n",
       "      <td>2017-08-01 16:23:56+00:00</td>\n",
       "      <td>Twitter for iPhone</td>\n",
       "      <td>This is Phineas. He's a mystical boy. Only eve...</td>\n",
       "      <td>NaN</td>\n",
       "      <td>NaN</td>\n",
       "      <td>NaN</td>\n",
       "      <td>https://twitter.com/dog_rates/status/892420643...</td>\n",
       "      <td>...</td>\n",
       "      <td>NaN</td>\n",
       "      <td>NaN</td>\n",
       "      <td>NaN</td>\n",
       "      <td>NaN</td>\n",
       "      <td>NaN</td>\n",
       "      <td>NaN</td>\n",
       "      <td>NaN</td>\n",
       "      <td>NaN</td>\n",
       "      <td>NaN</td>\n",
       "      <td>None</td>\n",
       "    </tr>\n",
       "    <tr>\n",
       "      <th>1</th>\n",
       "      <td>0       892420643555336193\\n1       8921774213...</td>\n",
       "      <td>NaN</td>\n",
       "      <td>NaN</td>\n",
       "      <td>2017-08-01 00:17:27+00:00</td>\n",
       "      <td>Twitter for iPhone</td>\n",
       "      <td>This is Tilly. She's just checking pup on you....</td>\n",
       "      <td>NaN</td>\n",
       "      <td>NaN</td>\n",
       "      <td>NaN</td>\n",
       "      <td>https://twitter.com/dog_rates/status/892177421...</td>\n",
       "      <td>...</td>\n",
       "      <td>NaN</td>\n",
       "      <td>NaN</td>\n",
       "      <td>NaN</td>\n",
       "      <td>NaN</td>\n",
       "      <td>NaN</td>\n",
       "      <td>NaN</td>\n",
       "      <td>NaN</td>\n",
       "      <td>NaN</td>\n",
       "      <td>NaN</td>\n",
       "      <td>None</td>\n",
       "    </tr>\n",
       "    <tr>\n",
       "      <th>2</th>\n",
       "      <td>0       892420643555336193\\n1       8921774213...</td>\n",
       "      <td>NaN</td>\n",
       "      <td>NaN</td>\n",
       "      <td>2017-07-31 00:18:03+00:00</td>\n",
       "      <td>Twitter for iPhone</td>\n",
       "      <td>This is Archie. He is a rare Norwegian Pouncin...</td>\n",
       "      <td>NaN</td>\n",
       "      <td>NaN</td>\n",
       "      <td>NaN</td>\n",
       "      <td>https://twitter.com/dog_rates/status/891815181...</td>\n",
       "      <td>...</td>\n",
       "      <td>NaN</td>\n",
       "      <td>NaN</td>\n",
       "      <td>NaN</td>\n",
       "      <td>NaN</td>\n",
       "      <td>NaN</td>\n",
       "      <td>NaN</td>\n",
       "      <td>NaN</td>\n",
       "      <td>NaN</td>\n",
       "      <td>NaN</td>\n",
       "      <td>None</td>\n",
       "    </tr>\n",
       "    <tr>\n",
       "      <th>3</th>\n",
       "      <td>0       892420643555336193\\n1       8921774213...</td>\n",
       "      <td>NaN</td>\n",
       "      <td>NaN</td>\n",
       "      <td>2017-07-30 15:58:51+00:00</td>\n",
       "      <td>Twitter for iPhone</td>\n",
       "      <td>This is Darla. She commenced a snooze mid meal...</td>\n",
       "      <td>NaN</td>\n",
       "      <td>NaN</td>\n",
       "      <td>NaN</td>\n",
       "      <td>https://twitter.com/dog_rates/status/891689557...</td>\n",
       "      <td>...</td>\n",
       "      <td>NaN</td>\n",
       "      <td>NaN</td>\n",
       "      <td>NaN</td>\n",
       "      <td>NaN</td>\n",
       "      <td>NaN</td>\n",
       "      <td>NaN</td>\n",
       "      <td>NaN</td>\n",
       "      <td>NaN</td>\n",
       "      <td>NaN</td>\n",
       "      <td>None</td>\n",
       "    </tr>\n",
       "    <tr>\n",
       "      <th>4</th>\n",
       "      <td>0       892420643555336193\\n1       8921774213...</td>\n",
       "      <td>NaN</td>\n",
       "      <td>NaN</td>\n",
       "      <td>2017-07-29 16:00:24+00:00</td>\n",
       "      <td>Twitter for iPhone</td>\n",
       "      <td>This is Franklin. He would like you to stop ca...</td>\n",
       "      <td>NaN</td>\n",
       "      <td>NaN</td>\n",
       "      <td>NaN</td>\n",
       "      <td>https://twitter.com/dog_rates/status/891327558...</td>\n",
       "      <td>...</td>\n",
       "      <td>NaN</td>\n",
       "      <td>NaN</td>\n",
       "      <td>NaN</td>\n",
       "      <td>NaN</td>\n",
       "      <td>NaN</td>\n",
       "      <td>NaN</td>\n",
       "      <td>NaN</td>\n",
       "      <td>NaN</td>\n",
       "      <td>NaN</td>\n",
       "      <td>None</td>\n",
       "    </tr>\n",
       "  </tbody>\n",
       "</table>\n",
       "<p>5 rows × 27 columns</p>\n",
       "</div>"
      ],
      "text/plain": [
       "                                            tweet_id  in_reply_to_status_id  \\\n",
       "0  0       892420643555336193\\n1       8921774213...                    NaN   \n",
       "1  0       892420643555336193\\n1       8921774213...                    NaN   \n",
       "2  0       892420643555336193\\n1       8921774213...                    NaN   \n",
       "3  0       892420643555336193\\n1       8921774213...                    NaN   \n",
       "4  0       892420643555336193\\n1       8921774213...                    NaN   \n",
       "\n",
       "   in_reply_to_user_id                 timestamp              source  \\\n",
       "0                  NaN 2017-08-01 16:23:56+00:00  Twitter for iPhone   \n",
       "1                  NaN 2017-08-01 00:17:27+00:00  Twitter for iPhone   \n",
       "2                  NaN 2017-07-31 00:18:03+00:00  Twitter for iPhone   \n",
       "3                  NaN 2017-07-30 15:58:51+00:00  Twitter for iPhone   \n",
       "4                  NaN 2017-07-29 16:00:24+00:00  Twitter for iPhone   \n",
       "\n",
       "                                                text  retweeted_status_id  \\\n",
       "0  This is Phineas. He's a mystical boy. Only eve...                  NaN   \n",
       "1  This is Tilly. She's just checking pup on you....                  NaN   \n",
       "2  This is Archie. He is a rare Norwegian Pouncin...                  NaN   \n",
       "3  This is Darla. She commenced a snooze mid meal...                  NaN   \n",
       "4  This is Franklin. He would like you to stop ca...                  NaN   \n",
       "\n",
       "   retweeted_status_user_id retweeted_status_timestamp  \\\n",
       "0                       NaN                        NaN   \n",
       "1                       NaN                        NaN   \n",
       "2                       NaN                        NaN   \n",
       "3                       NaN                        NaN   \n",
       "4                       NaN                        NaN   \n",
       "\n",
       "                                       expanded_urls  ...   p1  p1_conf  \\\n",
       "0  https://twitter.com/dog_rates/status/892420643...  ...  NaN      NaN   \n",
       "1  https://twitter.com/dog_rates/status/892177421...  ...  NaN      NaN   \n",
       "2  https://twitter.com/dog_rates/status/891815181...  ...  NaN      NaN   \n",
       "3  https://twitter.com/dog_rates/status/891689557...  ...  NaN      NaN   \n",
       "4  https://twitter.com/dog_rates/status/891327558...  ...  NaN      NaN   \n",
       "\n",
       "  p1_dog   p2  p2_conf p2_dog   p3 p3_conf  p3_dog stage  \n",
       "0    NaN  NaN      NaN    NaN  NaN     NaN     NaN  None  \n",
       "1    NaN  NaN      NaN    NaN  NaN     NaN     NaN  None  \n",
       "2    NaN  NaN      NaN    NaN  NaN     NaN     NaN  None  \n",
       "3    NaN  NaN      NaN    NaN  NaN     NaN     NaN  None  \n",
       "4    NaN  NaN      NaN    NaN  NaN     NaN     NaN  None  \n",
       "\n",
       "[5 rows x 27 columns]"
      ]
     },
     "execution_count": 616,
     "metadata": {},
     "output_type": "execute_result"
    }
   ],
   "source": [
    "df_full.head()\n"
   ]
  },
  {
   "cell_type": "markdown",
   "metadata": {},
   "source": [
    "## Storing Data\n",
    "Save gathered, assessed, and cleaned master dataset to a CSV file named \"twitter_archive_master.csv\"."
   ]
  },
  {
   "cell_type": "code",
   "execution_count": 548,
   "metadata": {},
   "outputs": [],
   "source": [
    "df_full.to_csv('twiter_master.csv')"
   ]
  },
  {
   "cell_type": "markdown",
   "metadata": {},
   "source": [
    "## Analyzing and Visualizing Data\n",
    "In this section, analyze and visualize your wrangled data. You must produce at least **three (3) insights and one (1) visualization.**"
   ]
  },
  {
   "cell_type": "code",
   "execution_count": 617,
   "metadata": {},
   "outputs": [
    {
     "name": "stdout",
     "output_type": "stream",
     "text": [
      "<class 'pandas.core.frame.DataFrame'>\n",
      "Int64Index: 1976 entries, 0 to 1975\n",
      "Data columns (total 27 columns):\n",
      " #   Column                      Non-Null Count  Dtype              \n",
      "---  ------                      --------------  -----              \n",
      " 0   tweet_id                    1976 non-null   object             \n",
      " 1   in_reply_to_status_id       22 non-null     float64            \n",
      " 2   in_reply_to_user_id         22 non-null     float64            \n",
      " 3   timestamp                   1976 non-null   datetime64[ns, UTC]\n",
      " 4   source                      1976 non-null   object             \n",
      " 5   text                        1976 non-null   object             \n",
      " 6   retweeted_status_id         0 non-null      float64            \n",
      " 7   retweeted_status_user_id    0 non-null      float64            \n",
      " 8   retweeted_status_timestamp  0 non-null      object             \n",
      " 9   expanded_urls               1976 non-null   object             \n",
      " 10  rating_numerator            1976 non-null   int64              \n",
      " 11  rating_denominator          1976 non-null   int64              \n",
      " 12  name                        1976 non-null   object             \n",
      " 13  retweet_count               0 non-null      float64            \n",
      " 14  favorite_count              0 non-null      float64            \n",
      " 15  jpg_url                     0 non-null      object             \n",
      " 16  img_num                     0 non-null      float64            \n",
      " 17  p1                          0 non-null      object             \n",
      " 18  p1_conf                     0 non-null      float64            \n",
      " 19  p1_dog                      0 non-null      object             \n",
      " 20  p2                          0 non-null      object             \n",
      " 21  p2_conf                     0 non-null      float64            \n",
      " 22  p2_dog                      0 non-null      object             \n",
      " 23  p3                          0 non-null      object             \n",
      " 24  p3_conf                     0 non-null      float64            \n",
      " 25  p3_dog                      0 non-null      object             \n",
      " 26  stage                       1976 non-null   object             \n",
      "dtypes: datetime64[ns, UTC](1), float64(10), int64(2), object(14)\n",
      "memory usage: 432.2+ KB\n"
     ]
    }
   ],
   "source": [
    "df_full.info()"
   ]
  },
  {
   "cell_type": "markdown",
   "metadata": {},
   "source": [
    "### Insights:\n",
    "1. Percent of dogs per stage\n",
    "\n",
    "2. Rating x Stage\n",
    "\n",
    "3. Most common names in dataframe"
   ]
  },
  {
   "cell_type": "raw",
   "metadata": {},
   "source": []
  },
  {
   "cell_type": "markdown",
   "metadata": {
    "collapsed": true
   },
   "source": [
    "### Visualization"
   ]
  },
  {
   "cell_type": "markdown",
   "metadata": {},
   "source": [
    "# Percent of dogs per stage"
   ]
  },
  {
   "cell_type": "code",
   "execution_count": 618,
   "metadata": {},
   "outputs": [
    {
     "data": {
      "text/plain": [
       "None       1670\n",
       "pupper      203\n",
       "doggo        74\n",
       "puppo        22\n",
       "floofer       7\n",
       "Name: stage, dtype: int64"
      ]
     },
     "execution_count": 618,
     "metadata": {},
     "output_type": "execute_result"
    }
   ],
   "source": [
    "df_full['stage'].value_counts()"
   ]
  },
  {
   "cell_type": "code",
   "execution_count": 620,
   "metadata": {},
   "outputs": [
    {
     "name": "stdout",
     "output_type": "stream",
     "text": [
      "Doggo: 0.24\n",
      "Floofer: 0.02\n",
      "Pupper: 0.66\n",
      "Puppo: 0.07\n"
     ]
    }
   ],
   "source": [
    "\n",
    "doggo =  df_full.stage[df_full['stage']=='doggo'].count() / df_full.stage[df_full['stage']!='None'].count()\n",
    "floofer = df_full.stage[df_full['stage']=='floofer'].count() / df_full.stage[df_full['stage']!='None'].count()\n",
    "pupper = df_full.stage[df_full['stage']=='pupper'].count() / df_full.stage[df_full['stage']!='None'].count()\n",
    "puppo = df_full.stage[df_full['stage']=='puppo'].count() / df_full.stage[df_full['stage']!='None'].count()\n",
    "\n",
    "print('Doggo: '+str(doggo.round(2)))\n",
    "print('Floofer: '+str(floofer.round(2)))\n",
    "print('Pupper: '+str(pupper.round(2)))\n",
    "print('Puppo: '+str(puppo.round(2)))\n"
   ]
  },
  {
   "cell_type": "markdown",
   "metadata": {},
   "source": [
    "# Rating x Stage"
   ]
  },
  {
   "cell_type": "code",
   "execution_count": 580,
   "metadata": {},
   "outputs": [
    {
     "name": "stdout",
     "output_type": "stream",
     "text": [
      "Mean rating in Doggo: 11.78\n",
      "Mean rating in Floofer: 12.0\n",
      "Mean rating in Pupper: 10.71\n",
      "Mean rating in Puppo: 12.0\n"
     ]
    }
   ],
   "source": [
    "doggo = df_full.rating_numerator[df_full['stage']=='doggo'].mean()\n",
    "floofer = df_full.rating_numerator[df_full['stage']=='floofer'].mean()\n",
    "pupper = df_full.rating_numerator[df_full['stage']=='pupper'].mean()\n",
    "puppo = df_full.rating_numerator[df_full['stage']=='puppo'].mean()\n",
    "\n",
    "print('Mean rating in Doggo: '+ str(doggo.round(2)))\n",
    "print('Mean rating in Floofer: '+ str(floofer.round(2)))\n",
    "print('Mean rating in Pupper: '+ str(pupper.round(2)))\n",
    "print('Mean rating in Puppo: '+ str(puppo.round(2)))"
   ]
  },
  {
   "cell_type": "markdown",
   "metadata": {},
   "source": [
    "# Most common names in dataframe"
   ]
  },
  {
   "cell_type": "code",
   "execution_count": 661,
   "metadata": {},
   "outputs": [],
   "source": [
    "df_name = df_full[['name','tweet_id']].groupby('name').count()"
   ]
  },
  {
   "cell_type": "code",
   "execution_count": 671,
   "metadata": {},
   "outputs": [
    {
     "data": {
      "text/html": [
       "<div>\n",
       "<style scoped>\n",
       "    .dataframe tbody tr th:only-of-type {\n",
       "        vertical-align: middle;\n",
       "    }\n",
       "\n",
       "    .dataframe tbody tr th {\n",
       "        vertical-align: top;\n",
       "    }\n",
       "\n",
       "    .dataframe thead th {\n",
       "        text-align: right;\n",
       "    }\n",
       "</style>\n",
       "<table border=\"1\" class=\"dataframe\">\n",
       "  <thead>\n",
       "    <tr style=\"text-align: right;\">\n",
       "      <th></th>\n",
       "      <th>tweet_id</th>\n",
       "    </tr>\n",
       "    <tr>\n",
       "      <th>name</th>\n",
       "      <th></th>\n",
       "    </tr>\n",
       "  </thead>\n",
       "  <tbody>\n",
       "    <tr>\n",
       "      <th>Toby</th>\n",
       "      <td>7</td>\n",
       "    </tr>\n",
       "    <tr>\n",
       "      <th>Lola</th>\n",
       "      <td>7</td>\n",
       "    </tr>\n",
       "    <tr>\n",
       "      <th>Sadie</th>\n",
       "      <td>8</td>\n",
       "    </tr>\n",
       "    <tr>\n",
       "      <th>Winston</th>\n",
       "      <td>8</td>\n",
       "    </tr>\n",
       "    <tr>\n",
       "      <th>Tucker</th>\n",
       "      <td>9</td>\n",
       "    </tr>\n",
       "    <tr>\n",
       "      <th>Penny</th>\n",
       "      <td>9</td>\n",
       "    </tr>\n",
       "    <tr>\n",
       "      <th>Cooper</th>\n",
       "      <td>10</td>\n",
       "    </tr>\n",
       "    <tr>\n",
       "      <th>Oliver</th>\n",
       "      <td>10</td>\n",
       "    </tr>\n",
       "    <tr>\n",
       "      <th>Lucy</th>\n",
       "      <td>10</td>\n",
       "    </tr>\n",
       "    <tr>\n",
       "      <th>Charlie</th>\n",
       "      <td>11</td>\n",
       "    </tr>\n",
       "  </tbody>\n",
       "</table>\n",
       "</div>"
      ],
      "text/plain": [
       "         tweet_id\n",
       "name             \n",
       "Toby            7\n",
       "Lola            7\n",
       "Sadie           8\n",
       "Winston         8\n",
       "Tucker          9\n",
       "Penny           9\n",
       "Cooper         10\n",
       "Oliver         10\n",
       "Lucy           10\n",
       "Charlie        11"
      ]
     },
     "execution_count": 671,
     "metadata": {},
     "output_type": "execute_result"
    }
   ],
   "source": [
    "df_name = df_name.sort_values(by=['tweet_id'], ascending=True).head(11)\n",
    "df_name = df_name.query(\"name != 'None'\")\n",
    "df_name"
   ]
  },
  {
   "cell_type": "code",
   "execution_count": 672,
   "metadata": {},
   "outputs": [
    {
     "data": {
      "text/plain": [
       "Text(0, 0.5, 'Value')"
      ]
     },
     "execution_count": 672,
     "metadata": {},
     "output_type": "execute_result"
    },
    {
     "data": {
      "image/png": "[encoded data removed]",
      "text/plain": [
       "<Figure size 432x288 with 1 Axes>"
      ]
     },
     "metadata": {
      "needs_background": "light"
     },
     "output_type": "display_data"
    }
   ],
   "source": [
    "plt.plot(df_name)\n",
    "plt.xlabel(\"Name\")\n",
    "plt.ylabel(\"Value\")"
   ]
  },
  {
   "cell_type": "code",
   "execution_count": null,
   "metadata": {},
   "outputs": [],
   "source": []
  }
 ],
 "metadata": {
  "extensions": {
   "jupyter_dashboards": {
    "activeView": "report_default",
    "version": 1,
    "views": {
     "grid_default": {
      "cellMargin": 10,
      "defaultCellHeight": 20,
      "maxColumns": 12,
      "name": "grid",
      "type": "grid"
     },
     "report_default": {
      "name": "report",
      "type": "report"
     }
    }
   }
  },
  "kernelspec": {
   "display_name": "Python 3 (ipykernel)",
   "language": "python",
   "name": "python3"
  },
  "language_info": {
   "codemirror_mode": {
    "name": "ipython",
    "version": 3
   },
   "file_extension": ".py",
   "mimetype": "text/x-python",
   "name": "python",
   "nbconvert_exporter": "python",
   "pygments_lexer": "ipython3",
   "version": "3.9.6"
  }
 },
 "nbformat": 4,
 "nbformat_minor": 2
}
